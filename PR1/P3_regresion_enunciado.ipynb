{
 "cells": [
  {
   "cell_type": "markdown",
   "id": "patent-amazon",
   "metadata": {
    "id": "patent-amazon"
   },
   "source": [
    "# Práctica 1: Aprendizaje automático\n",
    "\n",
    "__Fecha de entrega: XXX de YYY de 2022__\n",
    "\n",
    "El objetivo de esta práctica es aplicar los distintos algoritmos de aprendizaje automático disponibles en la scikit-learn [sklearn](https://scikit-learn.org/stable/) sobre varios conjuntos de datos y aprender a interpretar los resultados obtenidos. La práctica consta de 3 notebooks que se entregarán simultáneamente en la tarea de entrega habilitada en el Campus  Virtual.\n",
    "\n",
    "Lo más importante en esta práctica no es el código Python, sino el análisis de los datos y modelos que construyas y las explicaciones razonadas de cada una de las decisiones que tomes. __No se valorarán trozos de código o gráficas sin ningún tipo de contexto o explicación__.\n",
    "\n",
    "Finalmente, recuerda establecer el parámetro `random_state` en todas las funciones que tomen decisiones aleatorias para que los resultados sean reproducibles (los resultados no varíen entre ejecuciones)."
   ]
  },
  {
   "cell_type": "code",
   "execution_count": 1,
   "id": "536f49bf",
   "metadata": {
    "id": "536f49bf"
   },
   "outputs": [],
   "source": [
    "RANDOM_STATE = 333"
   ]
  },
  {
   "cell_type": "markdown",
   "id": "toxic-floor",
   "metadata": {
    "id": "toxic-floor"
   },
   "source": [
    "## Apartado 3: Regresión"
   ]
  },
  {
   "cell_type": "markdown",
   "id": "formed-bruce",
   "metadata": {
    "id": "formed-bruce"
   },
   "source": [
    "__Número de grupo: 19__\n",
    "\n",
    "__Nombres de los estudiantes: Alberto Sánchez Gómez y Sara Carpio Cuenca__"
   ]
  },
  {
   "cell_type": "markdown",
   "id": "fancy-sympathy",
   "metadata": {
    "id": "fancy-sympathy"
   },
   "source": [
    "En este notebook trabajaremos con un conjunto de datos tomado del repositorio de la Universidad de California Irvine. En concreto, se trata de un conjunto de datos sobre distintos vinos del norte de Portugal (vinho verde)  que puedes encontrar [aquí](https://archive.ics.uci.edu/ml/datasets/wine+quality). \n",
    "\n",
    "El objetivo es modelar la calidad del vino (con un valor de 0 a 10) en base a variables que reflejan sus propiedades físicas y químicas. En concreto, las propiedades son las siguientes:\n",
    "- fixed acidity\n",
    "- volatile acidity\n",
    "- citric acid\n",
    "- residual sugar\n",
    "- chlorides\n",
    "- free sulfur dioxide\n",
    "- total sulfur dioxide\n",
    "- density\n",
    "- pH\n",
    "- sulphates\n",
    "- alcohol \n",
    "\n",
    "De cara a la memoria que vas a realizar puedes investigar sobre estas propiedades para explicar mejor qué miden y cómo afectan al vino. \n",
    "\n",
    "La calidad del vino es una variable que toma valores entre 0 y 10. \n",
    "\n",
    "Para modelar la relación entre la calidad del vino y sus propiedades usaremos una red neuronal. "
   ]
  },
  {
   "cell_type": "markdown",
   "id": "heated-biotechnology",
   "metadata": {
    "id": "heated-biotechnology"
   },
   "source": [
    "### 1) Descripción de los datos\n",
    "\n",
    "Carga el fichero de datos `calidad_vinos.csv` en un dataframe. \n",
    "\n",
    "Describe el conjunto de datos e identifica aquella variable que tiene unos valores extremos más acusados con respecto a la media, y aquella que está más concentrada en torno a la media. Reflexiona sobre la posible influencia de estas variables a la hora de entrenar el perceptrón multicapa.\n",
    "\n",
    "Estudia la distribución de la calidad del vino en el conjunto de datos."
   ]
  },
  {
   "cell_type": "code",
   "execution_count": 2,
   "id": "6d950a96",
   "metadata": {
    "id": "6d950a96"
   },
   "outputs": [],
   "source": [
    "import numpy as np\n",
    "import pandas as pd"
   ]
  },
  {
   "cell_type": "code",
   "execution_count": 3,
   "id": "635acbf6",
   "metadata": {
    "id": "635acbf6",
    "outputId": "b1910123-c395-4f1a-daf3-2efef7c15918",
    "scrolled": false
   },
   "outputs": [
    {
     "data": {
      "text/html": [
       "<div>\n",
       "<style scoped>\n",
       "    .dataframe tbody tr th:only-of-type {\n",
       "        vertical-align: middle;\n",
       "    }\n",
       "\n",
       "    .dataframe tbody tr th {\n",
       "        vertical-align: top;\n",
       "    }\n",
       "\n",
       "    .dataframe thead th {\n",
       "        text-align: right;\n",
       "    }\n",
       "</style>\n",
       "<table border=\"1\" class=\"dataframe\">\n",
       "  <thead>\n",
       "    <tr style=\"text-align: right;\">\n",
       "      <th></th>\n",
       "      <th>fixed acidity</th>\n",
       "      <th>volatile acidity</th>\n",
       "      <th>citric acid</th>\n",
       "      <th>residual sugar</th>\n",
       "      <th>chlorides</th>\n",
       "      <th>free sulfur dioxide</th>\n",
       "      <th>total sulfur dioxide</th>\n",
       "      <th>density</th>\n",
       "      <th>pH</th>\n",
       "      <th>sulphates</th>\n",
       "      <th>alcohol</th>\n",
       "      <th>quality</th>\n",
       "    </tr>\n",
       "  </thead>\n",
       "  <tbody>\n",
       "    <tr>\n",
       "      <th>0</th>\n",
       "      <td>7.4</td>\n",
       "      <td>0.700</td>\n",
       "      <td>0.00</td>\n",
       "      <td>1.9</td>\n",
       "      <td>0.076</td>\n",
       "      <td>11.0</td>\n",
       "      <td>34.0</td>\n",
       "      <td>0.99780</td>\n",
       "      <td>3.51</td>\n",
       "      <td>0.56</td>\n",
       "      <td>9.4</td>\n",
       "      <td>5</td>\n",
       "    </tr>\n",
       "    <tr>\n",
       "      <th>1</th>\n",
       "      <td>7.8</td>\n",
       "      <td>0.880</td>\n",
       "      <td>0.00</td>\n",
       "      <td>2.6</td>\n",
       "      <td>0.098</td>\n",
       "      <td>25.0</td>\n",
       "      <td>67.0</td>\n",
       "      <td>0.99680</td>\n",
       "      <td>3.20</td>\n",
       "      <td>0.68</td>\n",
       "      <td>9.8</td>\n",
       "      <td>5</td>\n",
       "    </tr>\n",
       "    <tr>\n",
       "      <th>2</th>\n",
       "      <td>7.8</td>\n",
       "      <td>0.760</td>\n",
       "      <td>0.04</td>\n",
       "      <td>2.3</td>\n",
       "      <td>0.092</td>\n",
       "      <td>15.0</td>\n",
       "      <td>54.0</td>\n",
       "      <td>0.99700</td>\n",
       "      <td>3.26</td>\n",
       "      <td>0.65</td>\n",
       "      <td>9.8</td>\n",
       "      <td>5</td>\n",
       "    </tr>\n",
       "    <tr>\n",
       "      <th>3</th>\n",
       "      <td>11.2</td>\n",
       "      <td>0.280</td>\n",
       "      <td>0.56</td>\n",
       "      <td>1.9</td>\n",
       "      <td>0.075</td>\n",
       "      <td>17.0</td>\n",
       "      <td>60.0</td>\n",
       "      <td>0.99800</td>\n",
       "      <td>3.16</td>\n",
       "      <td>0.58</td>\n",
       "      <td>9.8</td>\n",
       "      <td>6</td>\n",
       "    </tr>\n",
       "    <tr>\n",
       "      <th>4</th>\n",
       "      <td>7.4</td>\n",
       "      <td>0.700</td>\n",
       "      <td>0.00</td>\n",
       "      <td>1.9</td>\n",
       "      <td>0.076</td>\n",
       "      <td>11.0</td>\n",
       "      <td>34.0</td>\n",
       "      <td>0.99780</td>\n",
       "      <td>3.51</td>\n",
       "      <td>0.56</td>\n",
       "      <td>9.4</td>\n",
       "      <td>5</td>\n",
       "    </tr>\n",
       "    <tr>\n",
       "      <th>...</th>\n",
       "      <td>...</td>\n",
       "      <td>...</td>\n",
       "      <td>...</td>\n",
       "      <td>...</td>\n",
       "      <td>...</td>\n",
       "      <td>...</td>\n",
       "      <td>...</td>\n",
       "      <td>...</td>\n",
       "      <td>...</td>\n",
       "      <td>...</td>\n",
       "      <td>...</td>\n",
       "      <td>...</td>\n",
       "    </tr>\n",
       "    <tr>\n",
       "      <th>1594</th>\n",
       "      <td>6.2</td>\n",
       "      <td>0.600</td>\n",
       "      <td>0.08</td>\n",
       "      <td>2.0</td>\n",
       "      <td>0.090</td>\n",
       "      <td>32.0</td>\n",
       "      <td>44.0</td>\n",
       "      <td>0.99490</td>\n",
       "      <td>3.45</td>\n",
       "      <td>0.58</td>\n",
       "      <td>10.5</td>\n",
       "      <td>5</td>\n",
       "    </tr>\n",
       "    <tr>\n",
       "      <th>1595</th>\n",
       "      <td>5.9</td>\n",
       "      <td>0.550</td>\n",
       "      <td>0.10</td>\n",
       "      <td>2.2</td>\n",
       "      <td>0.062</td>\n",
       "      <td>39.0</td>\n",
       "      <td>51.0</td>\n",
       "      <td>0.99512</td>\n",
       "      <td>3.52</td>\n",
       "      <td>0.76</td>\n",
       "      <td>11.2</td>\n",
       "      <td>6</td>\n",
       "    </tr>\n",
       "    <tr>\n",
       "      <th>1596</th>\n",
       "      <td>6.3</td>\n",
       "      <td>0.510</td>\n",
       "      <td>0.13</td>\n",
       "      <td>2.3</td>\n",
       "      <td>0.076</td>\n",
       "      <td>29.0</td>\n",
       "      <td>40.0</td>\n",
       "      <td>0.99574</td>\n",
       "      <td>3.42</td>\n",
       "      <td>0.75</td>\n",
       "      <td>11.0</td>\n",
       "      <td>6</td>\n",
       "    </tr>\n",
       "    <tr>\n",
       "      <th>1597</th>\n",
       "      <td>5.9</td>\n",
       "      <td>0.645</td>\n",
       "      <td>0.12</td>\n",
       "      <td>2.0</td>\n",
       "      <td>0.075</td>\n",
       "      <td>32.0</td>\n",
       "      <td>44.0</td>\n",
       "      <td>0.99547</td>\n",
       "      <td>3.57</td>\n",
       "      <td>0.71</td>\n",
       "      <td>10.2</td>\n",
       "      <td>5</td>\n",
       "    </tr>\n",
       "    <tr>\n",
       "      <th>1598</th>\n",
       "      <td>6.0</td>\n",
       "      <td>0.310</td>\n",
       "      <td>0.47</td>\n",
       "      <td>3.6</td>\n",
       "      <td>0.067</td>\n",
       "      <td>18.0</td>\n",
       "      <td>42.0</td>\n",
       "      <td>0.99549</td>\n",
       "      <td>3.39</td>\n",
       "      <td>0.66</td>\n",
       "      <td>11.0</td>\n",
       "      <td>6</td>\n",
       "    </tr>\n",
       "  </tbody>\n",
       "</table>\n",
       "<p>1599 rows × 12 columns</p>\n",
       "</div>"
      ],
      "text/plain": [
       "      fixed acidity  volatile acidity  citric acid  residual sugar  chlorides  \\\n",
       "0               7.4             0.700         0.00             1.9      0.076   \n",
       "1               7.8             0.880         0.00             2.6      0.098   \n",
       "2               7.8             0.760         0.04             2.3      0.092   \n",
       "3              11.2             0.280         0.56             1.9      0.075   \n",
       "4               7.4             0.700         0.00             1.9      0.076   \n",
       "...             ...               ...          ...             ...        ...   \n",
       "1594            6.2             0.600         0.08             2.0      0.090   \n",
       "1595            5.9             0.550         0.10             2.2      0.062   \n",
       "1596            6.3             0.510         0.13             2.3      0.076   \n",
       "1597            5.9             0.645         0.12             2.0      0.075   \n",
       "1598            6.0             0.310         0.47             3.6      0.067   \n",
       "\n",
       "      free sulfur dioxide  total sulfur dioxide  density    pH  sulphates  \\\n",
       "0                    11.0                  34.0  0.99780  3.51       0.56   \n",
       "1                    25.0                  67.0  0.99680  3.20       0.68   \n",
       "2                    15.0                  54.0  0.99700  3.26       0.65   \n",
       "3                    17.0                  60.0  0.99800  3.16       0.58   \n",
       "4                    11.0                  34.0  0.99780  3.51       0.56   \n",
       "...                   ...                   ...      ...   ...        ...   \n",
       "1594                 32.0                  44.0  0.99490  3.45       0.58   \n",
       "1595                 39.0                  51.0  0.99512  3.52       0.76   \n",
       "1596                 29.0                  40.0  0.99574  3.42       0.75   \n",
       "1597                 32.0                  44.0  0.99547  3.57       0.71   \n",
       "1598                 18.0                  42.0  0.99549  3.39       0.66   \n",
       "\n",
       "      alcohol  quality  \n",
       "0         9.4        5  \n",
       "1         9.8        5  \n",
       "2         9.8        5  \n",
       "3         9.8        6  \n",
       "4         9.4        5  \n",
       "...       ...      ...  \n",
       "1594     10.5        5  \n",
       "1595     11.2        6  \n",
       "1596     11.0        6  \n",
       "1597     10.2        5  \n",
       "1598     11.0        6  \n",
       "\n",
       "[1599 rows x 12 columns]"
      ]
     },
     "execution_count": 3,
     "metadata": {},
     "output_type": "execute_result"
    }
   ],
   "source": [
    "df = pd.read_csv('calidad_vinos.csv')\n",
    "df"
   ]
  },
  {
   "cell_type": "code",
   "execution_count": 4,
   "id": "cf872be3",
   "metadata": {
    "id": "cf872be3",
    "outputId": "b0241f03-1ea8-4562-f5a1-91b33c249378"
   },
   "outputs": [
    {
     "data": {
      "text/html": [
       "<div>\n",
       "<style scoped>\n",
       "    .dataframe tbody tr th:only-of-type {\n",
       "        vertical-align: middle;\n",
       "    }\n",
       "\n",
       "    .dataframe tbody tr th {\n",
       "        vertical-align: top;\n",
       "    }\n",
       "\n",
       "    .dataframe thead th {\n",
       "        text-align: right;\n",
       "    }\n",
       "</style>\n",
       "<table border=\"1\" class=\"dataframe\">\n",
       "  <thead>\n",
       "    <tr style=\"text-align: right;\">\n",
       "      <th></th>\n",
       "      <th>count</th>\n",
       "      <th>mean</th>\n",
       "      <th>std</th>\n",
       "      <th>min</th>\n",
       "      <th>25%</th>\n",
       "      <th>50%</th>\n",
       "      <th>75%</th>\n",
       "      <th>max</th>\n",
       "    </tr>\n",
       "  </thead>\n",
       "  <tbody>\n",
       "    <tr>\n",
       "      <th>fixed acidity</th>\n",
       "      <td>1599.0</td>\n",
       "      <td>8.319637</td>\n",
       "      <td>1.741096</td>\n",
       "      <td>4.60000</td>\n",
       "      <td>7.1000</td>\n",
       "      <td>7.90000</td>\n",
       "      <td>9.200000</td>\n",
       "      <td>15.90000</td>\n",
       "    </tr>\n",
       "    <tr>\n",
       "      <th>volatile acidity</th>\n",
       "      <td>1599.0</td>\n",
       "      <td>0.527821</td>\n",
       "      <td>0.179060</td>\n",
       "      <td>0.12000</td>\n",
       "      <td>0.3900</td>\n",
       "      <td>0.52000</td>\n",
       "      <td>0.640000</td>\n",
       "      <td>1.58000</td>\n",
       "    </tr>\n",
       "    <tr>\n",
       "      <th>citric acid</th>\n",
       "      <td>1599.0</td>\n",
       "      <td>0.270976</td>\n",
       "      <td>0.194801</td>\n",
       "      <td>0.00000</td>\n",
       "      <td>0.0900</td>\n",
       "      <td>0.26000</td>\n",
       "      <td>0.420000</td>\n",
       "      <td>1.00000</td>\n",
       "    </tr>\n",
       "    <tr>\n",
       "      <th>residual sugar</th>\n",
       "      <td>1599.0</td>\n",
       "      <td>2.538806</td>\n",
       "      <td>1.409928</td>\n",
       "      <td>0.90000</td>\n",
       "      <td>1.9000</td>\n",
       "      <td>2.20000</td>\n",
       "      <td>2.600000</td>\n",
       "      <td>15.50000</td>\n",
       "    </tr>\n",
       "    <tr>\n",
       "      <th>chlorides</th>\n",
       "      <td>1599.0</td>\n",
       "      <td>0.087467</td>\n",
       "      <td>0.047065</td>\n",
       "      <td>0.01200</td>\n",
       "      <td>0.0700</td>\n",
       "      <td>0.07900</td>\n",
       "      <td>0.090000</td>\n",
       "      <td>0.61100</td>\n",
       "    </tr>\n",
       "    <tr>\n",
       "      <th>free sulfur dioxide</th>\n",
       "      <td>1599.0</td>\n",
       "      <td>15.874922</td>\n",
       "      <td>10.460157</td>\n",
       "      <td>1.00000</td>\n",
       "      <td>7.0000</td>\n",
       "      <td>14.00000</td>\n",
       "      <td>21.000000</td>\n",
       "      <td>72.00000</td>\n",
       "    </tr>\n",
       "    <tr>\n",
       "      <th>total sulfur dioxide</th>\n",
       "      <td>1599.0</td>\n",
       "      <td>46.467792</td>\n",
       "      <td>32.895324</td>\n",
       "      <td>6.00000</td>\n",
       "      <td>22.0000</td>\n",
       "      <td>38.00000</td>\n",
       "      <td>62.000000</td>\n",
       "      <td>289.00000</td>\n",
       "    </tr>\n",
       "    <tr>\n",
       "      <th>density</th>\n",
       "      <td>1599.0</td>\n",
       "      <td>0.996747</td>\n",
       "      <td>0.001887</td>\n",
       "      <td>0.99007</td>\n",
       "      <td>0.9956</td>\n",
       "      <td>0.99675</td>\n",
       "      <td>0.997835</td>\n",
       "      <td>1.00369</td>\n",
       "    </tr>\n",
       "    <tr>\n",
       "      <th>pH</th>\n",
       "      <td>1599.0</td>\n",
       "      <td>3.311113</td>\n",
       "      <td>0.154386</td>\n",
       "      <td>2.74000</td>\n",
       "      <td>3.2100</td>\n",
       "      <td>3.31000</td>\n",
       "      <td>3.400000</td>\n",
       "      <td>4.01000</td>\n",
       "    </tr>\n",
       "    <tr>\n",
       "      <th>sulphates</th>\n",
       "      <td>1599.0</td>\n",
       "      <td>0.658149</td>\n",
       "      <td>0.169507</td>\n",
       "      <td>0.33000</td>\n",
       "      <td>0.5500</td>\n",
       "      <td>0.62000</td>\n",
       "      <td>0.730000</td>\n",
       "      <td>2.00000</td>\n",
       "    </tr>\n",
       "    <tr>\n",
       "      <th>alcohol</th>\n",
       "      <td>1599.0</td>\n",
       "      <td>10.422983</td>\n",
       "      <td>1.065668</td>\n",
       "      <td>8.40000</td>\n",
       "      <td>9.5000</td>\n",
       "      <td>10.20000</td>\n",
       "      <td>11.100000</td>\n",
       "      <td>14.90000</td>\n",
       "    </tr>\n",
       "    <tr>\n",
       "      <th>quality</th>\n",
       "      <td>1599.0</td>\n",
       "      <td>5.636023</td>\n",
       "      <td>0.807569</td>\n",
       "      <td>3.00000</td>\n",
       "      <td>5.0000</td>\n",
       "      <td>6.00000</td>\n",
       "      <td>6.000000</td>\n",
       "      <td>8.00000</td>\n",
       "    </tr>\n",
       "  </tbody>\n",
       "</table>\n",
       "</div>"
      ],
      "text/plain": [
       "                       count       mean        std      min      25%  \\\n",
       "fixed acidity         1599.0   8.319637   1.741096  4.60000   7.1000   \n",
       "volatile acidity      1599.0   0.527821   0.179060  0.12000   0.3900   \n",
       "citric acid           1599.0   0.270976   0.194801  0.00000   0.0900   \n",
       "residual sugar        1599.0   2.538806   1.409928  0.90000   1.9000   \n",
       "chlorides             1599.0   0.087467   0.047065  0.01200   0.0700   \n",
       "free sulfur dioxide   1599.0  15.874922  10.460157  1.00000   7.0000   \n",
       "total sulfur dioxide  1599.0  46.467792  32.895324  6.00000  22.0000   \n",
       "density               1599.0   0.996747   0.001887  0.99007   0.9956   \n",
       "pH                    1599.0   3.311113   0.154386  2.74000   3.2100   \n",
       "sulphates             1599.0   0.658149   0.169507  0.33000   0.5500   \n",
       "alcohol               1599.0  10.422983   1.065668  8.40000   9.5000   \n",
       "quality               1599.0   5.636023   0.807569  3.00000   5.0000   \n",
       "\n",
       "                           50%        75%        max  \n",
       "fixed acidity          7.90000   9.200000   15.90000  \n",
       "volatile acidity       0.52000   0.640000    1.58000  \n",
       "citric acid            0.26000   0.420000    1.00000  \n",
       "residual sugar         2.20000   2.600000   15.50000  \n",
       "chlorides              0.07900   0.090000    0.61100  \n",
       "free sulfur dioxide   14.00000  21.000000   72.00000  \n",
       "total sulfur dioxide  38.00000  62.000000  289.00000  \n",
       "density                0.99675   0.997835    1.00369  \n",
       "pH                     3.31000   3.400000    4.01000  \n",
       "sulphates              0.62000   0.730000    2.00000  \n",
       "alcohol               10.20000  11.100000   14.90000  \n",
       "quality                6.00000   6.000000    8.00000  "
      ]
     },
     "execution_count": 4,
     "metadata": {},
     "output_type": "execute_result"
    }
   ],
   "source": [
    "df.describe().transpose()"
   ]
  },
  {
   "cell_type": "code",
   "execution_count": 5,
   "id": "58de6344",
   "metadata": {
    "id": "58de6344",
    "outputId": "694b9d8d-0c2c-4c0f-ed73-d49b4b38f7e3"
   },
   "outputs": [
    {
     "data": {
      "text/html": [
       "<div>\n",
       "<style scoped>\n",
       "    .dataframe tbody tr th:only-of-type {\n",
       "        vertical-align: middle;\n",
       "    }\n",
       "\n",
       "    .dataframe tbody tr th {\n",
       "        vertical-align: top;\n",
       "    }\n",
       "\n",
       "    .dataframe thead th {\n",
       "        text-align: right;\n",
       "    }\n",
       "</style>\n",
       "<table border=\"1\" class=\"dataframe\">\n",
       "  <thead>\n",
       "    <tr style=\"text-align: right;\">\n",
       "      <th></th>\n",
       "      <th>count</th>\n",
       "      <th>mean</th>\n",
       "      <th>std</th>\n",
       "      <th>min</th>\n",
       "      <th>25%</th>\n",
       "      <th>50%</th>\n",
       "      <th>75%</th>\n",
       "      <th>max</th>\n",
       "    </tr>\n",
       "    <tr>\n",
       "      <th>quality</th>\n",
       "      <th></th>\n",
       "      <th></th>\n",
       "      <th></th>\n",
       "      <th></th>\n",
       "      <th></th>\n",
       "      <th></th>\n",
       "      <th></th>\n",
       "      <th></th>\n",
       "    </tr>\n",
       "  </thead>\n",
       "  <tbody>\n",
       "    <tr>\n",
       "      <th>3</th>\n",
       "      <td>10.0</td>\n",
       "      <td>9.955000</td>\n",
       "      <td>0.818009</td>\n",
       "      <td>8.4</td>\n",
       "      <td>9.725</td>\n",
       "      <td>9.925</td>\n",
       "      <td>10.575</td>\n",
       "      <td>11.0</td>\n",
       "    </tr>\n",
       "    <tr>\n",
       "      <th>4</th>\n",
       "      <td>53.0</td>\n",
       "      <td>10.265094</td>\n",
       "      <td>0.934776</td>\n",
       "      <td>9.0</td>\n",
       "      <td>9.600</td>\n",
       "      <td>10.000</td>\n",
       "      <td>11.000</td>\n",
       "      <td>13.1</td>\n",
       "    </tr>\n",
       "    <tr>\n",
       "      <th>5</th>\n",
       "      <td>681.0</td>\n",
       "      <td>9.899706</td>\n",
       "      <td>0.736521</td>\n",
       "      <td>8.5</td>\n",
       "      <td>9.400</td>\n",
       "      <td>9.700</td>\n",
       "      <td>10.200</td>\n",
       "      <td>14.9</td>\n",
       "    </tr>\n",
       "    <tr>\n",
       "      <th>6</th>\n",
       "      <td>638.0</td>\n",
       "      <td>10.629519</td>\n",
       "      <td>1.049639</td>\n",
       "      <td>8.4</td>\n",
       "      <td>9.800</td>\n",
       "      <td>10.500</td>\n",
       "      <td>11.300</td>\n",
       "      <td>14.0</td>\n",
       "    </tr>\n",
       "    <tr>\n",
       "      <th>7</th>\n",
       "      <td>199.0</td>\n",
       "      <td>11.465913</td>\n",
       "      <td>0.961933</td>\n",
       "      <td>9.2</td>\n",
       "      <td>10.800</td>\n",
       "      <td>11.500</td>\n",
       "      <td>12.100</td>\n",
       "      <td>14.0</td>\n",
       "    </tr>\n",
       "    <tr>\n",
       "      <th>8</th>\n",
       "      <td>18.0</td>\n",
       "      <td>12.094444</td>\n",
       "      <td>1.224011</td>\n",
       "      <td>9.8</td>\n",
       "      <td>11.325</td>\n",
       "      <td>12.150</td>\n",
       "      <td>12.875</td>\n",
       "      <td>14.0</td>\n",
       "    </tr>\n",
       "  </tbody>\n",
       "</table>\n",
       "</div>"
      ],
      "text/plain": [
       "         count       mean       std  min     25%     50%     75%   max\n",
       "quality                                                               \n",
       "3         10.0   9.955000  0.818009  8.4   9.725   9.925  10.575  11.0\n",
       "4         53.0  10.265094  0.934776  9.0   9.600  10.000  11.000  13.1\n",
       "5        681.0   9.899706  0.736521  8.5   9.400   9.700  10.200  14.9\n",
       "6        638.0  10.629519  1.049639  8.4   9.800  10.500  11.300  14.0\n",
       "7        199.0  11.465913  0.961933  9.2  10.800  11.500  12.100  14.0\n",
       "8         18.0  12.094444  1.224011  9.8  11.325  12.150  12.875  14.0"
      ]
     },
     "execution_count": 5,
     "metadata": {},
     "output_type": "execute_result"
    }
   ],
   "source": [
    "df.groupby([\"quality\"])[\"alcohol\"].describe()"
   ]
  },
  {
   "cell_type": "code",
   "execution_count": 6,
   "id": "b19af9f3",
   "metadata": {
    "id": "b19af9f3",
    "outputId": "754d3820-9766-4d55-c96a-91ea91fcb219"
   },
   "outputs": [
    {
     "data": {
      "text/html": [
       "<div>\n",
       "<style scoped>\n",
       "    .dataframe tbody tr th:only-of-type {\n",
       "        vertical-align: middle;\n",
       "    }\n",
       "\n",
       "    .dataframe tbody tr th {\n",
       "        vertical-align: top;\n",
       "    }\n",
       "\n",
       "    .dataframe thead th {\n",
       "        text-align: right;\n",
       "    }\n",
       "</style>\n",
       "<table border=\"1\" class=\"dataframe\">\n",
       "  <thead>\n",
       "    <tr style=\"text-align: right;\">\n",
       "      <th></th>\n",
       "      <th>count</th>\n",
       "      <th>mean</th>\n",
       "      <th>std</th>\n",
       "      <th>min</th>\n",
       "      <th>25%</th>\n",
       "      <th>50%</th>\n",
       "      <th>75%</th>\n",
       "      <th>max</th>\n",
       "    </tr>\n",
       "    <tr>\n",
       "      <th>quality</th>\n",
       "      <th></th>\n",
       "      <th></th>\n",
       "      <th></th>\n",
       "      <th></th>\n",
       "      <th></th>\n",
       "      <th></th>\n",
       "      <th></th>\n",
       "      <th></th>\n",
       "    </tr>\n",
       "  </thead>\n",
       "  <tbody>\n",
       "    <tr>\n",
       "      <th>3</th>\n",
       "      <td>10.0</td>\n",
       "      <td>3.398000</td>\n",
       "      <td>0.144052</td>\n",
       "      <td>3.16</td>\n",
       "      <td>3.3125</td>\n",
       "      <td>3.39</td>\n",
       "      <td>3.495</td>\n",
       "      <td>3.63</td>\n",
       "    </tr>\n",
       "    <tr>\n",
       "      <th>4</th>\n",
       "      <td>53.0</td>\n",
       "      <td>3.381509</td>\n",
       "      <td>0.181441</td>\n",
       "      <td>2.74</td>\n",
       "      <td>3.3000</td>\n",
       "      <td>3.37</td>\n",
       "      <td>3.500</td>\n",
       "      <td>3.90</td>\n",
       "    </tr>\n",
       "    <tr>\n",
       "      <th>5</th>\n",
       "      <td>681.0</td>\n",
       "      <td>3.304949</td>\n",
       "      <td>0.150618</td>\n",
       "      <td>2.88</td>\n",
       "      <td>3.2000</td>\n",
       "      <td>3.30</td>\n",
       "      <td>3.400</td>\n",
       "      <td>3.74</td>\n",
       "    </tr>\n",
       "    <tr>\n",
       "      <th>6</th>\n",
       "      <td>638.0</td>\n",
       "      <td>3.318072</td>\n",
       "      <td>0.153995</td>\n",
       "      <td>2.86</td>\n",
       "      <td>3.2200</td>\n",
       "      <td>3.32</td>\n",
       "      <td>3.410</td>\n",
       "      <td>4.01</td>\n",
       "    </tr>\n",
       "    <tr>\n",
       "      <th>7</th>\n",
       "      <td>199.0</td>\n",
       "      <td>3.290754</td>\n",
       "      <td>0.150101</td>\n",
       "      <td>2.92</td>\n",
       "      <td>3.2000</td>\n",
       "      <td>3.28</td>\n",
       "      <td>3.380</td>\n",
       "      <td>3.78</td>\n",
       "    </tr>\n",
       "    <tr>\n",
       "      <th>8</th>\n",
       "      <td>18.0</td>\n",
       "      <td>3.267222</td>\n",
       "      <td>0.200640</td>\n",
       "      <td>2.88</td>\n",
       "      <td>3.1625</td>\n",
       "      <td>3.23</td>\n",
       "      <td>3.350</td>\n",
       "      <td>3.72</td>\n",
       "    </tr>\n",
       "  </tbody>\n",
       "</table>\n",
       "</div>"
      ],
      "text/plain": [
       "         count      mean       std   min     25%   50%    75%   max\n",
       "quality                                                            \n",
       "3         10.0  3.398000  0.144052  3.16  3.3125  3.39  3.495  3.63\n",
       "4         53.0  3.381509  0.181441  2.74  3.3000  3.37  3.500  3.90\n",
       "5        681.0  3.304949  0.150618  2.88  3.2000  3.30  3.400  3.74\n",
       "6        638.0  3.318072  0.153995  2.86  3.2200  3.32  3.410  4.01\n",
       "7        199.0  3.290754  0.150101  2.92  3.2000  3.28  3.380  3.78\n",
       "8         18.0  3.267222  0.200640  2.88  3.1625  3.23  3.350  3.72"
      ]
     },
     "execution_count": 6,
     "metadata": {},
     "output_type": "execute_result"
    }
   ],
   "source": [
    "df.groupby([\"quality\"])[\"pH\"].describe()"
   ]
  },
  {
   "cell_type": "code",
   "execution_count": 7,
   "id": "8b6d0d32",
   "metadata": {
    "id": "8b6d0d32",
    "outputId": "af9fcf0f-881e-4f27-96ca-82faf080f37b"
   },
   "outputs": [
    {
     "data": {
      "text/html": [
       "<div>\n",
       "<style scoped>\n",
       "    .dataframe tbody tr th:only-of-type {\n",
       "        vertical-align: middle;\n",
       "    }\n",
       "\n",
       "    .dataframe tbody tr th {\n",
       "        vertical-align: top;\n",
       "    }\n",
       "\n",
       "    .dataframe thead th {\n",
       "        text-align: right;\n",
       "    }\n",
       "</style>\n",
       "<table border=\"1\" class=\"dataframe\">\n",
       "  <thead>\n",
       "    <tr style=\"text-align: right;\">\n",
       "      <th></th>\n",
       "      <th>count</th>\n",
       "      <th>mean</th>\n",
       "      <th>std</th>\n",
       "      <th>min</th>\n",
       "      <th>25%</th>\n",
       "      <th>50%</th>\n",
       "      <th>75%</th>\n",
       "      <th>max</th>\n",
       "    </tr>\n",
       "    <tr>\n",
       "      <th>quality</th>\n",
       "      <th></th>\n",
       "      <th></th>\n",
       "      <th></th>\n",
       "      <th></th>\n",
       "      <th></th>\n",
       "      <th></th>\n",
       "      <th></th>\n",
       "      <th></th>\n",
       "    </tr>\n",
       "  </thead>\n",
       "  <tbody>\n",
       "    <tr>\n",
       "      <th>3</th>\n",
       "      <td>10.0</td>\n",
       "      <td>0.570000</td>\n",
       "      <td>0.122020</td>\n",
       "      <td>0.40</td>\n",
       "      <td>0.5125</td>\n",
       "      <td>0.545</td>\n",
       "      <td>0.615</td>\n",
       "      <td>0.86</td>\n",
       "    </tr>\n",
       "    <tr>\n",
       "      <th>4</th>\n",
       "      <td>53.0</td>\n",
       "      <td>0.596415</td>\n",
       "      <td>0.239391</td>\n",
       "      <td>0.33</td>\n",
       "      <td>0.4900</td>\n",
       "      <td>0.560</td>\n",
       "      <td>0.600</td>\n",
       "      <td>2.00</td>\n",
       "    </tr>\n",
       "    <tr>\n",
       "      <th>5</th>\n",
       "      <td>681.0</td>\n",
       "      <td>0.620969</td>\n",
       "      <td>0.171062</td>\n",
       "      <td>0.37</td>\n",
       "      <td>0.5300</td>\n",
       "      <td>0.580</td>\n",
       "      <td>0.660</td>\n",
       "      <td>1.98</td>\n",
       "    </tr>\n",
       "    <tr>\n",
       "      <th>6</th>\n",
       "      <td>638.0</td>\n",
       "      <td>0.675329</td>\n",
       "      <td>0.158650</td>\n",
       "      <td>0.40</td>\n",
       "      <td>0.5800</td>\n",
       "      <td>0.640</td>\n",
       "      <td>0.750</td>\n",
       "      <td>1.95</td>\n",
       "    </tr>\n",
       "    <tr>\n",
       "      <th>7</th>\n",
       "      <td>199.0</td>\n",
       "      <td>0.741256</td>\n",
       "      <td>0.135639</td>\n",
       "      <td>0.39</td>\n",
       "      <td>0.6500</td>\n",
       "      <td>0.740</td>\n",
       "      <td>0.830</td>\n",
       "      <td>1.36</td>\n",
       "    </tr>\n",
       "    <tr>\n",
       "      <th>8</th>\n",
       "      <td>18.0</td>\n",
       "      <td>0.767778</td>\n",
       "      <td>0.115379</td>\n",
       "      <td>0.63</td>\n",
       "      <td>0.6900</td>\n",
       "      <td>0.740</td>\n",
       "      <td>0.820</td>\n",
       "      <td>1.10</td>\n",
       "    </tr>\n",
       "  </tbody>\n",
       "</table>\n",
       "</div>"
      ],
      "text/plain": [
       "         count      mean       std   min     25%    50%    75%   max\n",
       "quality                                                             \n",
       "3         10.0  0.570000  0.122020  0.40  0.5125  0.545  0.615  0.86\n",
       "4         53.0  0.596415  0.239391  0.33  0.4900  0.560  0.600  2.00\n",
       "5        681.0  0.620969  0.171062  0.37  0.5300  0.580  0.660  1.98\n",
       "6        638.0  0.675329  0.158650  0.40  0.5800  0.640  0.750  1.95\n",
       "7        199.0  0.741256  0.135639  0.39  0.6500  0.740  0.830  1.36\n",
       "8         18.0  0.767778  0.115379  0.63  0.6900  0.740  0.820  1.10"
      ]
     },
     "execution_count": 7,
     "metadata": {},
     "output_type": "execute_result"
    }
   ],
   "source": [
    "df.groupby([\"quality\"])[\"sulphates\"].describe()"
   ]
  },
  {
   "cell_type": "code",
   "execution_count": 8,
   "id": "d36bde7e",
   "metadata": {
    "id": "d36bde7e",
    "outputId": "1405d0fa-2364-44b0-a958-102ce71f0274"
   },
   "outputs": [
    {
     "data": {
      "text/html": [
       "<div>\n",
       "<style scoped>\n",
       "    .dataframe tbody tr th:only-of-type {\n",
       "        vertical-align: middle;\n",
       "    }\n",
       "\n",
       "    .dataframe tbody tr th {\n",
       "        vertical-align: top;\n",
       "    }\n",
       "\n",
       "    .dataframe thead th {\n",
       "        text-align: right;\n",
       "    }\n",
       "</style>\n",
       "<table border=\"1\" class=\"dataframe\">\n",
       "  <thead>\n",
       "    <tr style=\"text-align: right;\">\n",
       "      <th></th>\n",
       "      <th>count</th>\n",
       "      <th>mean</th>\n",
       "      <th>std</th>\n",
       "      <th>min</th>\n",
       "      <th>25%</th>\n",
       "      <th>50%</th>\n",
       "      <th>75%</th>\n",
       "      <th>max</th>\n",
       "    </tr>\n",
       "    <tr>\n",
       "      <th>quality</th>\n",
       "      <th></th>\n",
       "      <th></th>\n",
       "      <th></th>\n",
       "      <th></th>\n",
       "      <th></th>\n",
       "      <th></th>\n",
       "      <th></th>\n",
       "      <th></th>\n",
       "    </tr>\n",
       "  </thead>\n",
       "  <tbody>\n",
       "    <tr>\n",
       "      <th>3</th>\n",
       "      <td>10.0</td>\n",
       "      <td>0.171000</td>\n",
       "      <td>0.250664</td>\n",
       "      <td>0.00</td>\n",
       "      <td>0.0050</td>\n",
       "      <td>0.035</td>\n",
       "      <td>0.3275</td>\n",
       "      <td>0.66</td>\n",
       "    </tr>\n",
       "    <tr>\n",
       "      <th>4</th>\n",
       "      <td>53.0</td>\n",
       "      <td>0.174151</td>\n",
       "      <td>0.201030</td>\n",
       "      <td>0.00</td>\n",
       "      <td>0.0300</td>\n",
       "      <td>0.090</td>\n",
       "      <td>0.2700</td>\n",
       "      <td>1.00</td>\n",
       "    </tr>\n",
       "    <tr>\n",
       "      <th>5</th>\n",
       "      <td>681.0</td>\n",
       "      <td>0.243686</td>\n",
       "      <td>0.180003</td>\n",
       "      <td>0.00</td>\n",
       "      <td>0.0900</td>\n",
       "      <td>0.230</td>\n",
       "      <td>0.3600</td>\n",
       "      <td>0.79</td>\n",
       "    </tr>\n",
       "    <tr>\n",
       "      <th>6</th>\n",
       "      <td>638.0</td>\n",
       "      <td>0.273824</td>\n",
       "      <td>0.195108</td>\n",
       "      <td>0.00</td>\n",
       "      <td>0.0900</td>\n",
       "      <td>0.260</td>\n",
       "      <td>0.4300</td>\n",
       "      <td>0.78</td>\n",
       "    </tr>\n",
       "    <tr>\n",
       "      <th>7</th>\n",
       "      <td>199.0</td>\n",
       "      <td>0.375176</td>\n",
       "      <td>0.194432</td>\n",
       "      <td>0.00</td>\n",
       "      <td>0.3050</td>\n",
       "      <td>0.400</td>\n",
       "      <td>0.4900</td>\n",
       "      <td>0.76</td>\n",
       "    </tr>\n",
       "    <tr>\n",
       "      <th>8</th>\n",
       "      <td>18.0</td>\n",
       "      <td>0.391111</td>\n",
       "      <td>0.199526</td>\n",
       "      <td>0.03</td>\n",
       "      <td>0.3025</td>\n",
       "      <td>0.420</td>\n",
       "      <td>0.5300</td>\n",
       "      <td>0.72</td>\n",
       "    </tr>\n",
       "  </tbody>\n",
       "</table>\n",
       "</div>"
      ],
      "text/plain": [
       "         count      mean       std   min     25%    50%     75%   max\n",
       "quality                                                              \n",
       "3         10.0  0.171000  0.250664  0.00  0.0050  0.035  0.3275  0.66\n",
       "4         53.0  0.174151  0.201030  0.00  0.0300  0.090  0.2700  1.00\n",
       "5        681.0  0.243686  0.180003  0.00  0.0900  0.230  0.3600  0.79\n",
       "6        638.0  0.273824  0.195108  0.00  0.0900  0.260  0.4300  0.78\n",
       "7        199.0  0.375176  0.194432  0.00  0.3050  0.400  0.4900  0.76\n",
       "8         18.0  0.391111  0.199526  0.03  0.3025  0.420  0.5300  0.72"
      ]
     },
     "execution_count": 8,
     "metadata": {},
     "output_type": "execute_result"
    }
   ],
   "source": [
    "df.groupby([\"quality\"])[\"citric acid\"].describe()"
   ]
  },
  {
   "cell_type": "markdown",
   "id": "49302ef8",
   "metadata": {
    "id": "49302ef8"
   },
   "source": [
    "Observando los datos de la tabla, podemos ver que las variables cuya media se aleja más de los valores extremos son `residual sugar`, `chlorides`, `free sulfur dioxide`, `total sulfur dioxide`. Hay otras como `critic acid` o `sulphates` que también lo cumplen pero no en tan mayor medida.\n",
    "Esto es debido a que los datos de estas variables tienden a un extremo más que hacia el otro extremo o hacia un punto intermedio. \n",
    "Aunque MLP puede tratar con estos valores, puede que si afecten un poco, y quizás si pueda sobreaprender en cierta medida. Pero si con un número correcto de capas y de nodos, puede que estos valores extremistas se camuflen y la red neuronal pueda tratar con ellos. Además, hay funciones de activación que nos devuelven valores entre un cierto rango, lo que permite el tratamiento de datos extremistas.\n",
    "\n",
    "En cuanto a la calidad del vino en el conjunto de datos, podemos ver que la calidad varía entre 3 y 8. La media de la calidad está más o menos en un punto intermedio, inclinándose hacia el 3. Podemos ver con los percentiles que la gran mayoría tiene una nota de 6 o menor, ya que el percentil del 75% es 6. Aproximadamente 1300 vinos de los 1599 tienen un 5 o 6.\n",
    "En función de la calidad del vino, hemos observado 4 variables y parece que los mejores vinos tienen un mayor alcohol, un menor pH, mayor cantidad de sulfitos, y mayor acido cítrico. A medida que va aumentando la calidad del vino, va aumentando o disminuyendo (dependiendo de la variable) el valor."
   ]
  },
  {
   "cell_type": "markdown",
   "id": "upper-subject",
   "metadata": {
    "id": "upper-subject"
   },
   "source": [
    "### 2) Selección de variables\n",
    "\n",
    "Calcula los coeficientes de correlación de Pearson entre la variable de salida y el resto de variables. Crea un nuevo dataframe que contenga el precio y, selecciona las variables que estén más correlacionadas con él (estableciendo para ello un valor umbral que consideres adecuado)."
   ]
  },
  {
   "cell_type": "code",
   "execution_count": 9,
   "id": "dcbc423f",
   "metadata": {
    "id": "57976172",
    "outputId": "3e63dd57-1a55-423c-e12b-c43c966e7fe8"
   },
   "outputs": [
    {
     "data": {
      "text/plain": [
       "volatile acidity   -0.391\n",
       "citric acid         0.226\n",
       "sulphates           0.251\n",
       "alcohol             0.476\n",
       "quality             1.000\n",
       "dtype: float64"
      ]
     },
     "execution_count": 9,
     "metadata": {},
     "output_type": "execute_result"
    }
   ],
   "source": [
    "##### Obtenemos la tabla de correlaciones de las variables\n",
    "correl = df.corrwith(df['quality']).round(3)\n",
    "\n",
    "correl_aux = correl[abs(correl) > 0.20]\n",
    "correl_aux"
   ]
  },
  {
   "cell_type": "markdown",
   "id": "330f2d30",
   "metadata": {},
   "source": [
    "Debido a que las redes neuronales no son como tal un modelo lineal, aunque veamos que las variables tienen una correlación baja, esto no implica que no estén relacionadas."
   ]
  },
  {
   "cell_type": "code",
   "execution_count": 10,
   "id": "27e8d024",
   "metadata": {
    "id": "27e8d024",
    "outputId": "b982e21d-c512-4129-893f-367925c58ca1"
   },
   "outputs": [
    {
     "data": {
      "text/plain": [
       "Index(['volatile acidity', 'citric acid', 'sulphates', 'alcohol', 'quality'], dtype='object')"
      ]
     },
     "execution_count": 10,
     "metadata": {},
     "output_type": "execute_result"
    }
   ],
   "source": [
    "correl_aux.index"
   ]
  },
  {
   "cell_type": "code",
   "execution_count": 11,
   "id": "6598f444",
   "metadata": {
    "id": "6598f444",
    "outputId": "750f54ba-bda8-4ebd-a252-773fc6c28d9d"
   },
   "outputs": [
    {
     "data": {
      "text/html": [
       "<div>\n",
       "<style scoped>\n",
       "    .dataframe tbody tr th:only-of-type {\n",
       "        vertical-align: middle;\n",
       "    }\n",
       "\n",
       "    .dataframe tbody tr th {\n",
       "        vertical-align: top;\n",
       "    }\n",
       "\n",
       "    .dataframe thead th {\n",
       "        text-align: right;\n",
       "    }\n",
       "</style>\n",
       "<table border=\"1\" class=\"dataframe\">\n",
       "  <thead>\n",
       "    <tr style=\"text-align: right;\">\n",
       "      <th></th>\n",
       "      <th>volatile acidity</th>\n",
       "      <th>citric acid</th>\n",
       "      <th>sulphates</th>\n",
       "      <th>alcohol</th>\n",
       "      <th>quality</th>\n",
       "    </tr>\n",
       "  </thead>\n",
       "  <tbody>\n",
       "    <tr>\n",
       "      <th>0</th>\n",
       "      <td>0.700</td>\n",
       "      <td>0.00</td>\n",
       "      <td>0.56</td>\n",
       "      <td>9.4</td>\n",
       "      <td>5</td>\n",
       "    </tr>\n",
       "    <tr>\n",
       "      <th>1</th>\n",
       "      <td>0.880</td>\n",
       "      <td>0.00</td>\n",
       "      <td>0.68</td>\n",
       "      <td>9.8</td>\n",
       "      <td>5</td>\n",
       "    </tr>\n",
       "    <tr>\n",
       "      <th>2</th>\n",
       "      <td>0.760</td>\n",
       "      <td>0.04</td>\n",
       "      <td>0.65</td>\n",
       "      <td>9.8</td>\n",
       "      <td>5</td>\n",
       "    </tr>\n",
       "    <tr>\n",
       "      <th>3</th>\n",
       "      <td>0.280</td>\n",
       "      <td>0.56</td>\n",
       "      <td>0.58</td>\n",
       "      <td>9.8</td>\n",
       "      <td>6</td>\n",
       "    </tr>\n",
       "    <tr>\n",
       "      <th>4</th>\n",
       "      <td>0.700</td>\n",
       "      <td>0.00</td>\n",
       "      <td>0.56</td>\n",
       "      <td>9.4</td>\n",
       "      <td>5</td>\n",
       "    </tr>\n",
       "    <tr>\n",
       "      <th>...</th>\n",
       "      <td>...</td>\n",
       "      <td>...</td>\n",
       "      <td>...</td>\n",
       "      <td>...</td>\n",
       "      <td>...</td>\n",
       "    </tr>\n",
       "    <tr>\n",
       "      <th>1594</th>\n",
       "      <td>0.600</td>\n",
       "      <td>0.08</td>\n",
       "      <td>0.58</td>\n",
       "      <td>10.5</td>\n",
       "      <td>5</td>\n",
       "    </tr>\n",
       "    <tr>\n",
       "      <th>1595</th>\n",
       "      <td>0.550</td>\n",
       "      <td>0.10</td>\n",
       "      <td>0.76</td>\n",
       "      <td>11.2</td>\n",
       "      <td>6</td>\n",
       "    </tr>\n",
       "    <tr>\n",
       "      <th>1596</th>\n",
       "      <td>0.510</td>\n",
       "      <td>0.13</td>\n",
       "      <td>0.75</td>\n",
       "      <td>11.0</td>\n",
       "      <td>6</td>\n",
       "    </tr>\n",
       "    <tr>\n",
       "      <th>1597</th>\n",
       "      <td>0.645</td>\n",
       "      <td>0.12</td>\n",
       "      <td>0.71</td>\n",
       "      <td>10.2</td>\n",
       "      <td>5</td>\n",
       "    </tr>\n",
       "    <tr>\n",
       "      <th>1598</th>\n",
       "      <td>0.310</td>\n",
       "      <td>0.47</td>\n",
       "      <td>0.66</td>\n",
       "      <td>11.0</td>\n",
       "      <td>6</td>\n",
       "    </tr>\n",
       "  </tbody>\n",
       "</table>\n",
       "<p>1599 rows × 5 columns</p>\n",
       "</div>"
      ],
      "text/plain": [
       "      volatile acidity  citric acid  sulphates  alcohol  quality\n",
       "0                0.700         0.00       0.56      9.4        5\n",
       "1                0.880         0.00       0.68      9.8        5\n",
       "2                0.760         0.04       0.65      9.8        5\n",
       "3                0.280         0.56       0.58      9.8        6\n",
       "4                0.700         0.00       0.56      9.4        5\n",
       "...                ...          ...        ...      ...      ...\n",
       "1594             0.600         0.08       0.58     10.5        5\n",
       "1595             0.550         0.10       0.76     11.2        6\n",
       "1596             0.510         0.13       0.75     11.0        6\n",
       "1597             0.645         0.12       0.71     10.2        5\n",
       "1598             0.310         0.47       0.66     11.0        6\n",
       "\n",
       "[1599 rows x 5 columns]"
      ]
     },
     "execution_count": 11,
     "metadata": {},
     "output_type": "execute_result"
    }
   ],
   "source": [
    "# Usamos .index para obtener los nombres de las columnas que habíamos obtenido\n",
    "df2 = df.loc[:, correl_aux.index].copy()\n",
    "df2"
   ]
  },
  {
   "cell_type": "markdown",
   "id": "brilliant-world",
   "metadata": {
    "id": "brilliant-world"
   },
   "source": [
    "### 3) Normalización\n",
    "\n",
    "Decide si debes o no normalizar los datos de entrada y/o de salida. En caso afirmativo elige razonadamente entre escalarlos o estandarizarlos.\n"
   ]
  },
  {
   "cell_type": "code",
   "execution_count": 12,
   "id": "c1153a40",
   "metadata": {
    "id": "c1153a40",
    "outputId": "e69eb2e4-c1d8-4236-b125-00d86b62a09d"
   },
   "outputs": [
    {
     "data": {
      "text/plain": [
       "array([<AxesSubplot:ylabel='Density'>, <AxesSubplot:ylabel='Density'>,\n",
       "       <AxesSubplot:ylabel='Density'>, <AxesSubplot:ylabel='Density'>,\n",
       "       <AxesSubplot:ylabel='Density'>], dtype=object)"
      ]
     },
     "execution_count": 12,
     "metadata": {},
     "output_type": "execute_result"
    },
    {
     "data": {
      "image/png": "[encoded data removed]",
      "text/plain": [
       "<Figure size 720x720 with 5 Axes>"
      ]
     },
     "metadata": {
      "needs_background": "light"
     },
     "output_type": "display_data"
    }
   ],
   "source": [
    "df2.plot(subplots = True, kind = 'density', figsize = (10,10))"
   ]
  },
  {
   "cell_type": "markdown",
   "id": "4e34074c",
   "metadata": {
    "id": "4e34074c"
   },
   "source": [
    "Si con los gráficos no lo vemos muy claro, podemos mirar si la media, mediana y moda son iguales."
   ]
  },
  {
   "cell_type": "code",
   "execution_count": 13,
   "id": "16b1d2a2",
   "metadata": {
    "id": "16b1d2a2",
    "outputId": "229a04db-afc1-4972-c09b-405cb58c492f"
   },
   "outputs": [
    {
     "name": "stdout",
     "output_type": "stream",
     "text": [
      "La media de  volatile acidity  es:  0.5278205128205128\n",
      "La mediana de  volatile acidity  es:  0.52\n",
      "La moda de  volatile acidity  es:  0.6\n",
      "\n",
      "La media de  citric acid  es:  0.2709756097560976\n",
      "La mediana de  citric acid  es:  0.26\n",
      "La moda de  citric acid  es:  0.0\n",
      "\n",
      "La media de  sulphates  es:  0.6581488430268918\n",
      "La mediana de  sulphates  es:  0.62\n",
      "La moda de  sulphates  es:  0.6\n",
      "\n",
      "La media de  alcohol  es:  10.422983114446529\n",
      "La mediana de  alcohol  es:  10.2\n",
      "La moda de  alcohol  es:  9.5\n",
      "\n",
      "La media de  quality  es:  5.6360225140712945\n",
      "La mediana de  quality  es:  6\n",
      "La moda de  quality  es:  5\n",
      "\n"
     ]
    }
   ],
   "source": [
    "import statistics as sts\n",
    "\n",
    "for column in correl_aux.index:\n",
    "    print(\"La media de \", column, \" es: \", sts.mean(df2.loc[:,column]))\n",
    "    print(\"La mediana de \", column, \" es: \", sts.median(df2.loc[:,column]))\n",
    "    print(\"La moda de \", column, \" es: \", sts.mode(df2.loc[:,column]))\n",
    "    print()"
   ]
  },
  {
   "cell_type": "markdown",
   "id": "c5902322",
   "metadata": {
    "id": "c5902322"
   },
   "source": [
    "Aunque la media, mediana y moda es similar en todos los casos, en algunos gráficos no vemos esa forma de campana o la simetría. La mediana, media y moda es una condición necesaria para que siga una distribución normal, pero no suficiente.\n",
    "\n",
    "Como no podemos decir que todas las variables siguen una distribución normal, vamos a escalar los datos."
   ]
  },
  {
   "cell_type": "code",
   "execution_count": 51,
   "id": "4557ffa4",
   "metadata": {
    "id": "4557ffa4"
   },
   "outputs": [],
   "source": [
    "from sklearn.preprocessing import MinMaxScaler\n",
    "\n",
    "# Transformamos las variables de entrada\n",
    "scaler_x = MinMaxScaler()\n",
    "scaler_x.fit(df2.loc[:, df2.columns != 'quality'].values)\n",
    "data_scaled=scaler_x.transform(df2.loc[:, df2.columns != 'quality'].values)\n",
    "\n",
    "target = df2['quality'].values.reshape(-1, 1)"
   ]
  },
  {
   "cell_type": "code",
   "execution_count": 52,
   "id": "36d9d981",
   "metadata": {
    "id": "36d9d981",
    "outputId": "65d9914e-994c-40a1-f795-6fb22d2e84f8"
   },
   "outputs": [
    {
     "data": {
      "text/plain": [
       "array([[0.39726027, 0.        , 0.13772455, 0.15384615],\n",
       "       [0.52054795, 0.        , 0.20958084, 0.21538462],\n",
       "       [0.43835616, 0.04      , 0.19161677, 0.21538462],\n",
       "       ...,\n",
       "       [0.26712329, 0.13      , 0.25149701, 0.4       ],\n",
       "       [0.35958904, 0.12      , 0.22754491, 0.27692308],\n",
       "       [0.13013699, 0.47      , 0.19760479, 0.4       ]])"
      ]
     },
     "execution_count": 52,
     "metadata": {},
     "output_type": "execute_result"
    }
   ],
   "source": [
    "data_scaled"
   ]
  },
  {
   "cell_type": "code",
   "execution_count": 53,
   "id": "09e238b1",
   "metadata": {
    "id": "09e238b1",
    "outputId": "03e0d7f2-e909-40b4-e46e-769ff75f3f35"
   },
   "outputs": [
    {
     "data": {
      "text/plain": [
       "array([[5],\n",
       "       [5],\n",
       "       [5],\n",
       "       ...,\n",
       "       [6],\n",
       "       [5],\n",
       "       [6]], dtype=int64)"
      ]
     },
     "execution_count": 53,
     "metadata": {},
     "output_type": "execute_result"
    }
   ],
   "source": [
    "target"
   ]
  },
  {
   "cell_type": "markdown",
   "id": "political-french",
   "metadata": {
    "id": "political-french"
   },
   "source": [
    "### 4) Entrenamiento y selección\n",
    "\n",
    "Crea dos redes neuronales de tipo Perceptrón Multicapa:\n",
    "- La primera con una capa oculta de 250 neuronas\n",
    "- La segunda con varias capas ocultas entre las que debes distribuir 250 neuronas, como te parezca\n",
    "\n",
    "Asegúrate de que no salen warnings durante el entrenamiento indicando que no se ha alcanzado la convergencia durante el entrenamiento (para arreglarlo basta con poner un número de max_iter suficientemente grande).\n",
    "\n",
    "En la configuración del perceptrón debes usar validación cruzada y explorar varios valores para el parámetro `alpha` que controla el coeficiente de regularización L2.\n",
    "\n",
    "Para elegir el valor adecuado de dicho coeficiente pinta la curva de aprendizaje para cada perceptrón. En la curva debes pintar una línea que represente el error medio de las distintas particiones de validación y un área sombreada que represente la desviación típica. \n",
    "\n",
    "Una vez tengas la curva de aprendizaje: \n",
    "  - Identifica las diferencias de comportamiento entre ambos perceptrones, razona o especula sobre por qué se dan. ¿Hay alguno que domine al otro? ¿Es el comportamiento de uno más volátil que el del otro?\n",
    "  - Determina de manera razonada con qué perceptrón te quedas y el valor óptimo del parámetro de regularización.\n"
   ]
  },
  {
   "cell_type": "code",
   "execution_count": 54,
   "id": "f550a64e",
   "metadata": {},
   "outputs": [],
   "source": [
    "from sklearn.neural_network import MLPRegressor\n",
    "from sklearn.model_selection import cross_val_score\n",
    "from sklearn.metrics import mean_squared_error\n",
    "import numpy as np\n",
    "import matplotlib.pyplot as plt"
   ]
  },
  {
   "cell_type": "code",
   "execution_count": 55,
   "id": "67cbd102",
   "metadata": {},
   "outputs": [],
   "source": [
    "cv_scores1_mean=[]\n",
    "cv_scores1_std=[]\n",
    "\n",
    "cv_scores2_mean=[]\n",
    "cv_scores2_std=[]"
   ]
  },
  {
   "cell_type": "code",
   "execution_count": 56,
   "id": "ccff847d",
   "metadata": {},
   "outputs": [],
   "source": [
    "# Entrenar y validar distintas configuraciones\n",
    "regul_param_range = np.array([10 ** x for x in range(-10, 11, 1)]) #array([1.e-10, 1.e-09, 1.e-08, 1.e-07, 1.e-06, 1.e-05, 1.e-04, 1.e-03, 1.e-02, 1.e-01, 1.e+00, 1.e+01, 1.e+02, 1.e+03, 1.e+04, 1.e+05, 1.e+06, 1.e+07, 1.e+08, 1.e+09, 1.e+10])"
   ]
  },
  {
   "cell_type": "code",
   "execution_count": 57,
   "id": "02ff3cf0",
   "metadata": {},
   "outputs": [],
   "source": [
    "for regul_param in regul_param_range:\n",
    "    # Aumentamos el parámetro max_iter hasta que converja\n",
    "    mlp1 = MLPRegressor(hidden_layer_sizes=(250, ), activation='relu', solver='adam', alpha=regul_param, batch_size=100, \n",
    "             learning_rate='constant', learning_rate_init=0.001, max_iter=1000, random_state=RANDOM_STATE)\n",
    "    \n",
    "    mlp2 = MLPRegressor(hidden_layer_sizes=(50,50,50,50,50), activation='relu', solver='adam', alpha=regul_param, batch_size=100, \n",
    "             learning_rate='constant', learning_rate_init=0.001, max_iter=1000, random_state=RANDOM_STATE)\n",
    "    \n",
    "    # El error es neg_mean_squared_error el MSE en negativo!! Más pequeño peor.\n",
    "    scores1 = cross_val_score(mlp1, data_scaled, target.ravel(), cv=5, scoring='neg_mean_squared_error')\n",
    "    scores2 = cross_val_score(mlp2, data_scaled, target.ravel(), cv=5, scoring='neg_mean_squared_error')\n",
    "    \n",
    "    cv_scores1_mean.append(scores1.mean())\n",
    "    cv_scores1_std.append(scores1.std())\n",
    "    \n",
    "    cv_scores2_mean.append(scores2.mean())\n",
    "    cv_scores2_std.append(scores2.std())\n"
   ]
  },
  {
   "cell_type": "code",
   "execution_count": 58,
   "id": "925d2f15",
   "metadata": {},
   "outputs": [
    {
     "data": {
      "image/png": "[encoded data removed]",
      "text/plain": [
       "<Figure size 432x288 with 1 Axes>"
      ]
     },
     "metadata": {
      "needs_background": "light"
     },
     "output_type": "display_data"
    }
   ],
   "source": [
    "# Dibujamos la línea de la exactitud media en las partes de test\n",
    "plt.plot(np.log10(regul_param_range), cv_scores1_mean, color=\"r\", label=\"1 layer / 250 nodes\")\n",
    "plt.plot(np.log10(regul_param_range), cv_scores2_mean, color=\"b\", label=\"5 layers / 50 nodes\")\n",
    "\n",
    "# Dibujamos la banda de la desviación típica\n",
    "lower_limit1 = np.array(cv_scores1_mean) - np.array(cv_scores1_std)\n",
    "upper_limit1 = np.array(cv_scores1_mean) + np.array(cv_scores1_std)\n",
    "\n",
    "lower_limit2 = np.array(cv_scores2_mean) - np.array(cv_scores2_std)\n",
    "upper_limit2 = np.array(cv_scores2_mean) + np.array(cv_scores2_std)\n",
    "\n",
    "plt.fill_between(np.log10(regul_param_range), lower_limit1, upper_limit1, color=\"#FF9999AA\")\n",
    "plt.fill_between(np.log10(regul_param_range), lower_limit2, upper_limit2, color=\"#9999FFAA\")\n",
    "\n",
    "# Creamos el gráfico\n",
    "plt.title(\"Curva de aprendizaje\")\n",
    "plt.xlabel(\"Regularización 10^x\"), plt.ylabel(\"negative MSE\"), plt.legend(loc=\"best\")\n",
    "plt.tight_layout()\n",
    "plt.show()"
   ]
  },
  {
   "cell_type": "code",
   "execution_count": 59,
   "id": "1703199b",
   "metadata": {},
   "outputs": [
    {
     "data": {
      "text/plain": [
       "(-0.4216807580638113, 0.0001)"
      ]
     },
     "execution_count": 59,
     "metadata": {},
     "output_type": "execute_result"
    }
   ],
   "source": [
    "cv_s1_m = np.array(cv_scores1_mean)\n",
    "cv_s1_m.max(), regul_param_range[cv_s1_m.argmax()]"
   ]
  },
  {
   "cell_type": "code",
   "execution_count": 60,
   "id": "19260df2",
   "metadata": {},
   "outputs": [
    {
     "data": {
      "text/plain": [
       "(-0.4163435798287791, 0.01)"
      ]
     },
     "execution_count": 60,
     "metadata": {},
     "output_type": "execute_result"
    }
   ],
   "source": [
    "cv_s2_m =np.array(cv_scores2_mean)\n",
    "cv_s2_m.max(), regul_param_range[cv_s2_m.argmax()]"
   ]
  },
  {
   "cell_type": "markdown",
   "id": "270476a2",
   "metadata": {},
   "source": [
    "En la gráfica podemos observar el error se minimiza en $\\alpha=0.01$ para la red de una sola capa, y en $\\alpha=0.00001$ para la red de varias capas. Sin embargo, ambos valores son cercanos a cero, lo que significa que apenas hay regularización y es muy probable que haya sobre aprendido."
   ]
  },
  {
   "cell_type": "code",
   "execution_count": 61,
   "id": "2f2c83b7",
   "metadata": {},
   "outputs": [
    {
     "data": {
      "text/plain": [
       "(-0.5825144824963893, 10.0)"
      ]
     },
     "execution_count": 61,
     "metadata": {},
     "output_type": "execute_result"
    }
   ],
   "source": [
    "cv_s1_m[11:].max(), regul_param_range[cv_s1_m[11:].argmax() + 11]"
   ]
  },
  {
   "cell_type": "code",
   "execution_count": 62,
   "id": "5d359703",
   "metadata": {},
   "outputs": [
    {
     "data": {
      "text/plain": [
       "(-0.6658553746404821, 10000.0)"
      ]
     },
     "execution_count": 62,
     "metadata": {},
     "output_type": "execute_result"
    }
   ],
   "source": [
    "cv_s2_m[11:].max(), regul_param_range[cv_s2_m[11:].argmax() + 11]"
   ]
  },
  {
   "cell_type": "markdown",
   "id": "e0bee331",
   "metadata": {},
   "source": [
    "En el rango $[0.1, 10]$ el error aumenta a valores alrededor de $-0.027$ y, a partir de $\\alpha=10$, ambas gráficas se vuelven a estabilizar. En el rango $[10, 10^{10}]$, tenemos que el error se minimiza en $\\alpha=1000$ para la red neuronal de una sola capa, y en $\\alpha=10$ para la red de varias capas. Con estos valores, si tenemos regularización, por lo que el aumento de una centésima en el error podría compensar el hehco de que la red no sobre aprenda."
   ]
  },
  {
   "cell_type": "markdown",
   "id": "bb5faa76",
   "metadata": {},
   "source": [
    "Las gráficas de ambos perceptrones se comportan de forma similar, aunque parece haber un cierto dominio del perceptrón de varias capas ocultas sobre el perceptrón de una sola capa. Para valores de `alpha` cercanos a 0 (sin regularización), el `mlp1` (perceptrón de una sola capa) parece tener un comportamiento mucho más estable que el `mlp2` (perceptrón de varias capas), ya que la banda de desviación típica del `mlp2` prácticamente cubre la del `mlp1` en todo el rango $[10^{-10}, 0.1]$. Sin embargo, en el rango $[10, 10^{10}]$, la situación se invierte y es `mlp2` quien, no solo presenta el menor, sino también una banda de desviación bastante menor a la de `mlp1`."
   ]
  },
  {
   "cell_type": "markdown",
   "id": "1dfdf41e",
   "metadata": {},
   "source": [
    "Nos vamos a quedar con `mlp2` por ser este el perceptrón que presenta mejor error con regularización y una banda de desviación menor. Para `alpha` igual a 10, el MSE negativo es igual a -0.02668276962176999."
   ]
  },
  {
   "cell_type": "markdown",
   "id": "laden-asbestos",
   "metadata": {
    "id": "laden-asbestos"
   },
   "source": [
    "### 5) Medición y análisis del error\n",
    "\n",
    "Elige la mejor configuración del apartado anterior y usa la función `cross_val_predict` para realizar una predicción de la calidad de todos los vinos usando validación cruzada. \n",
    "\n",
    "A continuación:\n",
    "- Muestra varias medidas de error y razona sobre si el error te parece pequeño o no para el problema que estás analizando\n",
    "- Muestra el histograma de la distribución del error o del error en valor absoluto, y razona de nuevo si te parece que el modelo ha predicho bien o no. Identifica los vinos para los cuales el modelo ha fallado más.\n",
    "- Analiza el error cometido para los vinos según su puntuación de calidad observada (3, 4, etc). Describe lo que sucede, explica por qué crees que sucedió y razona de nuevo si te parece que el modelo funciona bien o tiene limitaciones. "
   ]
  },
  {
   "cell_type": "code",
   "execution_count": 31,
   "id": "39e27a93",
   "metadata": {},
   "outputs": [],
   "source": [
    "from sklearn.model_selection import cross_val_predict\n",
    "\n",
    "# Creamos el clasificador\n",
    "regul_param=10\n",
    "mlp = MLPRegressor(hidden_layer_sizes=(50,50,50,50,50), activation='relu', solver='adam', alpha=regul_param, batch_size=100, \n",
    "             learning_rate='constant', learning_rate_init=0.001, max_iter=1000, random_state=RANDOM_STATE)\n",
    "    \n",
    "# estimamos \n",
    "predicts = cross_val_predict(mlp, data_scaled, target.ravel(), cv=10)"
   ]
  },
  {
   "cell_type": "code",
   "execution_count": 32,
   "id": "62c7d008",
   "metadata": {},
   "outputs": [
    {
     "data": {
      "text/plain": [
       "array([5.58601146, 5.58784884, 5.5942877 , ..., 5.79452106, 5.76681224,\n",
       "       5.83092803])"
      ]
     },
     "execution_count": 32,
     "metadata": {},
     "output_type": "execute_result"
    }
   ],
   "source": [
    "predicts"
   ]
  },
  {
   "cell_type": "code",
   "execution_count": 34,
   "id": "ab3a2eb4",
   "metadata": {},
   "outputs": [
    {
     "name": "stdout",
     "output_type": "stream",
     "text": [
      "Error absolute medio: 0.6668189999794775\n",
      "Desviación típica: 0.431283331875371\n",
      "Error medio en %: 11.831375731992726\n"
     ]
    }
   ],
   "source": [
    "errors = np.abs(df2['quality'].values - predicts) # error en cada ejemplo\n",
    "mean_error = np.mean(errors)\n",
    "std_error = np.std(errors)\n",
    "mean_price = np.mean(np.array(df2['quality'].values))\n",
    "\n",
    "print('Error absolute medio:', mean_error)\n",
    "print('Desviación típica:', std_error)\n",
    "print('Error medio en %:', mean_error/mean_price*100)"
   ]
  },
  {
   "cell_type": "markdown",
   "id": "3d406dec",
   "metadata": {},
   "source": [
    "Nuestro modelo comete un error medio de 0.69, y presenta una desviación típica de 0.43. Ambos valores me parecen "
   ]
  },
  {
   "cell_type": "code",
   "execution_count": 35,
   "id": "b7e782ef",
   "metadata": {},
   "outputs": [
    {
     "data": {
      "image/png": "[encoded data removed]",
      "text/plain": [
       "<Figure size 432x288 with 1 Axes>"
      ]
     },
     "metadata": {
      "needs_background": "light"
     },
     "output_type": "display_data"
    }
   ],
   "source": [
    "# Dibujamos el histograma de los errores\n",
    "fig1 = plt.figure()\n",
    "ax1 = plt.axes()\n",
    "ax1.hist(errors.reshape(-1,1))\n",
    "\n",
    "plt.title('Distribución del error en valor absoluto')\n",
    "plt.show()"
   ]
  },
  {
   "cell_type": "markdown",
   "id": "733f6240",
   "metadata": {},
   "source": [
    "Como podemos observar, la mayoría de los errores son pequeños, puesto que se ubican a la izquierda en la gráfica. Pero también encontramos "
   ]
  },
  {
   "cell_type": "code",
   "execution_count": 36,
   "id": "46f82831",
   "metadata": {},
   "outputs": [
    {
     "data": {
      "text/plain": [
       "array([5, 5, 5, ..., 6, 5, 6], dtype=int64)"
      ]
     },
     "execution_count": 36,
     "metadata": {},
     "output_type": "execute_result"
    }
   ],
   "source": [
    "df2['quality'].values"
   ]
  },
  {
   "cell_type": "code",
   "execution_count": 37,
   "id": "41812cf0",
   "metadata": {},
   "outputs": [
    {
     "data": {
      "text/plain": [
       "array([5.58601146, 5.58784884, 5.5942877 , ..., 5.79452106, 5.76681224,\n",
       "       5.83092803])"
      ]
     },
     "execution_count": 37,
     "metadata": {},
     "output_type": "execute_result"
    }
   ],
   "source": [
    "predicts"
   ]
  },
  {
   "cell_type": "code",
   "execution_count": 38,
   "id": "8d50b981",
   "metadata": {},
   "outputs": [
    {
     "data": {
      "image/png": "[encoded data removed]",
      "text/plain": [
       "<Figure size 432x288 with 1 Axes>"
      ]
     },
     "metadata": {
      "needs_background": "light"
     },
     "output_type": "display_data"
    }
   ],
   "source": [
    "fig2 = plt.figure()\n",
    "ax2 = plt.axes()\n",
    "\n",
    "# dibujamos los errores: la distancia a la recta indica el nivel de error\n",
    "ax2.scatter(df2['quality'].values, predicts) \n",
    "# Pintamos la referencia de la predicción perfecta\n",
    "ax2.plot(df2['quality'].values, df2['quality'].values, color='k') \n",
    "\n",
    "plt.xlabel(\"Calidad\")\n",
    "plt.ylabel(\"Estimacion\")\n",
    "plt.show()"
   ]
  },
  {
   "cell_type": "code",
   "execution_count": null,
   "id": "69e4f75d",
   "metadata": {},
   "outputs": [],
   "source": []
  }
 ],
 "metadata": {
  "colab": {
   "name": "P3_regresion_enunciado.ipynb",
   "provenance": []
  },
  "kernelspec": {
   "display_name": "Python 3",
   "language": "python",
   "name": "python3"
  },
  "language_info": {
   "codemirror_mode": {
    "name": "ipython",
    "version": 3
   },
   "file_extension": ".py",
   "mimetype": "text/x-python",
   "name": "python",
   "nbconvert_exporter": "python",
   "pygments_lexer": "ipython3",
   "version": "3.8.8"
  }
 },
 "nbformat": 4,
 "nbformat_minor": 5
}
