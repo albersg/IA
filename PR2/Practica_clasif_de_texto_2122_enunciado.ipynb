{
 "cells": [
  {
   "cell_type": "markdown",
   "metadata": {},
   "source": [
    "# Práctica 2: Procesamiento del Lenguaje Natural\n",
    "\n",
    "__Fecha de entrega: 3 de abril de 2022__\n",
    "\n",
    "El objetivo de esta práctica es aplicar los conceptos teóricos vistos en clase en el módulo de PLN. La práctica consta de 2 notebooks que se entregarán simultáneamente en la tarea de entrega habilitada en el Campus  Virtual.\n",
    "\n",
    "Lo más importante en esta práctica no es el código Python, sino el análisis de los datos y modelos que construyas y las explicaciones razonadas de cada una de las decisiones que tomes. __No se valorarán trozos de código o gráficas sin ningún tipo de contexto o explicación__.\n",
    "\n",
    "Finalmente, recuerda establecer el parámetro `random_state` en todas las funciones que tomen decisiones aleatorias para que los resultados sean reproducibles (los resultados no varíen entre ejecuciones).\n",
    "\n",
    "__Nombres: SÁNCHEZ GÓMEZ, ALBERTO Y CARPIO CUENCA, SARA__  \n",
    "__Grupo: G19__"
   ]
  },
  {
   "cell_type": "code",
   "execution_count": 1,
   "metadata": {},
   "outputs": [],
   "source": [
    "RANDOM_STATE = 333"
   ]
  },
  {
   "cell_type": "markdown",
   "metadata": {},
   "source": [
    "# Apartado 1: Clasificador de noticias"
   ]
  },
  {
   "cell_type": "markdown",
   "metadata": {},
   "source": [
    "## 1) Carga del conjunto de datos\n",
    "\n",
    "El fichero `BBC News.csv` contiene noticias clasificadas en 5 categorías diferentes. \n",
    "\n",
    "Carga los datos en un dataframe teniendo en cuenta que la columna `ArticleId` es un identificador de la noticia y por lo tanto no debes usarlo para clasificar. \n",
    "\n",
    "Estudia el tamaño del conjunto de datos y la proporción de noticias que pertenecen a cada una de las categorías. Indica si debemos tenerlo en cuenta de alguna forma al analizar los modelos que construyamos.\n",
    "\n",
    "Muestra un mensaje cualquiera y explica si lo habrías clasificado en la clase correcta tras leerlo.\n",
    "\n",
    "Crea una partición de los datos dejando el 80% para entrenamiento y el 20% restante para test usando la función `train_test_split` de sklearn. "
   ]
  },
  {
   "cell_type": "code",
   "execution_count": 2,
   "metadata": {},
   "outputs": [],
   "source": [
    "import pandas as pd"
   ]
  },
  {
   "cell_type": "code",
   "execution_count": 3,
   "metadata": {},
   "outputs": [
    {
     "data": {
      "text/html": [
       "<div>\n",
       "<style scoped>\n",
       "    .dataframe tbody tr th:only-of-type {\n",
       "        vertical-align: middle;\n",
       "    }\n",
       "\n",
       "    .dataframe tbody tr th {\n",
       "        vertical-align: top;\n",
       "    }\n",
       "\n",
       "    .dataframe thead th {\n",
       "        text-align: right;\n",
       "    }\n",
       "</style>\n",
       "<table border=\"1\" class=\"dataframe\">\n",
       "  <thead>\n",
       "    <tr style=\"text-align: right;\">\n",
       "      <th></th>\n",
       "      <th>ArticleId</th>\n",
       "      <th>Text</th>\n",
       "      <th>Category</th>\n",
       "    </tr>\n",
       "  </thead>\n",
       "  <tbody>\n",
       "    <tr>\n",
       "      <th>0</th>\n",
       "      <td>1833</td>\n",
       "      <td>worldcom ex-boss launches defence lawyers defe...</td>\n",
       "      <td>business</td>\n",
       "    </tr>\n",
       "    <tr>\n",
       "      <th>1</th>\n",
       "      <td>154</td>\n",
       "      <td>german business confidence slides german busin...</td>\n",
       "      <td>business</td>\n",
       "    </tr>\n",
       "    <tr>\n",
       "      <th>2</th>\n",
       "      <td>1101</td>\n",
       "      <td>bbc poll indicates economic gloom citizens in ...</td>\n",
       "      <td>business</td>\n",
       "    </tr>\n",
       "    <tr>\n",
       "      <th>3</th>\n",
       "      <td>1976</td>\n",
       "      <td>lifestyle  governs mobile choice  faster  bett...</td>\n",
       "      <td>tech</td>\n",
       "    </tr>\n",
       "    <tr>\n",
       "      <th>4</th>\n",
       "      <td>917</td>\n",
       "      <td>enron bosses in $168m payout eighteen former e...</td>\n",
       "      <td>business</td>\n",
       "    </tr>\n",
       "    <tr>\n",
       "      <th>...</th>\n",
       "      <td>...</td>\n",
       "      <td>...</td>\n",
       "      <td>...</td>\n",
       "    </tr>\n",
       "    <tr>\n",
       "      <th>1485</th>\n",
       "      <td>857</td>\n",
       "      <td>double eviction from big brother model caprice...</td>\n",
       "      <td>entertainment</td>\n",
       "    </tr>\n",
       "    <tr>\n",
       "      <th>1486</th>\n",
       "      <td>325</td>\n",
       "      <td>dj double act revamp chart show dj duo jk and ...</td>\n",
       "      <td>entertainment</td>\n",
       "    </tr>\n",
       "    <tr>\n",
       "      <th>1487</th>\n",
       "      <td>1590</td>\n",
       "      <td>weak dollar hits reuters revenues at media gro...</td>\n",
       "      <td>business</td>\n",
       "    </tr>\n",
       "    <tr>\n",
       "      <th>1488</th>\n",
       "      <td>1587</td>\n",
       "      <td>apple ipod family expands market apple has exp...</td>\n",
       "      <td>tech</td>\n",
       "    </tr>\n",
       "    <tr>\n",
       "      <th>1489</th>\n",
       "      <td>538</td>\n",
       "      <td>santy worm makes unwelcome visit thousands of ...</td>\n",
       "      <td>tech</td>\n",
       "    </tr>\n",
       "  </tbody>\n",
       "</table>\n",
       "<p>1490 rows × 3 columns</p>\n",
       "</div>"
      ],
      "text/plain": [
       "      ArticleId                                               Text  \\\n",
       "0          1833  worldcom ex-boss launches defence lawyers defe...   \n",
       "1           154  german business confidence slides german busin...   \n",
       "2          1101  bbc poll indicates economic gloom citizens in ...   \n",
       "3          1976  lifestyle  governs mobile choice  faster  bett...   \n",
       "4           917  enron bosses in $168m payout eighteen former e...   \n",
       "...         ...                                                ...   \n",
       "1485        857  double eviction from big brother model caprice...   \n",
       "1486        325  dj double act revamp chart show dj duo jk and ...   \n",
       "1487       1590  weak dollar hits reuters revenues at media gro...   \n",
       "1488       1587  apple ipod family expands market apple has exp...   \n",
       "1489        538  santy worm makes unwelcome visit thousands of ...   \n",
       "\n",
       "           Category  \n",
       "0          business  \n",
       "1          business  \n",
       "2          business  \n",
       "3              tech  \n",
       "4          business  \n",
       "...             ...  \n",
       "1485  entertainment  \n",
       "1486  entertainment  \n",
       "1487       business  \n",
       "1488           tech  \n",
       "1489           tech  \n",
       "\n",
       "[1490 rows x 3 columns]"
      ]
     },
     "execution_count": 3,
     "metadata": {},
     "output_type": "execute_result"
    }
   ],
   "source": [
    "df_bbc = pd.read_csv('BBC News.csv')\n",
    "df_bbc"
   ]
  },
  {
   "cell_type": "code",
   "execution_count": 4,
   "metadata": {},
   "outputs": [
    {
     "data": {
      "text/html": [
       "<div>\n",
       "<style scoped>\n",
       "    .dataframe tbody tr th:only-of-type {\n",
       "        vertical-align: middle;\n",
       "    }\n",
       "\n",
       "    .dataframe tbody tr th {\n",
       "        vertical-align: top;\n",
       "    }\n",
       "\n",
       "    .dataframe thead tr th {\n",
       "        text-align: left;\n",
       "    }\n",
       "\n",
       "    .dataframe thead tr:last-of-type th {\n",
       "        text-align: right;\n",
       "    }\n",
       "</style>\n",
       "<table border=\"1\" class=\"dataframe\">\n",
       "  <thead>\n",
       "    <tr>\n",
       "      <th></th>\n",
       "      <th colspan=\"8\" halign=\"left\">ArticleId</th>\n",
       "    </tr>\n",
       "    <tr>\n",
       "      <th></th>\n",
       "      <th>count</th>\n",
       "      <th>mean</th>\n",
       "      <th>std</th>\n",
       "      <th>min</th>\n",
       "      <th>25%</th>\n",
       "      <th>50%</th>\n",
       "      <th>75%</th>\n",
       "      <th>max</th>\n",
       "    </tr>\n",
       "    <tr>\n",
       "      <th>Category</th>\n",
       "      <th></th>\n",
       "      <th></th>\n",
       "      <th></th>\n",
       "      <th></th>\n",
       "      <th></th>\n",
       "      <th></th>\n",
       "      <th></th>\n",
       "      <th></th>\n",
       "    </tr>\n",
       "  </thead>\n",
       "  <tbody>\n",
       "    <tr>\n",
       "      <th>business</th>\n",
       "      <td>336.0</td>\n",
       "      <td>1104.315476</td>\n",
       "      <td>658.063510</td>\n",
       "      <td>2.0</td>\n",
       "      <td>476.25</td>\n",
       "      <td>1107.5</td>\n",
       "      <td>1716.25</td>\n",
       "      <td>2221.0</td>\n",
       "    </tr>\n",
       "    <tr>\n",
       "      <th>entertainment</th>\n",
       "      <td>273.0</td>\n",
       "      <td>1100.274725</td>\n",
       "      <td>615.695597</td>\n",
       "      <td>10.0</td>\n",
       "      <td>601.00</td>\n",
       "      <td>1081.0</td>\n",
       "      <td>1611.00</td>\n",
       "      <td>2223.0</td>\n",
       "    </tr>\n",
       "    <tr>\n",
       "      <th>politics</th>\n",
       "      <td>274.0</td>\n",
       "      <td>1134.317518</td>\n",
       "      <td>637.628980</td>\n",
       "      <td>7.0</td>\n",
       "      <td>610.00</td>\n",
       "      <td>1163.0</td>\n",
       "      <td>1681.50</td>\n",
       "      <td>2224.0</td>\n",
       "    </tr>\n",
       "    <tr>\n",
       "      <th>sport</th>\n",
       "      <td>346.0</td>\n",
       "      <td>1104.057803</td>\n",
       "      <td>649.542516</td>\n",
       "      <td>4.0</td>\n",
       "      <td>513.50</td>\n",
       "      <td>1070.0</td>\n",
       "      <td>1689.50</td>\n",
       "      <td>2219.0</td>\n",
       "    </tr>\n",
       "    <tr>\n",
       "      <th>tech</th>\n",
       "      <td>261.0</td>\n",
       "      <td>1165.195402</td>\n",
       "      <td>643.852459</td>\n",
       "      <td>20.0</td>\n",
       "      <td>631.00</td>\n",
       "      <td>1147.0</td>\n",
       "      <td>1755.00</td>\n",
       "      <td>2216.0</td>\n",
       "    </tr>\n",
       "  </tbody>\n",
       "</table>\n",
       "</div>"
      ],
      "text/plain": [
       "              ArticleId                                                 \\\n",
       "                  count         mean         std   min     25%     50%   \n",
       "Category                                                                 \n",
       "business          336.0  1104.315476  658.063510   2.0  476.25  1107.5   \n",
       "entertainment     273.0  1100.274725  615.695597  10.0  601.00  1081.0   \n",
       "politics          274.0  1134.317518  637.628980   7.0  610.00  1163.0   \n",
       "sport             346.0  1104.057803  649.542516   4.0  513.50  1070.0   \n",
       "tech              261.0  1165.195402  643.852459  20.0  631.00  1147.0   \n",
       "\n",
       "                                \n",
       "                   75%     max  \n",
       "Category                        \n",
       "business       1716.25  2221.0  \n",
       "entertainment  1611.00  2223.0  \n",
       "politics       1681.50  2224.0  \n",
       "sport          1689.50  2219.0  \n",
       "tech           1755.00  2216.0  "
      ]
     },
     "execution_count": 4,
     "metadata": {},
     "output_type": "execute_result"
    }
   ],
   "source": [
    "df_bbc.groupby('Category').describe()"
   ]
  },
  {
   "cell_type": "markdown",
   "metadata": {},
   "source": [
    "Podemos observar que la distribución de artículos en las diferentes categorías es bastante homógenea. Esto debería proporcionar buenos resultados en la clasificación de textos ya que tenemos muchos ejemplos distribuidos entre todas las categorías, facilitando que haya más palabras que se repitan entre los artículos de una misma clase."
   ]
  },
  {
   "cell_type": "code",
   "execution_count": 5,
   "metadata": {},
   "outputs": [
    {
     "data": {
      "text/plain": [
       "'howard pitches for uk ethnic vote michael howard is to make a pitch for britain s ethnic vote urging people who feel  taken for granted  by tony blair to vote conservative.  he will say conservatives  share the same values  as the uk s minorities. and that he wants to build a  better britain  where everyone  whatever the colour of their skin or religion  can  make the most of their talents . but the tory leader will argue against positive discrimination saying it is  outdated and unjust .   it sets family against family and it leads ethnic communities to doubt their own abilities   he will argue. mr howard - himself the son of immigrants - will acknowledge that racial discrimination still exists in the uk.  people from ethnic communities  for example  still earn less than their white counterparts   he will say before arguing the answer to helping everyone to get on was  free enterprise  free trade  free speech . the tory leader will also call for religious tolerance arguing that hindus and sikhs as well as muslims got  caught in the downdraft of islamaphobia which was one of the terrible side effects of 9/11 .  mr howard will make his speech during a visit to support tory parliamentary hopefuls robert light and sayeeda warsi -  the first british muslim woman  selected to run for mp as a conservative candidate. he will attack labour s record in government over issues such as tax and he will set out tory plans for an immigration quota to be set by mps. mr howard will also attack the lib dems for wanting to abolish faith schools  introduce compulsory sex education from the age of seven  and  give contraceptives out in schools from the age of 11 .  so i say to all those people from ethnic minorities who feel mr blair and the liberal democrats take their votes for granted - come join us   he will say. lib dem president simon hughes branded mr howard  arrogant and wrong  for claiming the tories were the  natural party  for britain s ethnic minorities.  given the tories  considerably reduced support in urban areas  where many black and asian britons live  during their time in power  the evidence simply does not support his claims that the conservatives are the party for these communities   he said.'"
      ]
     },
     "execution_count": 5,
     "metadata": {},
     "output_type": "execute_result"
    }
   ],
   "source": [
    "df_bbc[\"Text\"][82]"
   ]
  },
  {
   "cell_type": "code",
   "execution_count": 6,
   "metadata": {},
   "outputs": [
    {
     "data": {
      "text/plain": [
       "'politics'"
      ]
     },
     "execution_count": 6,
     "metadata": {},
     "output_type": "execute_result"
    }
   ],
   "source": [
    "df_bbc[\"Category\"][82]"
   ]
  },
  {
   "cell_type": "markdown",
   "metadata": {},
   "source": [
    "Leyendo el artículo, vemos que está bastante relacionado con la política Reino Unido y con unas elecciones. La categoría `politics` es acertada. "
   ]
  },
  {
   "cell_type": "code",
   "execution_count": 7,
   "metadata": {},
   "outputs": [
    {
     "data": {
      "text/plain": [
       "'premier league planning cole date the premier league is attempting to find a mutually convenient date to investigate allegations chelsea made an illegal approach for ashley cole.  both chelsea and arsenal will be asked to give evidence to a premier league commission  but no deadline has been put on when that meeting will convene.  it s hard to put a date on it   a premier league spokesman confirmed to bbc sport.  it s not a formal situation where they ve got so much time to respond.  arsenal and england defender cole reportedly met blues boss jose mourinho and chief executive peter kenyon in a london hotel 11 days ago. chelsea have yet to officially confirm or deny the meeting  which would be in breach of premier league rule k3.  now the gunners have asked for an inquiry to look into claims that their player has been  tapped up . both clubs have pledged to co-operate with the inquiry which will be conducted on a single day as opposed to being run as an ongoing evaluation. cole is in negotiations with the gunners over extending his current deal which ends in 2007. and his arsenal team-mate robert pires has urged the england left-back to stay at highbury. pires told the evening standard:  he has been at arsenal for ever. he is a very attacking left-back and i think he is enjoying his football because at arsenal he plays in an offensive team.  i am not sure he will get the same pleasure at chelsea  even though they are doing so well at the moment.  i have built a fantastic playing relationship with ashley.  we play together so well - we could do it with our eyes shut.  but you have to respect the decision of the player. everybody has that right.'"
      ]
     },
     "execution_count": 7,
     "metadata": {},
     "output_type": "execute_result"
    }
   ],
   "source": [
    "df_bbc[\"Text\"][42]"
   ]
  },
  {
   "cell_type": "code",
   "execution_count": 8,
   "metadata": {},
   "outputs": [
    {
     "data": {
      "text/plain": [
       "'sport'"
      ]
     },
     "execution_count": 8,
     "metadata": {},
     "output_type": "execute_result"
    }
   ],
   "source": [
    "df_bbc[\"Category\"][42]"
   ]
  },
  {
   "cell_type": "markdown",
   "metadata": {},
   "source": [
    "Este artículo claramente es sobre la categoría `sport`, ya que habla sobre unos problemas con un jugador y dos clubes de la Premier League."
   ]
  },
  {
   "cell_type": "code",
   "execution_count": 9,
   "metadata": {},
   "outputs": [],
   "source": [
    "from sklearn.model_selection import train_test_split"
   ]
  },
  {
   "cell_type": "code",
   "execution_count": 10,
   "metadata": {},
   "outputs": [
    {
     "data": {
      "text/html": [
       "<div>\n",
       "<style scoped>\n",
       "    .dataframe tbody tr th:only-of-type {\n",
       "        vertical-align: middle;\n",
       "    }\n",
       "\n",
       "    .dataframe tbody tr th {\n",
       "        vertical-align: top;\n",
       "    }\n",
       "\n",
       "    .dataframe thead th {\n",
       "        text-align: right;\n",
       "    }\n",
       "</style>\n",
       "<table border=\"1\" class=\"dataframe\">\n",
       "  <thead>\n",
       "    <tr style=\"text-align: right;\">\n",
       "      <th></th>\n",
       "      <th>ArticleId</th>\n",
       "      <th>Text</th>\n",
       "      <th>Category</th>\n",
       "    </tr>\n",
       "  </thead>\n",
       "  <tbody>\n",
       "    <tr>\n",
       "      <th>955</th>\n",
       "      <td>167</td>\n",
       "      <td>springer criticises opera musical talk show ho...</td>\n",
       "      <td>entertainment</td>\n",
       "    </tr>\n",
       "    <tr>\n",
       "      <th>593</th>\n",
       "      <td>2220</td>\n",
       "      <td>beijingers fume over parking fees choking traf...</td>\n",
       "      <td>business</td>\n",
       "    </tr>\n",
       "    <tr>\n",
       "      <th>565</th>\n",
       "      <td>1772</td>\n",
       "      <td>apple laptop is  greatest gadget  the apple po...</td>\n",
       "      <td>tech</td>\n",
       "    </tr>\n",
       "    <tr>\n",
       "      <th>64</th>\n",
       "      <td>315</td>\n",
       "      <td>two nigerian banks set to merge nigerian banks...</td>\n",
       "      <td>business</td>\n",
       "    </tr>\n",
       "    <tr>\n",
       "      <th>1422</th>\n",
       "      <td>159</td>\n",
       "      <td>uk firms  embracing e-commerce  uk firms are e...</td>\n",
       "      <td>politics</td>\n",
       "    </tr>\n",
       "    <tr>\n",
       "      <th>...</th>\n",
       "      <td>...</td>\n",
       "      <td>...</td>\n",
       "      <td>...</td>\n",
       "    </tr>\n",
       "    <tr>\n",
       "      <th>46</th>\n",
       "      <td>593</td>\n",
       "      <td>china  ripe  for media explosion asia is set t...</td>\n",
       "      <td>tech</td>\n",
       "    </tr>\n",
       "    <tr>\n",
       "      <th>1398</th>\n",
       "      <td>1436</td>\n",
       "      <td>banker loses sexism claim a former executive a...</td>\n",
       "      <td>business</td>\n",
       "    </tr>\n",
       "    <tr>\n",
       "      <th>1390</th>\n",
       "      <td>479</td>\n",
       "      <td>rap feud in 50 cent s g-unit crew us rap star ...</td>\n",
       "      <td>entertainment</td>\n",
       "    </tr>\n",
       "    <tr>\n",
       "      <th>1443</th>\n",
       "      <td>1490</td>\n",
       "      <td>unclear future for striker baros liverpool for...</td>\n",
       "      <td>sport</td>\n",
       "    </tr>\n",
       "    <tr>\n",
       "      <th>973</th>\n",
       "      <td>661</td>\n",
       "      <td>uk needs tax cuts  tories insist a major chang...</td>\n",
       "      <td>politics</td>\n",
       "    </tr>\n",
       "  </tbody>\n",
       "</table>\n",
       "<p>1192 rows × 3 columns</p>\n",
       "</div>"
      ],
      "text/plain": [
       "      ArticleId                                               Text  \\\n",
       "955         167  springer criticises opera musical talk show ho...   \n",
       "593        2220  beijingers fume over parking fees choking traf...   \n",
       "565        1772  apple laptop is  greatest gadget  the apple po...   \n",
       "64          315  two nigerian banks set to merge nigerian banks...   \n",
       "1422        159  uk firms  embracing e-commerce  uk firms are e...   \n",
       "...         ...                                                ...   \n",
       "46          593  china  ripe  for media explosion asia is set t...   \n",
       "1398       1436  banker loses sexism claim a former executive a...   \n",
       "1390        479  rap feud in 50 cent s g-unit crew us rap star ...   \n",
       "1443       1490  unclear future for striker baros liverpool for...   \n",
       "973         661  uk needs tax cuts  tories insist a major chang...   \n",
       "\n",
       "           Category  \n",
       "955   entertainment  \n",
       "593        business  \n",
       "565            tech  \n",
       "64         business  \n",
       "1422       politics  \n",
       "...             ...  \n",
       "46             tech  \n",
       "1398       business  \n",
       "1390  entertainment  \n",
       "1443          sport  \n",
       "973        politics  \n",
       "\n",
       "[1192 rows x 3 columns]"
      ]
     },
     "execution_count": 10,
     "metadata": {},
     "output_type": "execute_result"
    }
   ],
   "source": [
    "bbc_train, bbc_test = train_test_split(df_bbc, test_size=0.20, random_state=RANDOM_STATE)\n",
    "bbc_train"
   ]
  },
  {
   "cell_type": "code",
   "execution_count": 11,
   "metadata": {},
   "outputs": [
    {
     "data": {
      "text/html": [
       "<div>\n",
       "<style scoped>\n",
       "    .dataframe tbody tr th:only-of-type {\n",
       "        vertical-align: middle;\n",
       "    }\n",
       "\n",
       "    .dataframe tbody tr th {\n",
       "        vertical-align: top;\n",
       "    }\n",
       "\n",
       "    .dataframe thead th {\n",
       "        text-align: right;\n",
       "    }\n",
       "</style>\n",
       "<table border=\"1\" class=\"dataframe\">\n",
       "  <thead>\n",
       "    <tr style=\"text-align: right;\">\n",
       "      <th></th>\n",
       "      <th>ArticleId</th>\n",
       "      <th>Text</th>\n",
       "      <th>Category</th>\n",
       "    </tr>\n",
       "  </thead>\n",
       "  <tbody>\n",
       "    <tr>\n",
       "      <th>741</th>\n",
       "      <td>231</td>\n",
       "      <td>tv show unites angolan families angolan famili...</td>\n",
       "      <td>entertainment</td>\n",
       "    </tr>\n",
       "    <tr>\n",
       "      <th>637</th>\n",
       "      <td>427</td>\n",
       "      <td>bortolami predicts dour contest italy skipper ...</td>\n",
       "      <td>sport</td>\n",
       "    </tr>\n",
       "    <tr>\n",
       "      <th>1298</th>\n",
       "      <td>1369</td>\n",
       "      <td>no uk apology  for colonial past the days of b...</td>\n",
       "      <td>politics</td>\n",
       "    </tr>\n",
       "    <tr>\n",
       "      <th>316</th>\n",
       "      <td>372</td>\n",
       "      <td>us peer-to-peer pirates convicted the first co...</td>\n",
       "      <td>tech</td>\n",
       "    </tr>\n",
       "    <tr>\n",
       "      <th>1435</th>\n",
       "      <td>1166</td>\n",
       "      <td>relay squad thrilled with honours jason garden...</td>\n",
       "      <td>sport</td>\n",
       "    </tr>\n",
       "    <tr>\n",
       "      <th>...</th>\n",
       "      <td>...</td>\n",
       "      <td>...</td>\n",
       "      <td>...</td>\n",
       "    </tr>\n",
       "    <tr>\n",
       "      <th>1041</th>\n",
       "      <td>1011</td>\n",
       "      <td>gadget show heralds mp3 season partners of tho...</td>\n",
       "      <td>tech</td>\n",
       "    </tr>\n",
       "    <tr>\n",
       "      <th>404</th>\n",
       "      <td>1381</td>\n",
       "      <td>world leaders gather to face uncertainty more ...</td>\n",
       "      <td>business</td>\n",
       "    </tr>\n",
       "    <tr>\n",
       "      <th>1198</th>\n",
       "      <td>2166</td>\n",
       "      <td>briton wins short film oscar three of the five...</td>\n",
       "      <td>entertainment</td>\n",
       "    </tr>\n",
       "    <tr>\n",
       "      <th>79</th>\n",
       "      <td>1929</td>\n",
       "      <td>ukraine strikes turkmen gas deal ukraine has a...</td>\n",
       "      <td>business</td>\n",
       "    </tr>\n",
       "    <tr>\n",
       "      <th>633</th>\n",
       "      <td>1805</td>\n",
       "      <td>dublin hi-tech labs to shut down dublin s hi-t...</td>\n",
       "      <td>tech</td>\n",
       "    </tr>\n",
       "  </tbody>\n",
       "</table>\n",
       "<p>298 rows × 3 columns</p>\n",
       "</div>"
      ],
      "text/plain": [
       "      ArticleId                                               Text  \\\n",
       "741         231  tv show unites angolan families angolan famili...   \n",
       "637         427  bortolami predicts dour contest italy skipper ...   \n",
       "1298       1369  no uk apology  for colonial past the days of b...   \n",
       "316         372  us peer-to-peer pirates convicted the first co...   \n",
       "1435       1166  relay squad thrilled with honours jason garden...   \n",
       "...         ...                                                ...   \n",
       "1041       1011  gadget show heralds mp3 season partners of tho...   \n",
       "404        1381  world leaders gather to face uncertainty more ...   \n",
       "1198       2166  briton wins short film oscar three of the five...   \n",
       "79         1929  ukraine strikes turkmen gas deal ukraine has a...   \n",
       "633        1805  dublin hi-tech labs to shut down dublin s hi-t...   \n",
       "\n",
       "           Category  \n",
       "741   entertainment  \n",
       "637           sport  \n",
       "1298       politics  \n",
       "316            tech  \n",
       "1435          sport  \n",
       "...             ...  \n",
       "1041           tech  \n",
       "404        business  \n",
       "1198  entertainment  \n",
       "79         business  \n",
       "633            tech  \n",
       "\n",
       "[298 rows x 3 columns]"
      ]
     },
     "execution_count": 11,
     "metadata": {},
     "output_type": "execute_result"
    }
   ],
   "source": [
    "bbc_test"
   ]
  },
  {
   "cell_type": "code",
   "execution_count": 12,
   "metadata": {},
   "outputs": [
    {
     "data": {
      "text/html": [
       "<div>\n",
       "<style scoped>\n",
       "    .dataframe tbody tr th:only-of-type {\n",
       "        vertical-align: middle;\n",
       "    }\n",
       "\n",
       "    .dataframe tbody tr th {\n",
       "        vertical-align: top;\n",
       "    }\n",
       "\n",
       "    .dataframe thead tr th {\n",
       "        text-align: left;\n",
       "    }\n",
       "\n",
       "    .dataframe thead tr:last-of-type th {\n",
       "        text-align: right;\n",
       "    }\n",
       "</style>\n",
       "<table border=\"1\" class=\"dataframe\">\n",
       "  <thead>\n",
       "    <tr>\n",
       "      <th></th>\n",
       "      <th colspan=\"8\" halign=\"left\">ArticleId</th>\n",
       "    </tr>\n",
       "    <tr>\n",
       "      <th></th>\n",
       "      <th>count</th>\n",
       "      <th>mean</th>\n",
       "      <th>std</th>\n",
       "      <th>min</th>\n",
       "      <th>25%</th>\n",
       "      <th>50%</th>\n",
       "      <th>75%</th>\n",
       "      <th>max</th>\n",
       "    </tr>\n",
       "    <tr>\n",
       "      <th>Category</th>\n",
       "      <th></th>\n",
       "      <th></th>\n",
       "      <th></th>\n",
       "      <th></th>\n",
       "      <th></th>\n",
       "      <th></th>\n",
       "      <th></th>\n",
       "      <th></th>\n",
       "    </tr>\n",
       "  </thead>\n",
       "  <tbody>\n",
       "    <tr>\n",
       "      <th>business</th>\n",
       "      <td>263.0</td>\n",
       "      <td>1136.680608</td>\n",
       "      <td>647.030112</td>\n",
       "      <td>19.0</td>\n",
       "      <td>629.5</td>\n",
       "      <td>1124.0</td>\n",
       "      <td>1744.00</td>\n",
       "      <td>2221.0</td>\n",
       "    </tr>\n",
       "    <tr>\n",
       "      <th>entertainment</th>\n",
       "      <td>212.0</td>\n",
       "      <td>1087.221698</td>\n",
       "      <td>634.933226</td>\n",
       "      <td>10.0</td>\n",
       "      <td>565.5</td>\n",
       "      <td>1061.0</td>\n",
       "      <td>1635.25</td>\n",
       "      <td>2223.0</td>\n",
       "    </tr>\n",
       "    <tr>\n",
       "      <th>politics</th>\n",
       "      <td>214.0</td>\n",
       "      <td>1113.971963</td>\n",
       "      <td>635.296219</td>\n",
       "      <td>7.0</td>\n",
       "      <td>584.5</td>\n",
       "      <td>1116.5</td>\n",
       "      <td>1641.50</td>\n",
       "      <td>2207.0</td>\n",
       "    </tr>\n",
       "    <tr>\n",
       "      <th>sport</th>\n",
       "      <td>285.0</td>\n",
       "      <td>1089.859649</td>\n",
       "      <td>634.695353</td>\n",
       "      <td>4.0</td>\n",
       "      <td>533.0</td>\n",
       "      <td>1047.0</td>\n",
       "      <td>1642.00</td>\n",
       "      <td>2219.0</td>\n",
       "    </tr>\n",
       "    <tr>\n",
       "      <th>tech</th>\n",
       "      <td>218.0</td>\n",
       "      <td>1177.183486</td>\n",
       "      <td>648.441942</td>\n",
       "      <td>20.0</td>\n",
       "      <td>645.5</td>\n",
       "      <td>1182.5</td>\n",
       "      <td>1757.50</td>\n",
       "      <td>2216.0</td>\n",
       "    </tr>\n",
       "  </tbody>\n",
       "</table>\n",
       "</div>"
      ],
      "text/plain": [
       "              ArticleId                                                \\\n",
       "                  count         mean         std   min    25%     50%   \n",
       "Category                                                                \n",
       "business          263.0  1136.680608  647.030112  19.0  629.5  1124.0   \n",
       "entertainment     212.0  1087.221698  634.933226  10.0  565.5  1061.0   \n",
       "politics          214.0  1113.971963  635.296219   7.0  584.5  1116.5   \n",
       "sport             285.0  1089.859649  634.695353   4.0  533.0  1047.0   \n",
       "tech              218.0  1177.183486  648.441942  20.0  645.5  1182.5   \n",
       "\n",
       "                                \n",
       "                   75%     max  \n",
       "Category                        \n",
       "business       1744.00  2221.0  \n",
       "entertainment  1635.25  2223.0  \n",
       "politics       1641.50  2207.0  \n",
       "sport          1642.00  2219.0  \n",
       "tech           1757.50  2216.0  "
      ]
     },
     "execution_count": 12,
     "metadata": {},
     "output_type": "execute_result"
    }
   ],
   "source": [
    "bbc_train.groupby(\"Category\").describe()"
   ]
  },
  {
   "cell_type": "code",
   "execution_count": 13,
   "metadata": {},
   "outputs": [
    {
     "data": {
      "text/html": [
       "<div>\n",
       "<style scoped>\n",
       "    .dataframe tbody tr th:only-of-type {\n",
       "        vertical-align: middle;\n",
       "    }\n",
       "\n",
       "    .dataframe tbody tr th {\n",
       "        vertical-align: top;\n",
       "    }\n",
       "\n",
       "    .dataframe thead tr th {\n",
       "        text-align: left;\n",
       "    }\n",
       "\n",
       "    .dataframe thead tr:last-of-type th {\n",
       "        text-align: right;\n",
       "    }\n",
       "</style>\n",
       "<table border=\"1\" class=\"dataframe\">\n",
       "  <thead>\n",
       "    <tr>\n",
       "      <th></th>\n",
       "      <th colspan=\"8\" halign=\"left\">ArticleId</th>\n",
       "    </tr>\n",
       "    <tr>\n",
       "      <th></th>\n",
       "      <th>count</th>\n",
       "      <th>mean</th>\n",
       "      <th>std</th>\n",
       "      <th>min</th>\n",
       "      <th>25%</th>\n",
       "      <th>50%</th>\n",
       "      <th>75%</th>\n",
       "      <th>max</th>\n",
       "    </tr>\n",
       "    <tr>\n",
       "      <th>Category</th>\n",
       "      <th></th>\n",
       "      <th></th>\n",
       "      <th></th>\n",
       "      <th></th>\n",
       "      <th></th>\n",
       "      <th></th>\n",
       "      <th></th>\n",
       "      <th></th>\n",
       "    </tr>\n",
       "  </thead>\n",
       "  <tbody>\n",
       "    <tr>\n",
       "      <th>business</th>\n",
       "      <td>73.0</td>\n",
       "      <td>987.712329</td>\n",
       "      <td>688.367140</td>\n",
       "      <td>2.0</td>\n",
       "      <td>334.00</td>\n",
       "      <td>992.0</td>\n",
       "      <td>1516.00</td>\n",
       "      <td>2186.0</td>\n",
       "    </tr>\n",
       "    <tr>\n",
       "      <th>entertainment</th>\n",
       "      <td>61.0</td>\n",
       "      <td>1145.639344</td>\n",
       "      <td>545.982479</td>\n",
       "      <td>38.0</td>\n",
       "      <td>836.00</td>\n",
       "      <td>1183.0</td>\n",
       "      <td>1540.00</td>\n",
       "      <td>2212.0</td>\n",
       "    </tr>\n",
       "    <tr>\n",
       "      <th>politics</th>\n",
       "      <td>60.0</td>\n",
       "      <td>1206.883333</td>\n",
       "      <td>646.007296</td>\n",
       "      <td>14.0</td>\n",
       "      <td>618.75</td>\n",
       "      <td>1280.0</td>\n",
       "      <td>1717.25</td>\n",
       "      <td>2224.0</td>\n",
       "    </tr>\n",
       "    <tr>\n",
       "      <th>sport</th>\n",
       "      <td>61.0</td>\n",
       "      <td>1170.393443</td>\n",
       "      <td>716.768984</td>\n",
       "      <td>18.0</td>\n",
       "      <td>460.00</td>\n",
       "      <td>1163.0</td>\n",
       "      <td>1871.00</td>\n",
       "      <td>2173.0</td>\n",
       "    </tr>\n",
       "    <tr>\n",
       "      <th>tech</th>\n",
       "      <td>43.0</td>\n",
       "      <td>1104.418605</td>\n",
       "      <td>623.895108</td>\n",
       "      <td>184.0</td>\n",
       "      <td>573.50</td>\n",
       "      <td>1022.0</td>\n",
       "      <td>1720.00</td>\n",
       "      <td>2184.0</td>\n",
       "    </tr>\n",
       "  </tbody>\n",
       "</table>\n",
       "</div>"
      ],
      "text/plain": [
       "              ArticleId                                                  \\\n",
       "                  count         mean         std    min     25%     50%   \n",
       "Category                                                                  \n",
       "business           73.0   987.712329  688.367140    2.0  334.00   992.0   \n",
       "entertainment      61.0  1145.639344  545.982479   38.0  836.00  1183.0   \n",
       "politics           60.0  1206.883333  646.007296   14.0  618.75  1280.0   \n",
       "sport              61.0  1170.393443  716.768984   18.0  460.00  1163.0   \n",
       "tech               43.0  1104.418605  623.895108  184.0  573.50  1022.0   \n",
       "\n",
       "                                \n",
       "                   75%     max  \n",
       "Category                        \n",
       "business       1516.00  2186.0  \n",
       "entertainment  1540.00  2212.0  \n",
       "politics       1717.25  2224.0  \n",
       "sport          1871.00  2173.0  \n",
       "tech           1720.00  2184.0  "
      ]
     },
     "execution_count": 13,
     "metadata": {},
     "output_type": "execute_result"
    }
   ],
   "source": [
    "bbc_test.groupby(\"Category\").describe()"
   ]
  },
  {
   "cell_type": "markdown",
   "metadata": {},
   "source": [
    "Después de hacer la partición, vemos que la distribución sigue siendo homogénea."
   ]
  },
  {
   "cell_type": "markdown",
   "metadata": {},
   "source": [
    "## 2) Representación basada en bolsa de palabras y frecuencia de aparición\n",
    "\n",
    "La primera vectorización que vamos a usar representará los mensajes usando el modelo de bolsa de palabras, monogramas y la frecuencia de aparición de cada palabra. Usa como _stop words_ las que vienen configuradas por defecto para el inglés.\n",
    "\n",
    "Aplica la vectorización a los conjuntos de mensajes de entrenamiento y test. Muestra algún mensaje tanto en su formato de texto original como en la versión vectorizada. ¿Qué palabras se han eliminado y por qué?\n",
    "\n",
    "Entrena un clasificador Naive Bayes Multinomial y calcula su tasa de aciertos sobre el conjunto de entrenamiento y el conjunto de test. A continuación calcula los valores de precisión, exhaustividad y puntuación F1 para cada una de las clases. Dibuja la matriz de confusión. Analiza los resultados obtenidos.\n",
    "\n",
    "A continuación, entrena un clasificador k-NN con la configuración por defecto y usando la misma vectorización. Analiza los resultados, ¿a qué crees que se deben?"
   ]
  },
  {
   "cell_type": "code",
   "execution_count": 14,
   "metadata": {},
   "outputs": [],
   "source": [
    "from sklearn.feature_extraction.text import CountVectorizer\n",
    "from sklearn.feature_extraction.text import TfidfTransformer"
   ]
  },
  {
   "cell_type": "code",
   "execution_count": 15,
   "metadata": {},
   "outputs": [],
   "source": [
    "vectorizer = CountVectorizer(stop_words='english', binary=False, ngram_range = (1,1))\n",
    "# Tomamos los textos del conjunto de entrenamiento y los transformamos en \n",
    "# una matriz de datos (palabras) según el diccionario estándar\n",
    "train_vector_data=vectorizer.fit_transform(bbc_train['Text'])"
   ]
  },
  {
   "cell_type": "code",
   "execution_count": 16,
   "metadata": {},
   "outputs": [],
   "source": [
    "# Tomamos los textos del conjunto de test y los transformamos en una matriz\n",
    "# de palabras. Al usar \"transform\" toma como referencia únicamente las palabras\n",
    "# encontradas en el conjunto de entrenamiento\n",
    "test_vector_data=vectorizer.transform(bbc_test['Text'])"
   ]
  },
  {
   "cell_type": "code",
   "execution_count": 17,
   "metadata": {},
   "outputs": [
    {
     "name": "stdout",
     "output_type": "stream",
     "text": [
      "22201\n",
      "['00', '000', '000bn', '000m', '000th', '001', '001and', '001st', '0051', '007', '01', '0100', '0130', '028', '03', '033', '04', '041', '04bn', '04secs', '05', '050', '050505', '0530', '0530gmt', '056', '05bn', '05m', '06', '0630', '069', '07', '070', '0710', '072', '0730', '08', '080', '0870', '088', '09', '0900', '093', '0950', '09bn', '09secs', '10', '100', '1000th', '100bn', '100m', '100ml', '101', '102', '103', '104', '105', '105bn', '105m', '106', '107', '108', '1080', '109', '10bn', '10ft', '10m', '10secs', '10th', '11', '110', '1100', '110m', '110th', '111', '1115', '111m', '112', '113', '1130', '1130p', '113bn', '115', '116', '116i', '117', '117m', '118', '119', '119bn', '119m', '11bn', '11m', '11pm', '11th', '12', '120', '1200', '1200m', '120gb', '120m', '121', '1215', '1230', '125', '125m', '126', '127th', '128', '12a', '12bn', '12cm', '12m', '12th', '13', '130', '1300', '130m', '132', '133', '1337', '134', '135', '136', '137', '138m', '139', '13bn', '13m', '13s', '13secs', '13th', '14', '140', '140bn', '142bn', '1430', '143m', '144', '144m', '145', '146m', '148', '149', '1497', '14bn', '14m', '14th', '15', '150', '1500', '1500m', '150m', '150th', '151', '152', '152m', '153', '154m', '155', '156m', '157', '158', '158th', '159', '15bn', '15m', '15mbps', '15s', '15th', '16', '160', '1600', '1600s', '1606', '160gb', '160m', '161', '162', '162bn', '162m', '163', '1642', '165', '1650', '166', '167', '1670', '168', '1689', '169', '16bn', '16k', '16m', '16th', '17', '170', '1700', '1701', '170m', '171', '1727', '1728', '173', '1731', '173m', '174', '175', '175m', '1761', '177', '1774', '1776', '178', '178m', '17bn', '17m', '17th', '18', '180', '1800s', '1801', '180bn', '1812', '1815', '182', '1830', '1831', '1834', '184', '1848', '184m', '185', '1857', '186', '1865', '186m', '187', '1870', '1875', '187m', '187th', '188', '1888', '189', '1891', '1893', '18bn', '18m', '18s', '18th', '19', '190', '1900', '1903', '1905', '1908', '190m', '191', '1910', '1911', '1912', '1915', '1917', '191m', '192', '1920', '1921', '1922', '1924', '1925', '1927', '1928', '1929', '193', '1930', '1930s', '1934', '1935', '1936', '1937', '1938', '1939', '1940', '1940s', '1942', '1943', '1944', '1945', '1946', '1947', '1948', '194m', '195', '1950', '1950s', '1951', '1952', '1953', '1954', '1955', '1956', '1957', '1958', '196', '1960', '1960s', '1961', '1962', '1963', '1964', '1965', '1966', '1967', '1968', '1969', '196m', '1970', '1970s', '1971', '1972', '1973', '1974', '1975', '1976', '1977', '1978', '1979', '197bn', '198', '1980', '1980s', '1981', '1982', '1983', '1984', '1985', '1986', '1987', '1988', '1989', '198m', '1990', '1990s', '1991', '1992', '1993', '1994', '1995', '1996', '1997', '1998', '1999', '19bn', '19m', '19secs', '19th', '1bn', '1m', '1st', '20', '200', '2000', '2001', '2001fetched', '2002', '2003', '2004', '2005', '2006', '2007', '2008', '2009', '200bn', '200lr', '200m', '2010', '2011', '2012', '2013', '2014', '2015', '2018', '2019', '2020', '2022', '2025', '203', '2048', '204m', '205', '2050', '206', '206m', '20bn', '20gb', '20m', '20mbps', '20p', '20s', '20th', '21', '210', '2100', '211', '216', '217', '219', '21bn', '21m', '21st', '22', '2200', '220m', '2230gmt', '225', '226', '227', '229', '22bn', '22m', '22nd', '23', '230', '2300', '230m', '231m', '233', '2340', '234m', '239', '23bn', '23m', '23rd', '24', '240', '242', '245m', '246', '246bn', '247p', '24bn', '24m', '24th', '25', '250', '2500', '250m', '253m', '256mb', '258', '258bn', '25bn', '25gbps', '25lb', '25m', '25p', '25th', '26', '262', '264th', '265', '266m', '267', '268', '26m', '26th', '27', '270', '271', '271st', '272', '273', '274', '275', '276', '277', '277th', '27bn', '27m', '27th', '28', '280', '280m', '281m', '282', '284m', '2871', '28bn', '28th', '29', '290', '290m', '291', '291m', '292', '293', '294', '2940', '296', '297', '2974', '29a', '29bn', '29m', '2am', '2bn', '2d', '2d3', '2ft', '2g', '2gb', '2k', '2km', '2kw', '2m', '2mbps', '2nd', '30', '300', '3000', '300bn', '300m', '300p', '301', '3040', '305', '305m', '306', '308m', '30bn', '30gb', '30m', '30mg', '30mph', '31', '312', '313', '314', '31bn', '31p', '32', '320', '320kg', '320m', '3218', '322m', '3230', '324', '325', '325m', '327', '327m', '3280', '328m', '329', '32bn', '32m', '32nd', '33', '337', '339', '339m', '33bn', '33rd', '34', '340', '348bn', '349', '349m', '34bn', '34th', '35', '350', '3509', '350m', '3516', '357', '35bn', '35m', '35mm', '35th', '36', '360', '365m', '367', '368bn', '36bn', '36m', '36th', '37', '370', '370m', '372', '374m', '375', '377bn', '379m', '37bn', '38', '380m', '382m', '385', '387m', '38mph', '39', '392', '398m', '399', '39bn', '39m', '3ami', '3bn', '3c', '3d', '3g', '3gp', '3gsm', '3km', '3m', '3rds', '3x', '40', '400', '40052308090', '400m', '400th', '402', '404', '407th', '40bn', '40gb', '40m', '40mbps', '40mph', '40s', '41', '412bn', '413', '415m', '418bn', '41bn', '41m', '42', '420', '424m', '425', '426m', '428m', '42bn', '42m', '42nd', '43', '431m', '433', '434m', '436', '43m', '44', '440', '443m', '444', '449', '44bn', '45', '450', '451m', '455', '458', '458m', '45bn', '45pm', '45secs', '45th', '46', '464', '465', '466', '469', '46m', '46secs', '47', '474', '475m', '479m', '47m', '48', '480', '484bn', '4850', '486', '487', '488', '48bn', '48m', '48th', '49', '492m', '496', '499', '49m', '4bn', '4cm', '4gb', '4ghz', '4in', '4km', '4m', '4p', '4th', '4x100m', '50', '500', '5000', '5000m', '500m', '506m', '508m', '50gb', '50m', '50mg', '50p', '50pc', '50th', '51', '512', '512kbps', '512m', '512mb', '514', '514m', '51bn', '51secs', '52', '520', '521', '522', '527', '529', '52m', '52nd', '53', '530', '532m', '535', '537bn', '538', '53bn', '53m', '53p', '54', '540m', '542', '544', '546', '546m', '548p', '54bn', '54m', '54th', '55', '550', '550m', '556', '55bn', '55s', '56', '560', '563', '569', '56bn', '56m', '57', '570', '57bn', '58', '581m', '584m', '58bn', '59', '590', '59th', '5bn', '5g', '5gb', '5ive', '5k', '5m', '5p', '60', '600', '600m', '603', '607', '60bn', '60gb', '60m', '60p', '60secs', '60th', '61', '610m', '61km', '61m', '61st', '62', '625', '62secs', '63', '630m', '635', '639m', '63m', '63rd', '63secs', '64', '642', '644m', '645', '648m', '64secs', '65', '650', '659', '65bn', '65s', '66', '660', '6600', '660m', '661', '667', '66m', '66secs', '67', '6709', '671', '674', '67th', '68', '680', '680m', '68m', '69', '690', '690m', '691m', '6bn', '6ft', '6gb', '6ghz', '6in', '6km', '6m', '6pm', '70', '700', '705m', '70m', '70p', '70s', '70th', '71', '713', '717', '717m', '719m', '72', '720', '725m', '72m', '73', '730', '732m', '733', '737', '73m', '74', '740', '745', '74m', '75', '750', '750m', '755', '75bn', '75m', '75p', '76', '761m', '767', '768m', '76m', '77', '7710', '775', '775m', '777', '77th', '78', '780', '784m', '785m', '787', '78bn', '79', '796', '797p', '799', '79th', '7bn', '7m', '80', '800', '800m', '803', '805', '808m', '80bn', '80gb', '80m', '80mg', '80p', '80s', '81', '813', '814', '815', '82', '820', '825', '82bn', '83', '830bn', '831', '833', '836m', '838th', '84', '840', '84th', '85', '850', '850bn', '850m', '855bn', '857m', '85m', '86', '861m', '865', '86bn', '86m', '86th', '87', '870', '873p', '874', '874m', '875', '87bn', '87th', '88', '881', '88m', '88th', '89', '8923', '89bn', '89m', '89secs', '89th', '8am', '8bn', '8gb', '8ghz', '8m', '8mbps', '90', '900', '900m', '902', '906', '907', '9094', '90s', '90th', '91', '910m', '911', '912km', '915', '91m', '92', '920', '922', '924', '925p', '93', '931m', '933m', '939', '93rd', '94', '940', '943', '95', '950', '950m', '950p', '953', '957', '95bn', '95m', '96', '966m', '97', '971', '975', '97bn', '97m', '98', '980m', '984m', '98bn', '98m', '98th', '99', '997', '999', '999th', '9bn', '9km', '9m', '9p', 'a300s', 'a320', 'a380', 'a380s', 'a4', 'aa', 'aaa', 'aaas', 'aac', 'aadc', 'aaliyah', 'aamir', 'aaron', 'abacus', 'abandon', 'abandoned', 'abandoning', 'abandonment', 'abbas', 'abbasi', 'abbott', 'abc', 'abd', 'abdellatif', 'abdication', 'abdomen', 'abdominal', 'abducted', 'abduction', 'abdullah', 'abdullatif', 'abebe', 'aberdeen', 'aberration', 'aberystwyth', 'abeyance', 'abeyie', 'abhorrent', 'abi', 'abide', 'abided', 'abiding', 'abigail', 'abilities', 'ability', 'able', 'abn', 'abnormal', 'abolish', 'abolishing', 'abolition', 'aborted', 'abortion', 'abortionist', 'abramovich', 'abroad', 'abrupt', 'absa', 'absence', 'absent', 'absentee', 'absolute', 'absolutely', 'absorb', 'absorbed', 'absorbing', 'absorbs', 'abstain', 'abstentions', 'absurd', 'abtahi', 'abu', 'abundance', 'abundantly', 'abuse', 'abused', 'abuses', 'abusing', 'abusive', 'abut', 'abuzz', 'abysmal', 'ac', 'academic', 'academics', 'academie', 'academies', 'academy', 'acapulco', 'accelerate', 'accelerated', 'accelerating', 'acceleration', 'accelerator', 'accept', 'acceptable', 'acceptance', 'acceptances', 'accepted', 'accepting', 'accepts', 'access', 'accessed', 'accessible', 'accessing', 'accession', 'accessory', 'accident', 'accidental', 'accidentally', 'accidently', 'accidents', 'acclaim', 'acclaimed', 'acclimate', 'acclimatise', 'accolade', 'accolades', 'accommodate', 'accommodated', 'accommodating', 'accommodation', 'accompanied', 'accompaniment', 'accompany', 'accompanying', 'accomplices', 'accomplish', 'accomplished', 'accomplishment', 'accordance', 'according', 'accordingly', 'accosiation', 'account', 'accountability', 'accountable', 'accountancy', 'accountant', 'accountants', 'accounted', 'accounting', 'accounts', 'accoustic', 'accra', 'accredited', 'accretive', 'accumulate', 'accumulated', 'accumulates', 'accumulator', 'accuracy', 'accurate', 'accurately', 'accusation', 'accusations', 'accuse', 'accused', 'accusing', 'accustomed', 'ace', 'aceh', 'aces', 'achievable', 'achieve', 'achieved', 'achievement', 'achievements', 'achieving', 'achike', 'achilles', 'achtung', 'acid', 'acknowledge', 'acknowledged', 'acknowledges', 'acne', 'acoustic', 'acpo', 'acquainted', 'acquiescent', 'acquire', 'acquired', 'acquiring', 'acquisition', 'acquisitions', 'acquittal', 'acquitted', 'acre', 'acres', 'acrimonious', 'acrimony', 'acrobatic', 'acrobatically', 'act', 'acted', 'acting', 'action', 'actionaid', 'actions', 'activate', 'activated', 'active', 'actively', 'activision', 'activison', 'activist', 'activists', 'activities', 'activity', 'actor', 'actors', 'actress', 'actresses', 'acts', 'actual', 'actually', 'acute', 'ad', 'adage', 'adair', 'adam', 'adamant', 'adamind', 'adams', 'adapt', 'adaptation', 'adaptations', 'adapted', 'adapter', 'adapters', 'adaptibility', 'adapting', 'adaptor', 'adaptors', 'adarsh', 'adb', 'add', 'addaction', 'added', 'addictive', 'addicts', 'adding', 'addink', 'addison', 'addition', 'additional', 'additionally', 'address', 'addressed', 'addresses', 'addressing', 'adds', 'adductor', 'adelaide', 'adept', 'adequate', 'adequately', 'adera', 'adere', 'adhere', 'adherence', 'adheres', 'adjudged', 'adjudicator', 'adjust', 'adjusted', 'adjusting', 'adjustments', 'adjusts', 'administer', 'administered', 'administering', 'administration', 'administrations', 'administrative', 'administrator', 'administrators', 'admirable', 'admiration', 'admire', 'admired', 'admirer', 'admission', 'admissions', 'admit', 'admits', 'admittance', 'admitted', 'admittedly', 'admitting', 'admonished', 'adnan', 'ado', 'adolescent', 'adolf', 'adopt', 'adopted', 'adopters', 'adopting', 'adoption', 'adoptive', 'adrian', 'adriano', 'adriatic', 'adrien', 'adroit', 'ads', 'adsense', 'adsl', 'adulation', 'adult', 'adultery', 'adulthood', 'adults', 'advance', 'advanced', 'advancement', 'advances', 'advancing', 'advanta', 'advantage', 'advantages', 'advent', 'adventure', 'adventures', 'adventurous', 'adverse', 'adversely', 'adversity', 'advert', 'advertise', 'advertised', 'advertisements', 'advertiser', 'advertisers', 'advertising', 'adverts', 'advice', 'advise', 'advised', 'adviser', 'advisers', 'advises', 'advising', 'advisor', 'advisors', 'advisory', 'advocate', 'advocated', 'advocates', 'adware', 'ae', 'aero', 'aeronautics', 'aeroplane', 'aerosmith', 'aerospace', 'aesthetic', 'aesthetically', 'aesthetics', 'affair', 'affairs', 'affect', 'affected', 'affecting', 'affection', 'affectionately', 'affects', 'afficiandos', 'affiliate', 'affiliates', 'afflicting', 'afford', 'affordable', 'afforded', 'afful', 'afghanistan', 'afi', 'afloat', 'afoot', 'afraid', 'africa', 'african', 'africans', 'aftenposten', 'afterlife', 'aftermath', 'afternoon', 'aftewards', 'afzal', 'ag', 'agassi', 'age', 'aged', 'ageing', 'ageism', 'agence', 'agencies', 'agency', 'agenda', 'agendas', 'agent', 'agents', 'ages', 'aggravated', 'aggravating', 'aggregator', 'aggregators', 'aggression', 'aggressive', 'aggressively', 'aggressors', 'aggrieved', 'aging', 'agio', 'agitated', 'agm', 'agnelli', 'agnostic', 'ago', 'agoa', 'agonising', 'agonisingly', 'agony', 'agrarian', 'agree', 'agreed', 'agreeing', 'agreement', 'agreements', 'agrees', 'agricultural', 'agriculture', 'agrochemical', 'agroflora', 'aguilera', 'agustin', 'agyemang', 'ahead', 'ahmed', 'ahold', 'ai', 'aid', 'aidan', 'aide', 'aided', 'aiden', 'aides', 'aids', 'aig', 'ailing', 'aim', 'aimed', 'aiming', 'aimlessly', 'aims', 'air', 'airbus', 'aircraft', 'aired', 'aires', 'airing', 'airline', 'airliner', 'airliners', 'airlines', 'airplane', 'airplanes', 'airplay', 'airport', 'airports', 'airtime', 'airways', 'aishwariya', 'aishwarya', 'aisle', 'aitken', 'aiyegbeni', 'aizlewood', 'aj', 'ajax', 'ak', 'aka', 'akaev', 'akamai', 'akhmetov', 'akin', 'akon', 'al', 'alabama', 'aladdin', 'alain', 'alamos', 'alan', 'alarm', 'alarmed', 'alarming', 'alarmingly', 'alarms', 'alasdair', 'alastair', 'albacete', 'albania', 'albanian', 'albany', 'albee', 'albeit', 'albert', 'alberto', 'albion', 'album', 'albums', 'alcatel', 'alcohol', 'alcoholism', 'alcorn', 'alda', 'aldershot', 'alegre', 'alejandro', 'alencar', 'alert', 'alerted', 'alerting', 'alerts', 'alessandro', 'alex', 'alexander', 'alexandra', 'alexandria', 'alexis', 'alfa', 'alfie', 'alfonso', 'alfred', 'algeria', 'algerian', 'algorithm', 'algorithms', 'ali', 'alias', 'aliases', 'alice', 'alicia', 'alien', 'aliens', 'alight', 'align', 'aligned', 'alike', 'alison', 'alistair', 'alita', 'alive', 'allahgreen', 'allaire', 'allan', 'allander', 'allard', 'allardyce', 'allawi', 'allaying', 'allegation', 'allegations', 'allege', 'alleged', 'allegedly', 'alleges', 'allegiance', 'allegiances', 'alleging', 'allen', 'allende', 'alleviate', 'alley', 'alleyne', 'alli', 'alliance', 'alliances', 'allianz', 'allied', 'allies', 'allister', 'allocated', 'allocation', 'allocations', 'allotting', 'allow', 'allowance', 'allowances', 'alloway', 'allowed', 'allowing', 'allows', 'allsop', 'alltel', 'alludes', 'alluding', 'ally', 'almagro', 'almeria', 'almodovar', 'almunia', 'alongside', 'alonso', 'aloud', 'alphabet', 'alphabetically', 'alphabets', 'alright', 'altavista', 'alter', 'altered', 'altering', 'alternative', 'alternatively', 'alternatives', 'alto', 'altogether', 'alton', 'aluminium', 'alumnia', 'alun', 'alva', 'alwaleed', 'alyn', 'alyona', 'alzheimer', 'am3d', 'amadeo', 'amalgamated', 'amalric', 'amanda', 'amassed', 'amateur', 'amateurish', 'amateurs', 'amaya', 'amazed', 'amazes', 'amazing', 'amazingly', 'amazon', 'ambassador', 'ambassadors', 'amber', 'ambev', 'ambient', 'ambition', 'ambitions', 'ambitious', 'ambitous', 'ambo', 'ambushed', 'amd', 'amelia', 'amelie', 'amenabar', 'amend', 'amended', 'amending', 'amendment', 'amendments', 'amends', 'amenity', 'america', 'american', 'americanised', 'americans', 'americas', 'ames', 'amey', 'amibitions', 'amicably', 'amicus', 'amid', 'amidst', 'amiga', 'amin', 'amitabh', 'amma', 'amman', 'ammunition', 'amnesty', 'amoeba', 'amor', 'amounted', 'amounting', 'amounts', 'ampadu', 'ampas', 'amplification', 'amplified', 'amplifier', 'amplifies', 'amplify', 'amply', 'amputated', 'amputators', 'amputee', 'amputees', 'amr', 'amro', 'amsterdam', 'amuro', 'amusing', 'amy', 'ana', 'anabolic', 'anakin', 'analgesic', 'analogue', 'analyse', 'analysed', 'analysis', 'analyst', 'analysts', 'analyzing', 'anastacia', 'anastasia', 'anatomical', 'ancelotti', 'ancestors', 'anchor', 'ancic', 'ancient', 'ancillary', 'ancram', 'anders', 'andersen', 'anderson', 'anderton', 'andhra', 'andrade', 'andre', 'andrea', 'andreas', 'andreev', 'andrei', 'andrew', 'andrews', 'andriy', 'andy', 'anelka', 'aneurysm', 'anew', 'anfield', 'angadias', 'angel', 'angela', 'angeles', 'angelina', 'angels', 'anger', 'angering', 'angle', 'angled', 'anglers', 'anglesea', 'anglia', 'anglicans', 'angling', 'anglo', 'angola', 'angrily', 'angry', 'angst', 'angus', 'anheuser', 'animal', 'animals', 'animate', 'animated', 'animation', 'animations', 'animator', 'animosity', 'aniston', 'anita', 'anjelica', 'ankle', 'ann', 'anna', 'annabelle', 'annadale', 'annals', 'annan', 'anne', 'annette', 'annie', 'anniversaries', 'anniversary', 'annoucement', 'announce', 'announced', 'announcement', 'announcements', 'announces', 'announcing', 'annoyance', 'annoyingly', 'annoys', 'annual', 'annualised', 'annually', 'annuity', 'annul', 'annum', 'annus', 'anoeta', 'anomalies', 'anomaly', 'anonymous', 'anonymously', 'anouncing', 'anselmo', 'ansheng', 'anshuman', 'anson', 'answer', 'answered', 'answers', 'ant', 'antagonistic', 'antenna', 'anthemic', 'anthony', 'anti', 'antibacterial', 'anticipate', 'anticipated', 'anticipating', 'anticipation', 'antiques', 'antiseptics', 'antithesis', 'antitrust', 'antoine', 'antoinette', 'anton', 'antonia', 'antonio', 'antony', 'antrim', 'anurag', 'anxiety', 'anxious', 'anybody', 'anyhting', 'anymore', 'aol', 'ap', 'apace', 'apache', 'apacs', 'apart', 'apartheid', 'apathetic', 'apathy', 'apcom', 'apiece', 'aplomb', 'apocalypse', 'apollo', 'apologise', 'apologised', 'apology', 'appalled', 'appalling', 'apparatus', 'apparel', 'apparent', 'apparently', 'appeal', 'appealed', 'appealing', 'appeals', 'appear', 'appearance', 'appearances', 'appeared', 'appearing', 'appears', 'appetite', 'applauded', 'applause', 'apple', 'appleford', 'applegate', 'apples', 'appleton', 'appliance', 'appliances', 'applicant', 'applicants', 'application', 'applications', 'applied', 'applies', 'apply', 'applying', 'appoint', 'appointed', 'appointment', 'appointments', 'appoints', 'appraisal', 'appraising', 'appreciably', 'appreciate', 'appreciation', 'apprehended', 'apprehension', 'apprentices', 'apprenticeship', 'approach', 'approached', 'approaches', 'approaching', 'appropriate', 'appropriately', 'approval', 'approvals', 'approve', 'approved', 'approximately', 'approximation', 'apps', 'april', 'apurva', 'aquatic', 'ar', 'arab', 'arabia', 'arabian', 'arabic', 'arabs', 'arafat', 'aragones', 'aramaic', 'aramburu', 'arash', 'arbitrarily', 'arbitrary', 'arbitration', 'arbor', 'arbuckle', 'arcade', 'arcades', 'arcelor', 'arch', 'archaeological', 'archangel', 'archbishop', 'archer', 'archibald', 'architect', 'architecture', 'archive', 'archived', 'archives', 'archivists', 'archos', 'arcleor', 'arcy', 'ard', 'ardent', 'arditti', 'area', 'areas', 'areen', 'aren', 'arena', 'arenas', 'aretha', 'argentina', 'argentine', 'argonaut', 'arguably', 'argue', 'argued', 'argues', 'arguing', 'argument', 'argumentative', 'arguments', 'aria', 'ariel', 'arise', 'arisen', 'arising', 'arizona', 'arjan', 'arjen', 'ark', 'arkansas', 'arling', 'arlington', 'arm', 'armagh', 'armando', 'armani', 'armed', 'armenians', 'armentieres', 'armes', 'armour', 'armoury', 'arms', 'armstrong', 'army', 'arnaud', 'arne', 'arnesen', 'arnold', 'aroused', 'arouses', 'arpey', 'arquette', 'arrange', 'arranged', 'arrangement', 'arrangements', 'array', 'arrese', 'arrest', 'arrested', 'arrests', 'arrival', 'arrivals', 'arrive', 'arrived', 'arrives', 'arriving', 'arrogance', 'arrogant', 'arrogantly', 'arsenal', 'arsene', 'arsenide', 'art', 'artell', 'artery', 'arteta', 'artgarden', 'arthritis', 'arthur', 'artic', 'article', 'articles', 'articulate', 'articulated', 'artificial', 'artificially', 'artist', 'artistic', 'artistry', 'artists', 'artois', 'arts', 'artwork', 'artworks', 'aru', 'arvind', 'asagoe', 'asahi', 'asante', 'ascend', 'ascenders', 'ascending', 'ascii', 'ashamed', 'ashanti', 'ashburton', 'ashcroft', 'ashdown', 'ashes', 'ashfield', 'ashley', 'ashton', 'ashvin', 'asi', 'asia', 'asian', 'asians', 'aside', 'asif', 'asimo', 'ask', 'askar', 'asked', 'asking', 'asks', 'asleep', 'aspect', 'aspects', 'aspersions', 'aspic', 'aspiration', 'aspiring', 'asplin', 'ass', 'assad', 'assassin', 'assassinated', 'assassination', 'assault', 'assaulted', 'assaults', 'assembled', 'assembling', 'assembly', 'assert', 'assertion', 'assertions', 'assertiveness', 'asserts', 'asses', 'assess', 'assessed', 'assesses', 'assessing', 'assessment', 'assessments', 'assessor', 'asset', 'assets', 'assigned', 'assigns', 'assist', 'assistance', 'assistant', 'assistants', 'assisted', 'assisting', 'associate', 'associated', 'associates', 'association', 'associations', 'assortment', 'assume', 'assumed', 'assumes', 'assuming', 'assumption', 'assumptions', 'assurance', 'assurances', 'assure', 'assured', 'asteroid', 'aston', 'astonished', 'astonishing', 'astonishingly', 'astonishment', 'astoria', 'astra', 'astro', 'astronauts', 'astronomical', 'asylum', 'asymmetric', 'asymmetry', 'atari', 'ate', 'athens', 'athlete', 'athletes', 'athletic', 'athleticism', 'athletico', 'athletics', 'athlon', 'atinc', 'atkinson', 'atlanta', 'atlantic', 'atlas', 'atletico', 'atmosphere', 'atmospheric', 'atomic', 'atoms', 'aton', 'atp', 'atr', 'att', 'attached', 'attachment', 'attachments', 'attack', 'attacked', 'attacker', 'attackers', 'attacking', 'attacks', 'attaining', 'attainment', 'attallah', 'attempt', 'attempted', 'attempting', 'attempts', 'attend', 'attendance', 'attendances', 'attendant', 'attendants', 'attended', 'attendees', 'attending', 'attends', 'attention', 'attentions', 'attentive', 'atticus', 'attitude', 'attitudes', 'attlee', 'attorney', 'attract', 'attracted', 'attracting', 'attraction', 'attractions', 'attractive', 'attracts', 'attributable', 'attribute', 'attributed', 'attributes', 'atwood', 'au', 'auckland', 'auction', 'auctioned', 'auctioneer', 'auctions', 'audi', 'audience', 'audiences', 'audio', 'audiophile', 'audiovisuel', 'audit', 'audited', 'audition', 'auditions', 'auditor', 'auditorium', 'auditors', 'audrey', 'auf', 'augment', 'augmented', 'august', 'augusto', 'aulis', 'aunt', 'aura', 'aurelien', 'auric', 'aurora', 'auschwitz', 'aussie', 'aussies', 'austin', 'australia', 'australian', 'austria', 'austrian', 'auteuil', 'authenti', 'authentic', 'authentication', 'author', 'authorise', 'authorised', 'authorises', 'authorising', 'authoritarian', 'authoritative', 'authorities', 'authority', 'authors', 'autistic', 'auto', 'autobiographical', 'autobiography', 'autocycle', 'autographs', 'autolink', 'autolinks', 'automated', 'automatic', 'automatically', 'automobile', 'automobiles', 'automotive', 'automotives', 'autosport', 'autumn', 'auvergne', 'auxerre', 'auxiliary', 'av400', 'availability', 'available', 'avalanche', 'avalon', 'avatar', 'avatars', 'avenue', 'avenues', 'average', 'averages', 'averaging', 'avert', 'averting', 'avery', 'avg', 'avi', 'aviation', 'aviator', 'avid', 'avions', 'aviv', 'avoid', 'avoided', 'avoiding', 'avoids', 'avonex', 'avril', 'await', 'awaited', 'awaiting', 'awaits', 'awakening', 'award', 'awarded', 'awarding', 'awards', 'aware', 'awareness', 'away', 'awe', 'awesome', 'awful', 'awkward', 'awol', 'axa', 'axe', 'axed', 'axing', 'aycock', 'aymone', 'aynsley', 'azim', 'azkaban', 'azmat', 'aznavour', 'azzam', 'azzurri', 'baa', 'baas', 'baathist', 'babacan', 'babayaro', 'babies', 'babinet', 'baby', 'babyshamblers', 'babyshambles', 'babysitter', 'babysitting', 'bac', 'baccarat', 'bach', 'bachchan', 'backbench', 'backbencher', 'backbenchers', 'backbenches', 'backbone', 'backdated', 'backdoor', 'backdrop', 'backed', 'backer', 'backers', 'backfired', 'backfires', 'background', 'backgrounds', 'backhand', 'backhands', 'backing', 'backlash', 'backley', 'backline', 'backpack', 'backroom', 'backs', 'backside', 'backsides', 'backsliding', 'backstage', 'backstreet', 'backtrack', 'backtracking', 'backup', 'backward', 'backwards', 'bacon', 'bad', 'baddeley', 'badge', 'badly', 'bae', 'bafana', 'baffled', 'bafin', 'bafta', 'baftas', 'bag', 'bagged', 'baggins', 'baghdad', 'bagle', 'baglihar', 'bagnato', 'bags', 'baha', 'bahamas', 'baht', 'baikal', 'bail', 'bailey', 'bailin', 'bailout', 'bainivalu', 'baiting', 'baker', 'bakersfield', 'bakley', 'balado', 'balance', 'balanced', 'balancing', 'balco', 'balde', 'baldini', 'baldrick', 'balfour', 'balkan', 'balkans', 'balked', 'ball', 'ballad', 'ballboy', 'ballerina', 'ballerinas', 'ballet', 'ballets', 'balloch', 'balloon', 'ballooned', 'ballooning', 'ballot', 'balloted', 'balloting', 'ballots', 'balls', 'ballymena', 'balmer', 'balmy', 'baltacha', 'baltasar', 'bamboozled', 'ban', 'bana', 'banca', 'band', 'bandaid', 'banded', 'banderas', 'bandmates', 'bands', 'bandstand', 'bandwagon', 'bandwidth', 'bang', 'bangaldesh', 'bangalore', 'banging', 'bangkok', 'bangladesh', 'bangladeshi', 'bangor', 'banished', 'banjo', 'bank', 'bankable', 'bankash', 'banked', 'banker', 'bankers', 'banking', 'bankroll', 'bankrupt', 'bankruptcy', 'banks', 'bannatyne', 'banned', 'banner', 'banning', 'banos', 'banque', 'banques', 'banquet', 'bans', 'banter', 'banton', 'baoshan', 'bar', 'barbados', 'barbara', 'barbarians', 'barber', 'barbini', 'barbra', 'barca', 'barcelona', 'barclay', 'barclays', 'barcode', 'bardem', 'bare', 'barely', 'baretta', 'bargain', 'bargains', 'barged', 'baring', 'barings', 'bark', 'barker', 'barking', 'barkley', 'barley', 'barlow', 'barn', 'barnard', 'barnes', 'barnet', 'barnett', 'barney', 'barnsley', 'baroness', 'baros', 'barr', 'barrage', 'barras', 'barratie', 'barred', 'barrel', 'barrels', 'barrick', 'barrier', 'barriers', 'barring', 'barrioneuvo', 'barrionuevo', 'barrister', 'barron', 'barroso', 'barry', 'barrymore', 'bars', 'bartering', 'bartoli', 'barton', 'barwick', 'bas', 'base', 'based', 'basel', 'baseline', 'basement', 'bases', 'bash', 'bashing', 'basic', 'basically', 'basics', 'basildon', 'basing', 'basingstoke', 'basis', 'basketball', 'basking', 'basque', 'basquiat', 'basra', 'bass', 'bassist', 'bastille', 'bat', 'batch', 'batches', 'bateman', 'bates', 'bath', 'bathroom', 'batie', 'batistuta', 'batman', 'battalion', 'batter', 'battered', 'batteries', 'battering', 'battery', 'battle', 'battled', 'battlefield', 'battlefront', 'battlefronts', 'battleground', 'battlegrounds', 'battles', 'battleship', 'battling', 'bautista', 'baweja', 'baxter', 'bay', 'bayer', 'bayern', 'baying', 'bayleaf', 'bays', 'baywatch', 'bb', 'bba', 'bbb', 'bbc', 'bbc1', 'bbc2', 'bbci', 'bcc', 'bdb', 'bdo', 'beach', 'beaches', 'beachgoer', 'beacon', 'beads', 'beagles', 'beam', 'bean', 'bear', 'beard', 'beardsley', 'bearer', 'bearing', 'bears', 'beast', 'beastie', 'beat', 'beatable', 'beaten', 'beating', 'beatings', 'beatle', 'beatles', 'beats', 'beattie', 'beatty', 'beaumont', 'beautiful', 'beauty', 'beauvillian', 'bebo', 'bechtel', 'bechtler', 'beck', 'beckett', 'beckham', 'beckhams', 'beckinsale', 'beckon', 'beckons', 'bed', 'bedding', 'bedell', 'bedford', 'bedingfield', 'bedroom', 'beds', 'bedsits', 'bee', 'beef', 'beefing', 'beeks', 'beenie', 'beer', 'beermaker', 'beers', 'beetle', 'began', 'begg', 'beggared', 'begging', 'begin', 'beginning', 'beginnings', 'begins', 'begrudge', 'begun', 'beh', 'behalf', 'behave', 'behaved', 'behaving', 'behaviour', 'behavioural', 'beheaded', 'behemoth', 'beige', 'beijing', 'beijingers', 'beileve', 'beings', 'beirut', 'beith', 'bejewelled', 'bekele', 'belafonte', 'beleaguered', 'belfast', 'belgian', 'belgians', 'belgium', 'belgrade', 'belgrave', 'belief', 'beliefs', 'believable', 'believe', 'believed', 'believer', 'believes', 'believing', 'belinda', 'belisha', 'bell', 'bellahouston', 'bellamy', 'belle', 'bellicose', 'bellion', 'bells', 'belly', 'belmar', 'belmarsh', 'beloned', 'belong', 'belonged', 'belonging', 'belongings', 'belongs', 'beloved', 'belsen', 'belt', 'bemand', 'bemoaning', 'ben', 'benazir', 'bench', 'benches', 'benchmark', 'benchmarking', 'benchmarks', 'benckiser', 'bend', 'bending', 'benefactors', 'beneficial', 'beneficiaries', 'benefit', 'benefited', 'benefiting', 'benefits', 'benesova', 'benign', 'bening', 'benita', 'benitez', 'benjamin', 'benn', 'bennallack', 'bennett', 'bennington', 'benny', 'benoit', 'bent', 'benz', 'berated', 'berbatov', 'berdych', 'beresford', 'bergamasco', 'berger', 'bergerac', 'bergh', 'bergkamp', 'bergman', 'berhane', 'berhanu', 'beringer', 'berkeley', 'berkovic', 'berlin', 'berlinale', 'berlusconi', 'berman', 'bernabeu', 'bernal', 'bernard', 'bernardo', 'bernath', 'bernd', 'bernie', 'berry', 'bershawn', 'berson', 'bert', 'berta', 'bertelsmann', 'berth', 'berthinussen', 'berti', 'beset', 'bespoke', 'best', 'bestow', 'bests', 'bestseller', 'bestselling', 'bet', 'beta', 'betamax', 'bethnal', 'betrayal', 'betrayed', 'betraying', 'bets', 'betsen', 'better', 'bettered', 'betting', 'betts', 'bevan', 'beverly', 'bewildered', 'bewildering', 'bewilderment', 'bewlay', 'bex', 'beyonce', 'bez', 'bhanu', 'bharti', 'bhi', 'bhp', 'bhutto', 'biarritz', 'bias', 'biased', 'bible', 'biblical', 'bibliographies', 'bicester', 'bickering', 'bicycles', 'bid', 'bidder', 'bidders', 'bidding', 'bide', 'bids', 'bifa', 'big', 'bigger', 'biggest', 'bigley', 'bigoted', 'bigotry', 'bigots', 'bike', 'bilateral', 'bilingual', 'biljon', 'billboard', 'billboards', 'billed', 'billing', 'billingsgate', 'billion', 'billionaire', 'billions', 'billiton', 'bills', 'billy', 'bin', 'binding', 'binge', 'bingham', 'bingley', 'bingo', 'binned', 'binoche', 'biocidal', 'biogen', 'biographer', 'biography', 'biological', 'biology', 'biometric', 'biometrics', 'biopic', 'biotech', 'bipedal', 'birch', 'birchfield', 'bird', 'birkenhead', 'birkett', 'birmingham', 'birth', 'birthday', 'birthdays', 'birthistle', 'biscan', 'biscuit', 'bisected', 'bishop', 'bishops', 'bit', 'bite', 'biting', 'bits', 'bitter', 'bittersweet', 'bittorrent', 'biz', 'bizarre', 'bizet', 'bjorgo', 'bjorkman', 'bjorn', 'black', 'blackadder', 'blackberries', 'blackberry', 'blackburn', 'blackground', 'blacklists', 'blackmail', 'blackmailed', 'blackpool', 'blacks', 'blackwatch', 'blade', 'blair', 'blairite', 'blairs', 'blake', 'blame', 'blamed', 'blames', 'blaming', 'blanchard', 'blanche', 'blanchett', 'bland', 'blank', 'blass', 'blast', 'blasted', 'blasters', 'blasting', 'blasts', 'blatant', 'blatantly', 'blazed', 'blazers', 'blazin', 'blazing', 'blb', 'bleak', 'bleakest', 'bleakly', 'blears', 'bled', 'bleep', 'bleeps', 'blemish', 'blend', 'blending', 'bless', 'blessed', 'blessing', 'blethyn', 'bleus', 'blew', 'blige', 'blight', 'blighted', 'blighting', 'blind', 'blindingly', 'blinked', 'blinkx', 'blinx', 'blip', 'blistering', 'blisters', 'blitz', 'blizzard', 'bloc', 'block', 'blockbuster', 'blockbusters', 'blocked', 'blocking', 'blocks', 'blog', 'blogged', 'blogger', 'bloggers', 'blogging', 'bloglines', 'blogosphere', 'blogs', 'blogsphere', 'bloke', 'blom', 'blomefontein', 'blood', 'bloody', 'bloom', 'bloomberg', 'blooming', 'bloomingdale', 'bloopers', 'blossoming', 'blow', 'blowers', 'blowing', 'blown', 'blows', 'blu', 'blue', 'bluegrass', 'bluephone', 'blueprint', 'blueprints', 'blues', 'bluetooth', 'bluewater', 'blunkett', 'blunt', 'bluntly', 'blur', 'blurred', 'blurs', 'blushed', 'blushes', 'blushing', 'blustery', 'blythe', 'bmg', 'bmr', 'bmw', 'bn', 'bnp', 'bo', 'board', 'boarding', 'boardroom', 'boards', 'boasts', 'boat', 'boateng', 'boats', 'bob', 'bobbitt', 'bobby', 'bobs', 'boca', 'bode', 'bodes', 'bodied', 'bodies', 'bodinat', 'bodleian', 'body', 'bodyguard', 'boe', 'boeing', 'boerse', 'bofra', 'bogart', 'bogdanovic', 'bogota', 'bogus', 'boi', 'boil', 'boiled', 'boiler', 'boils', 'boingboing', 'boix', 'boks', 'bold', 'bolder', 'bollan', 'bollywood', 'bolster', 'bolted', 'bolton', 'bolts', 'bomb', 'bombard', 'bombarded', 'bombardier', 'bombards', 'bombastic', 'bombay', 'bombers', 'bombing', 'bombings', 'bombs', 'bona', 'bonar', 'bond', 'bondarenko', 'bonderman', 'bondholders', 'bondi', 'bonds', 'bondy', 'bone', 'bones', 'bonfire', 'bonham', 'bonhams', 'bonn', 'bonnaire', 'bonnie', 'bonny', 'bono', 'bonus', 'bonuses', 'boogeyman', 'book', 'booked', 'booker', 'bookies', 'booking', 'bookings', 'bookmaker', 'bookmakers', 'bookrunners', 'books', 'booksellers', 'bookshelves', 'bookshops', 'boom', 'boomed', 'booming', 'booms', 'boost', 'boosted', 'boosting', 'boosts', 'boot', 'booted', 'bootle', 'boots', 'booy', 'booz', 'booze', 'boramae', 'border', 'borders', 'bordesley', 'bore', 'bored', 'boring', 'boris', 'born', 'borne', 'boro', 'borough', 'boroughs', 'borrell', 'borrow', 'borrowed', 'borrowers', 'borrowing', 'bortey', 'borthwick', 'bortolami', 'borussia', 'bosch', 'boscholt', 'bosphorus', 'boss', 'bosses', 'bossy', 'boston', 'bosvelt', 'bosworth', 'bot', 'botha', 'bother', 'bothered', 'bots', 'botswana', 'bottle', 'bottled', 'bottlenecks', 'bouba', 'boudewijn', 'bought', 'boukar', 'boulevard', 'boulton', 'bounce', 'bounced', 'bouncers', 'bouncing', 'bound', 'boundaries', 'boundary', 'bounded', 'bounty', 'bouquets', 'bourgoin', 'bourn', 'bourne', 'bournemouth', 'bout', 'bovina', 'bow', 'bowden', 'bowe', 'bowers', 'bowie', 'bowl', 'bowles', 'bowman', 'box', 'boxer', 'boxes', 'boxing', 'boy', 'boyd', 'boyfriend', 'boyfriends', 'boynton', 'boys', 'boyzone', 'bozell', 'bozzi', 'bp', 'bpd', 'bpi', 'br', 'brabeck', 'brace', 'braced', 'bracing', 'brackets', 'bracknell', 'brad', 'bradfield', 'bradford', 'bradley', 'bradshaw', 'brady', 'braff', 'brag', 'bragging', 'braille', 'brain', 'brains', 'brainwave', 'brake', 'brakes', 'braking', 'bramham', 'branch', 'branches', 'brand', 'branded', 'branding', 'brando', 'brands', 'brankin', 'brannen', 'branson', 'brass', 'brave', 'bravely', 'bravery', 'bravest', 'brawl', 'brawn', 'brazil', 'brazilian', 'brazilians', 'brc', 'breach', 'breached', 'breaches', 'breaching', 'bread', 'breadline', 'breadth', 'break', 'breakdown', 'breakdowns', 'breaker', 'breakers', 'breakfast', 'breaking', 'breakneck', 'breaks', 'breakthrough', 'breast', 'breath', 'breathalysed', 'breathe', 'breathed', 'breathing', 'breathtaking', 'brebner', 'breed', 'breeding', 'breezes', 'bremner', 'brenda', 'brendan', 'brennan', 'brent', 'brentford', 'brett', 'breville', 'brewer', 'breweries', 'brewers', 'brewery', 'brewing', 'breyer', 'brian', 'bribe', 'bribery', 'bribes', 'bribing', 'brick', 'bricks', 'bride', 'bridge', 'bridgehead', 'bridgepoint', 'bridges', 'bridget', 'bridgewell', 'brie', 'brief', 'briefcase', 'briefed', 'briefing', 'briefings', 'briefly', 'brien', 'briggs', 'bright', 'brightcove', 'brighten', 'brighter', 'brightest', 'brightly', 'brightmail', 'brighton', 'brigitte', 'brilliance', 'brilliant', 'brilliantly', 'brimming', 'brindley', 'bring', 'bringing', 'brings', 'brink', 'brinkman', 'brisbane', 'bristol', 'brit', 'britain', 'britannia', 'british', 'britney', 'britneys', 'briton', 'britons', 'britpop', 'brits', 'britten', 'britton', 'britz', 'brive', 'brixton', 'brizzel', 'broad', 'broadband', 'broadcast', 'broadcaster', 'broadcasters', 'broadcasting', 'broadcasts', 'broaden', 'broadened', 'broader', 'broadly', 'broadreach', 'broadsheet', 'broadside', 'broadus', 'broadway', 'broccoli', 'brockstein', 'brody', 'broes', 'brokaw', 'broke', 'broken', 'broker', 'brokerage', 'brokered', 'brokers', 'brom', 'bromesberrow', 'bromsgrove', 'bromwich', 'bronchitis', 'bronze', 'bronzes', 'brooker', 'brookings', 'brooks', 'brookside', 'brookstein', 'bros', 'brosnan', 'brothels', 'brother', 'brotherhood', 'brothers', 'brought', 'brown', 'browne', 'brownie', 'brownlees', 'brownsville', 'brownsword', 'browse', 'browsed', 'browser', 'browsers', 'browses', 'browsing', 'bruce', 'bruer', 'bruins', 'bruised', 'bruises', 'bruising', 'brunei', 'bruni', 'brunini', 'bruno', 'brunswick', 'brusca', 'brush', 'brushed', 'brushes', 'brussels', 'brutal', 'brutally', 'brute', 'bryan', 'bryce', 'bryn', 'bryson', 'bsa', 'bse', 'bskyb', 'bsl', 'bst', 'bt', 'bubble', 'bubbles', 'bubbling', 'buccaneer', 'buccaneers', 'bucharest', 'buck', 'bucket', 'buckfield', 'bucking', 'buckingham', 'buckinghamshire', 'buckland', 'buckling', 'bud', 'budapest', 'budd', 'buddhist', 'buddy', 'budge', 'budget', 'budgetary', 'budgeted', 'budgets', 'buds', 'buena', 'buenos', 'buffel', 'buffs', 'bug', 'bugs', 'buick', 'build', 'builder', 'builders', 'building', 'buildings', 'builds', 'buildyourown', 'built', 'buju', 'bulbs', 'bulgaria', 'bulgarian', 'bulging', 'bulk', 'bulky', 'bull', 'bullet', 'bulletin', 'bulletins', 'bullets', 'bullfrog', 'bullish', 'bulloch', 'bullock', 'bulls', 'bully', 'bullying', 'bump', 'bumped', 'bumper', 'bumping', 'bumps', 'bunch', 'bundesbank', 'bundle', 'bundled', 'bundling', 'bunker', 'bunnymen', 'bunuel', 'buoy', 'buoyant', 'buoyed', 'buoying', 'bupa', 'burberry', 'burchill', 'burden', 'burdened', 'burdens', 'burdensome', 'bureau', 'bureaucracy', 'bureaucratic', 'bureaucrats', 'burgas', 'burgeoning', 'burger', 'burgess', 'burglar', 'burglars', 'burgle', 'buried', 'buries', 'burka', 'burke', 'burma', 'burn', 'burner', 'burnett', 'burning', 'burnish', 'burnley', 'burnout', 'burns', 'burrell', 'bursary', 'burst', 'bursting', 'burstow', 'bursts', 'burt', 'bury', 'burying', 'bus', 'buscemi', 'busch', 'bush', 'bushtucker', 'busier', 'busiest', 'business', 'businesses', 'businessman', 'bussell', 'bust', 'busted', 'busting', 'busy', 'butcher', 'bute', 'butler', 'butlers', 'butragueno', 'butt', 'butters', 'butting', 'button', 'buttons', 'buxton', 'buy', 'buyback', 'buybacks', 'buyer', 'buyers', 'buying', 'buyout', 'buys', 'buzz', 'buzzing', 'buzzwords', 'bwv', 'bye', 'byline', 'bypassed', 'bypassing', 'byrne', 'byron', 'c180', 'c4', 'ca', 'cab', 'caballeros', 'cabin', 'cabinet', 'cabinets', 'cabir', 'cable', 'cables', 'cabs', 'cachet', 'cactus', 'cadbury', 'cadena', 'cadillac', 'cadmium', 'caf', 'cafe', 'cafes', 'cafod', 'cafu', 'cagigal', 'cahill', 'caillet', 'caire', 'cairn', 'cairo', 'cake', 'calculate', 'calculated', 'calculations', 'calculator', 'calculators', 'calcutta', 'calder', 'caldwell', 'caledonian', 'calendar', 'calf', 'calibre', 'calico', 'california', 'calisto', 'callaghan', 'called', 'calleri', 'callers', 'calling', 'callow', 'calls', 'calm', 'calmer', 'calming', 'calorie', 'calum', 'calvin', 'calvisano', 'calyon', 'camara', 'camaraderie', 'cambiemos', 'cambodia', 'cambridge', 'cambridgeshire', 'camcorder', 'camcorders', 'camden', 'came', 'camels', 'cameo', 'camera', 'cameras', 'cameron', 'cameroon', 'cameroonians', 'camilla', 'camille', 'camp', 'campaign', 'campaigned', 'campaigner', 'campaigners', 'campaigning', 'campaigns', 'campbell', 'campell', 'camper', 'camps', 'cams', 'canada', 'canadian', 'canal', 'canale', 'canary', 'canas', 'canberra', 'cancel', 'cancellation', 'cancellations', 'cancelled', 'cancelling', 'cancels', 'cancer', 'candela', 'candid', 'candidate', 'candidates', 'candidly', 'candillon', 'cannabidiol', 'cannabis', 'canned', 'cannes', 'cannibalism', 'cannibals', 'cannings', 'cannisters', 'cannon', 'canny', 'canopy', 'cantata', 'canterbury', 'cantona', 'canvas', 'canvass', 'canvassers', 'canvassing', 'canyon', 'cao', 'cap', 'capabilities', 'capability', 'capable', 'capacities', 'capacity', 'cape', 'capella', 'capellas', 'caper', 'capgemini', 'capital', 'capitalisation', 'capitalise', 'capitalised', 'capitol', 'capitulation', 'capleton', 'capped', 'capping', 'capra', 'capriati', 'caprice', 'caps', 'capt', 'captain', 'captaincy', 'captained', 'caption', 'captioning', 'captivated', 'captivity', 'capture', 'captured', 'captures', 'capturing', 'car', 'cara', 'caramel', 'caravaggio', 'caravan', 'carbon', 'carbonated', 'card', 'carded', 'carderplanet', 'cardiff', 'cards', 'cardwell', 'care', 'cared', 'career', 'careers', 'careful', 'carefully', 'careless', 'carer', 'carers', 'cares', 'caretaker', 'carey', 'carfax', 'carib', 'caribbean', 'caribs', 'caricatures', 'caring', 'carl', 'carla', 'carling', 'carlish', 'carlisle', 'carlo', 'carlos', 'carlsen', 'carly', 'carmaker', 'carmakers', 'carmaking', 'carman', 'carmen', 'carnival', 'carol', 'carolina', 'caroline', 'carpenter', 'carpet', 'carr', 'carradine', 'carragher', 'carrey', 'carrick', 'carried', 'carrier', 'carriers', 'carries', 'carroll', 'carrow', 'carry', 'carrying', 'cars', 'carsley', 'carson', 'carswell', 'carta', 'cartagena', 'carte', 'cartel', 'carter', 'carthy', 'cartilage', 'cartoon', 'cartridge', 'carvalho', 'carve', 'carved', 'carvel', 'carving', 'carwyn', 'cas', 'casablanca', 'casalme', 'case', 'cases', 'casey', 'cash', 'cashed', 'casino', 'casinos', 'casio', 'caspian', 'cassette', 'cast', 'castaldo', 'casting', 'castle', 'castor', 'castro', 'castrogiovanni', 'casts', 'casual', 'casualties', 'casualty', 'cat', 'catalan', 'catalina', 'catalogue', 'catalogues', 'cataloguing', 'catalysed', 'catalyst', 'catapulted', 'catastrophe', 'catastrophes', 'catch', 'catching', 'catchy', 'cate', 'categorically', 'categories', 'categorisation', 'categorise', 'category', 'catering', 'cates', 'cathal', 'catherina', 'catherine', 'catholic', 'catholics', 'cathy', 'cats', 'catsuit', 'cattle', 'cattrall', 'catwoman', 'caudwell', 'caught', 'cauldron', 'cause', 'caused', 'causes', 'causeway', 'causing', 'caustic', 'caution', 'cautioned', 'cautions', 'cautious', 'cautiously', 'cavalcade', 'cavalier', 'cavanagh', 'cave', 'cayenne', 'cazalets', 'cb', 'cbbc', 'cbi', 'cbo', 'cbs', 'ccf', 'cctv', 'cd', 'cdp', 'cds', 'cea', 'cease', 'ceased', 'ceasefire', 'cec', 'cech', 'cecil', 'cedric', 'ceiling', 'celebrate', 'celebrated', 'celebrates', 'celebrating', 'celebration', 'celebrations', 'celebrities', 'celebrity', 'celeron', 'celestine', 'cell', 'cellery', 'cellnet', 'cells', 'celltick', 'celta', 'celtic', 'celts', 'cement', 'cemented', 'cemetery', 'censor', 'censored', 'censors', 'cent', 'centenary', 'center', 'centimetres', 'centr', 'central', 'centralisation', 'centrally', 'centre', 'centred', 'centrepiece', 'centres', 'centring', 'cents', 'centuries', 'century', 'ceo', 'cepes', 'ceplak', 'cept', 'ceremonies', 'ceremony', 'ceri', 'cern', 'certain', 'certainly', 'certainty', 'certificate', 'certification', 'certified', 'ces', 'cesar', 'cesc', 'cessna', 'cfa', 'cfca', 'cfx', 'cga', 'cgi', 'chabal', 'chagrin', 'chain', 'chained', 'chains', 'chainsaw', 'chair', 'chaired', 'chairing', 'chairman', 'chairmanship', 'chairmen', 'chairs', 'chaiyasoot', 'chakkara', 'chakrabarti', 'chalk', 'challenge', 'challenged', 'challenger', 'challengers', 'challenges', 'challenging', 'chamber', 'chambers', 'chambre', 'champagne', 'champion', 'champions', 'championship', 'championships', 'chan', 'chancay', 'chance', 'chancellor', 'chancellors', 'chances', 'chancing', 'chandler', 'chang', 'change', 'changeable', 'changed', 'changeover', 'changer', 'changes', 'changi', 'changing', 'chango', 'channel', 'channels', 'chanting', 'chants', 'chaos', 'chaotic', 'chap', 'chapel', 'chaplin', 'chapman', 'chapter', 'chapters', 'character', 'characterised', 'characterises', 'characteristically', 'characters', 'charade', 'charbonnier', 'charcote', 'charge', 'charged', 'charges', 'charging', 'charing', 'charismatic', 'charitable', 'charities', 'charity', 'charlatans', 'charleroi', 'charles', 'charlie', 'charlize', 'charlotte', 'charlton', 'charly', 'charm', 'charming', 'charms', 'chart', 'charted', 'charter', 'chartered', 'chartering', 'charting', 'charts', 'charvis', 'chase', 'chased', 'chasing', 'chassis', 'chat', 'chatham', 'chatrooms', 'chatshow', 'chatted', 'chatter', 'chauvinistic', 'chavez', 'cheap', 'cheapened', 'cheaper', 'cheapest', 'cheaply', 'cheapness', 'cheating', 'cheats', 'check', 'checked', 'checking', 'checkpoints', 'checks', 'cheekbone', 'cheeky', 'cheer', 'cheerful', 'cheerleader', 'cheers', 'cheese', 'cheeses', 'cheetham', 'chef', 'chela', 'chelsea', 'chemical', 'chemicals', 'chemistry', 'chen', 'cheney', 'chennai', 'chepkemei', 'cheque', 'cherie', 'cherish', 'cherished', 'cherkasova', 'chernin', 'cheshire', 'cheslea', 'chest', 'chester', 'cheung', 'chevrolet', 'chevrontexaco', 'chia', 'chic', 'chicago', 'chicken', 'chicoine', 'chidambaram', 'chides', 'chief', 'chiefs', 'chieko', 'chiffon', 'chiffre', 'chihwaseon', 'child', 'childcare', 'childe', 'childhood', 'childlike', 'children', 'childs', 'chile', 'chilean', 'chill', 'chilly', 'chin', 'china', 'chinese', 'chino', 'chip', 'chipped', 'chipping', 'chips', 'chirac', 'chit', 'chittabrata', 'chocolate', 'choice', 'choices', 'choir', 'choking', 'cholesterol', 'chomsky', 'chongqing', 'chook', 'choose', 'chooses', 'choosing', 'chop', 'chopin', 'chopped', 'chore', 'choreographed', 'choreographers', 'choreography', 'choristes', 'chorus', 'chose', 'chosen', 'chris', 'chrissie', 'christ', 'christchurch', 'christian', 'christianity', 'christie', 'christina', 'christmas', 'christmases', 'christophe', 'christopher', 'christos', 'chromium', 'chronic', 'chronically', 'chronicle', 'chronicles', 'chronology', 'chronometer', 'chrysler', 'chubb', 'chum', 'chung', 'chunk', 'church', 'churches', 'churchill', 'churlishly', 'churn', 'churning', 'chuter', 'cia', 'ciara', 'cibc', 'cicero', 'cigala', 'cigarettes', 'cigars', 'cincinnati', 'cinema', 'cinemas', 'cinematic', 'cinematographer', 'cinematographically', 'cinematography', 'ciphertrust', 'cips', 'circle', 'circles', 'circling', 'circuit', 'circuits', 'circular', 'circulated', 'circulating', 'circulation', 'circumstances', 'circumvent', 'circuses', 'cisco', 'cisse', 'cite', 'cited', 'cites', 'cities', 'citigroup', 'citing', 'citizen', 'citizens', 'citizenship', 'citroen', 'citu', 'city', 'civic', 'civil', 'civilian', 'civilians', 'civilisation', 'civilised', 'cj', 'ckx', 'cl', 'claassens', 'claes', 'claim', 'claimant', 'claimed', 'claiming', 'claims', 'claire', 'clam', 'clamour', 'clamp', 'clampdown', 'clampett', 'clamping', 'clamshell', 'clandestine', 'clank', 'clans', 'clapping', 'clapton', 'claquin', 'clara', 'clare', 'clarence', 'clarets', 'claridge', 'clarified', 'clarify', 'clarifying', 'clarity', 'clark', 'clarke', 'clarkson', 'clash', 'clashed', 'clashes', 'class', 'classed', 'classes', 'classic', 'classical', 'classics', 'classification', 'classifications', 'classified', 'classroom', 'classy', 'claude', 'claudia', 'claudio', 'clause', 'clauses', 'clawed', 'claws', 'claxton', 'clay', 'clayton', 'clean', 'cleaned', 'cleaner', 'cleaners', 'cleaning', 'clear', 'clearance', 'cleared', 'clearer', 'clearest', 'clearing', 'clearly', 'clearskies', 'clearstream', 'clearswift', 'cleese', 'clem', 'clement', 'clemente', 'clergy', 'clergyman', 'clerical', 'clerk', 'clermont', 'cleveland', 'clever', 'cleverly', 'cliche', 'clichy', 'click', 'clicked', 'clicking', 'clicks', 'client', 'clients', 'cliff', 'cliffhanger', 'clifford', 'clijsters', 'climan', 'climate', 'climax', 'climb', 'climbed', 'climbing', 'climbs', 'clinch', 'clinched', 'clinches', 'clinching', 'cling', 'clinging', 'clinic', 'clinical', 'clinically', 'clint', 'clinton', 'clipped', 'clips', 'cliques', 'clitheroe', 'clive', 'clock', 'clocked', 'clocking', 'clockwork', 'cloete', 'clog', 'clogged', 'clones', 'cloning', 'clooney', 'close', 'closed', 'closely', 'closer', 'closes', 'closest', 'closet', 'closets', 'closing', 'closure', 'closures', 'clothe', 'clothes', 'clothing', 'cloud', 'clouded', 'clouding', 'clown', 'club', 'club2school', 'clubbing', 'clubman', 'clubs', 'clue', 'cluedo', 'clues', 'cluley', 'clump', 'clumsily', 'clumsy', 'clunes', 'clung', 'clutch', 'clutches', 'clutter', 'clyde', 'cmf', 'cml', 'cnpc', 'coach', 'coached', 'coaches', 'coaching', 'coachmen', 'coal', 'coalition', 'coarse', 'coast', 'coastal', 'coasted', 'coat', 'coatings', 'coax', 'cobain', 'cobblestones', 'cobh', 'cobhwoman', 'cocaine', 'cochilco', 'cock', 'cockbain', 'cockerell', 'cockerill', 'cocktail', 'coddled', 'code', 'coded', 'codelco', 'codemasters', 'codename', 'codenamed', 'coders', 'codes', 'coffee', 'coffers', 'coghlan', 'cogniron', 'cohen', 'coherence', 'coherent', 'cohesion', 'cohorts', 'coin', 'coincide', 'coincided', 'coincidence', 'coincidental', 'coincidentally', 'coined', 'coins', 'cojedes', 'coking', 'col', 'cola', 'colchester', 'cold', 'colder', 'coldplay', 'cole', 'coleman', 'colen', 'coleraine', 'colgan', 'colin', 'collaborate', 'collaborated', 'collaborating', 'collaboration', 'collaborations', 'collaborative', 'collaborator', 'collapse', 'collapsed', 'collateral', 'colleague', 'colleagues', 'collect', 'collected', 'collecting', 'collection', 'collections', 'collective', 'collector', 'collectors', 'collects', 'college', 'colleges', 'collegiate', 'collide', 'collided', 'colliding', 'collier', 'collins', 'collision', 'colloquial', 'colluded', 'colludes', 'colombia', 'colombian', 'colonel', 'colonisation', 'colony', 'colorado', 'colosseum', 'colossus', 'colour', 'coloured', 'colourful', 'colours', 'coltrane', 'columbia', 'column', 'columnist', 'columns', 'com', 'coma', 'comb', 'combat', 'combatant', 'combatants', 'combating', 'combats', 'combination', 'combine', 'combined', 'combines', 'combining', 'combs', 'come', 'comeback', 'comedian', 'comedians', 'comedic', 'comedies', 'comedy', 'comes', 'comfort', 'comfortable', 'comfortably', 'comic', 'comics', 'coming', 'command', 'commanded', 'commandeered', 'commander', 'commanders', 'commands', 'commences', 'commendable', 'comment', 'commentary', 'commentator', 'commentators', 'commented', 'commenting', 'comments', 'commerce', 'commercial', 'commercialisation', 'commercialised', 'commercially', 'commercials', 'commission', 'commissioned', 'commissioner', 'commissioners', 'commissions', 'commit', 'commitment', 'commitments', 'committed', 'committee', 'committees', 'committing', 'commoditising', 'commodity', 'commodore', 'common', 'commonly', 'commonplace', 'commons', 'commonwealth', 'communicate', 'communicated', 'communicating', 'communication', 'communications', 'communicator', 'communiqu', 'communism', 'communist', 'communists', 'communities', 'community', 'commuters', 'compact', 'companies', 'companion', 'companions', 'company', 'comparable', 'comparatively', 'compare', 'compared', 'compares', 'comparing', 'comparison', 'comparisons', 'compass', 'compassion', 'compatibility', 'compatible', 'compatriot', 'compatriots', 'compelled', 'compelling', 'compensate', 'compensated', 'compensation', 'compete', 'competed', 'competences', 'competency', 'competent', 'competes', 'competing', 'competition', 'competitions', 'competitive', 'competitiveness', 'competitor', 'competitors', 'competitve', 'compilation', 'compile', 'compiled', 'compiles', 'compiling', 'complacency', 'complacent', 'complain', 'complained', 'complaining', 'complains', 'complaint', 'complaints', 'complement', 'complete', 'completed', 'completely', 'completes', 'completing', 'completion', 'completions', 'complex', 'complexes', 'complexities', 'complexity', 'compliance', 'complicated', 'complied', 'complimentary', 'comply', 'component', 'components', 'composed', 'composer', 'composers', 'composite', 'composition', 'compositions', 'composure', 'compounded', 'comprehensive', 'comprehensively', 'compress', 'compressed', 'compressing', 'compression', 'comprise', 'comprised', 'comprises', 'comprising', 'compromise', 'compromised', 'compromises', 'compromising', 'comptia', 'comptroller', 'compulsive', 'compulsory', 'computational', 'computer', 'computerandvideogames', 'computerised', 'computers', 'computing', 'conceal', 'concealed', 'concealing', 'conceals', 'concede', 'conceded', 'conceding', 'conceivable', 'conceived', 'concentrate', 'concentrated', 'concentrates', 'concentrating', 'concentration', 'concept', 'conceptually', 'concern', 'concerned', 'concerning', 'concerns', 'concert', 'concerted', 'concerts', 'concession', 'concessions', 'conchita', 'conciliation', 'concise', 'conclude', 'concluded', 'concludes', 'concluding', 'conclusion', 'conclusions', 'conclusive', 'conclusively', 'concrete', 'concurrently', 'condemned', 'condemning', 'condemns', 'condition', 'conditions', 'condoleezza', 'condom', 'condoms', 'conduct', 'conducted', 'conducting', 'conductive', 'conductor', 'conducts', 'confectionery', 'confederation', 'conference', 'conferences', 'conferencing', 'conferring', 'confess', 'confessed', 'confesses', 'confessions', 'confided', 'confidence', 'confident', 'confidential', 'confidentiality', 'confidently', 'confined', 'confines', 'confining', 'confirm', 'confirmation', 'confirmed', 'confirming', 'confirms', 'conflict', 'conflicting', 'conflicts', 'conform', 'conformity', 'confound', 'confounded', 'confounding', 'confront', 'confrontation', 'confrontational', 'confronted', 'confuse', 'confused', 'confusing', 'confusingly', 'confusion', 'congdon', 'congenial', 'congested', 'congratulate', 'congratulated', 'congratulates', 'congratulations', 'congress', 'congressional', 'congressmen', 'conjoined', 'conjunction', 'conlon', 'conman', 'conmen', 'connaught', 'connect', 'connected', 'connecting', 'connection', 'connections', 'connectivity', 'connectors', 'connectotel', 'connects', 'connell', 'connelly', 'connery', 'connolly', 'connor', 'connors', 'conor', 'conquered', 'conquering', 'conqueror', 'conquerors', 'conrad', 'conscience', 'consciences', 'conscious', 'consciously', 'consciousness', 'consecutive', 'conseil', 'consensus', 'consent', 'consequence', 'consequences', 'consequently', 'conservative', 'conservatively', 'conservatives', 'conserve', 'consider', 'considerable', 'considerably', 'consideration', 'considerations', 'considered', 'considering', 'considers', 'considine', 'consigned', 'consigning', 'consist', 'consistency', 'consistent', 'consistently', 'consisting', 'consists', 'consolation', 'console', 'consoles', 'consolidate', 'consolidated', 'consolidating', 'consolidation', 'consort', 'consortium', 'conspiracy', 'conspiring', 'constable', 'constables', 'constant', 'constantine', 'constantly', 'constellation', 'constituencies', 'constituency', 'constituent', 'constituents', 'constitute', 'constituted', 'constitutes', 'constitution', 'constitutional', 'constrained', 'constraint', 'constraints', 'construct', 'constructed', 'construction', 'constructive', 'consult', 'consultancy', 'consultant', 'consultants', 'consultation', 'consultations', 'consultative', 'consulted', 'consulting', 'consults', 'consume', 'consumer', 'consumers', 'consumes', 'consuming', 'consumption', 'contact', 'contacted', 'contacts', 'contain', 'contained', 'containing', 'contains', 'contaminated', 'contamination', 'conte', 'contemplates', 'contemplating', 'contemporaries', 'contemporary', 'contempt', 'contend', 'contended', 'contender', 'contenders', 'contends', 'content', 'contented', 'contention', 'contentious', 'contents', 'contepomi', 'contest', 'contestant', 'contestants', 'contested', 'contesting', 'contests', 'context', 'continent', 'continental', 'continents', 'contingency', 'contingent', 'continually', 'continuation', 'continue', 'continued', 'continues', 'continuing', 'continuous', 'continuously', 'continuum', 'contra', 'contraception', 'contraceptives', 'contrack', 'contract', 'contracted', 'contracting', 'contractor', 'contractors', 'contracts', 'contractual', 'contradict', 'contradictions', 'contradictory', 'contrary', 'contrast', 'contravene', 'contravenes', 'contreras', 'contribute', 'contributed', 'contributes', 'contributing', 'contribution', 'contributions', 'contributor', 'contributors', 'contrived', 'control', 'controlled', 'controller', 'controllers', 'controlling', 'controls', 'controversial', 'controversially', 'controversies', 'controversy', 'convene', 'convened', 'convenience', 'convenient', 'conveniently', 'convention', 'conventional', 'conventions', 'converge', 'converged', 'convergence', 'conversation', 'conversations', 'conversion', 'conversions', 'convert', 'converted', 'convertible', 'converting', 'converts', 'convey', 'conveyed', 'convicted', 'convicting', 'conviction', 'convictions', 'convince', 'convinced', 'convincing', 'convulsed', 'coogan', 'cook', 'cooked', 'cooking', 'cool', 'cooled', 'cooling', 'coolly', 'cools', 'cooper', 'cooperate', 'cooperation', 'cooperative', 'coordinate', 'coordinated', 'coordination', 'coordinator', 'cop', 'copa', 'cope', 'coped', 'copeland', 'copenhagen', 'copernic', 'copied', 'copies', 'coping', 'copper', 'coppers', 'coppinger', 'coppola', 'copy', 'copycat', 'copying', 'copyright', 'copyrighted', 'cor', 'coral', 'corbijn', 'cord', 'corden', 'cordiant', 'cordless', 'cordon', 'cordoned', 'corduroy', 'core', 'corelli', 'cores', 'coria', 'corinthians', 'corkman', 'cornell', 'corner', 'cornered', 'corners', 'cornwall', 'coronation', 'corp', 'corporal', 'corporate', 'corporation', 'corporations', 'corpus', 'correct', 'corrected', 'correcting', 'correction', 'correctional', 'corrective', 'correctly', 'correspond', 'correspondent', 'corresponding', 'corridor', 'corrigan', 'corrosive', 'corrupt', 'corrupted', 'corrupting', 'corruption', 'corry', 'corsa', 'coruna', 'corus', 'cory', 'cosafa', 'cosby', 'cosgrave', 'cosh', 'cosiness', 'coslett', 'cosmetic', 'cosmetics', 'cosmic', 'cosmopolitan', 'cossins', 'cost', 'costa', 'costacurta', 'costantini', 'costed', 'costello', 'costin', 'costing', 'costings', 'costly', 'costs', 'costume', 'costumes', 'cotonsport', 'cottage', 'cottenham', 'cotterill', 'cotterills', 'cotton', 'couch', 'couched', 'cough', 'couldn', 'council', 'councillor', 'councillors', 'councils', 'counsel', 'counselling', 'count', 'countdown', 'counted', 'counter', 'counteract', 'counterbalancing', 'countered', 'counterfeit', 'counterfeiting', 'counterpart', 'counterparts', 'counterproductive', 'counterterrorism', 'counties', 'counting', 'countless', 'countries', 'country', 'countrymen', 'countryside', 'countrywide', 'counts', 'county', 'coup', 'coupes', 'couple', 'coupled', 'couples', 'coupling', 'courage', 'courier', 'course', 'courses', 'court', 'courteney', 'courteous', 'courters', 'courtesy', 'courting', 'courtney', 'courtrooms', 'courts', 'coutts', 'coventry', 'cover', 'coverage', 'covered', 'covering', 'covers', 'covert', 'covet', 'coveted', 'cow', 'cowan', 'coward', 'cowboys', 'cowed', 'cowell', 'cowley', 'cox', 'cozza', 'cps', 'crabs', 'crack', 'crackdown', 'cracked', 'cracking', 'crackled', 'cracknell', 'cracks', 'craft', 'crafted', 'cragg', 'craig', 'crammed', 'crane', 'cranes', 'craney', 'crank', 'cranked', 'craphouse', 'crash', 'crashed', 'crass', 'crave', 'craved', 'craven', 'crawford', 'crawl', 'crawley', 'cray', 'craze', 'crazed', 'crazy', 'creaky', 'cream', 'create', 'created', 'creates', 'creating', 'creation', 'creations', 'creative', 'creatively', 'creatives', 'creativity', 'creator', 'creators', 'creature', 'creatures', 'credentials', 'credibility', 'credible', 'credit', 'credited', 'creditor', 'creditors', 'credits', 'creditworthiness', 'creek', 'creep', 'creepy', 'crept', 'crescendo', 'crescent', 'crescenzi', 'crespel', 'crest', 'crestfallen', 'crete', 'crew', 'crewe', 'crewman', 'cricket', 'cricketers', 'cried', 'cries', 'crime', 'crimes', 'criminal', 'criminalist', 'criminality', 'criminally', 'criminals', 'crimson', 'cringe', 'cripple', 'crippled', 'crippling', 'crises', 'crisis', 'crisp', 'crisper', 'criss', 'cristiano', 'cristie', 'criteria', 'critic', 'critical', 'critically', 'criticise', 'criticised', 'criticises', 'criticising', 'criticism', 'criticisms', 'critics', 'critique', 'croatia', 'croatian', 'crockery', 'crohas', 'cronies', 'crooks', 'crooner', 'croooner', 'crop', 'crops', 'cross', 'crossbar', 'crossed', 'crosses', 'crosshair', 'crossing', 'crossroads', 'crotch', 'croucher', 'crouching', 'crowd', 'crowded', 'crowds', 'crown', 'crowned', 'croydon', 'crucial', 'crucially', 'crucible', 'crucified', 'crude', 'cruel', 'cruelty', 'cruise', 'cruised', 'cruises', 'crumble', 'crumples', 'crunch', 'crusader', 'crush', 'crushed', 'crushing', 'crusoe', 'cruyff', 'cruz', 'cryer', 'crying', 'cryptography', 'crystal', 'crystalline', 'csa', 'csi', 'csos', 'cuaron', 'cuba', 'cuban', 'cubans', 'cube', 'cubic', 'cuckoo', 'cudicini', 'cue', 'cues', 'cueto', 'cuisine', 'culled', 'cullum', 'culminated', 'culprit', 'cult', 'cultivating', 'cultural', 'culturally', 'culture', 'cultures', 'cum', 'cumbersome', 'cumbria', 'cumming', 'cummings', 'cumulative', 'cunanan', 'cunningham', 'cunningly', 'cup', 'cups', 'curable', 'curb', 'curbing', 'curbishley', 'curbs', 'cure', 'curepipe', 'curfew', 'curfews', 'curiosity', 'curious', 'curiously', 'curled', 'currencies', 'currency', 'current', 'currentily', 'currently', 'curriculum', 'currington', 'curry', 'curse', 'cursed', 'cursing', 'cursor', 'curt', 'curtail', 'curtain', 'curtains', 'curtice', 'curtis', 'curve', 'cushion', 'cusiter', 'custody', 'custom', 'customary', 'customer', 'customers', 'customise', 'customised', 'customs', 'cut', 'cutbacks', 'cute', 'cuthbert', 'cuticle', 'cuts', 'cutters', 'cutting', 'cuyo', 'cvrd', 'cvs', 'cyber', 'cyborg', 'cyborgian', 'cycle', 'cyclical', 'cyclists', 'cygan', 'cymru', 'cynical', 'cynicism', 'cynthia', 'cyprus', 'cyril', 'cyrillic', 'czech', 'czechs', 'czink', 'd12', 'da', 'dab', 'dabbled', 'dad', 'daddy', 'dado', 'daft', 'daggers', 'dahaka', 'dahl', 'dai', 'daily', 'daimerchrysler', 'daimlerchrysler', 'dainty', 'dairy', 'daiwa', 'dakota', 'dal', 'dale', 'dallaglio', 'dallas', 'dalton', 'daly', 'dam', 'damage', 'damaged', 'damages', 'damaging', 'dame', 'damen', 'damian', 'damien', 'damn', 'damning', 'damon', 'dampened', 'dampening', 'dams', 'dan', 'dana', 'dance', 'danced', 'dancehall', 'dancer', 'dancers', 'dancevic', 'dancing', 'dandies', 'dandruff', 'dane', 'danes', 'danger', 'dangerous', 'dangerously', 'dangers', 'dangling', 'dani', 'daniel', 'daniela', 'danielli', 'daniilidou', 'danish', 'danner', 'danniella', 'danny', 'danton', 'darcey', 'dardanelles', 'dare', 'daredevil', 'darfur', 'darin', 'dark', 'darkest', 'darkly', 'darkness', 'darling', 'darlings', 'darlington', 'darn', 'darren', 'darth', 'dash', 'dashed', 'dashing', 'dassault', 'data', 'database', 'datamonitor', 'date', 'dates', 'dating', 'daub', 'daubed', 'daugher', 'daughter', 'daughters', 'daunting', 'dautenhahn', 'dave', 'davenport', 'daveport', 'davey', 'david', 'davidson', 'davies', 'davis', 'davos', 'davydenko', 'dawn', 'dawns', 'dawson', 'daxter', 'day', 'dayanidhi', 'days', 'dayton', 'dazzling', 'db9', 'dc', 'dca', 'ddos', 'deacon', 'dead', 'deadliest', 'deadline', 'deadlock', 'deadly', 'deadwood', 'deaf', 'deafening', 'deakins', 'deal', 'dealer', 'dealers', 'dealing', 'dealings', 'deals', 'dealt', 'dean', 'deans', 'dear', 'dearly', 'death', 'deathmatch', 'deaths', 'debacle', 'debate', 'debated', 'debates', 'debating', 'debit', 'deborah', 'debra', 'debris', 'debt', 'debtor', 'debts', 'debussy', 'debut', 'debutant', 'debuted', 'debuting', 'debuts', 'dec', 'decade', 'decades', 'decathlete', 'deccan', 'deceitful', 'deceive', 'deceived', 'deceleration', 'december', 'decency', 'decent', 'decently', 'decentralise', 'decentralised', 'deception', 'deceptive', 'deceptively', 'dechy', 'decide', 'decided', 'decidedly', 'decider', 'decides', 'deciding', 'decimating', 'decipher', 'decision', 'decisions', 'decisive', 'decisiveness', 'deck', 'deckchair', 'decked', 'decker', 'deckers', 'declan', 'declaration', 'declarations', 'declare', 'declared', 'declares', 'declaring', 'decline', 'declined', 'declines', 'declining', 'deco', 'decoded', 'decommissioning', 'decorated', 'decoration', 'decrease', 'decreases', 'decree', 'decries', 'decryption', 'decuk', 'dedicate', 'dedicated', 'dedication', 'deductible', 'deduction', 'dee', 'deemed', 'deep', 'deepened', 'deepening', 'deeper', 'deeply', 'deer', 'deering', 'def', 'defaced', 'defacement', 'defamation', 'defar', 'default', 'defaulted', 'defaults', 'defeat', 'defeated', 'defeats', 'defected', 'defecting', 'defection', 'defective', 'defector', 'defects', 'defence', 'defences', 'defend', 'defendant', 'defendants', 'defended', 'defender', 'defenders', 'defending', 'defends', 'defense', 'defensive', 'defensively', 'defer', 'deferential', 'deferring', 'defiant', 'defibrillators', 'deficit', 'deficits', 'defies', 'define', 'defined', 'defines', 'defining', 'definite', 'definitely', 'definition', 'definitive', 'deflation', 'deflected', 'deflection', 'deflects', 'defra', 'defraud', 'deft', 'defunct', 'defusing', 'defy', 'degradation', 'degraded', 'degrading', 'degree', 'degrees', 'degroot', 'dehiba', 'dei', 'dein', 'dejected', 'dejene', 'del', 'delaigue', 'delaware', 'delay', 'delayed', 'delaying', 'delays', 'delegate', 'delegates', 'delegation', 'delete', 'deleted', 'deletion', 'deletions', 'delft', 'delgado', 'delhi', 'deliberate', 'deliberately', 'deliberation', 'delight', 'delighted', 'delightful', 'delights', 'delirious', 'delist', 'delisted', 'deliver', 'deliverable', 'delivered', 'deliveries', 'delivering', 'delivers', 'delivery', 'dell', 'dellape', 'deloitte', 'delport', 'delray', 'delta', 'delude', 'deluge', 'deluges', 'deluxe', 'dem', 'demand', 'demanded', 'demanding', 'demands', 'demean', 'demeaning', 'dementia', 'dementieva', 'demerge', 'demerged', 'demerger', 'demille', 'demise', 'demo', 'democracy', 'democrat', 'democratic', 'democratically', 'democratisation', 'democrats', 'demographic', 'demographics', 'demography', 'demolished', 'demolition', 'demonised', 'demons', 'demonstrate', 'demonstrated', 'demonstrates', 'demonstrating', 'demonstration', 'demonstrations', 'demonstrator', 'demos', 'demoted', 'dempsey', 'dems', 'demure', 'den', 'dench', 'denial', 'denials', 'denied', 'denies', 'denis', 'denise', 'denmark', 'dennis', 'denominated', 'denounce', 'densely', 'dent', 'dented', 'deny', 'denying', 'denzel', 'deodorant', 'departed', 'department', 'departmental', 'departments', 'departure', 'depeche', 'depend', 'dependability', 'dependable', 'dependant', 'dependence', 'dependency', 'dependent', 'depending', 'depends', 'depicts', 'depleted', 'deploy', 'deployed', 'deployment', 'depor', 'deport', 'deportation', 'deportations', 'deported', 'deportivo', 'deposit', 'depository', 'deposits', 'depp', 'deppler', 'depreciates', 'depreciation', 'depress', 'depressant', 'depressed', 'depression', 'deprive', 'deprived', 'depriving', 'depth', 'deputies', 'deputised', 'deputy', 'der', 'derail', 'derailed', 'derartu', 'derbies', 'derby', 'derbyshire', 'deregulation', 'derek', 'dergarabedian', 'derided', 'derisory', 'derivatives', 'derive', 'derived', 'dermot', 'des', 'desai', 'desailly', 'descend', 'descendants', 'descended', 'described', 'describes', 'describing', 'description', 'descriptions', 'desert', 'deserted', 'deserts', 'deserve', 'deserved', 'deserves', 'deshui', 'design', 'designated', 'designation', 'designed', 'designer', 'designers', 'designing', 'designs', 'desire', 'desk', 'desktop', 'desmond', 'despair', 'despaired', 'despairing', 'despatch', 'despatched', 'desperate', 'desperately', 'desperation', 'despite', 'desplechin', 'despondent', 'destination', 'destinations', 'destined', 'destiny', 'destitute', 'destroy', 'destroyed', 'destroying', 'destruct', 'destruction', 'destructive', 'detached', 'detailed', 'detailing', 'details', 'detain', 'detained', 'detainee', 'detainees', 'detaining', 'detakats', 'detect', 'detected', 'detecting', 'detection', 'detective', 'detectives', 'detector', 'detects', 'detention', 'detentions', 'deter', 'deteriorate', 'deteriorated', 'deteriorates', 'deteriorating', 'deterioration', 'determination', 'determine', 'determined', 'determines', 'deterred', 'deterrents', 'deterring', 'detested', 'detonated', 'detroit', 'deutsche', 'deutschland', 'devaluation', 'devalue', 'devastated', 'devastating', 'devastation', 'develop', 'developed', 'developer', 'developers', 'developing', 'development', 'developmental', 'developments', 'develops', 'device', 'devices', 'devil', 'devine', 'devise', 'devised', 'devon', 'devonish', 'devos', 'devoted', 'devotion', 'dfes', 'dhl', 'di', 'diabetes', 'diabolical', 'diaghilev', 'diagnosed', 'diagnosis', 'dial', 'dialled', 'dialler', 'diallers', 'dialling', 'dialogue', 'diamond', 'diamonds', 'diamound', 'diana', 'diane', 'diaries', 'diarrhoea', 'diary', 'diatribe', 'dibaba', 'dibley', 'dicaprio', 'dick', 'dickie', 'dickinson', 'dictate', 'dictating', 'dictatorship', 'dictionaries', 'dictionary', 'did', 'didactic', 'diddley', 'didier', 'didn', 'dido', 'die', 'died', 'diego', 'diehard', 'diemont', 'dies', 'diesel', 'diet', 'dieter', 'dietmar', 'differ', 'differed', 'difference', 'differences', 'different', 'differential', 'differentiate', 'differentiating', 'differently', 'differing', 'difficult', 'difficulties', 'difficulty', 'diffuse', 'dig', 'digest', 'digga', 'digging', 'digit', 'digital', 'digitally', 'digitise', 'digitised', 'digits', 'digney', 'dignitaries', 'dignity', 'digs', 'dil', 'dilapidated', 'dilemma', 'diligence', 'diligent', 'dim', 'dimakos', 'dimbleby', 'dimech', 'dimension', 'dimensional', 'dimensions', 'diminishes', 'diminutive', 'dimitar', 'dimitri', 'dimmable', 'dimon', 'din', 'dina', 'dinesh', 'dinghy', 'dingolfing', 'dinkessa', 'dinkier', 'dinner', 'dinners', 'dinosaur', 'dinosaurs', 'dint', 'dionne', 'diop', 'dioxide', 'dip', 'diphtheria', 'dipiazza', 'diploma', 'diplomatic', 'dipo', 'dipped', 'dipping', 'dire', 'direct', 'directed', 'directing', 'direction', 'directions', 'directive', 'directly', 'director', 'directorate', 'directorial', 'directors', 'directs', 'directx', 'dirty', 'disabilities', 'disable', 'disabled', 'disadvantage', 'disadvantaged', 'disaffection', 'disagree', 'disagreed', 'disagreement', 'disagreements', 'disagrees', 'disallow', 'disallowed', 'disappear', 'disappearance', 'disappeared', 'disappearing', 'disappoint', 'disappointed', 'disappointing', 'disappointment', 'disappointments', 'disapproval', 'disapproved', 'disaster', 'disasters', 'disastrous', 'disbelief', 'disc', 'discarded', 'discernible', 'discharge', 'disciplinary', 'discipline', 'disciplined', 'disciplines', 'disclaimer', 'disclose', 'disclosed', 'disclosure', 'disco', 'discomfort', 'disconcerted', 'disconnect', 'discontent', 'discontinue', 'discount', 'discounted', 'discounting', 'discounts', 'discourage', 'discouraged', 'discouraging', 'discourse', 'discourtesies', 'discover', 'discovered', 'discoveries', 'discovering', 'discovery', 'discredit', 'discredited', 'discreet', 'discreetly', 'discrepancy', 'discretion', 'discriminate', 'discriminated', 'discriminates', 'discriminating', 'discrimination', 'discriminatorily', 'discriminatory', 'discs', 'discus', 'discuss', 'discussed', 'discussing', 'discussion', 'discussions', 'disdain', 'disease', 'diseases', 'disenchanted', 'disenfranchised', 'disengage', 'disengaged', 'disgrace', 'disgraceful', 'disguise', 'disguised', 'disguises', 'disguising', 'disgust', 'disgusted', 'disgusting', 'disheartened', 'disheartening', 'dished', 'dishonest', 'disillusioned', 'disillusionment', 'disintegrating', 'disinterested', 'disk', 'disks', 'dislike', 'disliked', 'disloyal', 'dismal', 'dismally', 'dismantle', 'dismantled', 'dismantles', 'dismantling', 'dismayed', 'dismiss', 'dismissal', 'dismissed', 'dismisses', 'dismissing', 'dismissive', 'disney', 'disobeys', 'disorder', 'disorderly', 'disorders', 'disorganized', 'disorientating', 'disparate', 'dispassionate', 'dispatched', 'dispel', 'dispensation', 'dispensed', 'dispenser', 'dispiriting', 'displaced', 'displacing', 'display', 'displayed', 'displaying', 'displays', 'displeasure', 'disposable', 'disposal', 'dispose', 'disposed', 'disposing', 'dispossesed', 'dispossessed', 'disproportionate', 'dispute', 'disputed', 'disputes', 'disqualified', 'disregard', 'disregarding', 'disrepair', 'disrepute', 'disrespect', 'disrupt', 'disrupted', 'disruption', 'disruptions', 'disruptive', 'dissatisfied', 'dissent', 'dissenter', 'dissenting', 'disservice', 'dissidents', 'dissipated', 'dissolve', 'dissuading', 'distance', 'distances', 'distilled', 'distin', 'distinct', 'distinction', 'distinctive', 'distinguish', 'distinguished', 'distinguishing', 'distort', 'distract', 'distracted', 'distraction', 'distressing', 'distribute', 'distributed', 'distributes', 'distributing', 'distribution', 'distributor', 'distributors', 'district', 'districts', 'distrusted', 'disturb', 'disturbances', 'disturbing', 'disturbingly', 'disunity', 'ditch', 'ditched', 'dithers', 'ditto', 'dive', 'dived', 'diverse', 'diversified', 'diversify', 'diversity', 'divert', 'diverted', 'diverting', 'diverts', 'divide', 'divided', 'dividend', 'dividends', 'divides', 'dividing', 'diving', 'division', 'divisions', 'divo', 'divorce', 'divorced', 'divorcees', 'divorces', 'divulging', 'dixie', 'dixon', 'dixons', 'diy', 'dizzy', 'dj', 'djemba', 'djibril', 'djimi', 'djs', 'dlf', 'dmitry', 'doak', 'doc', 'dock', 'docked', 'docking', 'docklands', 'docomo', 'doctor', 'doctored', 'doctoring', 'doctorow', 'doctors', 'docu', 'document', 'documentaries', 'documentary', 'documented', 'documenting', 'documents', 'dod', 'dodds', 'dodge', 'dodging', 'does', 'doesn', 'dog', 'dogg', 'dogged', 'dogmatic', 'dogs', 'dogusoy', 'doha', 'doherty', 'doing', 'dokic', 'dolce', 'doldrums', 'dole', 'dolin', 'doling', 'dollar', 'dollars', 'dollops', 'dolores', 'domain', 'domains', 'dome', 'domenico', 'domestic', 'dominance', 'dominant', 'dominate', 'dominated', 'dominates', 'dominating', 'domination', 'domineering', 'dominic', 'dominica', 'dominicans', 'dominici', 'dominik', 'don', 'donald', 'donate', 'donated', 'donating', 'donation', 'donations', 'doncaster', 'dongwon', 'donkey', 'donned', 'donnedieu', 'donnellon', 'donnelly', 'donnie', 'donny', 'donor', 'donors', 'dons', 'doo', 'doom', 'doomed', 'door', 'doore', 'doorkeeper', 'doors', 'doorway', 'doorways', 'dope', 'doping', 'doren', 'dorival', 'dormant', 'dornford', 'dorothy', 'dorset', 'dortmund', 'dos', 'dose', 'dosing', 'dossier', 'dossiers', 'dot', 'dotcom', 'dots', 'dotted', 'douala', 'double', 'doubleclick', 'doubled', 'doubles', 'doubling', 'doubly', 'doubt', 'doubted', 'doubters', 'doubtful', 'doubting', 'doubts', 'doug', 'doughnuts', 'dougie', 'douglas', 'dougray', 'dour', 'doves', 'dow', 'dowd', 'dowell', 'downdraft', 'downed', 'downfall', 'downgrade', 'downgraded', 'downgrades', 'downhill', 'downing', 'downlights', 'download', 'downloadable', 'downloaded', 'downloaders', 'downloading', 'downloads', 'downright', 'downs', 'downside', 'downstairs', 'downstream', 'downtown', 'downturn', 'downward', 'downwards', 'doyle', 'dozen', 'dozens', 'dr', 'drab', 'draconian', 'dracula', 'draft', 'drafted', 'drafting', 'drafts', 'drag', 'dragan', 'dragged', 'dragging', 'dragon', 'dragonhood', 'dragons', 'drain', 'drainage', 'drake', 'drama', 'dramas', 'dramatic', 'dramatically', 'dramatisations', 'drastically', 'draw', 'drawback', 'drawbacks', 'drawer', 'drawing', 'drawings', 'drawn', 'draws', 'dre', 'dreadfully', 'dream', 'dreamed', 'dreaming', 'dreamliner', 'dreams', 'dreamt', 'dreamworks', 'dredd', 'dredge', 'dress', 'dressed', 'dresses', 'dressing', 'dressings', 'drew', 'dribble', 'dries', 'drifted', 'drifting', 'drill', 'drilled', 'drilling', 'drink', 'drinkers', 'drinking', 'drinks', 'driscoll', 'drive', 'driven', 'driver', 'drivers', 'drives', 'driving', 'drm', 'drogba', 'drop', 'dropped', 'dropping', 'drops', 'drought', 'drove', 'drown', 'drowned', 'drowning', 'drug', 'drugged', 'drugmaker', 'drugs', 'druid', 'drum', 'drummer', 'drumming', 'drums', 'drunk', 'drunken', 'drunks', 'dry', 'ds', 'dsl', 'dti', 'dtt', 'du', 'dual', 'dubai', 'dubbed', 'dubious', 'dublin', 'dubs', 'duchess', 'duchy', 'duck', 'ducking', 'dudas', 'dudek', 'dudley', 'duel', 'dues', 'duet', 'duets', 'duff', 'duffy', 'dug', 'dugarry', 'duke', 'dukes', 'dulko', 'dull', 'dulled', 'duly', 'dumb', 'dumbarton', 'dummy', 'dump', 'dumped', 'dumpsite', 'dumpty', 'dunbar', 'duncan', 'dundee', 'dunfermline', 'dungeon', 'dunking', 'dunn', 'dunne', 'dunstan', 'dunwoody', 'duo', 'duopoly', 'dup', 'duplicate', 'durables', 'duran', 'durban', 'durex', 'durham', 'dust', 'dustin', 'dusty', 'dutch', 'dutchman', 'duties', 'dutronc', 'duty', 'dvb', 'dvd', 'dvds', 'dvrs', 'dwain', 'dwarfed', 'dwarfs', 'dwayne', 'dwight', 'dwindle', 'dwindling', 'dwyer', 'dyer', 'dying', 'dylan', 'dynamic', 'dynamics', 'dynamism', 'dynamite', 'dysfunctional', 'dysfunctions', 'dz', 'e17', 'e200', 'e3', 'ea', 'eads', 'eady', 'eager', 'eagerly', 'eagles', 'ealing', 'eamonn', 'ear', 'earl', 'earlier', 'earliest', 'early', 'earmarked', 'earn', 'earned', 'earner', 'earners', 'earning', 'earnings', 'earns', 'earpiece', 'earpieces', 'earring', 'ears', 'earth', 'earthlink', 'earthquake', 'earthquakes', 'ease', 'eased', 'eases', 'easier', 'easiest', 'easily', 'easing', 'east', 'eastbourne', 'eastenders', 'easter', 'easterby', 'eastern', 'eastwards', 'eastwood', 'easy', 'easygroup', 'easyjet', 'easymobile', 'eat', 'eater', 'eating', 'eaton', 'eavesdrop', 'eavis', 'eb', 'ebay', 'ebber', 'ebbers', 'ebbs', 'ebell', 'ec', 'eccentric', 'eccentricity', 'eccentrics', 'echo', 'echoed', 'eclipsed', 'eclipses', 'eco', 'ecofin', 'ecology', 'economic', 'economically', 'economics', 'economies', 'economist', 'economists', 'economy', 'ecosystem', 'ecosystems', 'ecstatic', 'ed', 'eddie', 'edelman', 'edge', 'edged', 'edges', 'edgescape', 'edginess', 'edging', 'edgware', 'edgy', 'edinburgh', 'edit', 'edited', 'edith', 'editing', 'edition', 'editor', 'editorial', 'editors', 'edits', 'edmondson', 'edu', 'eduardo', 'educate', 'educated', 'educates', 'educating', 'education', 'educational', 'educationalists', 'educations', 'edward', 'edwards', 'eef', 'eeoc', 'eerdekens', 'eerie', 'eff', 'effect', 'effective', 'effectively', 'effectiveness', 'effects', 'efficacy', 'efficiencies', 'efficiency', 'efficient', 'efficiently', 'effort', 'effortlessly', 'efforts', 'egalitarian', 'egeland', 'egg', 'egged', 'ego', 'egos', 'egotist', 'egwin', 'egypt', 'egyptian', 'ehud', 'eichel', 'eidur', 'eighteen', 'eighth', 'eighty', 'eileen', 'einar', 'eindhoven', 'ejected', 'ejecting', 'ekhayelitsha', 'el', 'elaborate', 'elan', 'elderly', 'eldest', 'eldin', 'eldon', 'eldridge', 'elect', 'elected', 'election', 'electioneering', 'elections', 'electoral', 'electorate', 'electors', 'electric', 'electrical', 'electrically', 'electrician', 'electricity', 'electrifying', 'electro', 'electrodes', 'electroencephalogram', 'electronic', 'electronics', 'electrons', 'element', 'elements', 'elena', 'elene', 'eleni', 'elephant', 'elephants', 'elevated', 'elevator', 'elevators', 'elf', 'elgindy', 'elhorga', 'eli', 'elia', 'elicits', 'eligibility', 'eligible', 'eliminate', 'eliminated', 'eliminating', 'elimination', 'eliot', 'elise', 'elite', 'elites', 'elitist', 'eliud', 'eliza', 'elizabeth', 'ella', 'elland', 'ellen', 'elliot', 'elliott', 'ellis', 'ellison', 'ellsmore', 'elsener', 'elson', 'elspa', 'elton', 'elude', 'elusive', 'elvis', 'em', 'email', 'emailed', 'emails', 'emanating', 'embankment', 'embargo', 'embargoes', 'embark', 'embarked', 'embarking', 'embarrass', 'embarrassed', 'embarrassing', 'embarrassment', 'embassies', 'embassy', 'embattled', 'embedded', 'embezzlement', 'embodiment', 'embrace', 'embraced', 'embracing', 'embroiled', 'embryo', 'embryos', 'embu', 'emcees', 'emenating', 'emerald', 'emerge', 'emerged', 'emergence', 'emergency', 'emerges', 'emerging', 'emi', 'emiew', 'emiews', 'emilio', 'emily', 'emin', 'eminem', 'eminence', 'eminent', 'eminently', 'emirates', 'emissions', 'emma', 'emmanuelle', 'emmer', 'emmy', 'emoticon', 'emotional', 'emotions', 'emotive', 'empathy', 'emphasis', 'emphasise', 'emphasises', 'emphatic', 'empire', 'employ', 'employed', 'employee', 'employees', 'employer', 'employers', 'employing', 'employment', 'employs', 'empower', 'empowerment', 'empress', 'empt', 'emulate', 'emulating', 'emulators', 'en', 'enable', 'enabled', 'enabler', 'enables', 'enabling', 'enacted', 'encampments', 'encapsulate', 'enclosure', 'encoder', 'encoding', 'encompass', 'encompasses', 'encore', 'encounter', 'encountered', 'encounters', 'encourage', 'encouraged', 'encouragement', 'encourages', 'encouraging', 'encroachment', 'encrypted', 'encryption', 'end', 'endacott', 'endangered', 'endeared', 'endearingly', 'endeavour', 'ended', 'endemol', 'endgame', 'endicott', 'ending', 'endless', 'endlessly', 'endorphin', 'endorse', 'endorsed', 'endorsement', 'endorses', 'ends', 'endured', 'enduring', 'enel', 'enemies', 'enemy', 'energetic', 'energetically', 'energie', 'energies', 'energis', 'energise', 'energised', 'energy', 'enfance', 'enfish', 'enforce', 'enforceable', 'enforced', 'enforcement', 'enforcer', 'enforcing', 'engage', 'engaged', 'engagement', 'engagements', 'engagers', 'engages', 'engaging', 'engine', 'engined', 'engineer', 'engineered', 'engineering', 'engineers', 'engines', 'england', 'english', 'englishman', 'enhance', 'enhanced', 'enhancement', 'enhancements', 'enhancing', 'enigma', 'enigmatic', 'enjoined', 'enjoy', 'enjoyable', 'enjoyed', 'enjoying', 'enjoyment', 'enjoys', 'enlarged', 'enlargement', 'enlightened', 'enlisted', 'enlists', 'enliven', 'eno', 'enoch', 'enormity', 'enormous', 'enormously', 'enquires', 'enquiries', 'enqvist', 'enraged', 'enrico', 'enron', 'enshrined', 'ensler', 'ensue', 'ensuing', 'ensure', 'ensured', 'ensures', 'ensuring', 'enter', 'entered', 'entering', 'enterprise', 'enterprises', 'enterprising', 'enters', 'entertain', 'entertained', 'entertainers', 'entertaining', 'entertainment', 'enthralling', 'enthusiasm', 'enthusiast', 'enthusiastic', 'enthusiastically', 'enthusiasts', 'entire', 'entirely', 'entitled', 'entitles', 'entourage', 'entrance', 'entrants', 'entrenched', 'entrepreneur', 'entrepreneurial', 'entrepreneurs', 'entries', 'entry', 'envelope', 'envelopes', 'enveloping', 'environment', 'environmental', 'environments', 'envisaged', 'envisages', 'envisioned', 'envoy', 'envoys', 'eoc', 'eolas', 'epa', 'ephedrine', 'ephemera', 'ephraim', 'epic', 'epicentre', 'epidemic', 'epidemics', 'epipsodes', 'episode', 'episodes', 'epitome', 'epitomised', 'epitomises', 'epo', 'eponymous', 'epp', 'equal', 'equalise', 'equalised', 'equaliser', 'equality', 'equalled', 'equally', 'equating', 'equation', 'equatorial', 'equilibrium', 'equip', 'equipier', 'equipment', 'equipped', 'equities', 'equity', 'equivalent', 'er', 'era', 'eradicate', 'eras', 'erase', 'eraser', 'erasing', 'erasure', 'erected', 'erfurt', 'eric', 'erich', 'ericsson', 'eriflleh', 'erik', 'eriksson', 'erinle', 'erm', 'ernest', 'ernie', 'ernst', 'eroded', 'eroding', 'erosion', 'erotic', 'erotica', 'err', 'errant', 'erratic', 'erroneous', 'error', 'errors', 'ers', 'erupt', 'erupted', 'erupting', 'eruption', 'erupts', 'escalated', 'escalators', 'escape', 'escaped', 'escaping', 'escondida', 'escorted', 'espanol', 'espanyol', 'especially', 'espionage', 'esquive', 'essar', 'essence', 'essential', 'essentially', 'essentials', 'essex', 'esson', 'establish', 'established', 'establishing', 'establishment', 'establishments', 'estaing', 'estate', 'estates', 'estefan', 'estelle', 'estimate', 'estimated', 'estimates', 'estimating', 'estimation', 'estonia', 'et', 'eta', 'etat', 'eternal', 'ethel', 'ethernet', 'ethical', 'ethically', 'ethics', 'ethiopia', 'ethiopian', 'ethnic', 'ethnicities', 'ethos', 'etienne', 'eton', 'etsi', 'eu', 'eulogy', 'euphoric', 'eurex', 'euro', 'eurodisney', 'euronext', 'europe', 'european', 'europeans', 'europhiles', 'euros', 'eurosceptic', 'euroscepticism', 'eurozone', 'euskarians', 'euston', 'euthanasia', 'eva', 'evacuate', 'evacuated', 'evacuating', 'evacuation', 'evade', 'evaded', 'evaluate', 'evaluated', 'evaluation', 'evaluations', 'evalution', 'evan', 'evanescence', 'evangelical', 'evans', 'evaporate', 'evaporated', 'evasion', 'eve', 'evening', 'evenings', 'event', 'events', 'eventual', 'eventuality', 'eventually', 'evergreen', 'everton', 'everybody', 'everyday', 'evesham', 'evict', 'evicted', 'eviction', 'evictions', 'evidence', 'evident', 'evil', 'evils', 'evo', 'evocation', 'evokes', 'evolution', 'evolve', 'evolved', 'evolves', 'evolving', 'ewan', 'ewood', 'ex', 'exacerbate', 'exacerbated', 'exacerbating', 'exact', 'exactly', 'exam', 'examination', 'examine', 'examined', 'examining', 'example', 'examples', 'exams', 'exasperated', 'excavated', 'exceed', 'exceeded', 'exceeding', 'exceeds', 'excellence', 'excellent', 'exception', 'exceptional', 'exceptions', 'excerpt', 'excess', 'excesses', 'excessive', 'excessively', 'exchange', 'exchanged', 'exchanges', 'exchanging', 'exchequer', 'excite', 'excited', 'excitement', 'exciting', 'exclaimed', 'exclude', 'excluded', 'excludes', 'excluding', 'exclusion', 'exclusive', 'exclusively', 'excuse', 'execute', 'executed', 'execution', 'executive', 'executives', 'exel', 'exemplary', 'exempt', 'exempting', 'exemptions', 'exercise', 'exercised', 'exercises', 'exercising', 'exert', 'exerted', 'exerting', 'exerts', 'exeter', 'exhaust', 'exhausted', 'exhibit', 'exhibited', 'exhibition', 'exhibitions', 'exhibitor', 'exhibitors', 'exile', 'exiles', 'eximbank', 'exist', 'existed', 'existence', 'existent', 'existing', 'exists', 'exit', 'exited', 'exodus', 'exonerated', 'exorcist', 'exotic', 'expand', 'expandable', 'expanded', 'expanding', 'expands', 'expansion', 'expansions', 'expansive', 'expatriates', 'expect', 'expectancies', 'expectancy', 'expectation', 'expectations', 'expected', 'expecting', 'expects', 'expediency', 'expelled', 'expenditure', 'expense', 'expenses', 'expensive', 'experience', 'experienced', 'experiences', 'experiencing', 'experiment', 'experimental', 'experimentation', 'experimenting', 'experiments', 'expert', 'expertise', 'experts', 'expirations', 'expire', 'expired', 'expires', 'explain', 'explained', 'explaining', 'explains', 'explanation', 'explanations', 'expletive', 'expletives', 'explicit', 'explicitly', 'explode', 'exploded', 'explodes', 'exploit', 'exploitation', 'exploited', 'exploiting', 'exploits', 'exploration', 'explorations', 'explore', 'explored', 'explorer', 'explores', 'exploring', 'explosion', 'explosions', 'explosive', 'explosives', 'expo', 'exponential', 'exponentially', 'export', 'exported', 'exporter', 'exporters', 'exporting', 'exports', 'expose', 'exposed', 'exposure', 'express', 'expressed', 'expresses', 'expression', 'expressions', 'expulsion', 'expunge', 'expunged', 'extend', 'extended', 'extending', 'extension', 'extensions', 'extensive', 'extent', 'external', 'extinct', 'extort', 'extortion', 'extortionists', 'extra', 'extract', 'extracting', 'extracts', 'extradite', 'extradition', 'extraordinary', 'extras', 'extravagant', 'extravaganza', 'extreme', 'extremely', 'extremism', 'extremist', 'extremists', 'exuberance', 'exxon', 'exxonmobil', 'eye', 'eyeballs', 'eyebrows', 'eyed', 'eyeing', 'eyelashes', 'eyes', 'eyetoy', 'eyewitness', 'eyre', 'eyton', 'f4', 'fa', 'fabien', 'fabiola', 'fable', 'fabregas', 'fabric', 'fabrication', 'fabrice', 'fabrics', 'fabulous', 'face', 'faced', 'faceless', 'faces', 'facey', 'facilitate', 'facilitating', 'facilitator', 'facilities', 'facility', 'facing', 'fact', 'factions', 'facto', 'factor', 'factored', 'factories', 'factors', 'factory', 'facts', 'factual', 'fad', 'fade', 'faded', 'fades', 'fading', 'fagin', 'fahrenheit', 'fai', 'fail', 'failed', 'failing', 'failings', 'fails', 'failure', 'failures', 'fair', 'fairbanks', 'fairer', 'fairly', 'fairmont', 'fairness', 'fairs', 'fairway', 'faisal', 'fait', 'faith', 'faithful', 'faiths', 'fake', 'faked', 'faking', 'falcon', 'falconer', 'falcons', 'fall', 'fallen', 'fallible', 'falling', 'fallout', 'fallow', 'falls', 'fallujah', 'false', 'falsehood', 'falsify', 'falsifying', 'faltered', 'faltering', 'fame', 'famed', 'familiar', 'familiarity', 'families', 'family', 'famine', 'famous', 'famously', 'fan', 'fanara', 'fanatics', 'fancied', 'fancy', 'fanfare', 'fang', 'fannie', 'fanning', 'fans', 'fantasise', 'fantastic', 'fantasy', 'fao', 'far', 'farah', 'farce', 'fare', 'faregas', 'fares', 'farewell', 'fargas', 'fargo', 'farina', 'farm', 'farmer', 'farmers', 'farming', 'farmland', 'farms', 'farmyard', 'farndon', 'farnham', 'faroe', 'farrell', 'fascinate', 'fascinated', 'fascination', 'fashion', 'fashionable', 'fashioned', 'fashionista', 'fast', 'faster', 'fastest', 'fat', 'fatal', 'fatboy', 'fate', 'fated', 'father', 'fathered', 'fathi', 'fathom', 'fatigue', 'fatigued', 'fatos', 'fault', 'faulted', 'faultless', 'faults', 'faulty', 'fausto', 'fava', 'favour', 'favourable', 'favourably', 'favoured', 'favourite', 'favourites', 'favours', 'fawkes', 'fax', 'faye', 'fayetteville', 'fazelas', 'fbi', 'fc', 'fcc', 'fdi', 'fear', 'feared', 'fearful', 'feargal', 'fearing', 'fearne', 'fears', 'fearsomely', 'feasibility', 'feasible', 'feat', 'feather', 'feature', 'featured', 'features', 'featuring', 'february', 'fed', 'federal', 'federated', 'federation', 'federations', 'federer', 'federico', 'federline', 'fee', 'feed', 'feedback', 'feeder', 'feeding', 'feeds', 'feel', 'feeling', 'feelings', 'feels', 'feely', 'fees', 'feet', 'feign', 'feigned', 'feint', 'feleppa', 'felgate', 'feliciano', 'felicity', 'feline', 'felipe', 'felix', 'fell', 'felled', 'fellman', 'fellner', 'fellow', 'fellowship', 'felony', 'felt', 'female', 'females', 'feminist', 'fence', 'fender', 'fenerbahce', 'fensao', 'fenton', 'feofanova', 'fer', 'ferdinand', 'fergie', 'ferguson', 'fern', 'fernando', 'ferocious', 'ferocity', 'feroz', 'ferrari', 'ferreira', 'ferrerira', 'ferrero', 'ferried', 'ferris', 'ferrochrome', 'ferrovial', 'ferry', 'ferstman', 'fertile', 'fertiliser', 'fertility', 'fervent', 'fervour', 'fest', 'festen', 'festival', 'festivals', 'festive', 'festivities', 'feta', 'fetch', 'fetched', 'fetches', 'feted', 'feud', 'feuding', 'feuds', 'fever', 'fewer', 'fewest', 'feyenoord', 'ffion', 'fi', 'fiancee', 'fiasco', 'fiat', 'fibre', 'fickle', 'fiction', 'fictional', 'fictitious', 'fiddle', 'fiddled', 'fiddler', 'fide', 'fidel', 'fidelis', 'fiduciary', 'field', 'fielded', 'fields', 'fiend', 'fiendish', 'fiends', 'fiennes', 'fierce', 'fiercely', 'fifa', 'fife', 'fifth', 'fifths', 'fight', 'fightback', 'fighter', 'fighters', 'fighting', 'fights', 'fightstar', 'figo', 'figure', 'figurehead', 'figures', 'fiji', 'file', 'filed', 'files', 'filing', 'filings', 'filippo', 'filled', 'filler', 'filling', 'film', 'filmed', 'filmic', 'filming', 'filmmaker', 'filmmakers', 'filmmaking', 'films', 'filter', 'filtered', 'filtering', 'filters', 'filthy', 'final', 'finale', 'finalise', 'finalised', 'finalist', 'finalists', 'finally', 'finals', 'finance', 'financed', 'finances', 'financial', 'financially', 'financials', 'financing', 'financings', 'finans', 'finanziaria', 'finding', 'findings', 'findlay', 'finds', 'fine', 'fined', 'finely', 'fines', 'finest', 'finger', 'fingerprint', 'fingerprinting', 'fingerprints', 'fingers', 'fingersmith', 'fingertips', 'finish', 'finished', 'finishes', 'finishing', 'finite', 'finjan', 'finland', 'finlay', 'finn', 'finnan', 'finnie', 'finnigan', 'finnish', 'finsbury', 'finsihed', 'fintian', 'fiona', 'fionnualla', 'fiorina', 'firebird', 'fired', 'firefights', 'firefox', 'firemen', 'fires', 'firestone', 'firewall', 'firewalls', 'firewire', 'firework', 'fireworks', 'firing', 'firm', 'firmer', 'firmly', 'firms', 'firstly', 'firsts', 'firstsaver', 'firth', 'fiscal', 'fiscally', 'fish', 'fisher', 'fisheries', 'fishermen', 'fishing', 'fiszman', 'fit', 'fitch', 'fitness', 'fits', 'fitted', 'fitting', 'fittings', 'fitzgerald', 'fitzpatrick', 'fitzsimons', 'fivefold', 'fix', 'fixate', 'fixed', 'fixes', 'fixing', 'fixings', 'fixture', 'fixtures', 'fizzled', 'fizzy', 'flack', 'flag', 'flagged', 'flagrant', 'flagship', 'flair', 'flak', 'flakier', 'flamboyant', 'flame', 'flamenco', 'flames', 'flamethrowers', 'flamini', 'flank', 'flanker', 'flare', 'flared', 'flash', 'flashes', 'flashing', 'flashpoint', 'flashy', 'flat', 'flats', 'flatt', 'flattered', 'flattering', 'flattery', 'flautist', 'flavia', 'flavio', 'flavour', 'flavoured', 'flaw', 'flawed', 'flaws', 'fled', 'fledged', 'fledging', 'fleeing', 'fleet', 'fleming', 'fletcher', 'flew', 'flexibility', 'flexible', 'flick', 'flicker', 'flicking', 'flies', 'flight', 'flights', 'flipstart', 'flo', 'float', 'floated', 'floating', 'floats', 'floaty', 'flock', 'flood', 'flooded', 'flooding', 'floods', 'floor', 'floors', 'flop', 'floppy', 'flops', 'flora', 'florentino', 'florian', 'florida', 'florin', 'flotation', 'floundering', 'flounders', 'flourish', 'flourished', 'flout', 'flouted', 'flouting', 'flow', 'flower', 'flowers', 'flowing', 'flows', 'flu', 'fluctuations', 'fluff', 'fluffed', 'fluid', 'fluids', 'fluorescent', 'flurry', 'flushed', 'flushing', 'flutist', 'flutter', 'fly', 'flying', 'flynn', 'fm', 'focal', 'fockers', 'focus', 'focused', 'focuses', 'focusing', 'focussed', 'focussing', 'foes', 'fog', 'fogarty', 'fogg', 'foggy', 'foil', 'fold', 'folded', 'folding', 'folds', 'foley', 'folk', 'follett', 'folllowing', 'follow', 'followed', 'followers', 'following', 'follows', 'foment', 'fond', 'fonda', 'fondation', 'fondness', 'fonetography', 'fonteyn', 'foo', 'food', 'foods', 'foodservice', 'fool', 'fooled', 'foolish', 'fools', 'foot', 'footage', 'football', 'footballer', 'footballers', 'footballing', 'footed', 'footfall', 'foothold', 'footing', 'footsteps', 'footwear', 'foray', 'forays', 'forbes', 'force', 'forced', 'forceful', 'forces', 'forcible', 'forcibly', 'forcing', 'ford', 'fore', 'forearm', 'forecast', 'forecasters', 'forecasting', 'forecasts', 'forefathers', 'forefront', 'forehands', 'forehead', 'foreign', 'foreigners', 'foreknowledge', 'foreman', 'foremost', 'forensic', 'foreruns', 'foresee', 'foresees', 'forest', 'forever', 'foreverman', 'forewarning', 'foreword', 'forged', 'forget', 'forgetting', 'forging', 'forgive', 'forgiven', 'forgot', 'forgotten', 'fork', 'form', 'formal', 'formality', 'formally', 'format', 'formation', 'formats', 'formed', 'formidable', 'forming', 'forms', 'formula', 'formulaic', 'formulate', 'formulating', 'forrester', 'forster', 'forsyth', 'fortey', 'forthcoming', 'fortnight', 'fortress', 'fortuitous', 'fortunate', 'fortunately', 'fortune', 'fortunes', 'fortuyn', 'forum', 'forums', 'forward', 'forwards', 'fossil', 'fossils', 'foster', 'fostering', 'fought', 'foul', 'fouled', 'fouls', 'foundation', 'foundations', 'founded', 'founder', 'founders', 'founding', 'fountains', 'fourie', 'fourteen', 'fourth', 'fowler', 'fox', 'foxed', 'foxes', 'foxx', 'fracas', 'fraction', 'fractured', 'fracturing', 'fragile', 'fragility', 'fragment', 'fragmentation', 'fragmented', 'fragments', 'frame', 'frames', 'framework', 'framing', 'fran', 'franc', 'franca', 'francais', 'france', 'frances', 'francesca', 'francesco', 'franchise', 'franchisee', 'franchises', 'francique', 'francis', 'francisco', 'franco', 'francois', 'francs', 'frank', 'frankenheimer', 'frankfurt', 'frankin', 'franklin', 'frankly', 'frantic', 'franz', 'frasca', 'fraser', 'fraserburgh', 'fraternities', 'fraternity', 'frattini', 'fratton', 'fraud', 'frauds', 'fraudster', 'fraudsters', 'fraudulent', 'fraudulently', 'fraught', 'fray', 'frazier', 'fred', 'freddie', 'freddy', 'frederic', 'frederick', 'free', 'freebies', 'freed', 'freedom', 'freedoms', 'freefall', 'freeing', 'freelance', 'freelove', 'freely', 'freeman', 'freer', 'freeview', 'freeze', 'freezing', 'freight', 'french', 'frenchman', 'frenchwoman', 'frenetic', 'frenzied', 'frenzy', 'frequencies', 'frequency', 'frequently', 'frescos', 'fresh', 'freshen', 'freshly', 'fretted', 'fri', 'friday', 'frideric', 'fridges', 'fried', 'friend', 'friendlies', 'friendly', 'friends', 'frigate', 'frighten', 'frightened', 'frills', 'fringe', 'frisk', 'frivolous', 'frock', 'frodo', 'frontbench', 'frontbencher', 'frontbenchers', 'fronted', 'fronter', 'frontier', 'frontiers', 'frontline', 'frontman', 'frontrunner', 'fronts', 'frost', 'froth', 'frowned', 'froze', 'frozen', 'fruit', 'frustrated', 'frustrates', 'frustrating', 'frustratingly', 'frustration', 'fry', 'fsa', 'ft', 'ftse', 'fudge', 'fuel', 'fuelled', 'fuelling', 'fuels', 'fuerteventura', 'fugill', 'fujitsu', 'fulfil', 'fulfilled', 'fulfilling', 'fulfils', 'fulham', 'fullarton', 'fuller', 'fullest', 'fully', 'fumble', 'fumbled', 'fume', 'fuming', 'fun', 'function', 'functional', 'functionality', 'functioned', 'functioning', 'functions', 'fund', 'fundamental', 'fundamentally', 'fundamentals', 'funded', 'funding', 'fundraiser', 'fundraising', 'funds', 'funeral', 'funkier', 'funky', 'funnel', 'funny', 'fuqua', 'furious', 'furnish', 'furnishings', 'furniture', 'furore', 'furse', 'furthermore', 'fury', 'fused', 'fuses', 'fuso', 'fuss', 'future', 'futureheads', 'futures', 'futuristic', 'futurologist', 'fy500', 'g20', 'g4', 'g7', 'g8', 'gabriel', 'gabrielle', 'gadget', 'gadgetry', 'gadgets', 'gael', 'gaffe', 'gaffes', 'gage', 'gagging', 'gaia', 'gail', 'gaillard', 'gain', 'gained', 'gaining', 'gains', 'gait', 'gala', 'galan', 'galaxy', 'gale', 'galesi', 'galifray', 'gallagher', 'gallas', 'galleries', 'gallery', 'gallium', 'gallon', 'galloway', 'galls', 'galmier', 'galore', 'galvanize', 'galway', 'gama', 'gambill', 'gamble', 'gambles', 'gambling', 'game', 'gameboy', 'gameboys', 'gamely', 'gamepads', 'gameplan', 'gameplay', 'gamer', 'gamers', 'games', 'gameshow', 'gamesindustry', 'gaming', 'gammage', 'gammell', 'gandula', 'gandulla', 'gang', 'gangs', 'gangsters', 'gaobot', 'gap', 'gaps', 'gara', 'garage', 'garageband', 'garai', 'garbage', 'garcia', 'garden', 'gardener', 'gardner', 'gareth', 'garfield', 'garfunkel', 'gargantuan', 'garish', 'garland', 'garment', 'garments', 'garner', 'garnered', 'garoua', 'garros', 'garrow', 'gartner', 'gary', 'garzon', 'gas', 'gascoigne', 'gases', 'gasoline', 'gasp', 'gaston', 'gastropods', 'gate', 'gatekeeper', 'gatekeepers', 'gates', 'gateshead', 'gateway', 'gateways', 'gather', 'gathered', 'gathering', 'gathers', 'gatland', 'gatlin', 'gatwick', 'gaudio', 'gauge', 'gave', 'gavin', 'gay', 'gaydon', 'gaymard', 'gaza', 'gazprom', 'gazpromneft', 'gb', 'gbagbo', 'gcse', 'gcses', 'gdc', 'gdp', 'ge', 'gear', 'gearbox', 'gearboxes', 'geared', 'gearing', 'gears', 'gebre', 'gebremariam', 'gebrselassie', 'gecad', 'geek', 'geeks', 'geeky', 'gees', 'geislerova', 'gel', 'geldof', 'gelete', 'gellar', 'gelled', 'gem', 'gemma', 'gems', 'gen', 'gencrowd', 'gender', 'genders', 'gene', 'genemation', 'general', 'generally', 'generate', 'generated', 'generates', 'generating', 'generation', 'generations', 'generator', 'generators', 'generic', 'generics', 'generosity', 'generous', 'geneti', 'genetically', 'genetics', 'geneva', 'genghis', 'genie', 'genius', 'gennaro', 'genocide', 'genre', 'genres', 'gentleman', 'genuine', 'genuinely', 'geo', 'geoff', 'geoffrey', 'geographic', 'geographical', 'geographies', 'geography', 'geological', 'geopolitics', 'geordan', 'george', 'georgewbush', 'georgia', 'geraldine', 'gerard', 'gerd', 'gere', 'geremi', 'gerhard', 'geri', 'germain', 'germaine', 'german', 'germano', 'germans', 'germany', 'gerolami', 'gerrard', 'gerry', 'gershon', 'gertz', 'gervais', 'gescher', 'gestapo', 'gesture', 'gestures', 'gethin', 'gets', 'getting', 'gevaert', 'ghai', 'ghana', 'ghanaian', 'gharafa', 'gharib', 'ghazi', 'ghosn', 'ghost', 'ghosts', 'ghz', 'giamatti', 'gianfranco', 'gianluca', 'gianni', 'giant', 'giants', 'gibb', 'gibbons', 'gibbs', 'gibson', 'giddy', 'gieve', 'gif', 'gift', 'gifted', 'gifts', 'gig', 'gigabits', 'gigabyte', 'gigabytes', 'gigajoule', 'gigantic', 'gigapixel', 'giggles', 'giggs', 'gigs', 'gil', 'gilbert', 'giles', 'gilhaney', 'gill', 'gilles', 'gillespie', 'gillian', 'gillies', 'gilligan', 'gillingham', 'gillmor', 'gillon', 'gilmar', 'gimme', 'gimmicks', 'gin', 'ginepri', 'ginger', 'ginsberg', 'giordano', 'girl', 'girlfriend', 'girlfriends', 'girls', 'girvan', 'gisbergen', 'giscard', 'gisela', 'giselle', 'giteau', 'giuseppe', 'giveaway', 'giveaways', 'given', 'gives', 'giving', 'gizmondo', 'gizmos', 'glad', 'gladiator', 'gladly', 'glam', 'glamour', 'glance', 'glanced', 'glaring', 'glasgow', 'glass', 'glasses', 'glastonbury', 'glaxosmithkline', 'glazer', 'glean', 'glen', 'gleneagles', 'glenn', 'glens', 'glenurquhart', 'glided', 'glides', 'glimmer', 'glimpse', 'glitch', 'glitches', 'glittering', 'glitz', 'global', 'globalisation', 'globally', 'globe', 'globes', 'globescan', 'glocer', 'gloom', 'gloomy', 'gloria', 'glorified', 'glorious', 'glory', 'gloss', 'gloucester', 'gloucestershire', 'gloves', 'glow', 'glowing', 'glued', 'glut', 'glyn', 'glynn', 'gm', 'gmac', 'gmb', 'gmc', 'gmt', 'gmtv', 'gner', 'gnoll', 'gnu', 'goa', 'goal', 'goalkeeper', 'goalkicking', 'goalless', 'goalline', 'goalmouth', 'goals', 'goalscorer', 'goalscoring', 'goalwards', 'goat', 'gobbled', 'gobsmacked', 'god', 'godfather', 'gods', 'godzilla', 'goes', 'gogh', 'goin', 'going', 'goings', 'gold', 'golden', 'goldeneye', 'goldfinger', 'goldin', 'goldman', 'golds', 'goldsmith', 'goldstein', 'goldwyn', 'golf', 'golfers', 'golfing', 'gollings', 'golovin', 'gomarsall', 'gondry', 'gone', 'gong', 'gongs', 'gonna', 'gonsalves', 'gonzaelz', 'gonzalez', 'gonzalo', 'gooch', 'good', 'goodbody', 'goodbye', 'goode', 'goodfellas', 'goodison', 'goodman', 'goodness', 'goodrem', 'goods', 'goodwill', 'google', 'goon', 'goose', 'goosens', 'gopinath', 'goran', 'gorbachev', 'gordievsky', 'gordon', 'gorgeous', 'gorges', 'gormenghast', 'gorton', 'gorur', 'gosaibi', 'gospel', 'gospels', 'gossip', 'got', 'gothic', 'gothika', 'gotta', 'gotten', 'gotting', 'gough', 'gould', 'gov', 'govern', 'governance', 'governed', 'governess', 'governing', 'government', 'governmental', 'governments', 'governor', 'governs', 'gown', 'goya', 'gp', 'gprs', 'gps', 'gpw', 'grab', 'grabbed', 'grabbing', 'graber', 'grabs', 'grace', 'graced', 'graceland', 'gracious', 'graczyk', 'grade', 'grades', 'gradual', 'gradually', 'graduate', 'graduated', 'graduates', 'grady', 'graeme', 'graffiti', 'graft', 'graham', 'grail', 'grammar', 'grammy', 'grammys', 'grams', 'gran', 'granada', 'granclaude', 'grand', 'grandchild', 'grandclaude', 'grandfather', 'grandma', 'grandmother', 'grandparent', 'grandson', 'grange', 'granita', 'grant', 'granted', 'grants', 'graphic', 'graphical', 'graphically', 'graphics', 'grappled', 'grappling', 'grasp', 'grasped', 'grass', 'grassroot', 'grassroots', 'grateful', 'gratuitous', 'grauman', 'grave', 'gravediggers', 'gravesen', 'gravestone', 'gravity', 'gray', 'grazer', 'greased', 'great', 'greater', 'greatest', 'greatly', 'greats', 'greaves', 'grecians', 'greco', 'greece', 'greed', 'greek', 'green', 'greenback', 'greene', 'greener', 'greenfield', 'greenhouse', 'greening', 'greens', 'greensleeves', 'greenspan', 'greenwich', 'greenwood', 'greer', 'greet', 'greeted', 'greeting', 'gref', 'greg', 'gregan', 'gregarious', 'gregg', 'gregory', 'greig', 'grenades', 'gretchen', 'grew', 'grewcock', 'grey', 'greyhound', 'grid', 'gridlock', 'grief', 'grievances', 'grieve', 'grieving', 'griffen', 'griffin', 'griffiths', 'grim', 'grimes', 'grinding', 'grinds', 'grip', 'gripes', 'gripping', 'grips', 'gritted', 'gritty', 'grizzly', 'grocers', 'grocery', 'groenefeld', 'grohl', 'groin', 'grokster', 'gronkjaer', 'grosjean', 'gross', 'grossed', 'grossly', 'grosvenor', 'ground', 'groundbreaking', 'grounded', 'grounding', 'groundrules', 'grounds', 'group', 'groups', 'grove', 'grovelling', 'grow', 'growing', 'grown', 'grows', 'growth', 'grudge', 'gruelling', 'gruesome', 'grumbletext', 'grunt', 'gsi', 'gsk', 'gsm', 'gt', 'gt4', 'gta', 'guadalcanal', 'guantanamo', 'guarantee', 'guaranteed', 'guaranteeing', 'guarantees', 'guaranty', 'guard', 'guarded', 'guardian', 'guardiola', 'guards', 'gudjohnsen', 'guernsey', 'guerrilla', 'guerrouj', 'guess', 'guessed', 'guessing', 'guest', 'guests', 'guff', 'guidance', 'guidant', 'guide', 'guided', 'guideline', 'guidelines', 'guides', 'guiding', 'guido', 'guild', 'guildford', 'guildhall', 'guillermo', 'guilt', 'guilty', 'guinea', 'guinness', 'guise', 'guitar', 'guitarist', 'guitarists', 'guitars', 'gulf', 'gullit', 'gun', 'gunboat', 'gunnar', 'gunner', 'gunners', 'gunning', 'gunpowder', 'guns', 'gunshot', 'gupta', 'gurevich', 'gurkha', 'gurkhas', 'guru', 'gus', 'guscott', 'gustavo', 'gutful', 'guti', 'guts', 'gutsy', 'gutted', 'gutter', 'guy', 'guys', 'gw', 'gwen', 'gwent', 'gwyneth', 'gybels', 'gym', 'gypsies', 'gypsy', 'haas', 'habit', 'habits', 'hacan', 'hacienda', 'hack', 'hacker', 'hackers', 'hackett', 'hackford', 'hacking', 'hacks', 'haden', 'hadi', 'hadn', 'hagerstown', 'hague', 'hail', 'haile', 'hailed', 'hails', 'hailstorm', 'hain', 'hair', 'haircut', 'hairdressing', 'haisheng', 'haiti', 'haji', 'hak', 'haka', 'hal', 'hale', 'half', 'halftime', 'halfway', 'halifax', 'hall', 'halle', 'halliburton', 'halliwell', 'hallmarks', 'hallowed', 'halloween', 'halls', 'halo', 'halser', 'halt', 'halted', 'haltemprice', 'halts', 'halve', 'halved', 'halving', 'ham', 'hamann', 'hambantota', 'hamburg', 'hamilton', 'hamish', 'hamlet', 'hamlets', 'hamm', 'hammer', 'hammered', 'hammering', 'hammers', 'hammerton', 'hampden', 'hamper', 'hampered', 'hampering', 'hampshire', 'hampton', 'hamster', 'hamstring', 'hand', 'handbag', 'handbook', 'handcuffed', 'handed', 'handedly', 'handedness', 'handel', 'hander', 'handful', 'handheld', 'handhelds', 'handicap', 'handing', 'handle', 'handled', 'handler', 'handles', 'handling', 'hands', 'handset', 'handsets', 'handwritten', 'handy', 'hang', 'hanging', 'hangs', 'hanif', 'hanks', 'hanley', 'hannah', 'hannigan', 'hanningfield', 'hans', 'hansard', 'hansen', 'hantuchova', 'haphazard', 'hapless', 'happen', 'happened', 'happening', 'happenings', 'happens', 'happier', 'happily', 'happiness', 'happoshu', 'happy', 'hara', 'haralabos', 'haranguing', 'harbour', 'harbouring', 'harbours', 'hard', 'hardcastle', 'hardcore', 'hardcourt', 'hardcourts', 'hardened', 'hardening', 'hardenne', 'harder', 'hardest', 'harding', 'hardline', 'hardliners', 'hardly', 'hardship', 'hardware', 'hardworking', 'hare', 'hared', 'hares', 'harinordoquy', 'hariri', 'harker', 'harlem', 'harlequins', 'harlin', 'harm', 'harman', 'harmed', 'harmful', 'harmless', 'harmonisation', 'harmonise', 'harmony', 'harness', 'harnessing', 'harold', 'harp', 'harper', 'harried', 'harrier', 'harriers', 'harriet', 'harris', 'harrison', 'harrogate', 'harrow', 'harry', 'harsh', 'harshly', 'hart', 'hartlepool', 'hartog', 'hartpury', 'hartson', 'harty', 'hartz', 'harvard', 'harvest', 'harvesting', 'harvey', 'hash', 'hashemian', 'haskins', 'haslam', 'hasn', 'hassan', 'hasselhoff', 'hassle', 'hastily', 'hasty', 'hat', 'hatcher', 'hate', 'hates', 'hatfield', 'hatful', 'hato', 'hatred', 'hats', 'hattersley', 'haul', 'hauled', 'haunt', 'havana', 'haven', 'haverstock', 'haves', 'having', 'hawaii', 'hawk', 'hawking', 'hawkins', 'hawkish', 'hayao', 'hayden', 'hayes', 'hayley', 'haystack', 'hayward', 'hazardous', 'hazel', 'hazell', 'hazlewood', 'hazzard', 'hbo', 'hbos', 'hcl', 'hd', 'hdtv', 'hdtvs', 'head', 'headache', 'headaches', 'headed', 'header', 'heading', 'headingley', 'headline', 'headliners', 'headlines', 'headlining', 'headmaster', 'headphone', 'headphones', 'headquarters', 'heads', 'headset', 'heady', 'heal', 'heald', 'healed', 'healey', 'health', 'healthcare', 'healthiest', 'healthy', 'heap', 'heaped', 'hear', 'heard', 'hearing', 'hearings', 'hears', 'hearsay', 'heart', 'heartbeat', 'hearted', 'heartening', 'heartlands', 'hearts', 'hearty', 'heat', 'heated', 'heath', 'heather', 'heathers', 'heathrow', 'heating', 'heats', 'heaven', 'heavily', 'heaving', 'heavy', 'heavyweights', 'heck', 'hectare', 'hectares', 'hectic', 'hector', 'hedge', 'hedged', 'hedging', 'heels', 'hefty', 'height', 'heightened', 'heightens', 'heights', 'heikkinen', 'heilmann', 'hein', 'heine', 'heineken', 'heintze', 'heinze', 'heirloom', 'heirs', 'heists', 'heizo', 'held', 'helen', 'helena', 'helens', 'helicopter', 'helicopters', 'hell', 'hellblazer', 'hellboy', 'hellenic', 'hellewell', 'hellfire', 'hello', 'helm', 'helmut', 'help', 'helped', 'helper', 'helpful', 'helping', 'helpless', 'helps', 'helsinki', 'hemington', 'hemisphere', 'henchoz', 'henderson', 'hendrix', 'henin', 'henk', 'henley', 'henman', 'henri', 'henry', 'henson', 'hepatitis', 'hepburn', 'heptathlon', 'herald', 'heralded', 'heralds', 'herbert', 'hercus', 'hereditaries', 'hereditary', 'hereford', 'herefordshire', 'heretic', 'heritage', 'herlihy', 'hermione', 'herne', 'hernych', 'hero', 'heroes', 'heroic', 'heroics', 'heroin', 'heroine', 'heronry', 'herrick', 'herron', 'hertfordshire', 'herve', 'hesaid', 'heseltine', 'hesitated', 'hesitation', 'hessel', 'hevesi', 'hew', 'hewitt', 'hewland', 'hewlett', 'hewson', 'hey', 'heyday', 'hi', 'hiatus', 'hibbert', 'hibernian', 'hicham', 'hickey', 'hickie', 'hickox', 'hidden', 'hide', 'hides', 'hiding', 'higdon', 'higgins', 'high', 'highbrow', 'highbury', 'higher', 'highest', 'highfield', 'highfields', 'highgrove', 'highland', 'highlander', 'highlands', 'highlight', 'highlighted', 'highlighting', 'highlights', 'highly', 'highs', 'highway', 'hijack', 'hijacked', 'hijacks', 'hike', 'hikes', 'hilarious', 'hilary', 'hildegard', 'hiley', 'hill', 'hillbillies', 'hillingdon', 'hills', 'hillsborough', 'hinckley', 'hind', 'hinder', 'hindering', 'hindi', 'hindu', 'hindus', 'hindustan', 'hines', 'hinge', 'hinged', 'hinges', 'hinshelwood', 'hint', 'hinted', 'hinting', 'hints', 'hip', 'hippy', 'hirai', 'hire', 'hiring', 'hiromichi', 'hislop', 'hiss', 'historian', 'historians', 'historic', 'historical', 'historically', 'histories', 'history', 'hit', 'hitachi', 'hitch', 'hitchcock', 'hitchhiker', 'hiten', 'hitler', 'hits', 'hitters', 'hitting', 'hitwise', 'hitzlsperger', 'hiv', 'hive', 'hk', 'hms', 'hmv', 'hoadley', 'hoax', 'hoaxes', 'hobbies', 'hobbit', 'hobby', 'hobday', 'hobson', 'hockey', 'hockney', 'hoddle', 'hodge', 'hodgson', 'hoffman', 'hoffmann', 'hogan', 'hogg', 'hogwarts', 'hoisted', 'holah', 'holborn', 'holby', 'hold', 'holder', 'holders', 'holding', 'holdings', 'holds', 'holdsworth', 'hole', 'holes', 'holiday', 'holidaying', 'holidaymakers', 'holidays', 'holiff', 'holland', 'holliday', 'hollinger', 'hollinghurst', 'hollwood', 'holly', 'hollywood', 'holme', 'holmes', 'holocaust', 'holy', 'holyrood', 'holzle', 'home', 'homebuyers', 'homecoming', 'homegrown', 'homeland', 'homeless', 'homelessness', 'homeowner', 'homepage', 'homes', 'homesick', 'hometown', 'homework', 'homie', 'homophobic', 'homosexuality', 'honda', 'hone', 'honest', 'honestly', 'honesty', 'honey', 'honeyman', 'honeynet', 'hong', 'honiss', 'honor', 'honorary', 'honour', 'honoured', 'honouring', 'honours', 'hood', 'hook', 'hooked', 'hooker', 'hooking', 'hoon', 'hoople', 'hooves', 'hop', 'hope', 'hoped', 'hopeful', 'hopefully', 'hopefuls', 'hopes', 'hoping', 'hopkins', 'hopman', 'horan', 'hordes', 'hore', 'horgan', 'horiuchi', 'horizon', 'horizons', 'horn', 'horner', 'horns', 'hornsey', 'horowitz', 'horrendous', 'horrible', 'horror', 'horrors', 'horse', 'horsepower', 'horseracing', 'horses', 'horsman', 'horstman', 'hosford', 'hosiery', 'hoskins', 'hospital', 'hospitality', 'hospitals', 'hossam', 'host', 'hostage', 'hostages', 'hosted', 'hostile', 'hostilities', 'hostility', 'hosting', 'hosts', 'hot', 'hotbot', 'hotel', 'hotels', 'hothouse', 'hotline', 'hotly', 'hotmail', 'hotpants', 'hotpot', 'hots', 'hotseat', 'hotspot', 'hotspots', 'hottest', 'houlihan', 'houllier', 'hounded', 'hounds', 'hounslow', 'hour', 'hourly', 'hours', 'house', 'housebuilder', 'housed', 'household', 'householder', 'householders', 'households', 'housemate', 'housemates', 'houses', 'housewives', 'housing', 'houston', 'hove', 'hovering', 'howard', 'howden', 'howe', 'howell', 'howitzer', 'howl', 'howlers', 'howley', 'hoy', 'hoyte', 'hp', 'hq', 'hrbaty', 'hrh', 'hrisanthakis', 'hristo', 'hsbc', 'huaral', 'hub', 'hubs', 'huckabees', 'hudell', 'hues', 'huey', 'huffman', 'hug', 'huge', 'hugely', 'huggy', 'hugh', 'hughes', 'hugo', 'hugues', 'huisman', 'hulk', 'hulking', 'hull', 'hultman', 'human', 'humane', 'humanitarian', 'humanity', 'humankind', 'humanoid', 'humans', 'humber', 'humberside', 'humble', 'humbled', 'humbling', 'humiliation', 'humility', 'humorous', 'humorously', 'humour', 'humphrey', 'humphreys', 'humpty', 'hundreds', 'hung', 'hungarian', 'hungary', 'hunger', 'hungry', 'hunt', 'hunter', 'hunters', 'hunting', 'huntley', 'hunts', 'huntsman', 'hurdle', 'hurdler', 'hurdlers', 'hurdles', 'hurricane', 'hurricanes', 'hurriedly', 'hurry', 'hurt', 'hurting', 'hurts', 'husband', 'husbands', 'hush', 'hushing', 'hussain', 'hussein', 'husson', 'hustlers', 'huston', 'hutch', 'hutchinson', 'hutchison', 'hutton', 'hvb', 'hybrid', 'hybridise', 'hybrids', 'hyde', 'hyderabad', 'hydration', 'hydraulic', 'hydroelectric', 'hykeham', 'hylands', 'hylton', 'hynde', 'hype', 'hypergrowth', 'hyperlinks', 'hypertag', 'hypertags', 'hypertension', 'hypnotic', 'hypocrisy', 'hypponen', 'hysterical', 'hyundai', 'hyung', 'hyypia', 'iaaf', 'iaea', 'iain', 'ian', 'ibehre', 'ibm', 'ibrox', 'ican', 'icann', 'icbc', 'ice', 'iceberg', 'iceland', 'icelandic', 'ichi', 'icing', 'icm', 'icon', 'iconic', 'icons', 'icstis', 'ict', 'id', 'idaho', 'idc', 'idea', 'ideal', 'idealistic', 'ideally', 'ideals', 'ideas', 'idec', 'identical', 'identification', 'identified', 'identifies', 'identify', 'identifying', 'identities', 'identity', 'ideological', 'ideologically', 'idi', 'idiocies', 'idiot', 'idiotic', 'idle', 'idleness', 'idlewild', 'idn', 'idns', 'idol', 'idolised', 'idols', 'idowu', 'ids', 'idvd', 'iea', 'ieee', 'iestyn', 'ietf', 'ifes', 'ifo', 'ifpi', 'ifrs', 'ifs', 'ifzal', 'ignacio', 'ignite', 'ignited', 'ignominy', 'ignorance', 'ignore', 'ignored', 'ignores', 'ignoring', 'igor', 'ii', 'iii', 'iizuka', 'il', 'iliaronov', 'ilife', 'ill', 'illarionov', 'illegal', 'illegally', 'illegitimate', 'illiberal', 'illiberalism', 'illicit', 'illinois', 'illiteracy', 'illness', 'illnesses', 'illogical', 'ills', 'illuminati', 'illuminations', 'illusion', 'illusions', 'illusory', 'illustrate', 'illustrated', 'illustrates', 'illustrious', 'ilo', 'ilw', 'im', 'image', 'imagery', 'images', 'imaginary', 'imagination', 'imaginations', 'imaginative', 'imagine', 'imaging', 'imam', 'imanol', 'imbalance', 'imbalances', 'imelda', 'imf', 'imitating', 'imitation', 'immaculately', 'immeasurably', 'immediacy', 'immediate', 'immediately', 'immelt', 'immense', 'immensely', 'immersed', 'immersion', 'immersive', 'immigrant', 'immigrants', 'immigration', 'imminent', 'immune', 'imovie', 'imp', 'impact', 'impacted', 'impairments', 'impart', 'impartial', 'imparting', 'impassable', 'impatient', 'impeccable', 'impeded', 'impedes', 'impending', 'imperative', 'impersonal', 'impersonated', 'impersonator', 'impetus', 'implant', 'implantation', 'implanted', 'implants', 'implement', 'implementation', 'implemented', 'implementing', 'implicated', 'implicating', 'implication', 'implications', 'implied', 'implored', 'imply', 'implying', 'import', 'importance', 'important', 'importantly', 'imported', 'importer', 'importing', 'imports', 'impose', 'imposed', 'imposing', 'impossible', 'impossibly', 'impostor', 'impractical', 'impresario', 'impress', 'impressed', 'impression', 'impressionist', 'impressions', 'impressive', 'impressively', 'impreza', 'imprezas', 'imprisoned', 'improbable', 'impromptu', 'improper', 'improperly', 'improve', 'improved', 'improvement', 'improvements', 'improves', 'improving', 'improvised', 'inability', 'inaccessible', 'inaccurate', 'inacio', 'inactive', 'inadequate', 'inadmissible', 'inadvertently', 'inanimate', 'inappropriate', 'inappropriately', 'inaugural', 'inaugurated', 'inauguration', 'inauspiciously', 'inauthentic', 'inbev', 'inboxes', 'incapable', 'incapacitated', 'incapacity', 'incarnation', 'incarnations', 'incensed', 'incentive', 'incentives', 'inception', 'incessant', 'inch', 'inched', 'inches', 'incidence', 'incident', 'incidental', 'incidents', 'incite', 'inciting', 'inclined', 'include', 'included', 'includes', 'including', 'inclusion', 'income', 'incomes', 'incoming', 'incompatibilities', 'incompatible', 'incompetence', 'incompetent', 'inconceivable', 'inconclusive', 'inconsistency', 'inconsistent', 'inconspicuous', 'incorporate', 'incorporated', 'incorporates', 'incorporating', 'incorrect', 'increase', 'increased', 'increases', 'increasing', 'increasingly', 'incredible', 'incredibles', 'incredibly', 'incumbent', 'incur', 'incurring', 'indebted', 'indecency', 'indecent', 'indefinite', 'indefinitely', 'indelible', 'indepen', 'independence', 'independent', 'independently', 'independents', 'indescribable', 'indestructible', 'index', 'indexed', 'indexing', 'india', 'indian', 'indiana', 'indians', 'indicate', 'indicated', 'indicates', 'indicating', 'indication', 'indications', 'indicative', 'indicator', 'indicators', 'indicted', 'indictment', 'indictments', 'indie', 'indies', 'indigenous', 'indigent', 'indignity', 'indirect', 'indiscipline', 'indiscretion', 'indispensable', 'indistinguishable', 'individual', 'individuality', 'individually', 'individuals', 'indonesia', 'indonesian', 'indonesians', 'indoor', 'indoors', 'inducement', 'inducing', 'inducted', 'inductee', 'induction', 'indulge', 'indulging', 'industrial', 'industrialised', 'industrialists', 'industrialized', 'industries', 'industry', 'ineffective', 'ineffectiveness', 'inefficiency', 'inefficient', 'ineligible', 'inept', 'inequalities', 'inequality', 'ines', 'inescapable', 'inevitable', 'inevitably', 'inexorably', 'inexpensive', 'inexperience', 'inexperienced', 'infamous', 'infancy', 'infant', 'infect', 'infected', 'infecting', 'infection', 'infects', 'inference', 'inferences', 'inferior', 'infested', 'infighting', 'infiltrates', 'infinity', 'infirmary', 'inflammatory', 'inflate', 'inflated', 'inflation', 'inflationary', 'inflict', 'inflicted', 'influence', 'influenced', 'influences', 'influential', 'influx', 'info', 'infogrames', 'inform', 'informa', 'informal', 'information', 'informative', 'informaton', 'informed', 'informing', 'infra', 'infrastructure', 'infringed', 'infringement', 'infringements', 'infringes', 'infringing', 'ing', 'ingenuity', 'ingham', 'ingrained', 'ingram', 'ingredient', 'ingredients', 'ingrown', 'inhabit', 'inhabitants', 'inherent', 'inherently', 'inherit', 'inheritance', 'inherited', 'inhumane', 'initial', 'initially', 'initiated', 'initiation', 'initiative', 'initiatives', 'inject', 'injection', 'injunction', 'injure', 'injured', 'injuries', 'injuring', 'injury', 'injustice', 'ink', 'inked', 'inking', 'inkling', 'inland', 'inmates', 'innate', 'inner', 'innocence', 'innocent', 'innocently', 'innocuous', 'innovate', 'innovation', 'innovations', 'innovative', 'inoculation', 'inoculations', 'inoni', 'inorganic', 'input', 'inquest', 'inquire', 'inquiries', 'inquiry', 'ins', 'insane', 'insecure', 'insecurity', 'insee', 'insensitive', 'inseparable', 'inserted', 'inside', 'insider', 'insiders', 'insight', 'insignificant', 'insinuation', 'insist', 'insisted', 'insistence', 'insisting', 'insists', 'insofar', 'insolvency', 'insolvent', 'inspected', 'inspection', 'inspections', 'inspector', 'inspectors', 'inspiration', 'inspirational', 'inspire', 'inspired', 'inspiring', 'instability', 'install', 'installation', 'installations', 'installed', 'installing', 'installs', 'instalment', 'instalments', 'instance', 'instances', 'instant', 'instantaneous', 'instantly', 'instapundit', 'instat', 'instead', 'instigating', 'instil', 'instinct', 'instinctively', 'instincts', 'institute', 'institution', 'institutional', 'institutions', 'instructed', 'instruction', 'instructions', 'instructor', 'instrument', 'instrumental', 'instruments', 'insufficient', 'insulated', 'insulation', 'insult', 'insulted', 'insulting', 'insults', 'insurance', 'insured', 'insurer', 'insurers', 'insurgency', 'insurgent', 'insurrection', 'intact', 'integral', 'integrate', 'integrated', 'integrating', 'integration', 'integrity', 'intel', 'intellect', 'intellectual', 'intelligence', 'intelligent', 'intelligently', 'intend', 'intended', 'intending', 'intends', 'intense', 'intensified', 'intensity', 'intensive', 'intent', 'intention', 'intentional', 'intentionally', 'intentions', 'intents', 'inter', 'interact', 'interaction', 'interactions', 'interactive', 'interactivity', 'interbrew', 'intercept', 'intercepted', 'intercepts', 'interchangeable', 'intercity', 'interconnect', 'interconnected', 'interconnection', 'interested', 'interesting', 'interests', 'interface', 'interfaces', 'interfax', 'interfere', 'interfered', 'interference', 'interfering', 'interim', 'interior', 'intermediary', 'intermediate', 'intermission', 'internacional', 'internal', 'international', 'internationalised', 'internationally', 'internationals', 'internet', 'internment', 'interoperability', 'interoperable', 'interpol', 'interpret', 'interpretation', 'interpretations', 'interpreted', 'interpreter', 'interpreting', 'interprets', 'interrogated', 'interrogations', 'interrogator', 'interrupted', 'interrupting', 'intertrust', 'intertwined', 'interval', 'intervene', 'intervened', 'intervening', 'intervention', 'interventions', 'interview', 'interviewed', 'interviews', 'intervoice', 'intifada', 'intimate', 'intimated', 'intimately', 'intimidate', 'intimidated', 'intimidating', 'intimidation', 'intolerance', 'intolerant', 'intoppa', 'intranet', 'intrigued', 'intriguing', 'intro', 'introduce', 'introduced', 'introducing', 'introduction', 'introspective', 'intrude', 'intruder', 'intruders', 'intrusion', 'intrusive', 'intuitive', 'inuit', 'inundated', 'invade', 'invaded', 'invaders', 'invading', 'invaluable', 'invariably', 'invasion', 'invasive', 'invasiveness', 'invective', 'invent', 'invented', 'invention', 'inventions', 'inventive', 'inventor', 'inventors', 'inventory', 'inverness', 'invest', 'investec', 'invested', 'investigate', 'investigated', 'investigates', 'investigating', 'investigation', 'investigations', 'investigative', 'investigators', 'investing', 'investment', 'investments', 'investor', 'investors', 'invests', 'invincibility', 'invincibles', 'invisible', 'invitation', 'invitational', 'invitations', 'invite', 'invited', 'inviting', 'invoice', 'invoices', 'invoking', 'involve', 'involved', 'involvement', 'involves', 'involving', 'inward', 'inwhich', 'ioannidis', 'ioannis', 'ioannou', 'ioc', 'iowa', 'ip', 'iphigenia', 'iphoto', 'ipo', 'ipod', 'ipodder', 'ipods', 'ippr', 'ipswich', 'iptv', 'ipv4', 'ipv6', 'iqbal', 'ir', 'ira', 'irakli', 'iran', 'irancell', 'iranian', 'iraq', 'iraqi', 'iraqis', 'irb', 'irc', 'ireland', 'irfan', 'irina', 'iris', 'irish', 'irishman', 'iriver', 'iron', 'ironed', 'ironic', 'ironically', 'irony', 'irradiated', 'irrational', 'irregular', 'irregularities', 'irregularity', 'irrelevance', 'irrelevant', 'irreparable', 'irrespective', 'irresponsibility', 'irresponsible', 'irreversible', 'irrigation', 'irritate', 'irritated', 'irritating', 'irritatingly', 'irritation', 'irureta', 'irvine', 'irving', 'isaiah', 'isbn', 'isg', 'isinbayeva', 'islam', 'islamaphobia', 'islamic', 'islamism', 'islamist', 'island', 'islands', 'isle', 'islington', 'ism', 'isn', 'isolated', 'isolation', 'ispat', 'isps', 'israel', 'israeli', 'israelis', 'issue', 'issued', 'issuer', 'issues', 'issuing', 'istanbul', 'isuzu', 'italian', 'italians', 'italics', 'italy', 'item', 'items', 'itf', 'itn', 'itpc', 'itrec', 'itunes', 'itv', 'itv1', 'itx', 'iv', 'ivan', 'ivankoe', 'ivanovic', 'iveta', 'ivo', 'ivory', 'iwata', 'ixis', 'iyad', 'ja', 'jaap', 'jack', 'jackal', 'jackass', 'jacket', 'jackets', 'jackie', 'jacking', 'jackman', 'jackpot', 'jackson', 'jacksonville', 'jacoba', 'jacques', 'jacqui', 'jada', 'jadakiss', 'jade', 'jaded', 'jagger', 'jail', 'jailed', 'jailhouse', 'jailing', 'jailings', 'jaime', 'jain', 'jak', 'jakarta', 'jake', 'jakobi', 'jal', 'jam', 'jamaica', 'jamaican', 'jamelia', 'james', 'jameson', 'jamie', 'jamieson', 'jammins', 'jams', 'jan', 'jane', 'janeiro', 'janet', 'janine', 'jankovic', 'january', 'janus', 'jaouad', 'japan', 'japanese', 'jarosik', 'jarvis', 'jaschen', 'jaslyn', 'jason', 'jauregi', 'jauzion', 'java', 'javelin', 'javier', 'jaw', 'jaws', 'jaxx', 'jay', 'jayne', 'jaynes', 'jays', 'jazeera', 'jazz', 'jd', 'jealous', 'jean', 'jeanette', 'jeanne', 'jeannie', 'jeannin', 'jed', 'jeep', 'jeers', 'jeeves', 'jeff', 'jeffrey', 'jeffries', 'jelena', 'jemima', 'jenkins', 'jennifer', 'jennings', 'jenny', 'jens', 'jeopardise', 'jeremiah', 'jeremy', 'jermoe', 'jeroen', 'jerome', 'jerry', 'jersey', 'jerseys', 'jerzy', 'jesper', 'jesse', 'jessica', 'jessops', 'jessy', 'jesus', 'jet', 'jets', 'jeunet', 'jewel', 'jewellery', 'jewish', 'jez', 'jf', 'jfe', 'ji', 'jibe', 'jibouri', 'jie', 'jill', 'jim', 'jimmy', 'jinked', 'jinshajiang', 'jiri', 'jitters', 'jiulin', 'jive', 'jj', 'jk', 'jm', 'jo', 'joachim', 'joan', 'joanna', 'joanne', 'joaquin', 'job', 'jobcentres', 'jobless', 'joblessness', 'jobs', 'jock', 'jockey', 'joe', 'joel', 'joey', 'jogging', 'johann', 'johannesburg', 'johannesson', 'johansson', 'john', 'johnny', 'johnson', 'johnston', 'joice', 'joie', 'join', 'joined', 'joining', 'joins', 'joint', 'jointly', 'joke', 'joked', 'jokes', 'jol', 'jolanda', 'jolene', 'jolie', 'jolly', 'jolson', 'jolt', 'joly', 'jon', 'jonas', 'jonatan', 'jonathan', 'jones', 'jonny', 'jonty', 'jools', 'jordan', 'jordanian', 'jordi', 'jorg', 'jorge', 'jos', 'jose', 'josep', 'joseph', 'josh', 'joshua', 'joss', 'joubert', 'journal', 'journalism', 'journalist', 'journalistic', 'journalists', 'journals', 'journey', 'jowell', 'joy', 'joynt', 'joypad', 'joystick', 'joysticks', 'jp', 'jpmorgan', 'jpr', 'jr', 'jrr', 'juan', 'jubilant', 'jubilation', 'jubilee', 'judas', 'juddering', 'jude', 'judge', 'judged', 'judgement', 'judgements', 'judges', 'judging', 'judgment', 'judi', 'judicial', 'judiciary', 'judith', 'judo', 'judy', 'jufeyr', 'juggle', 'jugnot', 'juice', 'juices', 'jukebox', 'jules', 'julia', 'julian', 'julie', 'julien', 'juliette', 'july', 'jumbos', 'jump', 'jumped', 'jumper', 'jumping', 'jumps', 'june', 'jungle', 'juninho', 'junior', 'juniors', 'juniper', 'junk', 'junkies', 'jupiter', 'jurgen', 'juri', 'jurisdiction', 'jurisdictions', 'jurors', 'jury', 'just', 'justfor', 'justice', 'justification', 'justified', 'justify', 'justin', 'justine', 'juvenile', 'juventus', 'juxtaposed', 'k2', 'k3', 'ka', 'kahey', 'kahn', 'kahveci', 'kai', 'kaiser', 'kaka', 'kalanick', 'kalman', 'kamal', 'kamara', 'kamiyama', 'kampala', 'kampen', 'kano', 'kanu', 'kanye', 'kaplan', 'kapranos', 'kar', 'karachi', 'karaoke', 'karen', 'karin', 'karl', 'karmis', 'karolina', 'kart', 'kartadinata', 'kartel', 'kasabian', 'kashmir', 'kashyap', 'katarina', 'kate', 'katerina', 'katharine', 'katherine', 'kathleen', 'kathy', 'katie', 'kay', 'kaye', 'kaz', 'kazakhstan', 'kazi', 'kazuhiro', 'kdb', 'keane', 'keanu', 'keating', 'keaton', 'keaveney', 'kechiche', 'kedas', 'keegan', 'keen', 'keenan', 'keenly', 'keenness', 'keeper', 'keepers', 'keeping', 'keeps', 'kefa', 'keino', 'keira', 'keith', 'keizai', 'kel', 'kellett', 'kelley', 'kelli', 'kelly', 'kelvin', 'kemadjou', 'kemp', 'ken', 'kenenisa', 'kennedy', 'kenneth', 'kenney', 'kenny', 'kent', 'kenteris', 'kentish', 'kenton', 'kenya', 'kenyan', 'kenyans', 'kenyon', 'kenzie', 'kept', 'kerr', 'kerrang', 'kerry', 'kerstin', 'keska', 'keskar', 'kessler', 'kettle', 'kevin', 'kewell', 'key', 'keyboard', 'keynes', 'keynote', 'keyobs', 'keypad', 'keys', 'keystroke', 'keystrokes', 'keyword', 'keywords', 'kezman', 'kfb', 'kgb', 'khan', 'khatami', 'khayelitsha', 'khodorkovsky', 'khomeini', 'khordokovsky', 'kick', 'kickable', 'kickboxing', 'kicked', 'kicker', 'kickers', 'kicking', 'kicks', 'kickstarting', 'kid', 'kidnapped', 'kidnappers', 'kidnapping', 'kidney', 'kids', 'kiefer', 'kieron', 'kiki', 'kilbane', 'kilbride', 'kilgore', 'kill', 'killamangiro', 'killed', 'killer', 'killers', 'killing', 'killings', 'killzone', 'kilmarnock', 'kilobit', 'kilometre', 'kilometres', 'kilroy', 'kim', 'kimberly', 'kimmel', 'kind', 'kindly', 'kinds', 'king', 'kingdom', 'kingfisher', 'kings', 'kingsholm', 'kinnock', 'kinross', 'kinsey', 'kiosks', 'kipchoge', 'kiplagat', 'kirby', 'kirchner', 'kirin', 'kirkcaldy', 'kirkuk', 'kirsten', 'kirwan', 'kisna', 'kiss', 'kit', 'kitamura', 'kitchen', 'kits', 'kitts', 'kiwi', 'kiwis', 'kk', 'kleinberg', 'kleynhans', 'klinsmann', 'kluft', 'kluivert', 'km', 'knack', 'knapman', 'knee', 'knees', 'knell', 'knew', 'knife', 'knight', 'knighted', 'knighthoods', 'knighting', 'knightley', 'knit', 'knits', 'knock', 'knockback', 'knocked', 'knocking', 'knockout', 'knocks', 'knots', 'know', 'knowing', 'knowingly', 'knowledge', 'knowles', 'known', 'knows', 'knuckles', 'kobita', 'kodak', 'kodiak', 'koeman', 'kofi', 'koh', 'kolo', 'komileva', 'kommersant', 'konami', 'kong', 'konstantinos', 'koo', 'kooyong', 'koram', 'korea', 'korean', 'korn', 'korzhanenko', 'kos', 'kosslick', 'kostanic', 'kostas', 'kotamaraja', 'kotoko', 'kowalski', 'kp', 'kpmg', 'kraft', 'kranks', 'kreme', 'kremlin', 'krispy', 'krist', 'kristiansen', 'kristin', 'krivorizhstal', 'krol', 'krome', 'kronberg', 'kruger', 'kse', 'kuala', 'kuchma', 'kudos', 'kudrow', 'kuerten', 'kulakov', 'kull', 'kumar', 'kumaratunga', 'kumars', 'kumasi', 'kunplome', 'kursk', 'kurt', 'kutaragi', 'kuwait', 'kuznetsova', 'kwakye', 'kwayke', 'kwon', 'kyle', 'kylie', 'kyoto', 'kyrgiakos', 'kyrgyz', 'la', 'lab', 'labadze', 'label', 'labelled', 'labelling', 'labels', 'labor', 'laboratories', 'laboratory', 'labour', 'laboured', 'labourers', 'labs', 'lack', 'lackadaisical', 'lacked', 'lacking', 'lacklustre', 'lacks', 'lad', 'ladbrokes', 'ladder', 'laddish', 'laden', 'ladies', 'lado', 'lads', 'lady', 'ladybird', 'ladykillers', 'ladyman', 'lag', 'lagaan', 'lagan', 'lagat', 'lager', 'laggards', 'lagging', 'lagrimas', 'laharrague', 'laid', 'laing', 'lairg', 'lake', 'lakers', 'lakhani', 'lakshmi', 'lambert', 'lamberty', 'lamboley', 'lamda', 'laminate', 'lammy', 'lamont', 'lamp', 'lampard', 'lan', 'lanarkshire', 'lancashire', 'lancaster', 'land', 'landed', 'lander', 'landing', 'landlady', 'landline', 'landlines', 'landlocked', 'landlords', 'landmark', 'landowner', 'landowners', 'lands', 'landscape', 'landsdowne', 'landslide', 'lane', 'langdon', 'lange', 'langrishe', 'langtry', 'language', 'languages', 'languished', 'languishing', 'lanka', 'lankan', 'lankans', 'lanning', 'lansdowne', 'lantern', 'lanzarote', 'lanzone', 'lap', 'laporte', 'laps', 'lapse', 'lapsed', 'laptop', 'laptops', 'large', 'largely', 'larger', 'largest', 'larkin', 'larribeau', 'larry', 'las', 'laser', 'lasers', 'lash', 'lashawn', 'lashed', 'lasp', 'lasted', 'lasting', 'latch', 'latched', 'late', 'lately', 'later', 'latest', 'latham', 'latifundios', 'latin', 'latinohiphopradio', 'latvia', 'laud', 'lauded', 'laugh', 'laughable', 'laughably', 'laughed', 'laugher', 'laughing', 'laughter', 'laulala', 'launch', 'launched', 'launchers', 'launches', 'launching', 'laundering', 'laundrette', 'laura', 'laureate', 'laurels', 'lauren', 'laurent', 'laurie', 'laursen', 'lava', 'lavagna', 'lavatory', 'lavigne', 'lavish', 'lavoro', 'law', 'lawful', 'lawfully', 'lawmakers', 'lawn', 'lawrence', 'laws', 'lawsuit', 'lawsuits', 'lawyer', 'lawyers', 'laxton', 'lay', 'laying', 'layout', 'layovers', 'laze', 'laziness', 'lazio', 'lazy', 'lcd', 'lcf', 'le', 'lea', 'lead', 'leader', 'leaderless', 'leaders', 'leadership', 'leading', 'leads', 'leaf', 'leaflet', 'leaflets', 'league', 'leagues', 'leak', 'leaked', 'leakers', 'leaking', 'leaks', 'leamy', 'leander', 'leaned', 'leaning', 'leant', 'leap', 'leaped', 'leapfrog', 'leaping', 'leaps', 'leapt', 'learmount', 'learn', 'learned', 'learners', 'learning', 'learnt', 'leary', 'lease', 'leased', 'leases', 'leave', 'leaves', 'leaving', 'lebanese', 'lebanon', 'lebedev', 'lebeouf', 'leblanc', 'leboff', 'leclerc', 'lecture', 'lecturer', 'lectures', 'lecturing', 'led', 'ledbury', 'ledley', 'lee', 'leeds', 'leeway', 'left', 'leftwing', 'leg', 'legacy', 'legal', 'legalisation', 'legalise', 'legalising', 'legality', 'legally', 'legend', 'legendary', 'legions', 'legislate', 'legislation', 'legislative', 'legitimacy', 'legitimate', 'legitimately', 'lego', 'legs', 'lehmann', 'leibovich', 'leicester', 'leicestershire', 'leigh', 'leinster', 'leipzig', 'leisure', 'leisurely', 'lembit', 'lemony', 'lena', 'lend', 'lender', 'lenders', 'lending', 'lendl', 'length', 'lengthened', 'lengthy', 'lenkiewicz', 'lennon', 'leno', 'lenovo', 'lens', 'lenses', 'lent', 'leo', 'leon', 'leonard', 'leonardo', 'leoncia', 'leonid', 'les', 'lesbian', 'lesbianism', 'leslie', 'lesotho', 'lessen', 'lessening', 'lessens', 'lesser', 'lesson', 'lessons', 'lester', 'let', 'lethargic', 'letitia', 'letmathe', 'lets', 'letter', 'letters', 'letting', 'letwin', 'leukoencephalopathy', 'leveaux', 'level', 'levelled', 'levelling', 'levels', 'lever', 'leverage', 'leveraging', 'leverkusen', 'levied', 'levy', 'lewd', 'lewis', 'lewsey', 'lexus', 'ley', 'leyton', 'lg', 'li', 'liabilities', 'liable', 'liaises', 'liaison', 'liam', 'lian', 'liang', 'liar', 'lib', 'libel', 'libelled', 'libelling', 'liberal', 'liberalisation', 'liberalise', 'liberals', 'liberating', 'liberation', 'liberia', 'liberian', 'liberians', 'libertadores', 'libertarian', 'liberties', 'libertine', 'libertines', 'liberty', 'librarian', 'libraries', 'library', 'libretto', 'libya', 'licence', 'licenced', 'licences', 'licencing', 'license', 'licensed', 'licensee', 'licensing', 'lichtenberg', 'lichtenstein', 'lick', 'licking', 'lid', 'liddell', 'lie', 'lieberman', 'lied', 'lies', 'lieu', 'lieutenant', 'lievin', 'lifan', 'life', 'lifeblood', 'lifeline', 'lifelong', 'lifeplus', 'lifestyle', 'lifestyles', 'lifetime', 'liffe', 'lift', 'lifted', 'lifting', 'lifts', 'liga', 'ligament', 'ligaments', 'light', 'lightbody', 'lighter', 'lighting', 'lightly', 'lightness', 'lightpointe', 'lights', 'lightweight', 'like', 'likeable', 'liked', 'likelier', 'likeliest', 'likelihood', 'likely', 'likened', 'likes', 'likewise', 'likhotseva', 'likhovtseva', 'liking', 'lilian', 'lille', 'lilly', 'lily', 'lim', 'lima', 'limb', 'limbo', 'limbs', 'limelight', 'limit', 'limitation', 'limitations', 'limited', 'limiting', 'limitless', 'limits', 'limos', 'limp', 'limped', 'lincolnshire', 'linda', 'linde', 'lindemans', 'linden', 'lindsay', 'line', 'linear', 'lined', 'lineout', 'liner', 'liners', 'lines', 'linesman', 'linford', 'lingering', 'linguist', 'lining', 'link', 'linked', 'linkin', 'linking', 'links', 'linpack', 'linux', 'linvoy', 'lion', 'lionel', 'lionhead', 'lions', 'lipietz', 'lipped', 'lips', 'lipstick', 'liquefied', 'liquid', 'liquidated', 'liquidation', 'liquidity', 'lira', 'lisa', 'lisbon', 'lishman', 'lissavetzky', 'list', 'listed', 'listen', 'listened', 'listener', 'listeners', 'listening', 'listing', 'listings', 'lists', 'lit', 'lite', 'literacy', 'literally', 'literary', 'literate', 'literature', 'litigation', 'litigations', 'little', 'littlefeather', 'littlewoods', 'liu', 'live', 'lived', 'livelihood', 'livelihoods', 'lively', 'livened', 'liver', 'livermore', 'liverpool', 'liverpudlians', 'lives', 'livestock', 'livid', 'living', 'livingston', 'livingstone', 'livio', 'lizard', 'ljubicic', 'ljungberg', 'll', 'llanelli', 'llewellyn', 'lleyton', 'lloyd', 'llu', 'lma', 'lng', 'lnm', 'lo', 'load', 'loaded', 'loads', 'loan', 'loaned', 'loans', 'lob', 'lobbing', 'lobby', 'lobbying', 'lobs', 'local', 'localised', 'locally', 'locate', 'located', 'location', 'locations', 'loch', 'lock', 'locked', 'lockheed', 'locking', 'locks', 'lockwood', 'lodge', 'lodged', 'lodgers', 'lodhi', 'log', 'logged', 'logging', 'logic', 'logical', 'login', 'logistical', 'logistics', 'logo', 'logs', 'logue', 'lomana', 'lombard', 'lomond', 'london', 'londonderry', 'londoner', 'londoners', 'lone', 'lonely', 'lonesome', 'long', 'longbridge', 'longer', 'longest', 'longevity', 'longhorn', 'longo', 'longtime', 'longwell', 'lonsdale', 'look', 'looked', 'looking', 'lookout', 'looks', 'looming', 'loop', 'loophole', 'loopholes', 'loopy', 'loose', 'loosehead', 'loosen', 'loosened', 'loosening', 'lopez', 'lopping', 'lord', 'lords', 'lorna', 'lorraine', 'los', 'lose', 'loser', 'losers', 'loses', 'losing', 'loss', 'losses', 'lossless', 'lost', 'lostprophets', 'lot', 'lots', 'lotta', 'lottery', 'loud', 'louder', 'loudmouth', 'louis', 'louisa', 'louise', 'louisiana', 'lousy', 'louvre', 'love', 'loved', 'lovell', 'lovely', 'lovenkrands', 'lover', 'lovers', 'loves', 'loving', 'low', 'lowe', 'lower', 'lowered', 'lowering', 'lowest', 'lows', 'loyal', 'loyalty', 'loynes', 'lpg', 'lse', 'lt', 'lta', 'lualua', 'luc', 'lucas', 'luciano', 'lucid', 'lucie', 'lucio', 'luck', 'luckily', 'lucky', 'lucrative', 'lucy', 'ludacris', 'ludicrous', 'ludovico', 'lueders', 'luff', 'lufthansa', 'luigi', 'luis', 'luiz', 'lukashov', 'luke', 'lukewarm', 'lula', 'lull', 'lumpur', 'lunar', 'lunch', 'lunchtime', 'lund', 'lundgren', 'lung', 'lunging', 'lure', 'lured', 'luring', 'lurking', 'lusaka', 'luscombe', 'lush', 'luther', 'luton', 'luxembourg', 'luxemburgo', 'luxury', 'lw', 'lycos', 'lydon', 'lying', 'lynch', 'lynda', 'lynne', 'lynyrd', 'lyon', 'lyons', 'lyric', 'lyricist', 'lyrics', 'lzw', 'm16', 'm6', 'ma', 'mab', 'mac', 'macaefa', 'macaulay', 'macbeth', 'maccabi', 'macdonald', 'macduff', 'macedonia', 'macedonian', 'macey', 'macfadyen', 'macfarlane', 'machimura', 'machinations', 'machine', 'machinery', 'machines', 'macintosh', 'mack', 'mackay', 'macken', 'mackenzie', 'mackie', 'mackintosh', 'macklin', 'maclaine', 'maclennan', 'macleod', 'macmillan', 'macneil', 'macphisto', 'macrae', 'macroeconomic', 'macrospace', 'macs', 'macworld', 'macy', 'mad', 'madagascar', 'madame', 'madden', 'madea', 'madeley', 'madly', 'madonna', 'madrid', 'madsen', 'maduaka', 'mae', 'maeve', 'mafeca', 'mafia', 'magath', 'magazin', 'magazine', 'magazines', 'magdaleena', 'magdalena', 'magdalene', 'maggie', 'maggs', 'magic', 'magical', 'magician', 'magistrates', 'magna', 'magnate', 'magnenat', 'magnetic', 'magnier', 'magnificent', 'magnificently', 'magnitude', 'magnus', 'magpies', 'maguire', 'maharajas', 'mahinda', 'mahindra', 'mahmoud', 'maid', 'maiden', 'maids', 'mail', 'mailed', 'mailers', 'mailing', 'mailings', 'mails', 'mailshot', 'main', 'maine', 'mainland', 'mainline', 'mainly', 'mains', 'mainstay', 'mainstream', 'maintain', 'maintained', 'maintaining', 'maintains', 'maintenance', 'maitland', 'majeed', 'majlis', 'major', 'majorities', 'majority', 'majumdar', 'makaji', 'makarov', 'make', 'makelele', 'makeover', 'maker', 'makers', 'makes', 'makeshift', 'makeup', 'making', 'makisa', 'makower', 'malaria', 'malawi', 'malaysia', 'malcolm', 'maldini', 'maldives', 'male', 'maleeha', 'maleeva', 'males', 'malfunction', 'malfunctioning', 'malfunctions', 'malian', 'malibu', 'malicious', 'malign', 'malisse', 'malley', 'mallon', 'mallorcan', 'malloy', 'mallya', 'malone', 'maloney', 'maloti', 'malpractice', 'malt', 'malta', 'malware', 'mama', 'mammal', 'mammals', 'mammoth', 'man', 'manage', 'managed', 'management', 'manager', 'managerial', 'managers', 'manages', 'managing', 'manchester', 'mandaric', 'mandarin', 'mandate', 'mandatory', 'mandelson', 'mandir', 'mandolin', 'mandula', 'maneuvers', 'manga', 'mangala', 'manged', 'manger', 'manhattan', 'manhunt', 'maniacs', 'manic', 'manics', 'manifest', 'manifesto', 'manifestos', 'manipulate', 'manipulated', 'manipulating', 'manipulation', 'mankind', 'manmohan', 'mann', 'manner', 'manoeuvre', 'manoeuvring', 'manpower', 'mansfield', 'mansion', 'manslaughter', 'manson', 'mantilla', 'mantle', 'mantras', 'manual', 'manually', 'manuel', 'manufacture', 'manufactured', 'manufacturer', 'manufacturers', 'manufacturing', 'manuscript', 'manuscripts', 'manzanera', 'manzerana', 'maori', 'maoris', 'map', 'mapping', 'maps', 'maracana', 'maracas', 'maradona', 'maran', 'marat', 'marathon', 'marathons', 'marc', 'marcel', 'march', 'marches', 'marchionne', 'marcia', 'marco', 'marconnet', 'marcoussis', 'marcus', 'mardy', 'marek', 'margaret', 'margin', 'marginal', 'marginally', 'margins', 'margot', 'marguerite', 'maria', 'mariah', 'marianne', 'mariano', 'marie', 'marigny', 'marika', 'marilyn', 'marine', 'mariner', 'mario', 'marion', 'marital', 'maritime', 'mark', 'marked', 'markedly', 'marker', 'market', 'marketed', 'marketers', 'marketing', 'marketplace', 'markets', 'marking', 'markos', 'markova', 'marks', 'marley', 'marlin', 'marlon', 'marlu', 'maroon', 'marple', 'marque', 'marques', 'marr', 'marred', 'marriage', 'married', 'marrow', 'marry', 'marrying', 'marseille', 'marseilles', 'marsh', 'marshall', 'marshalled', 'marshals', 'marson', 'marston', 'mart', 'martens', 'martika', 'martin', 'martina', 'martinez', 'marts', 'marty', 'martyn', 'martyrs', 'maruti', 'marvel', 'marvellous', 'marvin', 'mary', 'maryland', 'mas', 'masahiro', 'masai', 'masayuki', 'maserati', 'maseru', 'masi', 'mask', 'maso', 'masochistic', 'masonry', 'mass', 'massachusetts', 'massacre', 'massaged', 'masse', 'masses', 'massive', 'massively', 'massoud', 'massu', 'master', 'mastered', 'mastering', 'masterminded', 'masterminding', 'masterminds', 'masterpieces', 'masters', 'mastery', 'masts', 'match', 'matchday', 'matched', 'matches', 'matching', 'mate', 'mateja', 'material', 'materialised', 'materialists', 'materials', 'maternity', 'mates', 'matfield', 'mathematical', 'mather', 'mathew', 'mathieson', 'mathieu', 'maths', 'matisse', 'matrix', 'matron', 'mats', 'matsuoka', 'matsushita', 'matsuura', 'matt', 'matteo', 'matter', 'mattered', 'matters', 'matthew', 'matthieu', 'mattress', 'mature', 'matured', 'maturing', 'maturity', 'mauger', 'maul', 'mauresmo', 'maurice', 'mauritius', 'mauro', 'maury', 'mauskopf', 'maverick', 'mavis', 'mawer', 'mawrey', 'mawson', 'max', 'maximisation', 'maximise', 'maximum', 'maxis', 'maxwell', 'maybe', 'mayfair', 'mayock', 'mayor', 'mazen', 'mazy', 'mbeki', 'mbes', 'mblox', 'mc', 'mcafee', 'mcb', 'mcbride', 'mcbryde', 'mcburney', 'mccafferty', 'mccain', 'mccall', 'mccambridge', 'mccarthy', 'mccartney', 'mccaughrean', 'mcclaren', 'mcconnell', 'mccormick', 'mccririck', 'mccullough', 'mccune', 'mccurry', 'mcdonagh', 'mcdonald', 'mcdonalds', 'mcdowell', 'mcenroe', 'mcentee', 'mcewen', 'mcfadden', 'mcfarlane', 'mcfly', 'mcgeady', 'mcgee', 'mcgraw', 'mcgreal', 'mcgregor', 'mcguinness', 'mcguire', 'mcgurk', 'mci', 'mcilroy', 'mcindoe', 'mcintosh', 'mcintyre', 'mcivor', 'mckechnie', 'mckee', 'mckendry', 'mckenzie', 'mckiernan', 'mcleish', 'mclennan', 'mclibel', 'mcmahon', 'mcmanaman', 'mcmanus', 'mcnamara', 'mcnamee', 'mcnaughton', 'mcnicholas', 'mcnulty', 'mcqueen', 'mcrae', 'mcshane', 'mda', 'mdas', 'mdr', 'meadows', 'meagre', 'meal', 'meals', 'mean', 'meaning', 'meaningful', 'meaningless', 'means', 'meant', 'meantime', 'measure', 'measured', 'measurements', 'measures', 'measuring', 'meat', 'mecca', 'mech', 'mechanical', 'mechanics', 'mechanism', 'mechanisms', 'medal', 'medalist', 'medallist', 'medallists', 'medals', 'media', 'medial', 'mediametrie', 'mediate', 'mediating', 'mediation', 'medical', 'medically', 'medicine', 'medicines', 'medieval', 'mediobanca', 'medium', 'medley', 'meet', 'meeting', 'meetings', 'meets', 'mef', 'mefin', 'megabit', 'megabits', 'megabyte', 'megabytes', 'megaflops', 'megapixel', 'megapixels', 'megastars', 'megastores', 'megawatts', 'megson', 'mehdi', 'mehta', 'mel', 'melancholy', 'melbourne', 'melinda', 'melissa', 'mellberg', 'mellow', 'meltdown', 'meltus', 'melua', 'melville', 'melzer', 'member', 'members', 'membership', 'memon', 'memorabilia', 'memorable', 'memorandum', 'memorandums', 'memorial', 'memories', 'memory', 'memphis', 'men', 'menace', 'menagerie', 'menatep', 'mencap', 'mend', 'mendaciously', 'mendelsohn', 'mendes', 'mendis', 'mensing', 'mental', 'mentality', 'mentally', 'mention', 'mentioned', 'mentioning', 'mentions', 'mentoring', 'menu', 'menus', 'menzies', 'meo', 'mep', 'meps', 'mercantile', 'mercedes', 'mercer', 'merchandise', 'merchandising', 'merchant', 'merchants', 'mercurial', 'mercury', 'mere', 'merely', 'merengue', 'merge', 'merged', 'merger', 'mergers', 'merges', 'merging', 'merit', 'meritocracy', 'merits', 'merriam', 'merrier', 'merrill', 'merrin', 'merritt', 'merry', 'merseyside', 'mervyn', 'meryl', 'meseret', 'mesmeric', 'mesmerising', 'mess', 'message', 'messageboard', 'messagelabs', 'messages', 'messaging', 'messed', 'messenger', 'messianic', 'messing', 'messy', 'met', 'meta', 'metadata', 'metal', 'metallica', 'metals', 'metaphor', 'meted', 'meteor', 'meteoric', 'meters', 'methat', 'method', 'methodology', 'methods', 'meticulous', 'meticulously', 'metre', 'metres', 'metric', 'metroid', 'metropolis', 'metropolitan', 'metrovias', 'mexican', 'mexicans', 'mexico', 'meyer', 'mg', 'mgm', 'mgs', 'mi', 'mi5', 'mi6', 'miami', 'mic', 'micah', 'micha', 'michael', 'michalak', 'michel', 'michell', 'michelle', 'michelmore', 'michigan', 'mick', 'mickey', 'micro', 'microphone', 'microphones', 'microsoft', 'microsystems', 'mid', 'midday', 'middle', 'middleman', 'middlemen', 'middlesbrough', 'middlesex', 'middleton', 'middleware', 'midfield', 'midfielder', 'midlands', 'midnight', 'mido', 'midsomer', 'midst', 'midstream', 'midway', 'mighty', 'mignoni', 'migrant', 'migrants', 'migration', 'miguel', 'mihir', 'mijatov', 'mikael', 'mike', 'mikel', 'mikhail', 'mikko', 'mikoliunas', 'mikosz', 'mikoyan', 'milan', 'milanesi', 'milburn', 'mild', 'milder', 'mile', 'mileage', 'miles', 'milestone', 'milestones', 'miliband', 'militant', 'military', 'milk', 'millan', 'millar', 'millennium', 'miller', 'million', 'millionaire', 'millionaires', 'millions', 'milliseconds', 'milloud', 'mills', 'millstone', 'millwall', 'millward', 'milton', 'milverton', 'mim', 'mimic', 'mimicked', 'minar', 'mind', 'minded', 'mindedness', 'minder', 'minds', 'miner', 'mineral', 'miners', 'mines', 'minety', 'minghella', 'mini', 'miniature', 'minicabs', 'minidisc', 'minimal', 'minimixa', 'minimsed', 'minimum', 'mining', 'minions', 'minis', 'minister', 'ministerial', 'ministers', 'ministries', 'ministry', 'mink', 'minneapolis', 'minnows', 'minogue', 'minor', 'minorities', 'minority', 'minors', 'mins', 'minus', 'minute', 'minutes', 'miracle', 'miralab', 'miramax', 'miranda', 'mirapoint', 'mirco', 'mired', 'miresmaeili', 'mirnyi', 'mirren', 'mirror', 'mirrored', 'mirroring', 'mirza', 'mis', 'misamore', 'miscarriages', 'mischer', 'mischief', 'misconception', 'misconduct', 'miscounted', 'misdirection', 'misel', 'miserable', 'misery', 'misfeasance', 'misgivings', 'mishaps', 'misjudged', 'misjudgement', 'misleading', 'misled', 'mismanagement', 'mismatch', 'misr', 'misrepresentation', 'misrepresented', 'miss', 'missed', 'misses', 'missile', 'missiles', 'missing', 'mission', 'missions', 'misspell', 'mistake', 'mistaken', 'mistakes', 'mister', 'mistiming', 'mistletoe', 'mistress', 'mistresses', 'mistrust', 'misunderstandings', 'misunderstood', 'misuse', 'misusing', 'mit', 'mitch', 'mitchell', 'mitigate', 'mitsubishi', 'mitsui', 'mittal', 'mitts', 'mix', 'mixed', 'mixes', 'mixing', 'mixture', 'miyagishima', 'miyazaki', 'mkandawire', 'mladenovic', 'mm', 'mma', 'mmf', 'mms', 'moazzam', 'mobbed', 'mobil', 'mobile', 'mobiles', 'mobility', 'moblogs', 'mobo', 'mobos', 'mock', 'mocked', 'mod', 'mode', 'model', 'modelled', 'modelling', 'models', 'modem', 'modems', 'moderate', 'moderating', 'modern', 'modernisation', 'modernise', 'modernised', 'modes', 'modest', 'modestly', 'modifications', 'modified', 'modify', 'moffat', 'moghadam', 'mogul', 'mohammad', 'mohammed', 'mohieldin', 'mojtaba', 'molecular', 'molik', 'molineux', 'molly', 'molsiris', 'molten', 'molyneux', 'mom', 'moment', 'momentous', 'moments', 'momentum', 'monarchy', 'monday', 'mondays', 'monde', 'monetary', 'monetise', 'money', 'mong', 'mongolian', 'monica', 'monitor', 'monitored', 'monitoring', 'monitors', 'monk', 'monkeys', 'monkhouse', 'monolithic', 'monologues', 'monopolies', 'monopoly', 'monotony', 'monsanto', 'monsoon', 'monster', 'monsters', 'montanes', 'monte', 'monteiro', 'monteith', 'montenegro', 'monterrey', 'montgomery', 'month', 'monthly', 'months', 'montieth', 'monument', 'monumental', 'mood', 'moody', 'moor', 'moore', 'mop', 'moped', 'moral', 'morale', 'moran', 'moratorium', 'moreau', 'morehouse', 'moreno', 'morgan', 'morgenstern', 'mori', 'morientes', 'morley', 'morning', 'moroccan', 'morocco', 'morpeth', 'morpheme', 'morpheus', 'morquendi', 'morris', 'morrison', 'morrisons', 'morrissey', 'morrow', 'mortem', 'mortgage', 'mortgages', 'morton', 'moscow', 'mosh', 'mosquito', 'mother', 'motherboards', 'mothercare', 'motherhood', 'mothers', 'motion', 'motivate', 'motivated', 'motivates', 'motivating', 'motivation', 'motive', 'motives', 'motor', 'motorbike', 'motorbikes', 'motorcades', 'motorcycle', 'motorcyle', 'motorhead', 'motoring', 'motorised', 'motorists', 'motormouth', 'motorola', 'motors', 'motorsport', 'mott', 'motto', 'mould', 'moulded', 'moulds', 'mount', 'mountain', 'mountainous', 'mounted', 'mounting', 'mourinho', 'mourn', 'mourned', 'mousa', 'mouse', 'mouth', 'mouthing', 'movabletype', 'moved', 'movement', 'movements', 'moves', 'movie', 'movies', 'moving', 'mowden', 'moxey', 'moya', 'moynihan', 'mozambique', 'mozilla', 'mp', 'mp3', 'mp3s', 'mpc', 'mpeg', 'mpeg4', 'mph', 'mpio', 'mps', 'mpx', 'mr', 'mrs', 'ms', 'msc', 'mscps', 'msn', 'msps', 'mtfg', 'mtn', 'mtv', 'mubanga', 'muck', 'mud', 'muddied', 'muddy', 'muggings', 'mugs', 'muhammad', 'mukasa', 'mukerjee', 'mukherjee', 'mule', 'mulhouse', 'mulle', 'mullen', 'mullet', 'mulligan', 'mulling', 'mulls', 'multi', 'multicore', 'multidimensional', 'multifocal', 'multilateral', 'multilaterally', 'multilingual', 'multimedia', 'multinationals', 'multiplayer', 'multiple', 'multiples', 'multiplex', 'multitude', 'mum', 'mumbai', 'mums', 'muna', 'munich', 'municipal', 'munoz', 'munro', 'munster', 'munsterman', 'murder', 'murdered', 'murderer', 'murderers', 'murdering', 'murders', 'murdoch', 'murky', 'murphy', 'murray', 'murrayfield', 'musampa', 'muscle', 'muscles', 'muscling', 'muse', 'museum', 'museums', 'musharraf', 'mushroomed', 'mushy', 'music', 'musical', 'musicals', 'musician', 'musicians', 'musicologist', 'musicology', 'musings', 'musiwave', 'muslim', 'muslims', 'musselburgh', 'musselman', 'mustafa', 'muster', 'mutates', 'muted', 'mutilation', 'mutiny', 'mutola', 'mutual', 'mutually', 'mutv', 'mw', 'mycokemusic', 'mydoom', 'myers', 'myrio', 'myron', 'myskina', 'mysteries', 'mystery', 'mysticism', 'mystified', 'myth', 'mythical', 'mythology', 'n64', 'na', 'naamsa', 'nachison', 'nacho', 'nadal', 'nadia', 'nadu', 'nagged', 'naik', 'nail', 'nailed', 'nairobi', 'naive', 'naively', 'naked', 'nalbandian', 'named', 'names', 'namibia', 'naming', 'namouchi', 'nan', 'nancy', 'nandrolone', 'nanga', 'nanny', 'nano', 'nanoparticles', 'nanoscale', 'nanotechnology', 'nanuku', 'nao', 'naoki', 'naomi', 'napalm', 'napoleon', 'napster', 'napsterization', 'narbonne', 'narcotics', 'naresh', 'naris', 'narrative', 'narrow', 'narrowed', 'narrowing', 'narrowly', 'nas', 'nasa', 'nasdaq', 'nash', 'nashville', 'nastiest', 'nasty', 'natalie', 'natasha', 'nate', 'natexis', 'nath', 'nathalie', 'nathan', 'nation', 'national', 'nationalisation', 'nationalise', 'nationalities', 'nationality', 'nationally', 'nationals', 'nations', 'nationwide', 'native', 'nato', 'natural', 'nature', 'natured', 'natwest', 'naude', 'nauseating', 'naval', 'navigate', 'navigating', 'navigation', 'navratilova', 'navy', 'naysmith', 'nazi', 'nazionale', 'nba', 'nbc', 'ncci', 'ne', 'nea', 'neal', 'neale', 'neaptide', 'near', 'nearby', 'nearing', 'nearly', 'neasden', 'neat', 'neath', 'neatly', 'nec', 'necessarily', 'necessary', 'necessity', 'neck', 'necks', 'need', 'needed', 'needing', 'needle', 'needless', 'needlessly', 'needs', 'neeson', 'negate', 'negative', 'negatively', 'negatives', 'neglect', 'neglected', 'negligence', 'negligent', 'negligible', 'negotiate', 'negotiated', 'negotiating', 'negotiation', 'negotiations', 'negotiator', 'negrasmusic', 'negroponte', 'neidl', 'neighbour', 'neighbourhood', 'neighbouring', 'neighbours', 'neil', 'neill', 'nellie', 'nelly', 'nelson', 'nem', 'nemesis', 'nemo', 'neon', 'nepal', 'nephew', 'nerdy', 'neri', 'nerve', 'nervelessly', 'nerves', 'nervous', 'nervously', 'nervy', 'ness', 'nest', 'nestle', 'nestor', 'net', 'netcraft', 'netherdale', 'netherlands', 'netmd', 'netratings', 'nets', 'netscape', 'netsky', 'netsurity', 'netted', 'netting', 'nettle', 'nettles', 'network', 'networked', 'networking', 'networks', 'neumi', 'neurone', 'neuroprosthesis', 'neuroscientist', 'neurosis', 'neutral', 'neverland', 'nevermind', 'neville', 'nevis', 'nevo', 'nevosl', 'nevzlin', 'new', 'newbridge', 'newbury', 'newcastle', 'newcombe', 'newcomer', 'newcomers', 'newer', 'newest', 'newey', 'newham', 'newly', 'newmarket', 'newport', 'news', 'newscasters', 'newsgaming', 'newsletter', 'newsnight', 'newspaper', 'newspapers', 'newsround', 'newton', 'nfl', 'nfor', 'ngom', 'ngos', 'nhs', 'nhtcu', 'nhtsa', 'ni', 'nia', 'nice', 'nicely', 'nicer', 'niche', 'niches', 'nicholas', 'nicholls', 'nichols', 'nicholson', 'nick', 'nicked', 'nickel', 'nicki', 'nickname', 'nicknamed', 'nicky', 'nicoals', 'nicola', 'nicolaisen', 'nicolas', 'nicole', 'niebaum', 'niekerk', 'niel', 'niels', 'nielsen', 'nielson', 'nienhuis', 'niesr', 'nigel', 'nigeria', 'nigerian', 'niggle', 'niggles', 'niggling', 'night', 'nightclub', 'nightclubs', 'nightfire', 'nightmare', 'nights', 'nighty', 'nighy', 'nihat', 'nihon', 'nike', 'nikkei', 'nikkocitigroup', 'nikolay', 'nil', 'nile', 'nimble', 'nineteen', 'ninety', 'nintendo', 'ninth', 'nioc', 'nip', 'nipple', 'nippon', 'niro', 'nirupama', 'nirvana', 'niscc', 'nishikawa', 'nissan', 'nistelrooy', 'nitoglia', 'niven', 'nm', 'nm2', 'nme', 'noam', 'nobel', 'noble', 'nobutaka', 'nod', 'nodded', 'nodding', 'node', 'nods', 'noel', 'nogar', 'noise', 'noises', 'noisy', 'nokia', 'nolberto', 'nomad', 'nomadic', 'nominated', 'nominating', 'nomination', 'nominations', 'nominee', 'nominees', 'nomura', 'non', 'nonchantly', 'nonetheless', 'nonethless', 'nonsense', 'nonu', 'noon', 'nop', 'norah', 'norbert', 'norfolk', 'normal', 'normalcy', 'normally', 'norman', 'norrell', 'norris', 'nortel', 'north', 'northampton', 'northamptonshire', 'northeast', 'northern', 'northolt', 'northstar', 'northumberland', 'northwest', 'norton', 'norvasc', 'norway', 'norwegian', 'norwegians', 'norwich', 'nose', 'noses', 'nostalgia', 'notable', 'notably', 'notch', 'notching', 'note', 'notebaert', 'notebook', 'notebooks', 'noteboook', 'noted', 'notes', 'notice', 'noticeable', 'noticeably', 'noticed', 'notices', 'noticing', 'notification', 'notified', 'notify', 'noting', 'notion', 'notions', 'notoriety', 'notorious', 'notoriously', 'nots', 'nottingham', 'nottinghamshire', 'nottm', 'notts', 'notwithstanding', 'nou', 'nous', 'novak', 'novel', 'novelist', 'novelists', 'novels', 'november', 'novices', 'novo', 'novoselic', 'nowadays', 'nozaki', 'npd', 'nspcc', 'nt', 'ntl', 'ntpc', 'ntt', 'nuclear', 'nude', 'nudges', 'nudging', 'nudity', 'nuisance', 'nuj', 'nullified', 'number', 'numbered', 'numbering', 'numbers', 'numbingly', 'numerical', 'numerically', 'numerique', 'numerous', 'nunez', 'nureyev', 'nurse', 'nursery', 'nurses', 'nursing', 'nurture', 'nurtured', 'nut', 'nutritional', 'nuts', 'nutter', 'nutters', 'ny', 'nyanga', 'nymex', 'nzame', 'o2', 'oak', 'oasis', 'oaten', 'oatley', 'obe', 'obermann', 'obesity', 'obey', 'obie', 'obikwelu', 'obituary', 'object', 'objected', 'objection', 'objectionable', 'objections', 'objective', 'objectives', 'objectivity', 'objects', 'obligation', 'obligations', 'obligatory', 'obliged', 'obliges', 'oblon', 'obscene', 'obscure', 'obscured', 'obscurity', 'observation', 'observe', 'observed', 'observer', 'observers', 'observes', 'observing', 'obsess', 'obsessed', 'obsession', 'obsessively', 'obst', 'obstacle', 'obstacles', 'obstruct', 'obstructing', 'obstruction', 'obtain', 'obtained', 'obtaining', 'obvious', 'obviously', 'oc', 'occasion', 'occasional', 'occasionally', 'occasions', 'occupancy', 'occupation', 'occupations', 'occupiers', 'occupies', 'occupy', 'occupying', 'occur', 'occurred', 'occurrence', 'occurring', 'occurs', 'ocean', 'oceans', 'october', 'od2', 'oday', 'odd', 'oddie', 'oddities', 'oddjob', 'odds', 'oded', 'odeon', 'odour', 'odpm', 'ofcom', 'ofex', 'offence', 'offences', 'offend', 'offended', 'offender', 'offenders', 'offending', 'offensive', 'offer', 'offered', 'offering', 'offerings', 'offers', 'offically', 'office', 'officer', 'officers', 'offices', 'official', 'officially', 'officials', 'offline', 'offload', 'offloading', 'offs', 'offset', 'offsetting', 'offshoots', 'offshore', 'offshoring', 'offside', 'offspring', 'ofheo', 'ofnew', 'ofoto', 'ofsted', 'oftel', 'og', 'oganesyan', 'ogilvy', 'oh', 'ohio', 'oil', 'oiled', 'oilfield', 'oilfields', 'ok', 'okay', 'okayo', 'oklahoma', 'okonedo', 'olaf', 'old', 'older', 'oldest', 'oldham', 'olds', 'ole', 'oleg', 'oligarchs', 'oliver', 'olives', 'olivia', 'olivier', 'ollie', 'olly', 'olmert', 'olof', 'olsson', 'olympiad', 'olympiakos', 'olympic', 'olympics', 'omai', 'omar', 'ombudsman', 'ominously', 'omission', 'omni', 'omnicom', 'onatopp', 'onboard', 'one2one', 'ones', 'onestat', 'ongaro', 'ongc', 'ongoing', 'onimusha', 'online', 'onrushing', 'ons', 'onside', 'onslaught', 'ontario', 'ontrack', 'onuoha', 'onus', 'onwards', 'onyx', 'oona', 'opal', 'opaque', 'opec', 'opel', 'open', 'opened', 'opener', 'opening', 'openly', 'openness', 'opens', 'opera', 'operas', 'operate', 'operated', 'operates', 'operatic', 'operating', 'operation', 'operational', 'operationally', 'operations', 'operative', 'operator', 'operators', 'opiates', 'opic', 'opik', 'opinion', 'opinions', 'oppenheim', 'opponent', 'opponents', 'opportunistic', 'opportunities', 'opportunity', 'oppose', 'opposed', 'opposes', 'opposing', 'opposite', 'opposition', 'oppositional', 'oprah', 'opsahl', 'opt', 'opted', 'optic', 'optical', 'optimism', 'optimistic', 'optimists', 'opting', 'optinrealbig', 'optio', 'option', 'options', 'opts', 'opus', 'oram', 'orange', 'orator', 'orchestra', 'orchestrated', 'orchestrating', 'ordeal', 'order', 'ordered', 'ordering', 'orderly', 'orders', 'ordinary', 'ordinate', 'ordinated', 'ordinating', 'ordination', 'ordinator', 'ore', 'orfevres', 'org', 'organic', 'organisation', 'organisations', 'organise', 'organised', 'organiser', 'organisers', 'organising', 'organism', 'organization', 'organizations', 'organizers', 'organs', 'oriel', 'orient', 'oriental', 'orientated', 'origin', 'original', 'originality', 'originally', 'originated', 'origins', 'orimulsion', 'orin', 'orion', 'orkneys', 'orlando', 'ormerod', 'ormond', 'orphanage', 'orphaned', 'orpington', 'orquera', 'orson', 'orthopaedic', 'ortiz', 'orwell', 'orwellian', 'os', 'osborne', 'osbourne', 'osbournes', 'oscar', 'oscars', 'osella', 'oslo', 'osman', 'ospreys', 'ossie', 'ostentation', 'oster', 'ostriches', 'ostwald', 'osx', 'otc', 'otis', 'otoku', 'otro', 'ought', 'ounce', 'ounces', 'oust', 'ousted', 'ousting', 'outbreak', 'outbreaks', 'outburst', 'outcome', 'outcry', 'outdated', 'outdo', 'outdoor', 'outen', 'outer', 'outfit', 'outfits', 'outfitting', 'outflank', 'outgoing', 'outgunned', 'outing', 'outings', 'outkast', 'outlasting', 'outlaw', 'outlawed', 'outlawing', 'outlets', 'outline', 'outlined', 'outlines', 'outling', 'outlining', 'outlook', 'outmoded', 'outmuscled', 'outnumbered', 'outpaced', 'outperform', 'outperformance', 'outperformed', 'outperforming', 'outplayed', 'outpouring', 'output', 'outrage', 'outraged', 'outrageous', 'outreach', 'outriders', 'outright', 'outs', 'outselling', 'outset', 'outshining', 'outside', 'outsider', 'outskirts', 'outsold', 'outsource', 'outsourcing', 'outspent', 'outspoken', 'outsprinted', 'outstanding', 'outstrip', 'outstripped', 'outstripping', 'outwardly', 'outweigh', 'outweighed', 'outweight', 'ovation', 'overall', 'overbearing', 'overblown', 'overcame', 'overcapacity', 'overcome', 'overcomes', 'overcoming', 'overcrowded', 'overcrowding', 'overdose', 'overdoses', 'overdrive', 'overdue', 'overhaul', 'overhauled', 'overhead', 'overheads', 'overheard', 'overheat', 'overheating', 'overheats', 'overlap', 'overlapping', 'overload', 'overloaded', 'overlook', 'overlooked', 'overlooking', 'overly', 'overmighty', 'overnight', 'overpaid', 'overpeer', 'overreact', 'overruling', 'overs', 'oversaw', 'overseas', 'oversee', 'overseeing', 'overseen', 'oversees', 'overshadow', 'overshadowed', 'overshadowing', 'overshot', 'oversight', 'overspill', 'overstating', 'overstretched', 'oversubscribed', 'overtake', 'overtaken', 'overtaking', 'overtime', 'overtones', 'overtook', 'overtures', 'overturn', 'overturned', 'overturning', 'overview', 'overweight', 'overwhelm', 'overwhelmed', 'overwhelming', 'overwhelmingly', 'owain', 'owed', 'owen', 'owens', 'owes', 'owing', 'owned', 'owner', 'owners', 'ownership', 'owning', 'owns', 'oxfam', 'oxford', 'oxfordshire', 'oxley', 'oxycodone', 'oxymoron', 'oyepitan', 'ozkan', 'ozzy', 'p2p', 'p7131', 'p900', 'pa', 'pac', 'pace', 'paced', 'pacemaker', 'pacemakers', 'pacific', 'pacifier', 'pacing', 'pack', 'package', 'packaged', 'packages', 'packaging', 'packard', 'packed', 'packets', 'packs', 'pact', 'padding', 'paddington', 'paddy', 'paedophilia', 'paes', 'page', 'pager', 'pages', 'paid', 'pain', 'painful', 'painkiller', 'pains', 'paint', 'painted', 'painting', 'paintings', 'pair', 'paired', 'pairing', 'pairs', 'paisley', 'pakeerah', 'pakiha', 'pakistan', 'pakistani', 'pakistanis', 'pal', 'palace', 'palaeontologists', 'palaniappan', 'palatable', 'palermo', 'palestinian', 'palestinians', 'palm', 'palme', 'palmed', 'palmer', 'palms', 'palookaville', 'palpable', 'paltry', 'pam', 'pamela', 'pan', 'panacea', 'panagiotis', 'panagopoulos', 'panasonic', 'panavox', 'pancake', 'pancras', 'pandemic', 'pandering', 'panel', 'panels', 'panic', 'paniccia', 'panicked', 'panics', 'panke', 'panlogic', 'panorama', 'panoramic', 'pans', 'pantech', 'panther', 'pants', 'paolo', 'pap', 'papadoyiannakis', 'paparazzi', 'paper', 'paperback', 'paperbacks', 'papers', 'paperwork', 'paphitis', 'papo', 'par', 'parade', 'paradis', 'paradise', 'paradorn', 'paragons', 'parallel', 'paralysed', 'paramount', 'paranoid', 'paraplegic', 'pararallying', 'parc', 'parcel', 'parchment', 'pardew', 'parent', 'parental', 'parents', 'paring', 'paris', 'parisse', 'park', 'parker', 'parkes', 'parkhead', 'parking', 'parkinson', 'parks', 'parliament', 'parliamentarians', 'parliamentary', 'parliaments', 'parma', 'parmalat', 'parmar', 'parmjit', 'parody', 'parr', 'parried', 'parrot', 'parry', 'parsons', 'partial', 'partially', 'participant', 'participants', 'participate', 'participating', 'participation', 'particle', 'particuarly', 'particular', 'particularly', 'parties', 'parting', 'partisan', 'partly', 'partner', 'partnered', 'partnering', 'partners', 'partnership', 'partnerships', 'partridge', 'parts', 'party', 'parul', 'pasadena', 'pascal', 'paschi', 'paseo', 'pasquale', 'pass', 'passable', 'passage', 'passcard', 'passed', 'passenger', 'passengers', 'passer', 'passes', 'passing', 'passion', 'passionate', 'passionately', 'passions', 'passive', 'passport', 'passports', 'passwords', 'past', 'pat', 'patch', 'patches', 'patchy', 'patel', 'patent', 'patentability', 'patented', 'patenting', 'patents', 'paternalistic', 'paternity', 'paterson', 'path', 'pathetic', 'patience', 'patient', 'patients', 'patois', 'patriarch', 'patricia', 'patricio', 'patrick', 'patrik', 'patriots', 'patrol', 'patrolling', 'patronising', 'patsy', 'pattaya', 'pattern', 'patterns', 'patterson', 'pattison', 'patty', 'paul', 'paula', 'paulista', 'paulo', 'paulse', 'pause', 'paused', 'pave', 'paved', 'pavel', 'pavement', 'paves', 'pavey', 'pavilion', 'pavlikowsky', 'pawel', 'pawlikowski', 'paws', 'pax', 'pay', 'payable', 'payers', 'paying', 'payment', 'payments', 'payne', 'payoff', 'payout', 'payouts', 'paypal', 'payroll', 'payrolls', 'pays', 'pb100', 'pbgc', 'pbs', 'pc', 'pco', 'pcs', 'pcsu', 'pda', 'pdas', 'pea', 'peace', 'peaceful', 'peacefully', 'peacekeepers', 'peacekeeping', 'peacemakers', 'peak', 'peake', 'peaked', 'peaks', 'pearce', 'pearl', 'pearson', 'peas', 'pease', 'pecking', 'peculiarly', 'pedal', 'pedals', 'peddle', 'peddlers', 'pedestrianisation', 'pedestrians', 'pedigree', 'pedrazzi', 'pedro', 'peek', 'peel', 'peep', 'peer', 'peers', 'peformance', 'peg', 'pegg', 'pegged', 'peirce', 'pel', 'pelham', 'pellegrino', 'pellets', 'pelous', 'pelted', 'pen', 'penal', 'penalise', 'penalised', 'penalising', 'penalties', 'penalty', 'pence', 'pencilled', 'pendant', 'pending', 'pendulum', 'penetrated', 'penetrating', 'penetration', 'penfolds', 'peninsula', 'penn', 'penned', 'pennetta', 'penny', 'pension', 'pensioner', 'pensioners', 'pensions', 'penski', 'pent', 'pentagon', 'pentathlon', 'pentax', 'penultimate', 'people', 'pepito', 'peppe', 'pepper', 'peppered', 'pepsi', 'peptides', 'peradventure', 'perakis', 'perceive', 'perceived', 'perceives', 'percent', 'percentage', 'percentages', 'percept', 'perception', 'perceptions', 'perched', 'perchesk', 'percy', 'perez', 'perfect', 'perfecting', 'perfectly', 'perform', 'performance', 'performances', 'performed', 'performer', 'performers', 'performing', 'performs', 'peril', 'perilous', 'perilously', 'perimeter', 'period', 'periodic', 'periodically', 'periods', 'peripheral', 'peripherals', 'perm', 'permanent', 'permanently', 'permission', 'permissions', 'permissive', 'permit', 'permits', 'permitted', 'permitting', 'perpetrators', 'perpetuated', 'perpetuating', 'perpignan', 'perreira', 'perrier', 'perry', 'persecuted', 'persecution', 'persia', 'persico', 'persie', 'persist', 'persistence', 'persistent', 'persisting', 'person', 'persona', 'personal', 'personalisation', 'personalise', 'personalised', 'personalities', 'personality', 'personally', 'personified', 'personnel', 'persons', 'perspective', 'persuade', 'persuaded', 'persuading', 'persuasion', 'persuasions', 'perthshire', 'pertinent', 'peru', 'perugini', 'peruvian', 'pervaded', 'pervades', 'pervan', 'pervasive', 'perversion', 'pervez', 'peso', 'pesos', 'pessimism', 'pessimistic', 'pester', 'peston', 'pet', 'petcare', 'pete', 'peter', 'peterborough', 'petered', 'peterhead', 'peters', 'petersen', 'petition', 'petitioners', 'petr', 'petra', 'petrie', 'petrina', 'petrol', 'petroleum', 'petronas', 'petrov', 'petrova', 'petty', 'petulance', 'peugeot', 'pew', 'pez', 'pfeifer', 'pfi', 'pfizer', 'pg', 'ph', 'phalanx', 'phantom', 'pharaohs', 'pharma', 'pharmaceutical', 'pharmaceuticals', 'pharmacies', 'pharrell', 'phase', 'phased', 'phases', 'phd', 'phenomena', 'phenomenal', 'phenomenally', 'phenomenon', 'phi', 'phil', 'philadelphia', 'philandering', 'philip', 'philippe', 'philippines', 'philippoussis', 'philips', 'phillips', 'philosophy', 'phinnaeus', 'phishing', 'phoebe', 'phoenix', 'phone', 'phonecam', 'phoned', 'phones', 'phoney', 'phoning', 'phonographic', 'photo', 'photograph', 'photographer', 'photographers', 'photographs', 'photonics', 'photons', 'photos', 'photosig', 'phpbb', 'phrase', 'phrasing', 'phuket', 'physical', 'physically', 'physicians', 'physics', 'physio', 'phytopharm', 'pianist', 'piano', 'piazza', 'picasa', 'piccadilly', 'pick', 'picked', 'picker', 'picket', 'picketing', 'pickets', 'picking', 'pickings', 'picks', 'pickup', 'pickups', 'pictochat', 'picture', 'pictured', 'pictures', 'pidgeley', 'pie', 'piece', 'piecemeal', 'pieces', 'pierce', 'piercing', 'pierre', 'piers', 'pierson', 'pieters', 'pietro', 'pig', 'pigs', 'pike', 'pile', 'piled', 'pilgrimage', 'piling', 'pilkington', 'pillowman', 'pilot', 'piloted', 'pilots', 'pim', 'pin', 'pinchuk', 'pinewood', 'ping', 'pink', 'pinks', 'pinnacle', 'pinned', 'pinning', 'pinochet', 'pinpoint', 'pinpointing', 'pins', 'pioneer', 'pioneered', 'pioneering', 'pioneers', 'pipa', 'pipeline', 'pipes', 'pipex', 'pipped', 'piracy', 'pirate', 'pirated', 'pirates', 'pirating', 'pires', 'piri', 'pirouette', 'pistol', 'pistols', 'pistone', 'pit', 'pitch', 'pitched', 'pitches', 'pitfalls', 'pitiful', 'pitman', 'pits', 'pitt', 'pitted', 'pittsburgh', 'pity', 'pivotal', 'pixagogo', 'pixel', 'pixels', 'pixies', 'pizza', 'pj', 'pl', 'placatory', 'place', 'placed', 'placements', 'places', 'placing', 'placings', 'plague', 'plagued', 'plaguing', 'plaid', 'plain', 'plainly', 'plaisir', 'plan', 'plane', 'planemaker', 'planes', 'planet', 'planetary', 'planets', 'planks', 'planned', 'planning', 'plans', 'plant', 'plantation', 'plante', 'planted', 'planting', 'plants', 'plasma', 'plaster', 'plasterboard', 'plastic', 'plastics', 'plate', 'platform', 'platforms', 'plath', 'platinum', 'platon', 'plaudits', 'plausible', 'play', 'playable', 'playback', 'playboy', 'playboyz', 'played', 'player', 'players', 'playground', 'playing', 'playlist', 'playlists', 'playmaker', 'plays', 'playstation', 'playstations', 'playwright', 'playwrights', 'plea', 'plead', 'pleaded', 'pleading', 'pleads', 'pleas', 'pleasant', 'pleased', 'pleasing', 'pleasure', 'pledge', 'pledged', 'pledges', 'pledging', 'plentiful', 'plenty', 'plessis', 'plethora', 'plight', 'plot', 'plots', 'plotting', 'ploughed', 'ploy', 'plp', 'pluck', 'plug', 'plugged', 'plugs', 'plum', 'plummet', 'plummeting', 'plumping', 'plundered', 'plundering', 'plunders', 'plunge', 'plunged', 'plunges', 'plurality', 'plus', 'plusnet', 'plymouth', 'pm', 'pma430', 'pmc', 'pmi', 'pml', 'png', 'poach', 'poached', 'poaching', 'pocket', 'pockets', 'podcast', 'podcaster', 'podcasters', 'podcasting', 'podcasts', 'podium', 'poelvoorde', 'poem', 'poems', 'poet', 'poetry', 'poignant', 'point', 'pointed', 'pointedly', 'pointer', 'pointing', 'pointless', 'points', 'pointsec', 'pointy', 'poised', 'poison', 'poisoned', 'poisonous', 'poiter', 'poked', 'poker', 'poking', 'poland', 'polar', 'polarised', 'pole', 'poliakoff', 'police', 'policies', 'policing', 'policy', 'policyholders', 'policymakers', 'polish', 'polished', 'political', 'politically', 'politician', 'politicians', 'politicisation', 'politics', 'poll', 'pollard', 'polled', 'polling', 'polls', 'polluted', 'pollution', 'polly', 'polo', 'polygons', 'polynesia', 'pompei', 'pompeii', 'pompey', 'pompous', 'pondered', 'pong', 'pontiac', 'pool', 'poole', 'pooled', 'pooling', 'poor', 'poorer', 'poorest', 'poorly', 'pop', 'pope', 'popping', 'poppins', 'pops', 'populaires', 'popular', 'popularise', 'popularised', 'popularity', 'populated', 'population', 'populations', 'populist', 'populous', 'popz', 'porn', 'pornographers', 'pornographic', 'pornography', 'porsche', 'port', 'portability', 'portable', 'portal', 'portals', 'porter', 'portering', 'portfolio', 'portillo', 'portion', 'portions', 'portland', 'portly', 'portman', 'porto', 'portrait', 'portray', 'portrayal', 'portrayed', 'portrays', 'ports', 'portsmouth', 'portugal', 'portuguese', 'pose', 'posed', 'poses', 'posing', 'position', 'positional', 'positioned', 'positions', 'positive', 'positively', 'positives', 'possess', 'possessing', 'possession', 'possessions', 'possibilities', 'possibility', 'possible', 'possibly', 'post', 'postal', 'posted', 'poster', 'posters', 'postgraduates', 'posthumous', 'posting', 'postings', 'postponed', 'postponing', 'posts', 'posture', 'pot', 'potato', 'potatoes', 'potency', 'potent', 'potential', 'potentially', 'potito', 'pots', 'pottage', 'potter', 'potts', 'poulton', 'pounced', 'pouncing', 'pound', 'pounded', 'pounder', 'pounds', 'pountney', 'pour', 'poured', 'pouring', 'poverty', 'pow', 'powder', 'powell', 'power', 'powerbook', 'powered', 'powerful', 'powerfully', 'powerhouse', 'powermac', 'powerpage', 'powers', 'powys', 'pox', 'pozzebon', 'ppi', 'pr', 'practicable', 'practical', 'practicalities', 'practically', 'practice', 'practices', 'practise', 'practised', 'practises', 'practising', 'pradesh', 'praful', 'pragmatic', 'prague', 'praise', 'praised', 'praises', 'praising', 'pranab', 'prank', 'pratt', 'pray', 'prayer', 'pre', 'preacher', 'preachers', 'preaches', 'preaching', 'preachy', 'prebon', 'precede', 'precedence', 'precedent', 'preceding', 'precinct', 'precious', 'precise', 'precisely', 'precursor', 'predator', 'preddy', 'predecessor', 'predict', 'predictable', 'predicted', 'predicting', 'prediction', 'predictions', 'predicts', 'predominantly', 'predominately', 'preez', 'prefer', 'preferable', 'preference', 'preferences', 'preferential', 'preferred', 'preferring', 'prefers', 'pregnancy', 'pregnant', 'prehistoric', 'prejudge', 'prejudice', 'prejudiced', 'prejudices', 'preliminary', 'prelude', 'prem', 'premature', 'prematurely', 'premier', 'premiere', 'premiered', 'premiership', 'premise', 'premises', 'premium', 'premiums', 'premji', 'prentice', 'prentis', 'preoccupation', 'preparation', 'preparations', 'prepare', 'prepared', 'preparedness', 'prepares', 'preparing', 'preposterously', 'prequel', 'prerogative', 'prescott', 'prescription', 'presence', 'present', 'presentation', 'presentations', 'presented', 'presenter', 'presenters', 'presenting', 'presently', 'presents', 'preserve', 'preserved', 'preserving', 'preset', 'preside', 'presidencies', 'presidency', 'president', 'presidential', 'presidents', 'presiding', 'presley', 'press', 'presse', 'pressed', 'presses', 'pressing', 'pressure', 'pressured', 'pressures', 'pressurised', 'prestige', 'prestigious', 'preston', 'presumably', 'presume', 'presumed', 'presuming', 'presumption', 'pretences', 'pretend', 'pretended', 'pretenders', 'pretending', 'prettejohn', 'prettier', 'pretty', 'prevail', 'prevailing', 'prevails', 'prevalence', 'prevalent', 'prevent', 'preventable', 'prevented', 'preventing', 'prevention', 'preventon', 'prevents', 'preview', 'previews', 'previous', 'previously', 'prey', 'price', 'priced', 'priceless', 'prices', 'pricewaterhousecoopers', 'pricey', 'pricier', 'pricing', 'pricked', 'pride', 'priest', 'priet', 'prima', 'primarily', 'primary', 'prime', 'primer', 'primera', 'primetime', 'primus', 'prince', 'princes', 'princess', 'principal', 'principality', 'principally', 'principals', 'principle', 'principled', 'principles', 'print', 'printed', 'printing', 'prints', 'prior', 'priorities', 'prioritises', 'priority', 'prison', 'prisoner', 'prisoners', 'prisons', 'prius', 'privacy', 'private', 'privately', 'privatisation', 'privatisations', 'privatise', 'privatising', 'privatized', 'privilege', 'privileges', 'privy', 'prix', 'prize', 'prizes', 'pro', 'proactively', 'probably', 'probation', 'probe', 'probed', 'probem', 'probes', 'probing', 'problem', 'problematical', 'problems', 'probyn', 'procedural', 'procedure', 'procedures', 'proceed', 'proceeding', 'proceedings', 'proceeds', 'process', 'processed', 'processes', 'processing', 'processor', 'processors', 'proclaim', 'proclaimed', 'procter', 'prodded', 'prodigy', 'produce', 'produced', 'producer', 'producers', 'produces', 'producing', 'product', 'production', 'productions', 'productive', 'productivity', 'products', 'prof', 'profanity', 'profession', 'professional', 'professionalism', 'professionally', 'professionals', 'professor', 'profile', 'profit', 'profitability', 'profitable', 'profited', 'profiteering', 'profiting', 'profits', 'profound', 'profoundly', 'progam', 'program', 'programmable', 'programme', 'programmed', 'programmer', 'programmers', 'programmes', 'programming', 'programs', 'progress', 'progressed', 'progresses', 'progressing', 'progressive', 'progressively', 'prohibited', 'prohibitive', 'prohibits', 'project', 'projected', 'projecting', 'projection', 'projections', 'projectors', 'projects', 'proliferate', 'proliferated', 'proliferation', 'prolong', 'prolonged', 'prolonging', 'prominence', 'prominent', 'prominently', 'promise', 'promised', 'promises', 'promising', 'promote', 'promoted', 'promoter', 'promoters', 'promotes', 'promoting', 'promotion', 'promotional', 'promotions', 'prompt', 'prompted', 'prompting', 'promptly', 'prompts', 'prone', 'pronged', 'pronounced', 'pronouncements', 'pronunciation', 'proof', 'prop', 'propaganda', 'propagating', 'propelled', 'propensity', 'proper', 'properly', 'properties', 'property', 'proponent', 'proponents', 'proportion', 'proportional', 'proportionate', 'proportionately', 'proportions', 'proposal', 'proposals', 'propose', 'proposed', 'proposes', 'proposing', 'proposition', 'propostition', 'propping', 'props', 'prosecute', 'prosecuted', 'prosecuting', 'prosecution', 'prosecutions', 'prosecutor', 'prosecutors', 'prospect', 'prospective', 'prospects', 'prospectus', 'prosper', 'prospered', 'prosperity', 'prosperous', 'prostitutes', 'prostitution', 'protagonist', 'protect', 'protected', 'protecting', 'protection', 'protectionism', 'protections', 'protects', 'protege', 'protein', 'protest', 'protestant', 'protestants', 'protestation', 'protestations', 'protested', 'protester', 'protesters', 'protestors', 'protests', 'protocol', 'protocols', 'prototype', 'prototypes', 'proud', 'prove', 'proved', 'proven', 'proves', 'provide', 'provided', 'provider', 'providers', 'provides', 'providing', 'province', 'provinces', 'provincial', 'proving', 'provision', 'provisional', 'provisionally', 'provisions', 'proviso', 'provocation', 'provocative', 'provoke', 'provoked', 'prowess', 'proxies', 'proximity', 'proxy', 'prozac', 'prso', 'prudence', 'prutton', 'ps2', 'ps3', 'psa', 'psion', 'psp', 'psps', 'psv', 'psyche', 'psychedelic', 'psychoacoustics', 'psychological', 'psychologically', 'psychopath', 'ptc', 'pub', 'public', 'publication', 'publications', 'publicise', 'publicised', 'publicising', 'publicist', 'publicists', 'publicity', 'publicly', 'publish', 'published', 'publisher', 'publishers', 'publishes', 'publishing', 'pubs', 'puerta', 'puerto', 'pull', 'pulled', 'pulling', 'pulls', 'pulp', 'pulsar', 'pulsating', 'pulses', 'pumas', 'pump', 'pumped', 'pumps', 'punch', 'punches', 'punctuate', 'punctuated', 'pundit', 'pundits', 'punish', 'punished', 'punisher', 'punishing', 'punishment', 'punishments', 'punitive', 'punk', 'punky', 'punt', 'punter', 'pupil', 'pupils', 'purchase', 'purchased', 'purchasers', 'purchases', 'purchasing', 'purdie', 'pure', 'purely', 'purge', 'purkiss', 'purple', 'purport', 'purporting', 'purpose', 'purposefully', 'purposes', 'purr', 'purrs', 'purse', 'pursue', 'pursued', 'pursues', 'pursuing', 'pursuit', 'purushotma', 'purveyors', 'purvin', 'purvis', 'push', 'pushed', 'pushing', 'putin', 'putrid', 'puts', 'putting', 'puzzle', 'puzzlement', 'puzzles', 'pvr', 'pvrs', 'pwc', 'pyra', 'pyres', 'qaeda', 'qantas', 'qatar', 'qatargas', 'qc', 'qca', 'ql', 'qmv', 'qpr', 'qrio', 'quadriplegics', 'quadruple', 'quagmire', 'quai', 'quaid', 'quaintly', 'quake', 'quaking', 'qualification', 'qualifications', 'qualified', 'qualifier', 'qualifiers', 'qualify', 'qualifying', 'qualitative', 'qualitatively', 'qualities', 'quality', 'qualms', 'quango', 'quangos', 'quantitative', 'quantities', 'quantity', 'quarter', 'quarterly', 'quarters', 'quartet', 'quartz', 'quash', 'quashed', 'quashie', 'queen', 'queens', 'quell', 'quentin', 'queried', 'queries', 'query', 'quest', 'question', 'questioned', 'questioning', 'questionnaire', 'questionnaires', 'questions', 'questionsmarks', 'queue', 'queued', 'queues', 'quick', 'quicker', 'quickest', 'quickly', 'quicksand', 'quiet', 'quieter', 'quietly', 'quiksilver', 'quincy', 'quinlan', 'quinn', 'quinton', 'quip', 'quirkier', 'quirksville', 'quirky', 'quit', 'quite', 'quits', 'quittenton', 'quitting', 'quiz', 'quizzed', 'quo', 'quota', 'quotas', 'quotation', 'quote', 'quoted', 'quotes', 'quoting', 'qv', 'qwerty', 'qwest', 'r85', 'rab', 'rabah', 'rabb', 'rabeni', 'race', 'racecourse', 'raced', 'racer', 'races', 'rachel', 'racial', 'racially', 'racing', 'racism', 'racist', 'rack', 'racked', 'racket', 'racketeering', 'rackets', 'racking', 'racks', 'racy', 'rad', 'radar', 'radcliffe', 'radek', 'radical', 'radicalism', 'radically', 'radicallyimproved', 'radicals', 'radicati', 'radio', 'radioactive', 'radioactivity', 'radios', 'radius', 'radley', 'radwan', 'rae', 'raf', 'rafa', 'rafael', 'rafferty', 'rafik', 'raft', 'rafter', 'raftery', 'rage', 'raged', 'ragged', 'raging', 'ragovoy', 'rah', 'rahman', 'rahul', 'rai', 'raid', 'raided', 'raids', 'rail', 'railed', 'railtrack', 'railway', 'railways', 'raimi', 'rain', 'rainbow', 'rainer', 'raines', 'rainey', 'raining', 'rainy', 'raise', 'raised', 'raises', 'raising', 'raitt', 'raj', 'rajapakse', 'rajasthan', 'raked', 'rallied', 'rallies', 'rally', 'rallying', 'ralph', 'ram', 'ramallah', 'rambert', 'rambo', 'ramdhan', 'ramifications', 'ramming', 'ramp', 'rampant', 'ramping', 'ramps', 'ramrodded', 'ramsay', 'ran', 'ranch', 'rancour', 'rand', 'randex', 'randle', 'random', 'randomly', 'randt', 'rang', 'range', 'ranged', 'ranger', 'rangers', 'ranges', 'ranging', 'ranieri', 'raniers', 'rank', 'ranked', 'rankin', 'ranking', 'rankings', 'rankles', 'ranks', 'ransom', 'rap', 'rape', 'raped', 'rapes', 'raphael', 'rapid', 'rapidly', 'rapped', 'rapper', 'rappers', 'rapping', 'rapport', 'raquel', 'rare', 'rarely', 'rarer', 'raring', 'rash', 'rasheed', 'rasmussen', 'rat', 'ratchet', 'ratcheted', 'ratcheting', 'rate', 'rated', 'rates', 'ratification', 'ratified', 'ratify', 'rating', 'ratings', 'rationale', 'rations', 'rato', 'rats', 'rattle', 'rattled', 'rattling', 'raucous', 'raul', 'raunch', 'raunchy', 'ravaged', 'rave', 'ravenhill', 'ravenous', 'ravi', 'raw', 'ray', 'rayman', 'raymond', 'rayne', 'raynsford', 'rays', 'razor', 'razorlight', 'razr', 'rbs', 'rca', 'rea', 'reach', 'reached', 'reaches', 'reaching', 'react', 'reacted', 'reacting', 'reaction', 'reactions', 'reacts', 'read', 'readable', 'reade', 'reader', 'readers', 'readership', 'readily', 'reading', 'reads', 'ready', 'reaffirming', 'reagan', 'reais', 'real', 'realarcade', 'realisation', 'realise', 'realised', 'realising', 'realism', 'realistic', 'realistically', 'reality', 'realize', 'reallocated', 'really', 'reams', 'reap', 'reaped', 'reaping', 'rear', 'reardon', 'rearing', 'rearranging', 'reason', 'reasonable', 'reasonably', 'reasoning', 'reasons', 'reassembled', 'reassert', 'reassess', 'reassurance', 'reassure', 'reassuring', 'rebalance', 'rebalancing', 'rebanding', 'rebate', 'rebecca', 'rebel', 'rebellion', 'rebels', 'reboot', 'rebound', 'rebounding', 'rebrand', 'rebuild', 'rebuilding', 'rebuilds', 'rebuke', 'rebuts', 'rebuttals', 'recall', 'recalled', 'recalling', 'recalls', 'recapitalised', 'receded', 'receipt', 'receipts', 'receive', 'received', 'receiver', 'receivers', 'receives', 'receiving', 'recent', 'recently', 'reception', 'receptionist', 'receptive', 'recess', 'recession', 'recharge', 'recharged', 'rechargers', 'recipe', 'recipient', 'recipients', 'reckitt', 'reckless', 'reckoned', 'reckoning', 'reckons', 'reclaim', 'recluse', 'recognisable', 'recognise', 'recognised', 'recognises', 'recognising', 'recognition', 'recognized', 'recommend', 'recommendation', 'recommendations', 'recommended', 'recommends', 'recommissioned', 'recommissioning', 'reconnaissance', 'reconsider', 'reconstruct', 'reconstructed', 'reconstruction', 'reconvene', 'reconvicted', 'record', 'recordable', 'recorded', 'recorder', 'recorders', 'recording', 'recordings', 'records', 'recounts', 'recoup', 'recouped', 'recourse', 'recover', 'recovered', 'recovering', 'recovers', 'recovery', 'recreate', 'recreated', 'recreates', 'recreational', 'recruit', 'recruited', 'recruiting', 'recruitment', 'rectified', 'rectify', 'rectifying', 'rectitude', 'recut', 'recycle', 'recycled', 'recycling', 'red', 'redder', 'reddy', 'redemption', 'redeveloped', 'redevelopment', 'redford', 'redgate', 'redirected', 'rediscover', 'rediscovered', 'redistribution', 'redknapp', 'redmayne', 'redone', 'redpath', 'redraft', 'redress', 'reds', 'reduce', 'reduced', 'reduces', 'reducing', 'reduction', 'reductions', 'redundancies', 'redundancy', 'redundant', 'redvers', 'redwood', 'reebok', 'reel', 'reeled', 'rees', 'reeve', 'reeves', 'ref', 'refer', 'refered', 'referee', 'refereed', 'refereeing', 'referees', 'reference', 'references', 'referendum', 'referendums', 'referred', 'referring', 'refers', 'refinancing', 'refined', 'refineries', 'refinery', 'refining', 'reflecion', 'reflect', 'reflected', 'reflecting', 'reflection', 'reflections', 'reflective', 'reflects', 'reflexes', 'reform', 'reformat', 'reformed', 'reforming', 'reforms', 'refrain', 'refrained', 'refreshing', 'refuge', 'refugee', 'refugees', 'refund', 'refunds', 'refurbish', 'refusal', 'refusals', 'refuse', 'refused', 'refuseniks', 'refuses', 'refusing', 'refute', 'refutes', 'reg', 'regain', 'regained', 'regaining', 'regains', 'regard', 'regarded', 'regarding', 'regardless', 'regards', 'regency', 'regenerate', 'regeneration', 'regent', 'reggae', 'regime', 'regiment', 'regimes', 'region', 'regional', 'regions', 'register', 'registered', 'registering', 'registrars', 'registration', 'registries', 'registry', 'regressive', 'regret', 'regrets', 'regretted', 'regular', 'regularly', 'regulars', 'regulate', 'regulates', 'regulating', 'regulation', 'regulations', 'regulator', 'regulators', 'regulatory', 'rehabilitated', 'rehabilitation', 'rehearsal', 'rehearsed', 'reheated', 'reid', 'reidar', 'reign', 'reigning', 'reignite', 'reilly', 'reimburse', 'reimbursed', 'reimbursement', 'reimburses', 'rein', 'reined', 'reinforce', 'reinforces', 'reinforcing', 'reinstate', 'reinstated', 'reinstatement', 'reinsurance', 'reinsurer', 'reintegration', 'reintroduce', 'reintroduced', 'reinvest', 'reinvigorate', 'reissued', 'reissues', 'reiterated', 'reiterating', 'reithofer', 'reject', 'rejected', 'rejecting', 'rejection', 'rejects', 'rejoiced', 'rejoin', 'rejoined', 'rekindled', 'relate', 'related', 'relates', 'relating', 'relation', 'relations', 'relationship', 'relationships', 'relative', 'relatively', 'relatives', 'relaunch', 'relax', 'relaxation', 'relaxed', 'relay', 'relayed', 'relays', 'release', 'released', 'releases', 'releasing', 'relegate', 'relegated', 'relegation', 'relentless', 'relevance', 'relevant', 'reliability', 'reliable', 'reliance', 'reliant', 'relied', 'relief', 'relies', 'relieve', 'relieved', 'religion', 'religions', 'religious', 'relinquish', 'relish', 'relished', 'relishes', 'relishing', 'rellie', 'relocated', 'relocating', 'relocation', 'reluctance', 'reluctant', 'rely', 'relying', 'rem', 'remade', 'remain', 'remainder', 'remained', 'remaining', 'remains', 'remake', 'remark', 'remarkable', 'remarks', 'remarriage', 'remedial', 'remedy', 'remember', 'remembered', 'remembering', 'remembers', 'remind', 'reminded', 'reminder', 'reminds', 'reminiscent', 'remiss', 'remit', 'remittance', 'remittances', 'remix', 'remote', 'remotely', 'remotes', 'removable', 'removal', 'remove', 'removed', 'removing', 'renaissance', 'renamed', 'renationalisation', 'renationalise', 'renaud', 'rendered', 'rendition', 'rene', 'renee', 'renegade', 'reneged', 'reneging', 'renegotiation', 'renew', 'renewable', 'renewal', 'renewed', 'renewing', 'renminbi', 'rennard', 'rennick', 'renny', 'renovated', 'renovating', 'renowned', 'rent', 'rental', 'rentals', 'rented', 'renting', 'renton', 'reoffending', 'reopen', 'reopened', 'reorganisation', 'reorganised', 'reorganising', 'repaid', 'repair', 'repairing', 'repairs', 'reparations', 'repay', 'repayable', 'repayment', 'repayments', 'repeal', 'repeat', 'repeated', 'repeatedly', 'repeating', 'repeats', 'repelled', 'repertoire', 'repertory', 'repetition', 'repetitive', 'replace', 'replaced', 'replacement', 'replacements', 'replaces', 'replacing', 'replay', 'replays', 'replied', 'replies', 'reply', 'reponse', 'report', 'reported', 'reportedly', 'reporter', 'reporters', 'reporting', 'reports', 'repossessed', 'repossessions', 'represent', 'representation', 'representative', 'representatives', 'represented', 'representing', 'represents', 'repression', 'repressive', 'repressors', 'reprimanded', 'reprise', 'reproduction', 'reproductive', 'republic', 'republican', 'republicans', 'republics', 'repurchase', 'reputable', 'reputation', 'reputations', 'reputedly', 'request', 'requested', 'requests', 'require', 'required', 'requirement', 'requirements', 'requires', 'requiring', 'requisite', 'rescheduled', 'rescue', 'rescues', 'rescuing', 'research', 'researched', 'researcher', 'researchers', 'researching', 'resemblance', 'resemble', 'resent', 'resentment', 'reservations', 'reserve', 'reserved', 'reserves', 'reshuffle', 'reshuffled', 'reside', 'residence', 'residency', 'resident', 'residential', 'residents', 'residue', 'resign', 'resignation', 'resigned', 'resigning', 'resilience', 'resist', 'resistance', 'resistant', 'resisted', 'resisting', 'resold', 'resolute', 'resolution', 'resolutions', 'resolve', 'resolved', 'resolving', 'resort', 'resorted', 'resorts', 'resource', 'resourced', 'resources', 'respect', 'respectable', 'respected', 'respectful', 'respective', 'respectively', 'respects', 'respond', 'responded', 'respondents', 'responding', 'responds', 'response', 'responses', 'responsibilities', 'responsibility', 'responsible', 'responsibly', 'responsive', 'rest', 'restart', 'restate', 'restated', 'restatement', 'restatements', 'restating', 'restaurant', 'restaurants', 'resting', 'restless', 'restoration', 'restore', 'restored', 'restoring', 'restrain', 'restrict', 'restricted', 'restricting', 'restriction', 'restrictions', 'restrictive', 'restructuing', 'restructure', 'restructured', 'restructuring', 'rests', 'result', 'resultant', 'resulted', 'resulting', 'results', 'resume', 'resumed', 'resumption', 'resurgence', 'resurgent', 'resurrect', 'resurrected', 'resurrection', 'retail', 'retailer', 'retailers', 'retain', 'retained', 'retains', 'retaliation', 'retaliatory', 'retention', 'rethink', 'reticent', 'retire', 'retired', 'retirees', 'retirement', 'retirements', 'retires', 'retiring', 'retorted', 'retract', 'retraining', 'retreat', 'retreated', 'retreating', 'retrieve', 'retro', 'retrofone', 'retrospective', 'retrospectively', 'retroviral', 'return', 'returned', 'returning', 'returns', 'reunited', 'reunites', 'reuniting', 'reuters', 'rev', 'revaluation', 'revaluing', 'revamp', 'revamped', 'reveal', 'revealed', 'revealing', 'reveals', 'revelation', 'revell', 'revellers', 'revels', 'revenge', 'revenue', 'revenues', 'reverend', 'reversal', 'reverse', 'reversed', 'reverses', 'revert', 'reverted', 'reveta', 'review', 'reviewed', 'reviewing', 'reviews', 'revise', 'revised', 'revision', 'revisions', 'revisit', 'revitalise', 'revitalised', 'revival', 'revive', 'revived', 'revolt', 'revolution', 'revolutionalised', 'revolutionary', 'revolutionise', 'revolutionised', 'revolutionising', 'revolver', 'revolves', 'revolving', 'reward', 'rewarded', 'rewarding', 'rewards', 'rewind', 'rewrite', 'rewriting', 'reyes', 'reynolds', 'reza', 'rfc', 'rfid', 'rfu', 'rhein', 'rhetoric', 'rhinos', 'rhode', 'rhodes', 'rhodri', 'rhona', 'rhyme', 'rhys', 'rhythm', 'rhythms', 'riaa', 'rials', 'rib', 'rican', 'ricardo', 'rice', 'rich', 'richard', 'richards', 'richardson', 'richer', 'riches', 'richest', 'richey', 'richfield', 'richie', 'richly', 'richmond', 'richness', 'richter', 'rick', 'ricksen', 'ricky', 'rico', 'ricochets', 'rics', 'rid', 'riddick', 'riddled', 'ride', 'riders', 'ridge', 'ridgeley', 'ridgeway', 'ridicule', 'ridiculed', 'ridiculous', 'ridiculously', 'ridiculousness', 'rife', 'rifkin', 'rifle', 'rifled', 'rifles', 'rift', 'rifts', 'rig', 'rigg', 'rigged', 'rigging', 'riggs', 'right', 'righteousness', 'rightful', 'rightly', 'rightmove', 'rights', 'rigid', 'rigoglioso', 'rigorous', 'rigorously', 'rigour', 'rigs', 'riise', 'rijk', 'rijkaard', 'riley', 'rinaldi', 'rinat', 'ring', 'ringing', 'rings', 'ringtone', 'ringtones', 'rink', 'rio', 'riot', 'riots', 'rip', 'ripe', 'ripert', 'ripmobile', 'ripped', 'ripping', 'risciso', 'rise', 'risen', 'risers', 'rises', 'rising', 'risk', 'risked', 'risks', 'risky', 'risqu', 'ritchie', 'rites', 'rittweger', 'rival', 'rivaldo', 'rivalries', 'rivalry', 'rivals', 'river', 'riverbeds', 'rivers', 'riverside', 'rix', 'riyadh', 'riyals', 'rk', 'rks', 'rnib', 'rnid', 'road', 'roadmap', 'roads', 'roadshow', 'roadside', 'roaming', 'roaring', 'rob', 'robb', 'robbed', 'robben', 'robbery', 'robbie', 'robbing', 'robbins', 'robby', 'robert', 'roberta', 'roberto', 'roberts', 'robertson', 'robin', 'robinov', 'robinson', 'robocop', 'robot', 'robotic', 'robotics', 'robotiquette', 'robots', 'robredo', 'robson', 'robust', 'robustly', 'robustness', 'rochdale', 'roche', 'rochus', 'rock', 'rocked', 'rocker', 'rockers', 'rocket', 'rocketed', 'rocking', 'rocks', 'rockscape', 'rockstar', 'rockstars', 'rockwool', 'rocky', 'rod', 'roddam', 'roddick', 'rode', 'rodgers', 'rodick', 'rodney', 'rodrigo', 'roger', 'rogers', 'rogue', 'rohit', 'rohm', 'roland', 'role', 'roles', 'roll', 'rolled', 'rollercoaster', 'rolling', 'rollo', 'rollout', 'rolls', 'roma', 'roman', 'romancing', 'romania', 'romanian', 'romantic', 'romantics', 'rome', 'romeo', 'romitaand', 'romola', 'romp', 'roms', 'ron', 'ronald', 'ronaldino', 'ronaldo', 'ronan', 'ronco', 'rong', 'ronnie', 'ronnies', 'roof', 'roofs', 'room', 'rooms', 'rooney', 'rooneys', 'roosevelt', 'roost', 'rooster', 'root', 'rooting', 'roots', 'rory', 'ros', 'rose', 'rosemount', 'rosenberg', 'rosenborg', 'rosencrantz', 'roses', 'roslynn', 'rosneft', 'ross', 'rossignol', 'rossouw', 'roster', 'rosy', 'rosyth', 'rot', 'rotate', 'rotated', 'rotating', 'rothemund', 'rotherham', 'rothschild', 'rothwell', 'rotten', 'rotterdam', 'rougerie', 'rough', 'roughly', 'roukis', 'round', 'rounded', 'rounding', 'rounds', 'roundtable', 'rourke', 'rousing', 'rout', 'route', 'routed', 'router', 'routes', 'routine', 'routines', 'routing', 'roux', 'rover', 'rovers', 'roving', 'row', 'rowan', 'rowdy', 'rowetta', 'rowlands', 'rowling', 'rowntree', 'rows', 'roxy', 'roy', 'royal', 'royale', 'royalties', 'royalty', 'royce', 'royces', 'royer', 'rpm', 'rsa', 'rsc', 'rss', 'rt', 'rub', 'rubber', 'rubbers', 'rubbish', 'rubbished', 'rubble', 'ruben', 'rubens', 'rubicam', 'rubik', 'rubin', 'ruby', 'ruck', 'rucking', 'ruddock', 'rude', 'rueing', 'ruerup', 'rues', 'ruffled', 'rufus', 'rugby', 'rugged', 'ruhi', 'rui', 'ruigang', 'ruin', 'ruined', 'ruing', 'ruins', 'rule', 'ruled', 'ruler', 'rules', 'ruling', 'rulings', 'rum', 'rumbled', 'rumors', 'rumour', 'rumoured', 'rumours', 'rump', 'run', 'runaway', 'runcorn', 'rundown', 'rung', 'runner', 'runners', 'running', 'runs', 'runway', 'runways', 'rupee', 'rupees', 'rupert', 'ruptured', 'rural', 'rusedski', 'rush', 'rushed', 'rushing', 'russell', 'russes', 'russia', 'russian', 'russians', 'rust', 'ruth', 'ruthless', 'rutkowski', 'rutto', 'ruud', 'rwanda', 'rwandan', 'ryan', 'ryanair', 'ryder', 'ryman', 'rymans', 'rymer', 'ryuhei', 's6500', 'sa', 'saab', 'saah', 'sabbath', 'sablan', 'sable', 'sabotage', 'sacheen', 'sachs', 'sack', 'sacked', 'sacking', 'sacranie', 'sacrifices', 'sad', 'saddam', 'saddened', 'saddleworth', 'sadistic', 'sadly', 'sadness', 'safari', 'safe', 'safeguard', 'safeguards', 'safely', 'safer', 'safest', 'safety', 'saffron', 'safin', 'sag', 'saga', 'sage', 'sagem', 'saha', 'sahara', 'saharan', 'saic', 'said', 'sail', 'sailed', 'sailing', 'sailor', 'sails', 'sainsbury', 'saint', 'saints', 'sake', 'sakhalin', 'sal', 'salam', 'salaries', 'salary', 'saldarriaga', 'sale', 'sales', 'salesman', 'salles', 'salmon', 'salmond', 'saloon', 'salsa', 'salutary', 'salute', 'saluted', 'salvador', 'salvage', 'salvaged', 'salvation', 'salvo', 'salvoes', 'sam', 'samantha', 'saminejad', 'samoa', 'sample', 'sampled', 'samples', 'sampling', 'sampras', 'samsung', 'samuel', 'samuelson', 'san', 'sanction', 'sanctioning', 'sanctions', 'sand', 'sanders', 'sanderson', 'sandford', 'sandino', 'sandra', 'sands', 'sandy', 'sang', 'sanguine', 'sania', 'sanitation', 'sanitise', 'sanjay', 'sank', 'sankus', 'sans', 'sant', 'santa', 'santander', 'santini', 'santoro', 'santos', 'santry', 'santy', 'sanyo', 'sanzar', 'sao', 'sap', 'sapping', 'sapporo', 'saracens', 'sarah', 'sarbanes', 'sarcastically', 'saretta', 'sarft', 'sarin', 'sars', 'sasser', 'sat', 'satan', 'satchell', 'sate', 'satellite', 'satellites', 'satifex', 'satire', 'satisfaction', 'satisfactory', 'satisfied', 'satisfy', 'satisfying', 'sativex', 'satoru', 'saturation', 'saturday', 'satyanarayana', 'sauber', 'saud', 'saudi', 'saul', 'saulius', 'saulnier', 'saumarez', 'saunders', 'sav', 'savage', 'savages', 'savana', 'savante', 'save', 'saved', 'saver', 'saves', 'saving', 'savings', 'savour', 'savoured', 'savouring', 'savours', 'savoy', 'savvy', 'saw', 'sawicki', 'sawyer', 'saxophone', 'say', 'sayeeda', 'saying', 'says', 'sbc', 'scale', 'scaled', 'scaling', 'scalp', 'scalps', 'scam', 'scammed', 'scammers', 'scamper', 'scams', 'scan', 'scandal', 'scandals', 'scandinavian', 'scanned', 'scanner', 'scanning', 'scans', 'scar', 'scarce', 'scare', 'scared', 'scares', 'scarf', 'scarlets', 'scarlett', 'scarman', 'scarred', 'scars', 'scary', 'scattered', 'scattergun', 'scenario', 'scenarios', 'scene', 'scenery', 'scenes', 'scent', 'sceptic', 'sceptical', 'sceptically', 'scepticism', 'schalk', 'schechter', 'schedule', 'scheduled', 'schedules', 'scheduling', 'scheme', 'schemes', 'scheming', 'schenck', 'schiavone', 'schiffer', 'schindler', 'schizophrenic', 'schmidt', 'schnaible', 'schneider', 'schnyder', 'schofield', 'scholarly', 'scholarship', 'scholes', 'scholl', 'scholls', 'school', 'schoolboy', 'schoolboys', 'schoolchildren', 'schooldays', 'schoolfriends', 'schools', 'schrader', 'schrempp', 'schroeder', 'schuettler', 'schumacher', 'schwartz', 'schwarzenegger', 'schweppes', 'schwimmer', 'sci', 'science', 'sciences', 'scientific', 'scientist', 'scientists', 'scintillating', 'scissor', 'scissors', 'sclerosis', 'scoggins', 'scooby', 'scooped', 'scooping', 'scoops', 'scooted', 'scooter', 'scooters', 'scope', 'scorched', 'scorching', 'score', 'scored', 'scoreline', 'scorer', 'scores', 'scoresheet', 'scoring', 'scorsese', 'scot', 'scotch', 'scotland', 'scots', 'scott', 'scottish', 'scoured', 'scouring', 'scours', 'scout', 'scouts', 'scragged', 'scramble', 'scrambler', 'scrambles', 'scrap', 'scraped', 'scrapped', 'scrapping', 'scrappy', 'scraps', 'scratches', 'screaming', 'screen', 'screened', 'screening', 'screenings', 'screenplay', 'screens', 'screensaver', 'screensavers', 'screenwriter', 'scribe', 'scrichapan', 'script', 'scripted', 'scripts', 'scroll', 'scrolling', 'scrolls', 'scrub', 'scrubbed', 'scrubs', 'scruggs', 'scrum', 'scrummaging', 'scrums', 'scrutinise', 'scrutinised', 'scrutinising', 'scrutiny', 'sculpture', 'scunthorpe', 'scuppered', 'sd', 'se', 'sea', 'seaboard', 'seafarer', 'seafarers', 'seafood', 'seagate', 'seagrave', 'seal', 'sealed', 'sealing', 'seals', 'seaman', 'seamen', 'seamless', 'seamlessly', 'sean', 'search', 'searched', 'searchers', 'searches', 'searching', 'seas', 'seaside', 'season', 'seasonal', 'seasonally', 'seasoned', 'seasons', 'seat', 'seater', 'seats', 'seattle', 'seawater', 'sebastian', 'sebastien', 'sebold', 'sec', 'secc', 'second', 'secondary', 'seconded', 'secondly', 'seconds', 'secrecy', 'secret', 'secretarial', 'secretary', 'secretive', 'secretly', 'secrets', 'secs', 'sectarian', 'sectarianism', 'section', 'sections', 'sector', 'sectors', 'secular', 'secure', 'secured', 'securely', 'secures', 'securing', 'securities', 'security', 'sedans', 'sedgefield', 'seed', 'seeded', 'seeds', 'seeing', 'seek', 'seeker', 'seekers', 'seeking', 'seeks', 'seemingly', 'seen', 'sees', 'seething', 'sega', 'segas', 'segment', 'segmented', 'segregated', 'segway', 'seifert', 'seismic', 'seize', 'seized', 'seizing', 'seizure', 'seizures', 'seldom', 'select', 'selected', 'selecting', 'selection', 'selections', 'selectors', 'selects', 'seles', 'self', 'selfish', 'selima', 'sell', 'sellafield', 'seller', 'sellers', 'selling', 'sells', 'selma', 'semi', 'seminal', 'seminar', 'seminars', 'semiotics', 'semis', 'semitic', 'sempron', 'senator', 'send', 'senderos', 'sending', 'sendmail', 'sendo', 'sends', 'senegalese', 'sener', 'seng', 'senior', 'sensation', 'sensational', 'sense', 'sensed', 'senses', 'sensible', 'sensibly', 'sensing', 'sensitive', 'sensitivities', 'sensitivity', 'sensor', 'sensors', 'sent', 'sentence', 'sentenced', 'sentences', 'sentencing', 'sentiment', 'sentimental', 'sentiments', 'seoul', 'sepa', 'separate', 'separated', 'separately', 'separation', 'separatist', 'september', 'sequel', 'sequels', 'sequence', 'sequencer', 'sequences', 'sequential', 'sequins', 'ser', 'serbia', 'serena', 'serendipity', 'serge', 'sergeant', 'sergei', 'serginho', 'sergio', 'serial', 'serialisation', 'serialised', 'serie', 'series', 'seriously', 'sermons', 'serna', 'sertit', 'servant', 'servants', 'servat', 'serve', 'served', 'server', 'servers', 'serves', 'service', 'services', 'serviette', 'serving', 'serwotka', 'session', 'sessions', 'set', 'setback', 'setbacks', 'seth', 'seton', 'sets', 'setter', 'setting', 'settings', 'settle', 'settled', 'settlement', 'settlements', 'settles', 'settling', 'seuss', 'sevastis', 'seven', 'sevens', 'seventh', 'seventies', 'seventy', 'severance', 'severe', 'severely', 'severn', 'seville', 'sewn', 'sex', 'sexes', 'sexier', 'sexing', 'sexism', 'sextant', 'sexual', 'sexuality', 'sexually', 'sexy', 'seychelles', 'sfa', 'sfar', 'sg', 'sgc', 'sgt', 'shabazz', 'shack', 'shackles', 'shade', 'shaders', 'shades', 'shadjareh', 'shadow', 'shadowcrew', 'shadows', 'shady', 'shaft', 'shaftesbury', 'shah', 'shaheed', 'shailendra', 'shaka', 'shake', 'shaken', 'shakespeare', 'shakespearean', 'shakin', 'shaking', 'shakur', 'shalaby', 'shall', 'shambles', 'shame', 'shameful', 'shameless', 'shamelessly', 'shami', 'shamil', 'shamrock', 'shane', 'shanghai', 'shanklin', 'shape', 'shaped', 'shapes', 'shaping', 'shapiro', 'sharapova', 'share', 'shared', 'shareholder', 'shareholders', 'shareholding', 'sharers', 'shares', 'sharing', 'shark', 'sharkey', 'sharks', 'sharma', 'sharon', 'sharp', 'sharpe', 'sharpening', 'sharpens', 'sharper', 'sharply', 'shattering', 'shatwan', 'shaun', 'shave', 'shaved', 'shaw', 'shea', 'sheahan', 'shearer', 'shed', 'shedding', 'sheep', 'sheer', 'sheerman', 'sheet', 'sheets', 'sheff', 'sheffield', 'shefrin', 'shehata', 'sheikhdom', 'sheila', 'shelf', 'shell', 'shelley', 'shells', 'shelter', 'shelved', 'shelves', 'shelving', 'shenfeld', 'shepherd', 'shepherds', 'sheppey', 'sher', 'sheridan', 'sheriff', 'sherlock', 'sherry', 'sherwood', 'shevchenko', 'shibuya', 'shied', 'shield', 'shields', 'shift', 'shifted', 'shifting', 'shifts', 'shihab', 'shimange', 'shimbun', 'shimmering', 'shimono', 'shine', 'shiner', 'shines', 'shining', 'shinjuku', 'shinnama', 'shinobu', 'shiny', 'ship', 'shipment', 'shipments', 'shipped', 'shipping', 'ships', 'shipside', 'shirakawa', 'shirk', 'shirking', 'shirley', 'shirlie', 'shiro', 'shirt', 'shirted', 'shirts', 'shivering', 'shochu', 'shock', 'shocked', 'shocking', 'shocks', 'shockwave', 'shoes', 'shogo', 'shone', 'shook', 'shoot', 'shooter', 'shooters', 'shooting', 'shootings', 'shootout', 'shoots', 'shop', 'shopfronts', 'shoppers', 'shopping', 'shops', 'shore', 'short', 'shortage', 'shortages', 'shortcomings', 'shortened', 'shorter', 'shortest', 'shortfall', 'shortfalls', 'shortlist', 'shortlisted', 'shortlived', 'shortly', 'shorts', 'shot', 'shots', 'shoulder', 'shouldered', 'shouldering', 'shoulders', 'shouldn', 'shout', 'shouted', 'shouting', 'shove', 'shoving', 'showbiz', 'showbusiness', 'showcase', 'showcased', 'showcases', 'showcasing', 'showdown', 'showed', 'shower', 'showered', 'showing', 'shown', 'showpiece', 'showrooms', 'shows', 'showtime', 'shrank', 'shrek', 'shrewsbury', 'shri', 'shrine', 'shrinking', 'shropshire', 'shrugged', 'shrunk', 'shuddering', 'shudders', 'shuffling', 'shulman', 'shum', 'shun', 'shunned', 'shut', 'shutdown', 'shutting', 'shuttle', 'shy', 'sibbald', 'sibierski', 'sibley', 'sibneft', 'sic', 'sick', 'sid', 'sidecars', 'sided', 'sidefooted', 'sidefooting', 'sidekick', 'sideline', 'sidelined', 'sidelines', 'sides', 'sidestepped', 'sidesteps', 'sideways', 'sidgmore', 'siding', 'sidney', 'sidoli', 'siege', 'siemens', 'siena', 'sienna', 'sierra', 'sigarchi', 'sigh', 'sight', 'sights', 'sightseeing', 'sign', 'signal', 'signalled', 'signals', 'signature', 'signatures', 'signed', 'significance', 'significant', 'significantly', 'signing', 'signs', 'sikhs', 'silence', 'silenced', 'silent', 'silicon', 'silk', 'sillerman', 'silliere', 'silva', 'silvas', 'silver', 'silverade', 'silvers', 'silverware', 'silvestre', 'silvia', 'silvio', 'sim', 'similar', 'similarities', 'similarly', 'simmering', 'simms', 'simon', 'simonetti', 'simple', 'simpler', 'simplest', 'simplify', 'simplifying', 'simplistic', 'simply', 'simpson', 'simpsons', 'sims', 'simulate', 'simulated', 'simulates', 'simulating', 'simulation', 'simulator', 'simultaneously', 'sin', 'sinatra', 'sincerest', 'sincerity', 'sinche', 'sinclair', 'sindelfingen', 'sing', 'singapore', 'singer', 'singers', 'singh', 'singing', 'single', 'singled', 'singles', 'sings', 'siniscalco', 'sinking', 'sinn', 'sinners', 'sion', 'siphoning', 'sipped', 'sir', 'sister', 'sisters', 'sit', 'sitcom', 'sitcoms', 'site', 'sited', 'sites', 'sith', 'sits', 'sitting', 'sittingbourne', 'situated', 'situation', 'situations', 'sivright', 'sixfold', 'sixth', 'sixways', 'size', 'sizeable', 'sized', 'sizes', 'sizzla', 'sk', 'skarsgard', 'skateboarding', 'skateboards', 'skater', 'skates', 'skating', 'skeens', 'skeletal', 'skeleton', 'skeletons', 'sketch', 'ski', 'skidelsky', 'skies', 'skilful', 'skilfully', 'skill', 'skilled', 'skills', 'skin', 'skinner', 'skinny', 'skip', 'skipper', 'skirt', 'skis', 'skolsky', 'skulls', 'sky', 'skynyrd', 'skype', 'skyscraper', 'skyscrapers', 'skywalker', 'slab', 'slack', 'slade', 'slain', 'slam', 'slamdance', 'slammed', 'slams', 'slang', 'slanging', 'slant', 'slap', 'slapped', 'slaps', 'slash', 'slashed', 'slashing', 'slate', 'slater', 'slaughter', 'slaughtered', 'slavery', 'slaves', 'slavishly', 'slaying', 'sleaford', 'sleaze', 'sledge', 'sleek', 'sleep', 'sleeping', 'sleepwalk', 'sleeves', 'sleigh', 'slender', 'slew', 'slice', 'sliced', 'slicing', 'slick', 'slid', 'slide', 'slides', 'sliding', 'slight', 'slightest', 'slightly', 'slim', 'slimmer', 'slimming', 'slinkier', 'slip', 'slipped', 'slipping', 'slogan', 'slopes', 'sloppy', 'sloss', 'slot', 'slots', 'slotted', 'slotting', 'slough', 'slovakia', 'slovakian', 'slovenia', 'slovenian', 'slow', 'slowdown', 'slowdowns', 'slowed', 'slower', 'slowest', 'slowing', 'slowly', 'slows', 'slug', 'sluggish', 'slump', 'slumping', 'slums', 'slung', 'slurry', 'slurs', 'slushier', 'smacks', 'small', 'smaller', 'smallest', 'smart', 'smartcard', 'smartcards', 'smarter', 'smartphone', 'smartphones', 'smash', 'smashed', 'smashing', 'smashnova', 'smattering', 'smbc', 'smear', 'smell', 'smelling', 'smells', 'smernicki', 'smertin', 'smes', 'smfg', 'smile', 'smiles', 'smiley', 'smiling', 'smillie', 'smit', 'smith', 'smoke', 'smoked', 'smoking', 'smoky', 'smooth', 'smoothly', 'smother', 'sms', 'smses', 'smuggled', 'smuggler', 'smuggles', 'smuggling', 'smut', 'snaffled', 'snake', 'snalune', 'snap', 'snapfish', 'snapped', 'snapping', 'snapple', 'snaps', 'snapshots', 'snatch', 'snatched', 'snatches', 'snatching', 'sneak', 'sneaks', 'snecma', 'sneering', 'snicket', 'sniffed', 'sniffer', 'snipes', 'snippets', 'snooker', 'snoop', 'snow', 'snowballed', 'snowboards', 'snowfalls', 'snowmen', 'snp', 'snub', 'snubbed', 'snubbing', 'snyder', 'soap', 'soaps', 'soar', 'soared', 'soaring', 'sobbed', 'sober', 'soberly', 'soccer', 'soccerex', 'social', 'socialist', 'socially', 'sociedad', 'societies', 'society', 'socks', 'soda', 'soderbergh', 'soderling', 'sofa', 'sofas', 'sofia', 'soft', 'softbank', 'soften', 'softer', 'software', 'soham', 'sohn', 'soho', 'soil', 'sol', 'solano', 'solaris', 'sold', 'soldier', 'soldiers', 'sole', 'solely', 'solheim', 'solicit', 'solicitations', 'solicitor', 'solid', 'solidarity', 'solidere', 'solidifies', 'solidity', 'solo', 'solskjaer', 'solution', 'solutions', 'solve', 'solved', 'solvents', 'solver', 'solving', 'somebody', 'someday', 'somersault', 'somerset', 'somewhat', 'son', 'sonaptic', 'song', 'songbook', 'songs', 'songwriter', 'songwriters', 'sonia', 'sonny', 'sons', 'sontaya', 'sony', 'sonybmg', 'sonyericsson', 'soon', 'sooner', 'sophie', 'sophisticated', 'sophistication', 'sophos', 'soprano', 'sopranos', 'soros', 'sorrell', 'sorrow', 'sorrows', 'sorry', 'sort', 'sorted', 'sorting', 'sorts', 'sos', 'sotheby', 'sotherton', 'sotiris', 'sought', 'soul', 'soulful', 'soulman', 'sound', 'sounded', 'sounding', 'soundings', 'soundness', 'sounds', 'soundtrack', 'soundtracks', 'souness', 'soup', 'souped', 'sour', 'source', 'sourced', 'sources', 'sourcing', 'soured', 'souter', 'south', 'southall', 'southampton', 'southan', 'southcorp', 'southeast', 'southeastern', 'southern', 'southwell', 'southwest', 'sovereign', 'sovereignty', 'soviet', 'sowden', 'soweto', 'sown', 'soybean', 'sp', 'sp2', 'space', 'spaces', 'spacey', 'spadea', 'spades', 'spaghetti', 'spain', 'spall', 'spam', 'spamhaus', 'spammer', 'spammers', 'span', 'spanglish', 'spaniard', 'spanish', 'spanning', 'spare', 'spared', 'sparingly', 'spark', 'sparkassen', 'sparked', 'sparking', 'sparkled', 'sparkling', 'sparks', 'sparrow', 'spasiuk', 'spasm', 'spat', 'spates', 'spawn', 'spawned', 'speaight', 'speak', 'speaker', 'speakerboxxx', 'speakers', 'speaking', 'speaks', 'spearate', 'spearheaded', 'spears', 'spec', 'special', 'specialise', 'specialised', 'specialises', 'specialist', 'specialists', 'specially', 'specials', 'species', 'specific', 'specifically', 'specifications', 'specified', 'specify', 'specifying', 'specimen', 'spectacular', 'spectacularly', 'spectator', 'spectators', 'spector', 'spectrum', 'speculate', 'speculated', 'speculating', 'speculation', 'speculative', 'speculatively', 'sped', 'speech', 'speeches', 'speed', 'speeded', 'speedily', 'speeding', 'speeds', 'speedy', 'speegle', 'spell', 'spellar', 'spelled', 'spelling', 'spells', 'spelt', 'spencer', 'spend', 'spending', 'spends', 'spent', 'spice', 'spicejet', 'spices', 'spicy', 'spider', 'spiders', 'spidey', 'spied', 'spielberg', 'spies', 'spike', 'spiked', 'spikes', 'spikey', 'spiky', 'spilled', 'spin', 'spinal', 'spindler', 'spinner', 'spinning', 'spiral', 'spirit', 'spirited', 'spirits', 'spiritual', 'spit', 'spite', 'spiteful', 'spitting', 'spitzer', 'splash', 'splattered', 'splinter', 'splintering', 'split', 'splits', 'splitting', 'spoiled', 'spoilt', 'spoke', 'spokeman', 'spoken', 'spokesman', 'spokespeople', 'spokesperson', 'spokeswoman', 'sponsor', 'sponsored', 'sponsors', 'sponsorship', 'spoof', 'spooked', 'spooks', 'spoon', 'spore', 'sport', 'sporting', 'sports', 'sportscar', 'sportsman', 'sportsweek', 'sportswoman', 'spot', 'spotless', 'spotlight', 'spots', 'spotted', 'spotting', 'spouses', 'sprawling', 'spray', 'sprayed', 'spread', 'spreading', 'spreads', 'spreadsheets', 'spree', 'sprees', 'sprem', 'spring', 'springboard', 'springboks', 'springer', 'springing', 'springs', 'springsteen', 'sprinkled', 'sprint', 'sprinted', 'sprinter', 'sprinters', 'sprinting', 'sprites', 'sps', 'spuds', 'spun', 'spurlock', 'spurned', 'spurred', 'spurring', 'spurs', 'spurts', 'sputtering', 'spy', 'spybot', 'spying', 'spyware', 'squabbles', 'squabbling', 'squad', 'squalor', 'squandered', 'square', 'squarely', 'squash', 'squashed', 'squeeze', 'squeezed', 'squibs', 'sr', 'srebotnik', 'sri', 'srichaphan', 'sridharan', 'srs', 'sru', 'srx', 'ssempgani', 'sseyo', 'ssl', 'st', 'stabbed', 'stabbers', 'stabilise', 'stabilised', 'stabilises', 'stability', 'stable', 'stade', 'stadium', 'stadiums', 'staff', 'stafford', 'staffordshire', 'stage', 'staged', 'stages', 'stagework', 'staggered', 'staggering', 'stagnate', 'stagnated', 'stagnation', 'staid', 'stain', 'stairs', 'stake', 'stakes', 'stale', 'stalemate', 'stalin', 'stalked', 'stalker', 'stall', 'stalled', 'stalling', 'stallone', 'stalls', 'stalwarts', 'stam', 'stamford', 'stammered', 'stamp', 'stamping', 'stamps', 'stan', 'stance', 'stand', 'standard', 'standards', 'standby', 'standing', 'standings', 'standout', 'standpoint', 'stands', 'standstill', 'stanford', 'stank', 'stanley', 'stanozolol', 'stansfield', 'stansted', 'stanzel', 'staple', 'staples', 'star', 'starace', 'starbucks', 'stardom', 'starfox', 'staring', 'stark', 'starred', 'starring', 'stars', 'start', 'startac', 'started', 'starter', 'starters', 'starting', 'startling', 'starts', 'starved', 'stat', 'stata', 'state', 'stated', 'statement', 'statements', 'states', 'static', 'stating', 'station', 'stationed', 'stations', 'statistical', 'statisticians', 'statistics', 'statler', 'stats', 'statue', 'statues', 'statuette', 'statuettes', 'stature', 'status', 'statute', 'statutory', 'staunch', 'staunchest', 'staunton', 'stavanger', 'stave', 'stay', 'stayed', 'staying', 'stays', 'stead', 'steadfastly', 'steadied', 'steadily', 'steady', 'steal', 'stealing', 'steals', 'stealth', 'steam', 'steamrolling', 'steams', 'stearns', 'steaua', 'steed', 'steel', 'steelmakers', 'steep', 'steer', 'steering', 'stefan', 'stefani', 'stefano', 'steinmetz', 'stelios', 'stella', 'stellan', 'stellar', 'stem', 'stemmed', 'stemming', 'stems', 'stening', 'stent', 'stents', 'step', 'stepanek', 'stepchild', 'stephane', 'stephanie', 'stephen', 'stephens', 'stephenson', 'stepney', 'stepped', 'stepping', 'steps', 'stereo', 'stereophonics', 'stereotype', 'stereotypes', 'stereotypical', 'sterling', 'stern', 'sternest', 'steroid', 'steroids', 'steve', 'steven', 'stevenage', 'stevens', 'stevenson', 'stevie', 'stewardess', 'stewardship', 'stewart', 'steyn', 'stick', 'sticking', 'sticks', 'stiff', 'stiffening', 'stifle', 'stifled', 'stifling', 'stiles', 'stilian', 'stilianos', 'stiller', 'stills', 'stilted', 'stimulant', 'stimulate', 'stimulating', 'stimulus', 'sting', 'stinging', 'stink', 'stinks', 'stint', 'stipulated', 'stir', 'stirring', 'stitches', 'stitching', 'stitzer', 'stock', 'stockbrokers', 'stockholm', 'stocking', 'stockmarket', 'stockpile', 'stockpiles', 'stockport', 'stocks', 'stoddart', 'stoica', 'stoichkov', 'stoke', 'stoking', 'stole', 'stolen', 'stollenmayer', 'stomach', 'stone', 'stones', 'stood', 'stooge', 'stool', 'stop', 'stoppage', 'stopped', 'stopper', 'stopping', 'stops', 'storage', 'store', 'stored', 'stores', 'storey', 'stories', 'storing', 'storm', 'stormed', 'storming', 'storms', 'stormy', 'story', 'storyline', 'storylines', 'stosur', 'stowell', 'stoy', 'stradey', 'strafing', 'straight', 'straightforward', 'strain', 'strained', 'strains', 'straits', 'strand', 'stranded', 'strands', 'strange', 'strangely', 'stranger', 'strangers', 'strangest', 'strangle', 'stranglehold', 'stranmillis', 'strapped', 'strasbourg', 'strategic', 'strategically', 'strategies', 'strategist', 'strategists', 'strategy', 'strathclyde', 'stratocaster', 'stravinsky', 'straw', 'streak', 'streaked', 'streaking', 'stream', 'streamcast', 'streamed', 'streaming', 'streamline', 'streamlined', 'streamlining', 'streams', 'streep', 'street', 'streets', 'streisand', 'strength', 'strengthen', 'strengthened', 'strengthening', 'stress', 'stressed', 'stresses', 'stressing', 'stretch', 'stretched', 'stretches', 'stretching', 'stricken', 'strict', 'strictly', 'stride', 'striders', 'strides', 'strife', 'strihavka', 'strike', 'striker', 'strikers', 'strikes', 'striking', 'string', 'stringent', 'stringer', 'stringfellow', 'stringing', 'strings', 'strip', 'stripe', 'stripes', 'stripped', 'strips', 'stripy', 'striving', 'strode', 'strohmaier', 'stroke', 'stroked', 'strokes', 'strokosch', 'stroll', 'strolled', 'strong', 'stronger', 'strongest', 'strongly', 'struck', 'structural', 'structure', 'structured', 'structures', 'struggle', 'struggled', 'strugglers', 'struggles', 'struggling', 'strutted', 'stuart', 'stub', 'stubborn', 'stubbornly', 'stubbs', 'stuck', 'student', 'students', 'studied', 'studies', 'studio', 'studios', 'studiously', 'study', 'studying', 'stueker', 'stuff', 'stuffed', 'stumble', 'stumbling', 'stump', 'stun', 'stung', 'stunned', 'stunning', 'stunt', 'stunts', 'stupid', 'sturgeon', 'sturrock', 'stutter', 'stuttering', 'stuttgart', 'style', 'styles', 'stylised', 'stylish', 'stylus', 'sub', 'subaru', 'subconsciously', 'subcontractors', 'subdued', 'subhash', 'subject', 'subjected', 'subjects', 'sublime', 'subliminal', 'submarine', 'submarines', 'submission', 'submissions', 'submit', 'submitted', 'submitting', 'subs', 'subscribe', 'subscribed', 'subscriber', 'subscribers', 'subscribes', 'subscription', 'subscriptions', 'subsequent', 'subsequently', 'subset', 'subside', 'subsidiaries', 'subsidiary', 'subsidies', 'subsidised', 'subsidising', 'substance', 'substances', 'substantial', 'substantially', 'substitute', 'substitutes', 'substitutions', 'subsumed', 'subtitute', 'subtle', 'subtlety', 'suburban', 'suburbs', 'subway', 'succeed', 'succeeded', 'succeeding', 'success', 'successes', 'successful', 'successfully', 'succession', 'successive', 'successor', 'succumbing', 'sucessor', 'suck', 'sucked', 'suction', 'sudan', 'sudanese', 'sudden', 'suddenly', 'suddenness', 'sudell', 'sue', 'sued', 'sues', 'suffer', 'suffered', 'sufferers', 'suffering', 'suffers', 'sufficient', 'sufficiently', 'suffix', 'suffocate', 'sugababes', 'sugar', 'suggest', 'suggested', 'suggesting', 'suggestion', 'suggestions', 'suggests', 'sugiyama', 'suhas', 'suicide', 'suing', 'suisse', 'suit', 'suitability', 'suitable', 'suitably', 'suitcase', 'suite', 'suited', 'suites', 'suitor', 'suitors', 'suits', 'sukul', 'sulimanovic', 'sulk', 'sullivan', 'sulpice', 'sultan', 'sultry', 'sum', 'sumitomo', 'summarise', 'summary', 'summed', 'summer', 'summit', 'summon', 'summoned', 'sums', 'sun', 'sundance', 'sunday', 'sunderland', 'sung', 'sunil', 'sunita', 'sunk', 'sunken', 'sunner', 'sunovate', 'sunset', 'sunshine', 'suntory', 'super', 'superb', 'superbly', 'supercharged', 'superclubs', 'supercomputer', 'supercomputers', 'supercomputing', 'superfast', 'superficial', 'supergrass', 'supergroup', 'superhero', 'superheroes', 'superieur', 'superior', 'superjumbo', 'superman', 'supermarket', 'supermarkets', 'supermodel', 'supernatural', 'supersede', 'supersize', 'supersized', 'superstar', 'superstars', 'superteam', 'supervision', 'supervisory', 'supervolcano', 'supplement', 'supplemented', 'supplements', 'supplied', 'supplier', 'suppliers', 'supplies', 'supply', 'supplying', 'support', 'supported', 'supporter', 'supporters', 'supporting', 'supportive', 'supports', 'supposed', 'supposedly', 'suppress', 'supremacy', 'supreme', 'supremo', 'sure', 'surely', 'surest', 'surf', 'surface', 'surfaced', 'surfaces', 'surfacing', 'surfer', 'surfers', 'surfing', 'surfwear', 'surge', 'surged', 'surgeries', 'surgery', 'surges', 'surgical', 'surging', 'surpass', 'surpassed', 'surpassing', 'surplus', 'surprise', 'surprised', 'surprises', 'surprising', 'surprisingly', 'surprisngly', 'surreal', 'surrendered', 'surrendering', 'surreptitious', 'surreptitiously', 'surrey', 'surround', 'surrounded', 'surrounding', 'surroundings', 'surveillance', 'survey', 'surveyed', 'surveying', 'surveyor', 'surveyors', 'surveys', 'survival', 'survive', 'survived', 'survives', 'surviving', 'survivors', 'susan', 'susanna', 'suspect', 'suspected', 'suspects', 'suspend', 'suspended', 'suspending', 'suspends', 'suspense', 'suspension', 'suspensions', 'suspicion', 'suspicions', 'suspicious', 'suspiciously', 'sussex', 'sustain', 'sustainability', 'sustainable', 'sustained', 'sustaining', 'sustains', 'sustenance', 'sutton', 'suv', 'suvs', 'suzie', 'suzuki', 'sv', 'sven', 'sveta', 'svetlana', 'sw19', 'swagger', 'swallowing', 'swaminarayan', 'swamping', 'swan', 'swank', 'swansea', 'swansong', 'swap', 'swapped', 'swappers', 'swapping', 'swarms', 'swashbuckling', 'swathe', 'swatted', 'swayed', 'swaziland', 'swear', 'swearing', 'sweat', 'sweatshirt', 'sweatshops', 'swede', 'sweden', 'swedes', 'swedish', 'sweeney', 'sweep', 'sweeping', 'sweet', 'sweeteners', 'sweetening', 'sweeter', 'sweetheart', 'swell', 'swelled', 'swelling', 'swept', 'swerving', 'swift', 'swiftest', 'swiftly', 'swimming', 'swindle', 'swindon', 'swing', 'swinging', 'swings', 'swipe', 'swipes', 'swiss', 'switch', 'switched', 'switches', 'switching', 'switzerland', 'swivelled', 'swoop', 'swoosh', 'swore', 'swung', 'sybari', 'sydney', 'sydow', 'sykes', 'syllables', 'sylphides', 'sylvain', 'sylvester', 'sylvia', 'symantec', 'symbian', 'symbol', 'symbolise', 'symbolises', 'symbologist', 'symbols', 'symmons', 'sympathetically', 'sympathised', 'sympathy', 'symphony', 'symptomatic', 'symptoms', 'syncing', 'syndication', 'syndol', 'synergies', 'synergistic', 'synonymous', 'synopsis', 'synthesised', 'synthesising', 'synthetic', 'syria', 'systematic', 'systematically', 'systems', 'tabak', 'tabby', 'table', 'tabled', 'tablet', 'tabling', 'tabloid', 'tabs', 'tacit', 'tacitly', 'tacitus', 'tack', 'tackle', 'tackled', 'tacklers', 'tackles', 'tackling', 'tactic', 'tactical', 'tactically', 'tactics', 'tad', 'taek', 'tag', 'tagging', 'tags', 'taik', 'tailed', 'tailored', 'tainted', 'taipei', 'tait', 'taiwan', 'takahashi', 'taken', 'takenaka', 'takeover', 'takeovers', 'takes', 'taking', 'takings', 'takuo', 'talal', 'talbot', 'tale', 'talent', 'talented', 'talents', 'talisman', 'talismanic', 'talk', 'talkative', 'talked', 'talker', 'talking', 'talks', 'talktalk', 'tall', 'taller', 'tallest', 'tallied', 'tally', 'tamagotchi', 'tambien', 'tambourine', 'tamil', 'tamimi', 'tampa', 'tampered', 'tampering', 'tamsin', 'tan', 'tandem', 'tandy', 'tangible', 'tank', 'tankan', 'tanker', 'tanks', 'tanned', 'tanner', 'tansley', 'tantilising', 'tanzania', 'tanzi', 'tap', 'tape', 'taped', 'tapers', 'tapes', 'tapped', 'tapping', 'tapwave', 'taran', 'tarantino', 'tardelli', 'tardy', 'target', 'targeted', 'targeting', 'targets', 'targetting', 'tariff', 'tariffs', 'tariku', 'tarnished', 'tarpishchev', 'taser', 'task', 'taskforce', 'tasks', 'taste', 'taster', 'tastes', 'tasting', 'tasty', 'tat', 'tata', 'tate', 'tateson', 'tatiana', 'tatters', 'tattle', 'tatton', 'tattoos', 'taught', 'taunting', 'taunton', 'taunts', 'tautou', 'tav', 'taverns', 'tax', 'taxation', 'taxed', 'taxes', 'taxi', 'taxiing', 'taxis', 'taxpayer', 'taxpayers', 'taylor', 'tb', 'tci', 'tcp', 'tdg', 'tea', 'teach', 'teacher', 'teachers', 'teaching', 'teachings', 'teag', 'team', 'teamed', 'teams', 'teamwork', 'tear', 'tearing', 'tears', 'teased', 'tech', 'technical', 'technically', 'technicians', 'technique', 'techniques', 'techno', 'technocrat', 'technological', 'technologically', 'technologies', 'technology', 'technophobes', 'technorati', 'ted', 'teddy', 'tedious', 'teen', 'teenage', 'teenager', 'teenagers', 'teetering', 'teeth', 'teething', 'tehran', 'teja', 'tel', 'telco', 'telcos', 'telecast', 'telecentre', 'telecentres', 'telecom', 'telecommunication', 'telecommunications', 'telecoms', 'telefonica', 'telegraph', 'telekom', 'telephone', 'telephoned', 'telephones', 'telephoning', 'telephony', 'teleservices', 'televentures', 'televised', 'television', 'televisions', 'telewest', 'tell', 'telling', 'tells', 'temperature', 'temperatures', 'tempered', 'template', 'templating', 'temple', 'tempo', 'temporarily', 'temporary', 'tempt', 'temptation', 'tempted', 'tempting', 'tend', 'tended', 'tendencies', 'tendency', 'tender', 'tendering', 'tenders', 'tendon', 'tends', 'tenets', 'tenfold', 'tennessee', 'tennis', 'tens', 'tense', 'tension', 'tensions', 'tent', 'tenterhooks', 'tenth', 'tenure', 'tepid', 'terabyte', 'teraflops', 'tergat', 'teri', 'term', 'terminal', 'terminals', 'terminated', 'terms', 'terrell', 'terrence', 'terrestre', 'terrestrial', 'terrible', 'terrific', 'territories', 'territory', 'terror', 'terrorised', 'terrorism', 'terrorist', 'terrorists', 'terry', 'terzian', 'tesco', 'tess', 'tessa', 'test', 'testament', 'tested', 'testers', 'testified', 'testify', 'testimonies', 'testimony', 'testing', 'tests', 'tether', 'tetrahydrocannabinol', 'tetris', 'tetsuro', 'tevez', 'texan', 'texas', 'text', 'textbook', 'textbooks', 'textile', 'textiles', 'texting', 'textphones', 'texts', 'textual', 'textures', 'tfc', 'tfl', 'tgwu', 'thabo', 'thadao', 'thai', 'thailand', 'thales', 'thalman', 'thame', 'thames', 'thank', 'thanked', 'thankful', 'thankfully', 'thanking', 'thanks', 'thanksgiving', 'thanou', 'thatcher', 'thatcherism', 'thayer', 'theatre', 'theatregoers', 'theatres', 'theede', 'theft', 'theirfamilies', 'theirs', 'theme', 'themed', 'themes', 'theo', 'theodore', 'theolonius', 'theoretical', 'theories', 'theory', 'therapy', 'thereabouts', 'theriault', 'thermal', 'theron', 'thg', 'thie', 'thierry', 'thieves', 'thigh', 'thilo', 'thing', 'things', 'think', 'thinker', 'thinking', 'thinks', 'thinner', 'thion', 'thirds', 'thirlby', 'thirst', 'thirteen', 'thirties', 'thirty', 'thoday', 'thokozani', 'thomas', 'thompson', 'thomsen', 'thomson', 'thor', 'thorne', 'thornton', 'thorny', 'thorough', 'thoroughly', 'thoroughness', 'thought', 'thoughtfully', 'thoughts', 'thousand', 'thousands', 'thrash', 'thrashed', 'thrashing', 'threat', 'threaten', 'threatend', 'threatened', 'threatening', 'threatens', 'threats', 'threefold', 'threshold', 'thresholds', 'threw', 'thrill', 'thrilled', 'thriller', 'thrilling', 'thrills', 'thrive', 'thrived', 'throat', 'throats', 'throbs', 'throne', 'throngs', 'throttle', 'throttles', 'throw', 'throwing', 'thrown', 'throws', 'thrust', 'thrusts', 'thuggish', 'thumb', 'thumbs', 'thump', 'thumped', 'thumping', 'thunderbirds', 'thunderous', 'thurman', 'thursday', 'thurso', 'thwarted', 'thwarts', 'thx', 'thyssenkrupp', 'tiago', 'tiananmen', 'tibbett', 'ticket', 'ticketing', 'tickets', 'ticketweb', 'ticking', 'tidal', 'tide', 'tidier', 'tidy', 'tie', 'tiebreak', 'tied', 'tier', 'tierney', 'ties', 'tiff', 'tiger', 'tigers', 'tight', 'tighten', 'tightened', 'tightening', 'tighter', 'tightest', 'tighthead', 'tightly', 'till', 'tillen', 'tills', 'tim', 'timberlake', 'time', 'timed', 'timeframe', 'timeless', 'timely', 'timers', 'times', 'timescale', 'timetable', 'timetabled', 'timewarner', 'timing', 'timothy', 'tin', 'tina', 'tinariwen', 'tindall', 'tinker', 'tinkered', 'tinkering', 'tinny', 'tinseltown', 'tinto', 'tiny', 'tio2', 'tip', 'tipped', 'tipping', 'tips', 'tiptoed', 'tirade', 'tired', 'tirunesh', 'tiscali', 'tissue', 'tit', 'titanic', 'titanium', 'titi', 'title', 'titled', 'titles', 'titterrell', 'tittle', 'tivo', 'tivos', 'tnk', 'tno', 'tnt', 'tobacco', 'tobago', 'tobias', 'toby', 'today', 'todd', 'toe', 'toenails', 'toho', 'toilet', 'toilets', 'toit', 'tok', 'tokyo', 'told', 'tolerable', 'tolerance', 'tolerant', 'tolerate', 'tolerated', 'tolkien', 'toll', 'tolstoy', 'tom', 'tomaney', 'tomas', 'tomasson', 'tomb', 'tomiyama', 'tomlinson', 'tommie', 'tommy', 'tomorrow', 'tone', 'tones', 'tonga', 'tongue', 'tongues', 'toni', 'tonight', 'tonna', 'tonne', 'tonnes', 'tonny', 'tons', 'tony', 'took', 'tool', 'toolbar', 'toolbars', 'toolkit', 'tools', 'toothbrush', 'toothbrushes', 'toothless', 'tootsie', 'top500', 'topic', 'topics', 'topped', 'topper', 'toppers', 'topping', 'toppling', 'tops', 'topsy', 'tor', 'torbay', 'tore', 'toren', 'torfaen', 'tories', 'torn', 'toronto', 'torrential', 'torres', 'torreton', 'torrid', 'torture', 'tortured', 'torvill', 'tory', 'toshack', 'toshiba', 'toshihiko', 'tossed', 'total', 'totality', 'totalled', 'totalling', 'totally', 'tote', 'toting', 'tottenham', 'touch', 'touchdown', 'touched', 'touches', 'touching', 'touchline', 'touchstone', 'touchy', 'tough', 'tougher', 'toughest', 'toughness', 'toulouse', 'tour', 'toure', 'toured', 'touring', 'tourism', 'tourist', 'tourists', 'tournament', 'tournaments', 'tours', 'tous', 'tout', 'toutai', 'touted', 'touting', 'touts', 'tow', 'towel', 'tower', 'towers', 'town', 'townhouse', 'towns', 'townsden', 'townsend', 'township', 'townships', 'toxic', 'toy', 'toying', 'toyota', 'toys', 'tps', 'trace', 'traced', 'traces', 'tracey', 'tracing', 'track', 'trackball', 'tracked', 'tracker', 'tracking', 'trackpad', 'tracks', 'traction', 'tractor', 'tracts', 'trade', 'traded', 'trademark', 'trader', 'traders', 'trades', 'trading', 'tradition', 'traditional', 'traditionally', 'traditions', 'trafalgar', 'traffic', 'trafficking', 'trafford', 'tragedies', 'tragedy', 'tragic', 'tragically', 'trail', 'trailblazed', 'trailblazer', 'trailblazers', 'trailed', 'trailer', 'trailers', 'trailing', 'traille', 'trails', 'train', 'trained', 'trainers', 'training', 'trains', 'trample', 'tranquillity', 'transaction', 'transactions', 'transatlantic', 'transcript', 'transcription', 'transcripts', 'transfer', 'transferred', 'transferring', 'transfers', 'transform', 'transformation', 'transformed', 'transforming', 'transgression', 'transistor', 'transition', 'transitional', 'translate', 'translated', 'translates', 'translating', 'translation', 'transmission', 'transmit', 'transmits', 'transmitted', 'transmitter', 'transparency', 'transparent', 'transparently', 'transpired', 'transplant', 'transport', 'transportation', 'traore', 'trap', 'trapped', 'traps', 'trauma', 'traumatic', 'travel', 'travelled', 'traveller', 'travellers', 'travelling', 'travelodge', 'travels', 'travers', 'travesty', 'travis', 'trawl', 'trawlers', 'trawling', 'treadmill', 'treason', 'treasure', 'treasurer', 'treasures', 'treasury', 'treat', 'treated', 'treating', 'treatment', 'treatments', 'treaty', 'trebled', 'tree', 'trees', 'trek', 'tremble', 'tremendous', 'trench', 'trend', 'trends', 'tresco', 'trespassing', 'trevin', 'trevor', 'trew', 'tri', 'trial', 'trialling', 'trials', 'tribal', 'tribes', 'tribunal', 'tribunals', 'tribute', 'trice', 'trick', 'tricked', 'trickery', 'tricking', 'trickle', 'trickling', 'tricks', 'tricky', 'trident', 'tried', 'tries', 'trigger', 'triggered', 'triggering', 'triggers', 'trillion', 'trillions', 'trilogy', 'trim', 'trimmed', 'trimmings', 'trims', 'trinidad', 'trinity', 'trio', 'trip', 'triple', 'tripled', 'tripped', 'trips', 'triumph', 'triumphant', 'triumphed', 'triumphing', 'triumphs', 'trivial', 'trivialises', 'trodden', 'troeber', 'troiani', 'trojan', 'trojans', 'tromans', 'trombone', 'troncon', 'troops', 'trophies', 'trophy', 'tropical', 'trouble', 'troubled', 'troublemaker', 'troublemakers', 'troubles', 'troublesome', 'troubling', 'trough', 'troughs', 'trounced', 'troupe', 'trouper', 'trousers', 'trowbridge', 'troy', 'truancy', 'truant', 'truanted', 'truants', 'truce', 'true', 'trueman', 'truer', 'truly', 'trump', 'trumpet', 'trumpeted', 'trumpeting', 'truncated', 'trundled', 'trusses', 'trust', 'trusted', 'trusting', 'trusts', 'truth', 'trutnev', 'try', 'trying', 'tryscorers', 'tsar', 'tsuda', 'tsunami', 'tsusaka', 'tt', 'tu', 'tub', 'tube', 'tuberculosis', 'tubes', 'tuc', 'tuck', 'tucked', 'tucker', 'tudor', 'tuesday', 'tuffy', 'tuidriva', 'tuilagi', 'tuiliagi', 'tuition', 'tulip', 'tulu', 'tumbled', 'tumbling', 'tune', 'tuned', 'tuner', 'tuners', 'tunes', 'tuning', 'tunisia', 'tunisian', 'tunnel', 'tupac', 'turbulent', 'turf', 'turin', 'turismo', 'turkcell', 'turkey', 'turkish', 'turks', 'turn', 'turnaround', 'turnbull', 'turned', 'turner', 'turning', 'turnout', 'turnover', 'turnovers', 'turns', 'turvy', 'tussauds', 'tussle', 'tutu', 'tuxford', 'tv', 'tveter', 'tvs', 'tw', 'tweaked', 'tweaking', 'twee', 'twice', 'twickenham', 'twiddling', 'twigg', 'twin', 'twinkle', 'twins', 'twist', 'twisted', 'tycoon', 'tycoons', 'tying', 'tykes', 'tyler', 'tymoshenko', 'tyne', 'tynecastle', 'tyneside', 'type', 'typed', 'types', 'typhoons', 'typical', 'typically', 'tyranny', 'tyres', 'tyrie', 'tysabri', 'tyson', 'tzekos', 'u2', 'ubiquitous', 'ubiquitously', 'ubiquity', 'ubisense', 'ubisoft', 'ubs', 'ucas', 'uefa', 'uei', 'ufj', 'uganda', 'ugandan', 'ugly', 'uk', 'uka', 'ukif', 'ukip', 'ukraine', 'ukrainian', 'ulrich', 'ulster', 'ultimate', 'ultimately', 'ultimatum', 'ultimitely', 'ultra', 'ultraviolet', 'uma', 'umbilical', 'umbrage', 'umbrella', 'umd', 'umpire', 'umpteenth', 'unabashedly', 'unabated', 'unable', 'unacceptable', 'unaccompanied', 'unaccountable', 'unaccountably', 'unaccounted', 'unaffected', 'unaids', 'unambiguous', 'unanimous', 'unanimously', 'unannounced', 'unanswered', 'unassailable', 'unattractive', 'unauthorised', 'unavailable', 'unavoidable', 'unaware', 'unawares', 'unbeatable', 'unbeaten', 'unbelievable', 'unbiased', 'unblighted', 'unblocked', 'unbroken', 'unbundled', 'unbundling', 'uncapped', 'unceremoniously', 'uncertain', 'uncertainties', 'uncertainty', 'unchanged', 'uncharacteristic', 'uncharted', 'unchecked', 'uncle', 'unclear', 'uncles', 'unclogging', 'uncollected', 'uncomfortable', 'uncompromising', 'unconditional', 'unconscionable', 'unconscious', 'uncontrolled', 'unconvincing', 'uncover', 'uncovered', 'uncut', 'undaunted', 'undecided', 'undeclared', 'undefeated', 'undemocratic', 'underachievement', 'underage', 'undercutting', 'underestimate', 'underestimating', 'underexposure', 'underfunding', 'undergo', 'undergoing', 'underground', 'underhand', 'underline', 'underlined', 'underlines', 'underlying', 'undermine', 'undermined', 'undermining', 'underneath', 'underpaid', 'underpin', 'underpinning', 'underrated', 'underscores', 'underserved', 'understand', 'understandable', 'understandably', 'understanding', 'understands', 'understated', 'understood', 'understudy', 'undertake', 'undertaken', 'undertaking', 'undertook', 'undervaluation', 'undervalued', 'undervalues', 'underwater', 'underway', 'underwhelming', 'underwrite', 'underwriting', 'undetectable', 'undignified', 'undisclosed', 'undo', 'undoubted', 'undoubtedly', 'unearned', 'unearthed', 'unearthing', 'uneasily', 'uneasy', 'unece', 'unedited', 'uneducated', 'unemployed', 'unemployment', 'unencumbered', 'unenforceable', 'unequal', 'uneven', 'unexpected', 'unexpectedly', 'unfair', 'unfairly', 'unfairness', 'unfavourable', 'unfavourably', 'unfazed', 'unfettered', 'unflappable', 'unfolds', 'unforced', 'unforgiven', 'unforgiving', 'unfortunate', 'unfortunately', 'unfounded', 'unfriendly', 'unfulfilling', 'unglamorous', 'unhappiness', 'unhappy', 'unhealthy', 'unheard', 'unhelpful', 'unheralded', 'uni', 'unicef', 'unicode', 'unidentified', 'unified', 'uniform', 'uniformity', 'unifying', 'unimaginable', 'unimpressed', 'uninformed', 'uninspired', 'uninspiring', 'unintentional', 'uninterested', 'uninterrupted', 'union', 'unions', 'unique', 'uniquely', 'unison', 'unit', 'unite', 'united', 'unites', 'uniting', 'units', 'unity', 'universal', 'universally', 'universe', 'universities', 'university', 'unjust', 'unjustified', 'unknown', 'unlawful', 'unleash', 'unleashed', 'unless', 'unlicensed', 'unlike', 'unlikely', 'unlimited', 'unlock', 'unlocking', 'unlucky', 'unmarked', 'unmask', 'unmatched', 'unmissable', 'unmistakable', 'unnamed', 'unnatural', 'unnecessarily', 'unnecessary', 'unnerved', 'uno', 'unofficial', 'unosat', 'unpaid', 'unpalatable', 'unpatched', 'unpatriotic', 'unplayable', 'unpleasant', 'unplug', 'unplugged', 'unpopular', 'unprecedented', 'unpredictability', 'unpredictable', 'unprofessional', 'unprofitability', 'unprotected', 'unpunished', 'unravel', 'unravelling', 'unrealistic', 'unrealistically', 'unreasonable', 'unregistered', 'unrelated', 'unreleased', 'unremarkable', 'unremittingly', 'unrest', 'unrevised', 'unrivalled', 'unruffled', 'unruly', 'unsatisfying', 'unscripted', 'unscrupulous', 'unsealed', 'unseasonably', 'unsecured', 'unseeded', 'unseen', 'unsettle', 'unsettled', 'unsettling', 'unshowbusiness', 'unsigned', 'unskilled', 'unsold', 'unsolicited', 'unspecified', 'unstained', 'unstoppable', 'unstructured', 'unstuck', 'unsubscribe', 'unsubstantiated', 'unsuccessful', 'unsuccessfully', 'unsuitable', 'unsung', 'unsure', 'unsustainable', 'unthinkable', 'untouchables', 'untouched', 'untrammelled', 'untreated', 'untried', 'untrue', 'unusable', 'unused', 'unusual', 'unusually', 'unveil', 'unveiled', 'unveiling', 'unveils', 'unwanted', 'unwavering', 'unwelcome', 'unwilling', 'unwillingness', 'unwind', 'unwinnable', 'unwise', 'unwitting', 'unwittingly', 'unworkable', 'upbeat', 'upcoming', 'update', 'updated', 'updates', 'updating', 'upfield', 'upgrade', 'upgradeable', 'upgraded', 'upgrades', 'upgrading', 'upheaval', 'upheld', 'uphill', 'uphold', 'upholding', 'upholds', 'upholstered', 'upkeep', 'uplift', 'uplights', 'upload', 'uploaded', 'uploading', 'upped', 'upper', 'upping', 'uprate', 'upright', 'uprising', 'uproar', 'ups', 'upset', 'upsets', 'upsetting', 'upside', 'upson', 'upstage', 'upstairs', 'upsurge', 'upswing', 'uptake', 'uptight', 'upton', 'upturn', 'upturns', 'upward', 'upwards', 'uranium', 'urban', 'urbino', 'urge', 'urged', 'urgency', 'urgent', 'urgently', 'urges', 'urging', 'urine', 'urs', 'uruguay', 'uruguayan', 'usa', 'usability', 'usable', 'usage', 'usatf', 'usb', 'use', 'used', 'useful', 'usefulness', 'useless', 'uselessness', 'user', 'users', 'uses', 'usher', 'ushered', 'using', 'usta', 'usual', 'usually', 'usurp', 'utah', 'utd', 'utgoff', 'utilise', 'utilising', 'utilities', 'utility', 'utmost', 'utter', 'utterly', 'uv', 'uwb', 'uzzell', 'v2', 'v3', 'v603sh', 'v8', 'vabres', 'vacant', 'vacate', 'vacated', 'vacation', 'vacations', 'vaccine', 'vaccines', 'vacuity', 'vacuous', 'vader', 'vagina', 'vague', 'vahid', 'vaidisova', 'vaidyanathan', 'vaile', 'vaili', 'vain', 'vakacegu', 'valdes', 'vale', 'valencia', 'valenciana', 'valentine', 'valery', 'valid', 'validate', 'validation', 'valium', 'valle', 'valley', 'valleys', 'valuable', 'valuation', 'value', 'valued', 'values', 'valuing', 'valve', 'vampire', 'vampires', 'van', 'vanadium', 'vance', 'vancheshwar', 'vandals', 'vanessa', 'vanish', 'vanished', 'vanity', 'vans', 'vantage', 'vapourware', 'varga', 'variant', 'variants', 'variation', 'variations', 'varied', 'variety', 'varig', 'various', 'vary', 'varying', 'vasco', 'vassilis', 'vassilli', 'vast', 'vastly', 'vat', 'vatican', 'vaughan', 'vaughn', 'vault', 'vaulter', 'vauxhall', 'vcr', 'vcrs', 've', 'veb', 'vedomosti', 'veer', 'vegas', 'vehicle', 'vehicles', 'veils', 'veinte', 'velimir', 'vellum', 'velvet', 'vendetta', 'vendor', 'vendors', 'veneer', 'venezuela', 'venezuelan', 'vengeful', 'venice', 'venta', 'venter', 'venting', 'venture', 'ventures', 'venue', 'venues', 'venus', 'vera', 'verbal', 'verbalicious', 'verbally', 'verdict', 'verdon', 'verge', 'verification', 'verify', 'verisign', 'veritable', 'veritas', 'verizon', 'verne', 'versa', 'versace', 'versatile', 'version', 'versions', 'versus', 'vertical', 'vertigo', 'verve', 'vessel', 'vestey', 'vesty', 'vet', 'veteran', 'veterans', 'vetham', 'veto', 'vetted', 'vettriano', 'vh1', 'vhs', 'viability', 'viable', 'viacom', 'vialli', 'viard', 'vibrant', 'vibraphone', 'vibrations', 'vic', 'vicar', 'vice', 'vices', 'vicious', 'vicissitudes', 'vickery', 'vicki', 'vicky', 'victim', 'victimisation', 'victimless', 'victims', 'victor', 'victoria', 'victorian', 'victories', 'victorious', 'victors', 'victory', 'video', 'videoing', 'videophones', 'videos', 'vie', 'vied', 'vieira', 'vienna', 'vietnam', 'view', 'viewed', 'viewer', 'viewers', 'viewfinders', 'viewing', 'viewpoint', 'viewpoints', 'views', 'vigilant', 'vigilantes', 'vigilantism', 'vignal', 'vigo', 'vigorous', 'vigorously', 'vijay', 'vijver', 'viking', 'viktor', 'villa', 'village', 'villagers', 'villages', 'villain', 'villains', 'villalba', 'villar', 'villas', 'villiers', 'vin', 'vince', 'vincent', 'vinci', 'vintage', 'vinyl', 'violated', 'violating', 'violation', 'violations', 'violator', 'violators', 'violence', 'violent', 'violently', 'viral', 'virgil', 'virgin', 'virginia', 'virtual', 'virtually', 'virtue', 'virtues', 'virus', 'viruses', 'vis', 'visa', 'visakhapatnam', 'visas', 'visibility', 'visible', 'vision', 'visit', 'visited', 'visiting', 'visitor', 'visitors', 'visits', 'vista', 'vistas', 'visual', 'visualisation', 'visually', 'visuals', 'vitae', 'vital', 'vivaldi', 'vivancos', 'vivek', 'vivendi', 'vives', 'vivid', 'vivre', 'vj', 'vladimir', 'vlore', 'vocabulary', 'vocal', 'vocals', 'vocational', 'vociferous', 'vociferously', 'vod', 'vodafone', 'vogts', 'vogue', 'voice', 'voiced', 'voices', 'void', 'voigt', 'voip', 'volandri', 'volatile', 'volatility', 'volcanic', 'volcano', 'volcanoes', 'voldemort', 'volkswagen', 'volley', 'volleyed', 'volleying', 'volleys', 'voltage', 'volume', 'volumes', 'voluntarily', 'voluntary', 'volunteer', 'volunteers', 'volvo', 'von', 'vote', 'voted', 'voter', 'voters', 'votes', 'voting', 'vouchers', 'vow', 'vowed', 'vows', 'voyce', 'vp', 'vpc', 'vs', 'vue', 'vulcan', 'vulnerabilities', 'vulnerability', 'vulnerable', 'vw', 'vybz', 'vying', 'w800', 'waalwijk', 'waarschuwingsdienst', 'wada', 'wade', 'wades', 'wadi', 'wadis', 'wafer', 'wage', 'waged', 'wager', 'wagers', 'wages', 'wagging', 'waggoner', 'waging', 'wagner', 'wagoner', 'wai', 'waist', 'wait', 'waited', 'waiter', 'waiting', 'waive', 'waiving', 'wake', 'wakeham', 'wal', 'walden', 'waldorf', 'wales', 'walid', 'walk', 'walked', 'walker', 'walking', 'walkington', 'walkman', 'walkout', 'walkouts', 'walks', 'wall', 'wallabies', 'wallace', 'waller', 'wallets', 'walliams', 'wallowing', 'wallpapers', 'walls', 'walsh', 'walt', 'walter', 'walters', 'walton', 'wanadoo', 'wander', 'wandered', 'wandering', 'wanderley', 'wandsworth', 'wang', 'waning', 'wanless', 'want', 'wanted', 'wanting', 'wants', 'wap', 'war', 'warbrick', 'warburton', 'warcraft', 'ward', 'wardens', 'wardley', 'wardrobe', 'wareham', 'warehouse', 'warehouses', 'wares', 'warez', 'warfare', 'warhol', 'warm', 'warmest', 'warming', 'warmly', 'warmonger', 'warmth', 'warn', 'warne', 'warned', 'warner', 'warning', 'warnings', 'warnock', 'warns', 'warps', 'warrant', 'warranted', 'warrants', 'warren', 'warrington', 'warrior', 'warriors', 'wars', 'warsi', 'wartime', 'warwick', 'wary', 'wasenius', 'wash', 'washed', 'washers', 'washing', 'washington', 'wasn', 'wasp', 'wasps', 'wass', 'waste', 'wasted', 'wasteful', 'wasting', 'watch', 'watchdog', 'watchdogs', 'watched', 'watcher', 'watchers', 'watches', 'watching', 'water', 'waterborne', 'watered', 'waterford', 'waterfront', 'waterreus', 'waters', 'watershed', 'waterstone', 'watford', 'watkins', 'watson', 'watts', 'wave', 'waved', 'wavelength', 'waves', 'waving', 'way', 'wayfarer', 'wayne', 'ways', 'wayside', 'wayward', 'weak', 'weaken', 'weakened', 'weakening', 'weaker', 'weakest', 'weakness', 'weaknesses', 'wealth', 'wealthiest', 'wealthy', 'weapon', 'weaponry', 'weapons', 'wear', 'wearable', 'wearing', 'wearside', 'weather', 'weave', 'weaver', 'web', 'webb', 'webber', 'webcam', 'webcams', 'webcast', 'webcasts', 'weblinks', 'weblog', 'weblogs', 'webmaster', 'webpage', 'webpages', 'webroot', 'webs', 'websidestory', 'website', 'websites', 'webster', 'wedding', 'weddings', 'wedgburg', 'wednesday', 'wee', 'weed', 'weee', 'week', 'weekend', 'weekends', 'weekly', 'weeks', 'weeping', 'weepu', 'wef', 'weh', 'weidensteiner', 'weighed', 'weight', 'weighted', 'weighty', 'weingarten', 'weir', 'weird', 'weirdest', 'weiss', 'weissler', 'weitzman', 'welch', 'welcome', 'welcomed', 'welcomes', 'welcoming', 'welfare', 'welford', 'wellbeing', 'welle', 'welles', 'welling', 'wellington', 'wells', 'welsh', 'welshman', 'welter', 'wembley', 'wenger', 'went', 'wer', 'weren', 'werewolf', 'werner', 'wernle', 'wes', 'wesley', 'wessex', 'west', 'westbrook', 'western', 'westerns', 'westfalen', 'westfallen', 'westhuyzen', 'westlife', 'westminster', 'westmorland', 'weston', 'westwood', 'wet', 'wetherby', 'weyman', 'wgbh', 'whalley', 'wham', 'whampoa', 'wharf', 'whatsoever', 'whatsonstage', 'wheatley', 'wheel', 'wheelchair', 'wheelchairs', 'wheels', 'whelan', 'whereabouts', 'whichever', 'whilst', 'whim', 'whines', 'whinging', 'whining', 'whinneray', 'whip', 'whipped', 'whipping', 'whips', 'whirlwind', 'whisk', 'whisked', 'whisker', 'whisky', 'whispered', 'whistle', 'whistleblower', 'whistler', 'whistling', 'whitbread', 'whitcomb', 'white', 'whitehall', 'whitlock', 'whitney', 'whittled', 'whizzy', 'whodunit', 'wholehearted', 'wholesale', 'wholly', 'wi', 'wicked', 'widdecombe', 'wide', 'wideband', 'widely', 'widen', 'widened', 'widening', 'widens', 'wider', 'widespread', 'widow', 'widowed', 'widower', 'wiedersehen', 'wield', 'wife', 'wifi', 'wig', 'wigan', 'wigglesworth', 'wight', 'wigley', 'wikid', 'wikinews', 'wilander', 'wilbur', 'wild', 'wildcard', 'wilder', 'wilderness', 'wildly', 'wiley', 'wilkin', 'wilkinson', 'willemse', 'willetts', 'willey', 'william', 'williams', 'willie', 'willing', 'willingness', 'willis', 'willmean', 'wills', 'wilmslow', 'wilson', 'wilting', 'wiltshire', 'wimax', 'wimbledon', 'wimpey', 'win', 'winchester', 'wind', 'windfall', 'winding', 'windo', 'window', 'windows', 'winds', 'windshield', 'windsor', 'windswept', 'windy', 'wine', 'winemaker', 'winfrey', 'wing', 'winger', 'wingfield', 'wings', 'winick', 'winks', 'winless', 'winn', 'winnable', 'winner', 'winners', 'winning', 'wins', 'winslet', 'winston', 'winter', 'winterbottom', 'wintour', 'wipe', 'wiped', 'wiping', 'wippit', 'wipro', 'wire', 'wireless', 'wirelessly', 'wires', 'wisconsin', 'wisdom', 'wise', 'wisely', 'wish', 'wishaw', 'wished', 'wishes', 'wishful', 'wishing', 'witch', 'witchcraft', 'withdraw', 'withdrawal', 'withdrawing', 'withdrawn', 'withdraws', 'withdrew', 'withheld', 'withholding', 'withington', 'withstood', 'witness', 'witnessed', 'witnesses', 'witnessing', 'witney', 'wits', 'wives', 'wizard', 'wizardry', 'wlga', 'wmc', 'wobble', 'woe', 'woeful', 'woefully', 'woes', 'wojahn', 'wojcicki', 'woke', 'woken', 'wolf', 'wolfgang', 'wolfram', 'wolpaw', 'wolves', 'woman', 'women', 'won', 'wonder', 'wonderful', 'wonderfully', 'wondering', 'wonders', 'wong', 'woo', 'wood', 'wooden', 'woodford', 'woodhead', 'woodhill', 'woods', 'woodside', 'woodsman', 'woodward', 'wooed', 'wooing', 'wool', 'woolf', 'woollen', 'woolwich', 'woolworths', 'worcester', 'worcestershire', 'word', 'wording', 'words', 'wore', 'work', 'workable', 'worked', 'worker', 'workers', 'workforce', 'workforces', 'workgroups', 'workhorse', 'working', 'workload', 'workmanlike', 'workmate', 'workplace', 'workrate', 'works', 'workshare', 'workshops', 'workspace', 'workstation', 'workstations', 'world', 'worldcom', 'worlds', 'worldwide', 'worm', 'worms', 'worn', 'worried', 'worries', 'worry', 'worrying', 'worryingly', 'worse', 'worsen', 'worsened', 'worsening', 'worsley', 'worst', 'worth', 'worthington', 'worthless', 'worthwhile', 'worthy', 'wouldn', 'wound', 'wounded', 'wounds', 'woven', 'wow', 'wowed', 'wpp', 'wracking', 'wrangle', 'wrangles', 'wrangling', 'wrap', 'wrapped', 'wray', 'wraz', 'wreath', 'wreck', 'wrecked', 'wrecks', 'wrested', 'wrestled', 'wrestling', 'wrexham', 'wriggled', 'wright', 'wrist', 'wrists', 'wristwatch', 'write', 'writeback', 'writer', 'writers', 'writes', 'writing', 'written', 'wrong', 'wrongdoing', 'wrongful', 'wrongly', 'wrongs', 'wrote', 'wru', 'wrung', 'wsj', 'wta', 'wtih', 'wto', 'wttc', 'wwii', 'www', 'wyatt', 'wyman', 'wynne', 'wyss', 'wyver', 'x1', 'xaba', 'xabi', 'xavier', 'xbox', 'xda', 'xdance', 'xenia', 'xenon', 'xenophobia', 'xenophobic', 'xfm', 'xhosa', 'xiluodu', 'xlr', 'xml', 'xp', 'xp2', 'xstrata', 'xv', 'xxl', 'xxx', 'xzibit', 'ya', 'yachvili', 'yadav', 'yadavaran', 'yahoo', 'yakubu', 'yale', 'yamaha', 'yamane', 'yamanouchi', 'yan', 'yangtze', 'yannick', 'yaounde', 'yapp', 'yard', 'yardley', 'yards', 'yarnton', 'yaron', 'yaseen', 'yasser', 'yauch', 'yawning', 'yeading', 'yeah', 'yeahronimo', 'year', 'yearly', 'yearned', 'yearning', 'years', 'yearwood', 'yeats', 'yelena', 'yelling', 'yellow', 'yellowstone', 'yen', 'yeo', 'yeovil', 'yepp', 'yes', 'yesterday', 'yetunde', 'yh', 'yiannis', 'yielded', 'yimou', 'ym', 'yobo', 'yoda', 'yolande', 'yonca', 'yoo', 'york', 'yorker', 'yorks', 'yorkshire', 'yoshifumi', 'yougov', 'young', 'younger', 'youngest', 'youngster', 'youngsters', 'youssou', 'youth', 'youthful', 'youzhny', 'yoxall', 'yuan', 'yugansk', 'yuganskneftegas', 'yuganskneftegaz', 'yuganskneftgas', 'yugoslavian', 'yukon', 'yukos', 'yulia', 'yungmin', 'yuppy', 'yuri', 'yushchenko', 'yusuf', 'yvette', 'zabaleta', 'zach', 'zack', 'zafi', 'zaidi', 'zajec', 'zakuani', 'zambia', 'zambian', 'zar', 'zara', 'zardari', 'zealand', 'zealander', 'zealous', 'zealousness', 'zed', 'zeeuw', 'zelda', 'zellweger', 'zen', 'zenden', 'zenith', 'zens', 'zephaniah', 'zeppelin', 'zero', 'zeta', 'zhang', 'zhaoxing', 'zheng', 'zib', 'zidane', 'zillion', 'zimbabwe', 'zinc', 'zinedine', 'zip', 'ziyi', 'zodiac', 'zoe', 'zoellick', 'zola', 'zombie', 'zombies', 'zone', 'zonealarm', 'zones', 'zoom', 'zooms', 'zooropa', 'zorro', 'zuluaga', 'zurich', 'zvonareva']\n"
     ]
    }
   ],
   "source": [
    "feature_names = vectorizer.get_feature_names()\n",
    "\n",
    "print(len(feature_names))\n",
    "print(feature_names)"
   ]
  },
  {
   "cell_type": "markdown",
   "metadata": {},
   "source": [
    "Vemos que hay aproximadamente 22000 palabras. Como podíamos esperar, vemos que hay varias cadenas que son numeros o que mezclan números y letras, pero la gran mayoría son palabras."
   ]
  },
  {
   "cell_type": "code",
   "execution_count": 18,
   "metadata": {},
   "outputs": [
    {
     "name": "stdout",
     "output_type": "stream",
     "text": [
      "  (0, 17445)\t5\n",
      "  (0, 20701)\t12\n",
      "  (0, 9157)\t1\n",
      "  (0, 3453)\t3\n",
      "  (0, 7735)\t3\n",
      "  (0, 5674)\t1\n",
      "  (0, 686)\t1\n",
      "  (0, 13765)\t1\n",
      "  (0, 13989)\t2\n",
      "  (0, 21598)\t1\n",
      "  (0, 7682)\t1\n",
      "  (0, 6977)\t1\n",
      "  (0, 16320)\t1\n",
      "  (0, 17933)\t1\n",
      "  (0, 12249)\t1\n",
      "  (0, 13436)\t1\n",
      "  (0, 367)\t3\n",
      "  (0, 2058)\t1\n",
      "  (0, 10941)\t1\n",
      "  (0, 10497)\t2\n",
      "  (0, 9200)\t2\n",
      "  (0, 1274)\t1\n",
      "  (0, 10846)\t1\n",
      "  (0, 20377)\t1\n",
      "  (0, 9936)\t1\n",
      "  :\t:\n",
      "  (0, 11428)\t1\n",
      "  (0, 11570)\t1\n",
      "  (0, 15402)\t1\n",
      "  (0, 10531)\t1\n",
      "  (0, 12014)\t2\n",
      "  (0, 11035)\t1\n",
      "  (0, 17489)\t1\n",
      "  (0, 9852)\t1\n",
      "  (0, 3576)\t1\n",
      "  (0, 1033)\t1\n",
      "  (0, 21228)\t1\n",
      "  (0, 6800)\t1\n",
      "  (0, 3752)\t1\n",
      "  (0, 7318)\t1\n",
      "  (0, 19232)\t1\n",
      "  (0, 16908)\t1\n",
      "  (0, 14664)\t1\n",
      "  (0, 3418)\t1\n",
      "  (0, 8178)\t1\n",
      "  (0, 2898)\t1\n",
      "  (0, 10561)\t1\n",
      "  (0, 8204)\t1\n",
      "  (0, 19363)\t1\n",
      "  (0, 707)\t1\n",
      "  (0, 17806)\t1\n"
     ]
    }
   ],
   "source": [
    "print(train_vector_data[100])"
   ]
  },
  {
   "cell_type": "code",
   "execution_count": 19,
   "metadata": {},
   "outputs": [],
   "source": [
    "import numpy as np\n",
    "import numpy.ma as ma\n",
    "\n",
    "def write_terms (feature_names, data, vector_data, index):\n",
    "    '''\n",
    "    Escribe los términos presentes en un mensaje representado como bolsa de palabras.\n",
    "    \n",
    "    - feature_names: terminos usados para vectorizar\n",
    "    - data: lista de mensajes original (si data==None no se muestra el mensaje original)\n",
    "    - vector_data: matriz (dispersa) de mensaje vectorizados\n",
    "    - index: posición del mensaje a mostrar\n",
    "    '''\n",
    "    # máscara para seleccionar sólo el mensaje en posición index\n",
    "    mask=vector_data[index,:]>0\n",
    "    \n",
    "    # términos que aparecen en ese mensaje vectorizado\n",
    "    terminos = ma.array(feature_names, mask = ~(mask[0].toarray()))\n",
    "    \n",
    "    # mostrar mensaje original\n",
    "    if data is not None:\n",
    "        print('Mensaje', index, ':', data[index])\n",
    "    \n",
    "    # mostrar términos que aparecen en el mensaje vectorizado\n",
    "    print('Mensaje', index, 'vectorizado:', terminos.compressed(),'\\n')"
   ]
  },
  {
   "cell_type": "code",
   "execution_count": 20,
   "metadata": {},
   "outputs": [
    {
     "name": "stdout",
     "output_type": "stream",
     "text": [
      "Mensaje 10 : foxx and swank take actors awards jamie foxx and hilary swank have won the screen actors guild awards for best male and female film actors  boosting their oscars hopes this month.  foxx s portrayal of late soul-singer ray charles in ray had already earned him a prestigious golden globe award. swank triumphed for playing a gutsy female boxer in million dollar baby. modest wine country comedy sideways knocked out favourites million dollar baby and the aviator by taking the top prize for best cast performance.  the screen actors guild (sag) represents us film and tv actors. its winners often go on to win oscars. in other nominations  cate blanchett triumphed as the best supporting actress for her role as katharine hepburn in the aviator. veteran actor morgan freeman took the best supporting actor award for playing a prize-fighter turned gym manager in million dollar baby.   thank you for ray charles for just living so complex and so interesting  and making us all just come together   said foxx  accepting his award in los angeles on saturday.  he also praised the film director:  thank you for taylor hackford for taking a chance with an african-american film. taylor  you re my director of the year.  swank  too  was full of praise for her director and co-star clint eastwood.  i bow down to you   swank said to the 74-year-old eastwood.  you are a talent beyond compare. if i m half the person you are and half the talent you are when i m 74  i will know that i ve accomplished something great.   both foxx and swank are now considered to be among the favourites to get oscars - the hollywood s ultimate prize. however  swank has to overcome a strong challenge from annette bening  a nominee for the theatre farce being julia. meanwhile  ballots for oscars - the hollywood s top honours - were mailed earlier this week to members of the academy of motion picture arts and sciences. the voting is due to end on 22 february - five days before the ceremony.\n",
      "Mensaje 10 vectorizado: ['22' '74' 'academy' 'accepting' 'accomplished' 'actor' 'actors' 'actress'\n",
      " 'african' 'american' 'angeles' 'annette' 'arts' 'aviator' 'award'\n",
      " 'awards' 'baby' 'ballots' 'bening' 'best' 'blanchett' 'boosting' 'bow'\n",
      " 'boxer' 'cast' 'cate' 'ceremony' 'challenge' 'chance' 'charles' 'clint'\n",
      " 'come' 'comedy' 'compare' 'complex' 'considered' 'country' 'days'\n",
      " 'director' 'dollar' 'earlier' 'earned' 'eastwood' 'end' 'farce'\n",
      " 'favourites' 'february' 'female' 'fighter' 'film' 'foxx' 'freeman'\n",
      " 'globe' 'golden' 'great' 'guild' 'gutsy' 'gym' 'hackford' 'half'\n",
      " 'hepburn' 'hilary' 'hollywood' 'honours' 'hopes' 'interesting' 'jamie'\n",
      " 'julia' 'just' 'katharine' 'knocked' 'know' 'late' 'living' 'los'\n",
      " 'mailed' 'making' 'male' 'manager' 'members' 'million' 'modest' 'month'\n",
      " 'morgan' 'motion' 'nominations' 'nominee' 'old' 'oscars' 'overcome'\n",
      " 'performance' 'person' 'picture' 'playing' 'portrayal' 'praise' 'praised'\n",
      " 'prestigious' 'prize' 'ray' 'represents' 'role' 'sag' 'said' 'saturday'\n",
      " 'sciences' 'screen' 'sideways' 'singer' 'soul' 'star' 'strong'\n",
      " 'supporting' 'swank' 'taking' 'talent' 'taylor' 'thank' 'theatre' 'took'\n",
      " 'triumphed' 'turned' 'tv' 'ultimate' 've' 'veteran' 'voting' 'week' 'win'\n",
      " 'wine' 'winners' 'won' 'year'] \n",
      "\n"
     ]
    }
   ],
   "source": [
    "write_terms(feature_names, bbc_train['Text'].values, train_vector_data, 10)"
   ]
  },
  {
   "cell_type": "code",
   "execution_count": 21,
   "metadata": {},
   "outputs": [
    {
     "name": "stdout",
     "output_type": "stream",
     "text": [
      "Mensaje 100 : film production  falls  40% in uk the number of british films produced in the uk fell 40% in 2004  with movies starring johnny depp and jude law among those affected  screen daily has said.  twenty-seven british films were made in the uk last year following a drop in funding  compared with 45 in 2003  according to the trade weekly. it attributed the drop to tighter tax laws and reduced funding from sources such as the national lottery. uk and us co-productions in britain fell from 102 in 2003 to 81 last year.  last year the government closed tax loopholes that many film investors had taken advantage of to fund films in the uk. several projects were shelved as they faced the implications of this clampdown  coupled with the reduction in movie funding from traditional sources including the lottery and miramax films. shooting on period drama tulip fever  which was to star jude law and keira knightley  was postponed indefinitely while shooting of the libertine starring johnny depp was moved to the isle of man.   there isn t anything coming in to replace (the funds)   said the libertine s executive producer marc samuelson.  we are in a hiatus.  films with  medium  budgets of up to £9m  a similar level to box office hits vera drake  calendar girls and enduring love  are expected to be worst hit by the tax clampdown. the strength of the pound against the dollar is expected to have resulted in a fall in the number of us films shot in the uk during 2004  screen international added. big budget co-productions  such as the harry potter series  continued to be shot in the uk  however. the uk film council said the drop was partly due to 2003 being an especially good year for british film production  when bridget jones: the edge of reason  wimbledon and thunderbirds were all filmed in the uk.   the drop was expected as there was no way 2003 s record level of production could be bettered   the council s spokesperson said.  the reduction in indigenous film production in 2004 was due to a variety of factors  including the continuing long-term trend towards co-production of films in more than one country and changes to financing arrangements.  it was  too early  to predict whether the downward trend in uk production would continue throughout 2005  the uk film council said. in september the government introduced subsidies worth up to £4m per film for medium budget films  under new treasury measures. it is also due to announce a replacement for uk film tax relief scheme section 48 in july.\n",
      "Mensaje 100 vectorizado: ['102' '2003' '2004' '2005' '40' '45' '48' '4m' '81' '9m' 'according'\n",
      " 'added' 'advantage' 'affected' 'announce' 'arrangements' 'attributed'\n",
      " 'bettered' 'big' 'box' 'bridget' 'britain' 'british' 'budget' 'budgets'\n",
      " 'calendar' 'changes' 'clampdown' 'closed' 'coming' 'compared' 'continue'\n",
      " 'continued' 'continuing' 'council' 'country' 'coupled' 'daily' 'depp'\n",
      " 'dollar' 'downward' 'drake' 'drama' 'drop' 'early' 'edge' 'enduring'\n",
      " 'especially' 'executive' 'expected' 'faced' 'factors' 'fall' 'falls'\n",
      " 'fell' 'fever' 'film' 'filmed' 'films' 'financing' 'following' 'fund'\n",
      " 'funding' 'funds' 'girls' 'good' 'government' 'harry' 'hiatus' 'hit'\n",
      " 'hits' 'implications' 'including' 'indefinitely' 'indigenous'\n",
      " 'international' 'introduced' 'investors' 'isle' 'isn' 'johnny' 'jones'\n",
      " 'jude' 'july' 'keira' 'knightley' 'law' 'laws' 'level' 'libertine' 'long'\n",
      " 'loopholes' 'lottery' 'love' 'man' 'marc' 'measures' 'medium' 'miramax'\n",
      " 'moved' 'movie' 'movies' 'national' 'new' 'number' 'office' 'partly'\n",
      " 'period' 'postponed' 'potter' 'pound' 'predict' 'produced' 'producer'\n",
      " 'production' 'productions' 'projects' 'reason' 'record' 'reduced'\n",
      " 'reduction' 'relief' 'replace' 'replacement' 'resulted' 'said'\n",
      " 'samuelson' 'scheme' 'screen' 'section' 'september' 'series' 'seven'\n",
      " 'shelved' 'shooting' 'shot' 'similar' 'sources' 'spokesperson' 'star'\n",
      " 'starring' 'strength' 'subsidies' 'taken' 'tax' 'term' 'thunderbirds'\n",
      " 'tighter' 'trade' 'traditional' 'treasury' 'trend' 'tulip' 'uk' 'variety'\n",
      " 'vera' 'way' 'weekly' 'wimbledon' 'worst' 'worth' 'year'] \n",
      "\n"
     ]
    }
   ],
   "source": [
    "write_terms(feature_names, bbc_train['Text'].values, train_vector_data, 100)"
   ]
  },
  {
   "cell_type": "markdown",
   "metadata": {},
   "source": [
    "En cada mensaje podemos observar que la lista de palabras del mensaje vectorizado es menor que la lista de palabras que aparecen en el mensaje original. Esto se debe a que se han eliminado todas las `stop-words` que le indicamos al vectorizador cuando le creamos."
   ]
  },
  {
   "cell_type": "markdown",
   "metadata": {},
   "source": [
    "___Naive-Bayes___"
   ]
  },
  {
   "cell_type": "code",
   "execution_count": 22,
   "metadata": {},
   "outputs": [
    {
     "name": "stdout",
     "output_type": "stream",
     "text": [
      "Multinomial Naive Bayes, porcentaje de aciertos en entrenamiento: 0.9966442953020134\n",
      "Multinomial Naive Bayes, porcentaje de aciertos en test: 0.9798657718120806\n"
     ]
    }
   ],
   "source": [
    "from sklearn.naive_bayes import MultinomialNB\n",
    "\n",
    "mnb_classifier = MultinomialNB()\n",
    "\n",
    "mnb_classifier.fit(train_vector_data, bbc_train['Category'])\n",
    "\n",
    "mnb_train_predictions = mnb_classifier.predict(train_vector_data)\n",
    "mnb_test_predictions = mnb_classifier.predict(test_vector_data)\n",
    "\n",
    "print(\"Multinomial Naive Bayes, porcentaje de aciertos en entrenamiento:\", np.mean(mnb_train_predictions == bbc_train['Category'].values))\n",
    "print(\"Multinomial Naive Bayes, porcentaje de aciertos en test:\", np.mean(mnb_test_predictions == bbc_test['Category'].values))"
   ]
  },
  {
   "cell_type": "markdown",
   "metadata": {},
   "source": [
    "Como era de esperar, el porcentaje de acierto en test es menor que en el de entrenamiento, pero aun así, es un porcentaje muy alto en ambos. Esto indica que el entrenamiento ha sido satisfactorio y no ha sobreaprendido, ya que el porcentaje del test es similar al de entrenamiento.\n",
    "\n",
    "Parece que tenemos un clasificador muy bueno."
   ]
  },
  {
   "cell_type": "code",
   "execution_count": 23,
   "metadata": {},
   "outputs": [
    {
     "name": "stdout",
     "output_type": "stream",
     "text": [
      "               precision    recall  f1-score   support\n",
      "\n",
      "     business       0.97      0.97      0.97        73\n",
      "entertainment       1.00      0.97      0.98        61\n",
      "     politics       0.95      0.98      0.97        60\n",
      "        sport       1.00      0.98      0.99        61\n",
      "         tech       0.98      1.00      0.99        43\n",
      "\n",
      "     accuracy                           0.98       298\n",
      "    macro avg       0.98      0.98      0.98       298\n",
      " weighted avg       0.98      0.98      0.98       298\n",
      "\n"
     ]
    }
   ],
   "source": [
    "from sklearn.metrics import classification_report, confusion_matrix\n",
    "\n",
    "# NOTA: Aquí elegimos analizar un determinado clasificador y sus predicciones \n",
    "# Por ejemplo el naive bayes\n",
    "classifier  = mnb_classifier\n",
    "predictions = mnb_test_predictions\n",
    "\n",
    "print(classification_report(bbc_test['Category'], predictions, target_names= np.unique(bbc_test['Category'].values)))"
   ]
  },
  {
   "cell_type": "markdown",
   "metadata": {},
   "source": [
    "La precisión nos indica que si todos los documentos que nos recupera de una cierta categoría, realmente pertenecen a esa categoría. En todas las categorías, observamos que la precisión ronda alrededor de 0.98, lo cual es un valor muy alto. Esto nos indica que el clasificador ha sido capaz de encontrar rasgos distintivos con los que poder diferenciar los textos.\n",
    "\n",
    "El recall nos indica el porcentaje de documentos que se recuperan de una cierta categoría. De nuevo, el valor medio del recall es 0.98, un valor muy alto. Esto nos indica que los textos se confunden poco entre sí, y el clasificador rara vez le asigna a un documento una categoría que no le corresponde.\n",
    "\n",
    "El F1 es la media armónica entre la precisión y la exhaustividad. Una vez más, el valor medio es 0.98. Al ser los valores de precisión y exhaustividad muy altos, el F1 también lo va a ser."
   ]
  },
  {
   "cell_type": "markdown",
   "metadata": {},
   "source": [
    "##### Confusion Matrix"
   ]
  },
  {
   "cell_type": "code",
   "execution_count": 24,
   "metadata": {},
   "outputs": [
    {
     "data": {
      "text/plain": [
       "(array([0.5, 1.5, 2.5, 3.5, 4.5]),\n",
       " [Text(0.5, 0, 'business'),\n",
       "  Text(1.5, 0, 'entertainment'),\n",
       "  Text(2.5, 0, 'politics'),\n",
       "  Text(3.5, 0, 'sport'),\n",
       "  Text(4.5, 0, 'tech')])"
      ]
     },
     "execution_count": 24,
     "metadata": {},
     "output_type": "execute_result"
    },
    {
     "data": {
      "image/png": "[encoded data removed]",
      "text/plain": [
       "<Figure size 1080x720 with 2 Axes>"
      ]
     },
     "metadata": {
      "needs_background": "light"
     },
     "output_type": "display_data"
    }
   ],
   "source": [
    "%matplotlib inline\n",
    "import pandas as pd\n",
    "import seaborn as sn\n",
    "import matplotlib.pyplot as plt\n",
    "\n",
    "conf_matrix = confusion_matrix(bbc_test['Category'], predictions)\n",
    "conf_matrix_df = pd.DataFrame(conf_matrix, index=np.unique(bbc_test['Category'].values), columns=np.unique(bbc_test['Category'].values))\n",
    "\n",
    "plt.figure(figsize=(15, 10))\n",
    "sn.heatmap(conf_matrix_df, annot=True, vmin=0, vmax=conf_matrix.max(), fmt='d', cmap=\"YlGnBu\")\n",
    "plt.yticks(rotation=0)\n",
    "plt.xticks(rotation=90)"
   ]
  },
  {
   "cell_type": "markdown",
   "metadata": {},
   "source": [
    "Como ya habíamos visto, tenemos un clasificador que confunde muy poco las noticias. Vemos que la diagonal de la matriz está muy poblada, con la mayoría de los textos clasificados correctamente. En cuanto al resto, prácticamente no hay confusiones, salvo 6 textos de casi 300 que hay en total. La mayor confusión que presenta el clasificador (que solo son 2) son los textos de `politics`, que los clasifica como `entertainment`."
   ]
  },
  {
   "cell_type": "markdown",
   "metadata": {},
   "source": [
    "##### k-NN"
   ]
  },
  {
   "cell_type": "code",
   "execution_count": 25,
   "metadata": {},
   "outputs": [
    {
     "name": "stdout",
     "output_type": "stream",
     "text": [
      "k-NN, porcentaje de aciertos en entrenamiento: 0.6786912751677853\n",
      "k-NN, porcentaje de aciertos en test: 0.5704697986577181\n"
     ]
    }
   ],
   "source": [
    "from sklearn import neighbors\n",
    "\n",
    "knn_classifier = neighbors.KNeighborsClassifier()\n",
    "knn_classifier.fit(train_vector_data, bbc_train['Category'])\n",
    "\n",
    "knn_train_predictions = knn_classifier.predict(train_vector_data)\n",
    "knn_test_predictions = knn_classifier.predict(test_vector_data)\n",
    "\n",
    "print(\"k-NN, porcentaje de aciertos en entrenamiento:\", np.mean(knn_train_predictions == bbc_train['Category'].values))\n",
    "print(\"k-NN, porcentaje de aciertos en test:\", np.mean(knn_test_predictions == bbc_test['Category'].values))"
   ]
  },
  {
   "cell_type": "markdown",
   "metadata": {},
   "source": [
    "Al estár usando los parámetros por defecto es probable que podamos ajustarlo para que nos devuelva mejorar porcentajes, ya que son bastante bajos.\n",
    "\n",
    "Aun así, podemos decir que esto se debe a que el clasificador k-NN sufre de la maldición de dimensionalidad e intenta buscar vecinos en un espacio de dimensiones muy elevado y poco poblado. (en nuestro caso, 22201 dimensiones). Por esto, este clasificador no es una técnica adecuada para estos casos."
   ]
  },
  {
   "cell_type": "markdown",
   "metadata": {},
   "source": [
    "## 3) Representación basada en word-embeddings\n",
    "\n",
    "La segunda vectorización que vamos a usar representará los mensajes usando word-embeddings. Cada documento se representará como el vector que resulta de promediar los embeddings de cada una de sus palabras. Al igual que en el apartado anterior, usaremos monogramas y las _stop words_ que vienen configuradas por defecto para el inglés. Recuerda usar como vocabulario para vectorizar el vocabulario del fichero con las word-embeddings. \n",
    "\n",
    "Entrena un clasificador Naive Bayes Gaussiano (el Multinomial no admite valores negativos que sí aparecen en los embeddings). Analiza el error por clase y dibuja la matriz de confusión.\n",
    "\n",
    "Entrena otro clasificador kNN con la nueva vectorización y la configuración por defecto y analiza su error."
   ]
  },
  {
   "cell_type": "code",
   "execution_count": 26,
   "metadata": {},
   "outputs": [],
   "source": [
    "from gensim.scripts.glove2word2vec import glove2word2vec\n",
    "from gensim.models import KeyedVectors\n",
    "\n",
    "# Traducimos el fichero glove a un fichero con formato word2vec\n",
    "glove_file = 'glove.6B.50d.txt'\n",
    "\n",
    "# Gensim 4 puede transformar de glove a word2vec directamente\n",
    "model = KeyedVectors.load_word2vec_format(glove_file, binary=False, no_header=True)"
   ]
  },
  {
   "cell_type": "code",
   "execution_count": 27,
   "metadata": {},
   "outputs": [],
   "source": [
    "we_vocabulary = list(model.key_to_index.keys())"
   ]
  },
  {
   "cell_type": "code",
   "execution_count": 28,
   "metadata": {},
   "outputs": [],
   "source": [
    "vectorizer_emb = CountVectorizer(vocabulary = we_vocabulary, stop_words='english', binary=False, ngram_range = (1,1))"
   ]
  },
  {
   "cell_type": "code",
   "execution_count": 29,
   "metadata": {},
   "outputs": [],
   "source": [
    "train_vector_data_emb = vectorizer_emb.fit_transform(bbc_train['Text'])"
   ]
  },
  {
   "cell_type": "code",
   "execution_count": 30,
   "metadata": {},
   "outputs": [],
   "source": [
    "# Tomamos los textos del conjunto de test y los transformamos en una matriz\n",
    "# de palabras. Al usar \"transform\" toma como referencia únicamente las palabras\n",
    "# encontradas en el conjunto de entrenamiento\n",
    "test_vector_data_emb = vectorizer_emb.transform(bbc_test['Text'])"
   ]
  },
  {
   "cell_type": "markdown",
   "metadata": {},
   "source": [
    "##### GaussianNB"
   ]
  },
  {
   "cell_type": "markdown",
   "metadata": {},
   "source": [
    "Vamos a usar un `chunk_size` de exactamente de 149. Hemos escogido este tamaño para que cuando haga la división en los diferentes chunks no deje ningún texto fuera."
   ]
  },
  {
   "cell_type": "code",
   "execution_count": 31,
   "metadata": {},
   "outputs": [],
   "source": [
    "from sklearn.naive_bayes import GaussianNB\n",
    "\n",
    "gnb_classifier = GaussianNB()\n",
    "\n",
    "chunk_size=149\n",
    "num_rows=len(bbc_train['Category'])\n",
    "\n",
    "for i in range(0, (num_rows//chunk_size)):\n",
    "    train_chunk = train_vector_data_emb[i*chunk_size : (i+1)*chunk_size,:].toarray()\n",
    "    target_chunk = bbc_train['Category'][i*chunk_size : (i+1)*chunk_size]\n",
    "    gnb_classifier.partial_fit(train_chunk, target_chunk, classes=np.unique(bbc_train['Category'].values))"
   ]
  },
  {
   "cell_type": "code",
   "execution_count": 32,
   "metadata": {},
   "outputs": [
    {
     "name": "stdout",
     "output_type": "stream",
     "text": [
      "Gaussian Naive Bayes, porcentaje de aciertos en entrenamiento: 1.0\n",
      "Gaussian Naive Bayes, porcentaje de aciertos en test: 0.8993288590604027\n"
     ]
    }
   ],
   "source": [
    "# Creamos los arrays antes para ser más eficiente (crea el array grande y luego lo rellena)\n",
    "gnb_train_predictions=np.zeros_like(bbc_train['Category'].values)\n",
    "gnb_test_predictions=np.zeros_like(bbc_test['Category'].values)\n",
    "\n",
    "for i in range(0, (num_rows//chunk_size)):\n",
    "    train_chunk = train_vector_data_emb[i*chunk_size : (i+1)*chunk_size,:].toarray()\n",
    "    gnb_train_predictions[i*chunk_size : (i+1)*chunk_size] = gnb_classifier.predict(train_chunk)\n",
    "    \n",
    "num_rows=len(bbc_test['Category'])\n",
    "for i in range(0, (num_rows//chunk_size)):\n",
    "    test_chunk = test_vector_data_emb[i*chunk_size : (i+1)*chunk_size,:].toarray()\n",
    "    gnb_test_predictions[i*chunk_size : (i+1)*chunk_size] = gnb_classifier.predict(test_chunk)\n",
    "\n",
    "print(\"Gaussian Naive Bayes, porcentaje de aciertos en entrenamiento:\", np.mean(gnb_train_predictions == bbc_train['Category'].values))\n",
    "print(\"Gaussian Naive Bayes, porcentaje de aciertos en test:\", np.mean(gnb_test_predictions == bbc_test['Category'].values))"
   ]
  },
  {
   "cell_type": "code",
   "execution_count": 33,
   "metadata": {},
   "outputs": [
    {
     "data": {
      "text/plain": [
       "<AxesSubplot:ylabel='Density'>"
      ]
     },
     "execution_count": 33,
     "metadata": {},
     "output_type": "execute_result"
    },
    {
     "data": {
      "image/png": "[encoded data removed]",
      "text/plain": [
       "<Figure size 432x288 with 1 Axes>"
      ]
     },
     "metadata": {
      "needs_background": "light"
     },
     "output_type": "display_data"
    },
    {
     "data": {
      "image/png": "[encoded data removed]",
      "text/plain": [
       "<Figure size 432x288 with 1 Axes>"
      ]
     },
     "metadata": {
      "needs_background": "light"
     },
     "output_type": "display_data"
    },
    {
     "data": {
      "image/png": "[encoded data removed]",
      "text/plain": [
       "<Figure size 432x288 with 1 Axes>"
      ]
     },
     "metadata": {
      "needs_background": "light"
     },
     "output_type": "display_data"
    }
   ],
   "source": [
    "import pandas as pd\n",
    "\n",
    "term=pd.DataFrame(data= train_vector_data_emb[:,865].toarray(), columns=[feature_names[865]])\n",
    "term.plot.density()\n",
    "\n",
    "term=pd.DataFrame(data= train_vector_data_emb[:,1215].toarray(), columns=[feature_names[1215]])\n",
    "term.plot.density()\n",
    "\n",
    "term=pd.DataFrame(data= train_vector_data_emb[:,2385].toarray(), columns=[feature_names[2385]])\n",
    "term.plot.density()"
   ]
  },
  {
   "cell_type": "markdown",
   "metadata": {},
   "source": [
    "Observamos que este clasificador da unos porcentajes de aciertos bastante altos. Aunque tampoco podemos fiarnos mucho de este clasificador, ya que los valores que tienen los términos en los documentos no siguen una distribución normal, si no que asimétricas hacia la derecha, como podemos ver en las gráficas."
   ]
  },
  {
   "cell_type": "code",
   "execution_count": 34,
   "metadata": {},
   "outputs": [
    {
     "name": "stdout",
     "output_type": "stream",
     "text": [
      "               precision    recall  f1-score   support\n",
      "\n",
      "     business       0.90      0.86      0.88        73\n",
      "entertainment       0.90      0.87      0.88        61\n",
      "     politics       0.90      0.87      0.88        60\n",
      "        sport       0.97      0.98      0.98        61\n",
      "         tech       0.82      0.93      0.87        43\n",
      "\n",
      "     accuracy                           0.90       298\n",
      "    macro avg       0.90      0.90      0.90       298\n",
      " weighted avg       0.90      0.90      0.90       298\n",
      "\n"
     ]
    }
   ],
   "source": [
    "from sklearn.metrics import classification_report, confusion_matrix\n",
    "\n",
    "# NOTA: Aquí elegimos analizar un determinado clasificador y sus predicciones \n",
    "# Por ejemplo el naive bayes\n",
    "classifier_emb=gnb_classifier\n",
    "predictions_emb = gnb_test_predictions\n",
    "\n",
    "print(classification_report(bbc_test['Category'], predictions_emb, target_names= np.unique(bbc_test['Category'].values)))"
   ]
  },
  {
   "cell_type": "markdown",
   "metadata": {},
   "source": [
    "Observando la tabla, vemos que la categoría `sport` es la que mayor tasa de aciertos tiene, mientras que las otras más o menos tienen los mismos valores. Aun así los resultados no son igual de buenos que con el otro vectorizador que usamos, ya que el Naive Gaussiano, al no seguir los valores una distribución normal, no es un buen clasificador."
   ]
  },
  {
   "cell_type": "markdown",
   "metadata": {},
   "source": [
    "##### Confusion Matrix"
   ]
  },
  {
   "cell_type": "code",
   "execution_count": 35,
   "metadata": {},
   "outputs": [
    {
     "data": {
      "text/plain": [
       "(array([0.5, 1.5, 2.5, 3.5, 4.5]),\n",
       " [Text(0.5, 0, 'business'),\n",
       "  Text(1.5, 0, 'entertainment'),\n",
       "  Text(2.5, 0, 'politics'),\n",
       "  Text(3.5, 0, 'sport'),\n",
       "  Text(4.5, 0, 'tech')])"
      ]
     },
     "execution_count": 35,
     "metadata": {},
     "output_type": "execute_result"
    },
    {
     "data": {
      "image/png": "[encoded data removed]",
      "text/plain": [
       "<Figure size 1080x720 with 2 Axes>"
      ]
     },
     "metadata": {
      "needs_background": "light"
     },
     "output_type": "display_data"
    }
   ],
   "source": [
    "%matplotlib inline\n",
    "import pandas as pd\n",
    "import seaborn as sn\n",
    "import matplotlib.pyplot as plt\n",
    "\n",
    "conf_matrix_emb = confusion_matrix(bbc_test['Category'], predictions_emb)\n",
    "conf_matrix_df_emb = pd.DataFrame(conf_matrix_emb, index=np.unique(bbc_test['Category'].values), columns=np.unique(bbc_test['Category'].values))\n",
    "\n",
    "plt.figure(figsize=(15, 10))\n",
    "sn.heatmap(conf_matrix_df_emb, annot=True, vmin=0, vmax=conf_matrix_emb.max(), fmt='d', cmap=\"YlGnBu\")\n",
    "plt.yticks(rotation=0)\n",
    "plt.xticks(rotation=90)"
   ]
  },
  {
   "cell_type": "markdown",
   "metadata": {},
   "source": [
    "Como habíamos visto, el número de textos que confunde este clasificador es mayor que los del anterior. Vemos que las clases que más confunde son `politics` con `business`, `entertainment` con `tech` y `business` con `tech`."
   ]
  },
  {
   "cell_type": "markdown",
   "metadata": {},
   "source": [
    "##### k-NN"
   ]
  },
  {
   "cell_type": "code",
   "execution_count": 36,
   "metadata": {},
   "outputs": [
    {
     "name": "stdout",
     "output_type": "stream",
     "text": [
      "k-NN, porcentaje de aciertos en entrenamiento: 0.6845637583892618\n",
      "k-NN, porcentaje de aciertos en test: 0.5771812080536913\n"
     ]
    }
   ],
   "source": [
    "from sklearn import neighbors\n",
    "\n",
    "knn_classifier_emb = neighbors.KNeighborsClassifier()\n",
    "knn_classifier_emb.fit(train_vector_data_emb, bbc_train['Category'])\n",
    "\n",
    "knn_train_predictions_emb = knn_classifier_emb.predict(train_vector_data_emb)\n",
    "knn_test_predictions_emb = knn_classifier_emb.predict(test_vector_data_emb)\n",
    "\n",
    "print(\"k-NN, porcentaje de aciertos en entrenamiento:\", np.mean(knn_train_predictions_emb == bbc_train['Category'].values))\n",
    "print(\"k-NN, porcentaje de aciertos en test:\", np.mean(knn_test_predictions_emb == bbc_test['Category'].values))"
   ]
  },
  {
   "cell_type": "markdown",
   "metadata": {},
   "source": [
    "Vemos que los resultados de este k-NN son muy parecidos a los que obtenimos con el primer vectorizador con el k-NN. Podemos decir lo mismo que en el primer vectorizador: este clasificador no es bueno en este caso, ya que sufre de maldición de dimesionalidad."
   ]
  },
  {
   "cell_type": "markdown",
   "metadata": {},
   "source": [
    "## 4) Análisis comparativo final\n",
    "\n",
    "Hemos entrenado dos clasificadores usando dos vectorizaciones diferentes de los datos. Compara la tasa de acierto de todos ellos y explica a qué crees que se deben las diferencias.\n",
    "\n",
    "Busca un mensaje mal clasificado por el Naive Bayes con vectorización de frecuencias y otro mal clasificado por el k-NN con Word-embeddings. Analiza los vectores de términos de dichos mensajes e intenta razonar por qué ha sido clasificado erróneamente.\n",
    "\n",
    "Para el Naive Bayes con vectorización de frecuencias, elige dos clases donde el clasificador no haya funcionado bien y analiza las palabras más relevantes para clasificar una noticia como de dichas clases. Razona si lo que ves crees que influye en la posible confusión a la hora de clasificar entre dichas clases."
   ]
  },
  {
   "cell_type": "code",
   "execution_count": 37,
   "metadata": {},
   "outputs": [
    {
     "data": {
      "text/plain": [
       "array([ True, False, False, False, False, False, False, False, False,\n",
       "       False, False, False, False, False, False, False, False, False,\n",
       "       False, False, False, False, False, False, False, False, False,\n",
       "       False, False, False, False, False, False, False, False, False,\n",
       "       False, False, False, False, False, False, False, False, False,\n",
       "       False, False, False, False, False, False, False, False,  True,\n",
       "       False, False, False, False, False, False, False, False, False,\n",
       "       False, False, False, False, False, False, False, False, False,\n",
       "       False, False, False, False, False, False, False, False, False,\n",
       "       False, False, False, False, False, False, False, False, False,\n",
       "       False, False, False, False, False, False, False, False, False,\n",
       "       False, False, False, False, False, False, False, False, False,\n",
       "       False, False, False, False, False, False, False, False, False,\n",
       "       False, False, False, False, False, False, False,  True, False,\n",
       "       False, False, False, False, False, False, False, False, False,\n",
       "       False, False, False, False, False, False, False, False, False,\n",
       "       False, False, False, False, False, False, False, False, False,\n",
       "       False, False, False, False, False, False, False, False, False,\n",
       "       False, False, False, False, False, False, False, False, False,\n",
       "       False, False, False, False, False, False, False, False, False,\n",
       "       False, False, False, False, False, False, False, False, False,\n",
       "       False, False, False, False, False, False, False, False, False,\n",
       "       False, False, False, False, False, False, False, False, False,\n",
       "       False,  True, False, False, False, False, False, False, False,\n",
       "       False, False, False, False, False, False, False, False, False,\n",
       "       False, False, False, False, False, False, False, False, False,\n",
       "       False, False, False, False, False, False, False, False, False,\n",
       "       False, False, False, False, False, False, False, False, False,\n",
       "       False, False, False, False, False, False, False, False, False,\n",
       "       False, False, False, False, False, False, False, False, False,\n",
       "       False, False, False, False, False, False, False, False, False,\n",
       "        True, False, False, False, False, False, False, False, False,\n",
       "       False, False,  True, False, False, False, False, False, False,\n",
       "       False])"
      ]
     },
     "execution_count": 37,
     "metadata": {},
     "output_type": "execute_result"
    }
   ],
   "source": [
    "mnb_test_predictions != bbc_test['Category'].values"
   ]
  },
  {
   "cell_type": "code",
   "execution_count": 38,
   "metadata": {},
   "outputs": [
    {
     "data": {
      "text/plain": [
       "'politics'"
      ]
     },
     "execution_count": 38,
     "metadata": {},
     "output_type": "execute_result"
    }
   ],
   "source": [
    "mnb_test_predictions[0]"
   ]
  },
  {
   "cell_type": "code",
   "execution_count": 39,
   "metadata": {},
   "outputs": [
    {
     "data": {
      "text/plain": [
       "'entertainment'"
      ]
     },
     "execution_count": 39,
     "metadata": {},
     "output_type": "execute_result"
    }
   ],
   "source": [
    "bbc_test['Category'].values[0]"
   ]
  },
  {
   "cell_type": "code",
   "execution_count": 40,
   "metadata": {},
   "outputs": [
    {
     "data": {
      "text/plain": [
       "'tv show unites angolan families angolan families who are attempting to track each other down  after being separated by nearly 30 years of war  are succeeding thanks to a hugely popular tv show.  meeting point has become one of tv angola s most watched programmes  and has reunited hundreds of families. it runs daily  not only on the television but also on the radio. every friday  hundreds of people gather in luanda s independence square to record a message in front of the tv cameras  in the hope that a lost relative will see it. many relatives have been reunited on air.  at the beginning there was an absolute explosion - huge  huge crowds   sergio gera  the programme s chief co-ordinator  told bbc world service s assignment programme.  now things are a little calmer  there are slightly less people - but  after two and a half years of broadcasting  there are still a lot of people going.   the media in the southern african country  twice the size of france  has been gripped by the quest of so many people to find their relatives. hundreds of thousands of people died in angola s 30-year civil war  which finally ended in 2002  and tens of thousands of people are still missing. many have not heard anything for 10 or more years - in all  90% of angolan families have lost someone.  the idea of recording in independence square was modelled on a square in the argentine capital buenos aries  where mothers go to talk about the dead and the missing  and to exchange news. one woman  victoria lapete  found her sister - the only remaining member of her family - in independence square live on meeting point. she had not seen her sibling for 28 years.  when we saw each other  we threw ourselves into each other s arms   she told assignment.  we started to cry. i felt very  very happy  because i d spent so long without any family. suddenly i had a sister again.  however  angola is one of the poorest countries in africa  and the number of people with access to either a television or radio is comparatively few. this means that elsewhere in the country  the task of reuniting families lies primarily with the international committee of the red cross (icrc). in the city of wambo  the icrc runs the gazetta - a 200-page  tabloid-size book which contains 13 000 names of missing or displaced.  their task is made much harder by the huge number of landmines dotted around the country.  it s very difficult - there are many displaced   stated joaquim sahundi  head of tracing in wambo.   as they try to go back [home]  others are trying to relocate their relatives. many people are getting injured because of that - in the villages  in the bush  there has been no clearance of mines.  when people are crossing these areas  they step on mines.  the icrc also uses the media where it can  running four daily broadcasts of their lists of the missing on radio angola. meanwhile  there remain massive challenges to angolan families even once they are reunited.  the programme of family reunification is extremely important  but for these families to remain reunified  there has to be social integration  job access  education  healthcare   said rafael marques of the pro-democracy george soros foundation for southern africa.  essentially the government is waiting for the international community to pay for the reconstruction - that s why it has been persistently calling for a donor s conference. that is just a way of detaching itself from its political responsibilities.'"
      ]
     },
     "execution_count": 40,
     "metadata": {},
     "output_type": "execute_result"
    }
   ],
   "source": [
    "bbc_test['Text'].values[0]"
   ]
  },
  {
   "cell_type": "markdown",
   "metadata": {},
   "source": [
    "Este texto es un texto de `entretenimiento`, pero el Naive Bayes lo ha clasificado como `politics`. Esto es entendible ya que el texto trata sobre un programa de televisión en el que se habla sobre una guerra y sus consecuencias."
   ]
  },
  {
   "cell_type": "code",
   "execution_count": 41,
   "metadata": {},
   "outputs": [
    {
     "name": "stdout",
     "output_type": "stream",
     "text": [
      "Mensaje 0 : tv show unites angolan families angolan families who are attempting to track each other down  after being separated by nearly 30 years of war  are succeeding thanks to a hugely popular tv show.  meeting point has become one of tv angola s most watched programmes  and has reunited hundreds of families. it runs daily  not only on the television but also on the radio. every friday  hundreds of people gather in luanda s independence square to record a message in front of the tv cameras  in the hope that a lost relative will see it. many relatives have been reunited on air.  at the beginning there was an absolute explosion - huge  huge crowds   sergio gera  the programme s chief co-ordinator  told bbc world service s assignment programme.  now things are a little calmer  there are slightly less people - but  after two and a half years of broadcasting  there are still a lot of people going.   the media in the southern african country  twice the size of france  has been gripped by the quest of so many people to find their relatives. hundreds of thousands of people died in angola s 30-year civil war  which finally ended in 2002  and tens of thousands of people are still missing. many have not heard anything for 10 or more years - in all  90% of angolan families have lost someone.  the idea of recording in independence square was modelled on a square in the argentine capital buenos aries  where mothers go to talk about the dead and the missing  and to exchange news. one woman  victoria lapete  found her sister - the only remaining member of her family - in independence square live on meeting point. she had not seen her sibling for 28 years.  when we saw each other  we threw ourselves into each other s arms   she told assignment.  we started to cry. i felt very  very happy  because i d spent so long without any family. suddenly i had a sister again.  however  angola is one of the poorest countries in africa  and the number of people with access to either a television or radio is comparatively few. this means that elsewhere in the country  the task of reuniting families lies primarily with the international committee of the red cross (icrc). in the city of wambo  the icrc runs the gazetta - a 200-page  tabloid-size book which contains 13 000 names of missing or displaced.  their task is made much harder by the huge number of landmines dotted around the country.  it s very difficult - there are many displaced   stated joaquim sahundi  head of tracing in wambo.   as they try to go back [home]  others are trying to relocate their relatives. many people are getting injured because of that - in the villages  in the bush  there has been no clearance of mines.  when people are crossing these areas  they step on mines.  the icrc also uses the media where it can  running four daily broadcasts of their lists of the missing on radio angola. meanwhile  there remain massive challenges to angolan families even once they are reunited.  the programme of family reunification is extremely important  but for these families to remain reunified  there has to be social integration  job access  education  healthcare   said rafael marques of the pro-democracy george soros foundation for southern africa.  essentially the government is waiting for the international community to pay for the reconstruction - that s why it has been persistently calling for a donor s conference. that is just a way of detaching itself from its political responsibilities.\n",
      "Mensaje 0 vectorizado: ['000' '10' '13' '200' '2002' '28' '30' '90' 'absolute' 'access' 'africa'\n",
      " 'african' 'air' 'angola' 'areas' 'argentine' 'arms' 'attempting' 'bbc'\n",
      " 'beginning' 'book' 'broadcasting' 'broadcasts' 'buenos' 'bush' 'calling'\n",
      " 'calmer' 'cameras' 'capital' 'challenges' 'chief' 'city' 'civil'\n",
      " 'clearance' 'committee' 'community' 'comparatively' 'conference'\n",
      " 'contains' 'countries' 'country' 'cross' 'crossing' 'crowds' 'daily'\n",
      " 'dead' 'democracy' 'died' 'difficult' 'displaced' 'donor' 'dotted'\n",
      " 'education' 'ended' 'essentially' 'exchange' 'explosion' 'extremely'\n",
      " 'families' 'family' 'felt' 'finally' 'foundation' 'france' 'friday'\n",
      " 'gather' 'george' 'getting' 'going' 'government' 'half' 'happy' 'harder'\n",
      " 'head' 'healthcare' 'heard' 'home' 'hope' 'huge' 'hugely' 'hundreds'\n",
      " 'idea' 'important' 'independence' 'injured' 'integration' 'international'\n",
      " 'job' 'just' 'lies' 'lists' 'little' 'live' 'long' 'lost' 'lot' 'marques'\n",
      " 'massive' 'means' 'media' 'meeting' 'member' 'message' 'mines' 'missing'\n",
      " 'modelled' 'mothers' 'names' 'nearly' 'news' 'number' 'ordinator' 'page'\n",
      " 'pay' 'people' 'point' 'political' 'poorest' 'popular' 'primarily' 'pro'\n",
      " 'programme' 'programmes' 'quest' 'radio' 'rafael' 'reconstruction'\n",
      " 'record' 'recording' 'red' 'relative' 'relatives' 'remain' 'remaining'\n",
      " 'responsibilities' 'reunited' 'reuniting' 'running' 'runs' 'said' 'saw'\n",
      " 'seen' 'separated' 'sergio' 'service' 'sister' 'size' 'slightly' 'social'\n",
      " 'soros' 'southern' 'spent' 'square' 'started' 'stated' 'step'\n",
      " 'succeeding' 'suddenly' 'tabloid' 'talk' 'task' 'television' 'tens'\n",
      " 'thanks' 'things' 'thousands' 'threw' 'told' 'tracing' 'track' 'try'\n",
      " 'trying' 'tv' 'twice' 'unites' 'uses' 'victoria' 'villages' 'waiting'\n",
      " 'war' 'watched' 'way' 'woman' 'world' 'year' 'years'] \n",
      "\n"
     ]
    }
   ],
   "source": [
    "write_terms(feature_names, bbc_test['Text'].values, test_vector_data, 0)"
   ]
  },
  {
   "cell_type": "markdown",
   "metadata": {},
   "source": [
    "En el mensaje vectorizado vemos palabras como independence, democracy, war, community, poorest o political. Estas palabras son claramente pertenecietes al tema de `politics`."
   ]
  },
  {
   "cell_type": "code",
   "execution_count": 42,
   "metadata": {},
   "outputs": [
    {
     "data": {
      "text/plain": [
       "array([ True, False, False,  True, False, False, False, False,  True,\n",
       "        True, False,  True, False, False, False,  True,  True,  True,\n",
       "       False, False, False,  True, False,  True, False, False,  True,\n",
       "       False, False, False, False, False, False,  True, False, False,\n",
       "       False, False, False,  True, False, False, False,  True,  True,\n",
       "        True,  True,  True,  True, False, False, False,  True,  True,\n",
       "       False, False,  True, False,  True, False,  True, False, False,\n",
       "        True, False, False, False, False, False,  True, False, False,\n",
       "       False, False, False, False, False, False,  True, False, False,\n",
       "        True, False, False, False,  True, False,  True,  True, False,\n",
       "       False,  True, False, False,  True, False, False, False, False,\n",
       "       False, False,  True, False,  True,  True, False, False,  True,\n",
       "        True, False,  True, False, False,  True, False, False, False,\n",
       "       False, False,  True, False,  True, False,  True, False,  True,\n",
       "        True,  True,  True,  True,  True,  True,  True, False, False,\n",
       "       False, False, False,  True, False, False, False,  True, False,\n",
       "        True, False, False, False,  True,  True, False,  True,  True,\n",
       "        True,  True,  True,  True,  True, False, False, False, False,\n",
       "        True, False,  True,  True,  True, False,  True, False,  True,\n",
       "        True, False, False, False, False,  True,  True, False,  True,\n",
       "        True, False, False, False,  True, False,  True,  True, False,\n",
       "       False,  True,  True, False,  True,  True, False, False,  True,\n",
       "       False, False,  True,  True, False, False, False, False, False,\n",
       "       False,  True, False,  True,  True, False, False, False, False,\n",
       "       False,  True,  True, False, False,  True, False,  True, False,\n",
       "       False,  True,  True,  True,  True, False, False, False,  True,\n",
       "       False,  True, False,  True, False,  True, False, False,  True,\n",
       "        True, False,  True, False, False,  True, False,  True, False,\n",
       "       False,  True,  True,  True, False, False,  True,  True, False,\n",
       "       False, False, False,  True,  True, False,  True,  True, False,\n",
       "       False,  True, False, False, False, False,  True,  True, False,\n",
       "        True,  True,  True, False, False, False, False, False,  True,\n",
       "       False,  True,  True,  True, False,  True,  True, False, False,\n",
       "        True])"
      ]
     },
     "execution_count": 42,
     "metadata": {},
     "output_type": "execute_result"
    }
   ],
   "source": [
    "knn_test_predictions_emb != bbc_test['Category'].values"
   ]
  },
  {
   "cell_type": "code",
   "execution_count": 43,
   "metadata": {},
   "outputs": [
    {
     "name": "stdout",
     "output_type": "stream",
     "text": [
      "Mensaje 11 : us airways staff agree to pay cut a union representing 5 200 flight attendants at bankrupt us airways have agreed to a new contract that cuts pay by nearly 10%.  the deal will help the carrier  trying to survive by cutting costs by nearly $1bn (£530m) a year  save about $94m. more than two thirds of its 28 000 staff have now accepted wage cuts. but talks are still continuing with a union representing mechanics  baggage handlers and cleaners  which has so far failed to negotiate a new contract. the seventh largest carrier in the us sought bankruptcy protection for a second time in two years last september. it had been one of the quickest to deal with difficulties faced by the aviation industry after the 9/11 attacks in 2001. but it emerged from chapter 11 bankruptcy in march 2003 to face competition from low-cost carriers and higher fuel costs. us airways management has said it may need to start liquidating assets if it does not receive concessions from all staff by the middle of this month.\n",
      "Mensaje 11 vectorizado: ['said' 'new' 'year' 'time' 'years' 'second' '10' 'month' 'does' 'help'\n",
      " 'march' 'union' 'talks' 'far' 'need' '11' 'deal' 'september' 'industry'\n",
      " 'start' 'largest' 'attacks' 'nearly' 'trying' 'higher' 'cut' 'face' 'pay'\n",
      " 'low' 'middle' 'agreed' 'cost' '2001' '2003' 'staff' 'management'\n",
      " 'failed' 'contract' 'competition' '28' 'costs' 'flight' '200' 'fuel'\n",
      " 'protection' 'receive' 'cuts' 'save' 'sought' 'assets' 'faced' 'accepted'\n",
      " 'agree' 'continuing' 'seventh' 'cutting' 'representing' 'aviation'\n",
      " 'emerged' 'bankruptcy' 'carrier' 'chapter' 'survive' 'wage'\n",
      " 'difficulties' 'negotiate' 'thirds' 'carriers' 'airways' 'concessions'\n",
      " 'mechanics' 'bankrupt' 'baggage' 'attendants' '000' 'handlers' 'quickest'\n",
      " 'cleaners' 'liquidating' '1bn'] \n",
      "\n"
     ]
    }
   ],
   "source": [
    "write_terms(vectorizer_emb.get_feature_names(), bbc_test['Text'].values, test_vector_data_emb, 11)"
   ]
  },
  {
   "cell_type": "code",
   "execution_count": 44,
   "metadata": {},
   "outputs": [
    {
     "data": {
      "text/plain": [
       "'business'"
      ]
     },
     "execution_count": 44,
     "metadata": {},
     "output_type": "execute_result"
    }
   ],
   "source": [
    "bbc_test['Category'].values[11]"
   ]
  },
  {
   "cell_type": "code",
   "execution_count": 45,
   "metadata": {},
   "outputs": [
    {
     "data": {
      "text/plain": [
       "'sport'"
      ]
     },
     "execution_count": 45,
     "metadata": {},
     "output_type": "execute_result"
    }
   ],
   "source": [
    "knn_test_predictions_emb[11]"
   ]
  },
  {
   "cell_type": "markdown",
   "metadata": {},
   "source": [
    "Vemos que este texto es realmente es de la categoría `business`, mientras que el clasificador lo clasifica como `sport`. Podemos suponer que esta confusión se puede deber a palabras presentes en el texto como: attacks, middle, management, competition, contract o carriers."
   ]
  },
  {
   "cell_type": "markdown",
   "metadata": {},
   "source": [
    "Podemos pensar que lo ha confundido por palabras como controller, demo, broadcasts, digital, electronic o legacy."
   ]
  },
  {
   "cell_type": "code",
   "execution_count": 46,
   "metadata": {},
   "outputs": [],
   "source": [
    "def print_top20_features_per_class_in_NB(vectorizer, clf, class_labels):\n",
    "    \"\"\"Prints features with the highest coefficient values, per class\"\"\"\n",
    "    feature_names = vectorizer.get_feature_names()\n",
    "    print(\"Top 20 features per class\\n\")\n",
    "    for i, class_label in enumerate(class_labels):\n",
    "        top20 = np.argsort(clf.feature_log_prob_[i])[-20:]\n",
    "        reversed_top = top20[::-1]\n",
    "        \n",
    "        print(\"%s: %s\" % (class_label,\n",
    "              \" / \".join(feature_names[j] for j in reversed_top)),'\\n')\n",
    "        \n",
    "        #Descomentar para ver el índice de los términos en el diccionario\n",
    "        #print(\"%s \" % (\" / \".join(str(j) for j in reversed_top)),'\\n')"
   ]
  },
  {
   "cell_type": "code",
   "execution_count": 47,
   "metadata": {},
   "outputs": [
    {
     "name": "stdout",
     "output_type": "stream",
     "text": [
      "Top 20 features per class\n",
      "\n",
      "business: said / year / mr / market / new / growth / firm / economy / company / government / bank / economic / 2004 / oil / sales / 000 / years / shares / world / prices \n",
      "\n",
      "entertainment: said / film / best / year / music / new / uk / awards / number / star / films / band / tv / award / won / actor / mr / director / chart / including \n",
      "\n",
      "politics: said / mr / labour / government / blair / election / people / party / minister / uk / new / brown / told / public / prime / plans / howard / britain / secretary / say \n",
      "\n",
      "sport: said / game / year / england / win / time / world / team / players / play / cup / new / second / half / ireland / just / won / final / good / match \n",
      "\n",
      "tech: said / people / new / mr / mobile / technology / software / users / use / games / net / year / music / digital / phone / like / make / service / computer / microsoft \n",
      "\n"
     ]
    }
   ],
   "source": [
    "print_top20_features_per_class_in_NB(vectorizer,mnb_classifier,np.unique(bbc_test['Category'].values))"
   ]
  },
  {
   "cell_type": "markdown",
   "metadata": {},
   "source": [
    "Vemos que `said` es la palabra más frecuente en todas las categorías. Esta es una palabra que va a conllevar a errores de clasificación, ya que es una palabra que no contiene un significado que la asocie a una categoría concreta."
   ]
  },
  {
   "cell_type": "markdown",
   "metadata": {},
   "source": [
    "Dos clases que se confunden más que las demás son `entertainment` y `politics`.\n",
    "En cuanto a entertainment: said, best, year, new, uk, number, including. Estás palabras no están nada relacionadas con la temática de entretenimiento. Estas palabras pueden afectar en aquellos documentos que el clasificador ha confundido.\n",
    "En cuanto a politics: said, party, new o say.\n",
    "\n",
    "Mr. es una palabra que vemos que aparece en ambas categorías en el top 10, por lo que podría ser una de las razones que estas dos clases se confundan.\n",
    "Said es una palabra que no tiene ningún tipo de relación con ninguna clase. Su aparición puede confundir al clasificador cuando no debería.\n",
    "2004 0 000 aparecen en business, y de nuevo puede hacer que se confunda esta clase, ya que una fecha concreta o un número no implica que pertenezca a una clase concreta.\n",
    "\n",
    "Estas palabras, como: uk, party, plans o said, pueden hacer que en algunos casos se confundan estas categorías."
   ]
  },
  {
   "cell_type": "code",
   "execution_count": null,
   "metadata": {},
   "outputs": [],
   "source": []
  }
 ],
 "metadata": {
  "kernelspec": {
   "display_name": "Python 3",
   "language": "python",
   "name": "python3"
  },
  "language_info": {
   "codemirror_mode": {
    "name": "ipython",
    "version": 3
   },
   "file_extension": ".py",
   "mimetype": "text/x-python",
   "name": "python",
   "nbconvert_exporter": "python",
   "pygments_lexer": "ipython3",
   "version": "3.8.8"
  }
 },
 "nbformat": 4,
 "nbformat_minor": 2
}
