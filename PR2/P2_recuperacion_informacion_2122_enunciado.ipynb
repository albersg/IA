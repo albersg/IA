{
 "cells": [
  {
   "cell_type": "markdown",
   "metadata": {
    "id": "jpd0gkGnpzXT"
   },
   "source": [
    "# Práctica 2: Procesamiento del Lenguaje Natural\n",
    "\n",
    "__Fecha de entrega: 17 de abril de 2022__\n",
    "\n",
    "El objetivo de esta práctica es aplicar los conceptos teóricos vistos en clase en el módulo de PLN. La práctica consta de 2 notebooks que se entregarán simultáneamente en la tarea de entrega habilitada en el Campus  Virtual.\n",
    "\n",
    "Lo más importante en esta práctica no es el código Python, sino el análisis de los datos y modelos que construyas y las explicaciones razonadas de cada una de las decisiones que tomes. __No se valorarán trozos de código o gráficas sin ningún tipo de contexto o explicación__.\n",
    "\n",
    "Finalmente, recuerda establecer el parámetro `random_state` en todas las funciones que tomen decisiones aleatorias para que los resultados sean reproducibles (los resultados no varíen entre ejecuciones)."
   ]
  },
  {
   "cell_type": "code",
   "execution_count": 1,
   "metadata": {
    "id": "IBx1oG6bpzXY"
   },
   "outputs": [],
   "source": [
    "RANDOM_STATE = 333"
   ]
  },
  {
   "cell_type": "markdown",
   "metadata": {
    "id": "TkJPtLPRpzXa"
   },
   "source": [
    "# Apartado 2: Recuperación de información"
   ]
  },
  {
   "cell_type": "markdown",
   "metadata": {
    "id": "RWQ9sB-ApzXc"
   },
   "source": [
    "__Número de grupo: G19__\n",
    "\n",
    "__Nombres de los estudiantes: SÁNCHEZ GÓMEZ, ALBERTO y CARPIO CUENCA, SARA__"
   ]
  },
  {
   "cell_type": "markdown",
   "metadata": {
    "id": "W1iFIS_EpzXc"
   },
   "source": [
    "## 1) Carga del conjunto de datos\n",
    "\n",
    "<blockquote>\n",
    "\n",
    "El fichero `BBC News.csv` contiene noticias clasificadas en 5 categorías diferentes. \n",
    "\n",
    "Carga los datos en un dataframe teniendo en cuenta que la columna `ArticleId` es un identificador de la noticia y por lo tanto no lo vamos a usar. \n",
    "\n",
    "Estudia el tamaño del conjunto de datos y la proporción de noticias que pertenecen a cada una de las categorías.\n",
    "\n",
    "Crea una partición estratificada de los datos dejando el 80% para entrenamiento y el 20% restante para test usando la función `train_test_split` de sklearn. \n",
    "</blockquote>"
   ]
  },
  {
   "cell_type": "code",
   "execution_count": 2,
   "metadata": {
    "id": "ufbBvGcnpzXe"
   },
   "outputs": [],
   "source": [
    "import pandas as pd"
   ]
  },
  {
   "cell_type": "code",
   "execution_count": 3,
   "metadata": {},
   "outputs": [
    {
     "data": {
      "text/html": [
       "<div>\n",
       "<style scoped>\n",
       "    .dataframe tbody tr th:only-of-type {\n",
       "        vertical-align: middle;\n",
       "    }\n",
       "\n",
       "    .dataframe tbody tr th {\n",
       "        vertical-align: top;\n",
       "    }\n",
       "\n",
       "    .dataframe thead th {\n",
       "        text-align: right;\n",
       "    }\n",
       "</style>\n",
       "<table border=\"1\" class=\"dataframe\">\n",
       "  <thead>\n",
       "    <tr style=\"text-align: right;\">\n",
       "      <th></th>\n",
       "      <th>ArticleId</th>\n",
       "      <th>Text</th>\n",
       "      <th>Category</th>\n",
       "    </tr>\n",
       "  </thead>\n",
       "  <tbody>\n",
       "    <tr>\n",
       "      <th>0</th>\n",
       "      <td>1833</td>\n",
       "      <td>worldcom ex-boss launches defence lawyers defe...</td>\n",
       "      <td>business</td>\n",
       "    </tr>\n",
       "    <tr>\n",
       "      <th>1</th>\n",
       "      <td>154</td>\n",
       "      <td>german business confidence slides german busin...</td>\n",
       "      <td>business</td>\n",
       "    </tr>\n",
       "    <tr>\n",
       "      <th>2</th>\n",
       "      <td>1101</td>\n",
       "      <td>bbc poll indicates economic gloom citizens in ...</td>\n",
       "      <td>business</td>\n",
       "    </tr>\n",
       "    <tr>\n",
       "      <th>3</th>\n",
       "      <td>1976</td>\n",
       "      <td>lifestyle  governs mobile choice  faster  bett...</td>\n",
       "      <td>tech</td>\n",
       "    </tr>\n",
       "    <tr>\n",
       "      <th>4</th>\n",
       "      <td>917</td>\n",
       "      <td>enron bosses in $168m payout eighteen former e...</td>\n",
       "      <td>business</td>\n",
       "    </tr>\n",
       "    <tr>\n",
       "      <th>...</th>\n",
       "      <td>...</td>\n",
       "      <td>...</td>\n",
       "      <td>...</td>\n",
       "    </tr>\n",
       "    <tr>\n",
       "      <th>1485</th>\n",
       "      <td>857</td>\n",
       "      <td>double eviction from big brother model caprice...</td>\n",
       "      <td>entertainment</td>\n",
       "    </tr>\n",
       "    <tr>\n",
       "      <th>1486</th>\n",
       "      <td>325</td>\n",
       "      <td>dj double act revamp chart show dj duo jk and ...</td>\n",
       "      <td>entertainment</td>\n",
       "    </tr>\n",
       "    <tr>\n",
       "      <th>1487</th>\n",
       "      <td>1590</td>\n",
       "      <td>weak dollar hits reuters revenues at media gro...</td>\n",
       "      <td>business</td>\n",
       "    </tr>\n",
       "    <tr>\n",
       "      <th>1488</th>\n",
       "      <td>1587</td>\n",
       "      <td>apple ipod family expands market apple has exp...</td>\n",
       "      <td>tech</td>\n",
       "    </tr>\n",
       "    <tr>\n",
       "      <th>1489</th>\n",
       "      <td>538</td>\n",
       "      <td>santy worm makes unwelcome visit thousands of ...</td>\n",
       "      <td>tech</td>\n",
       "    </tr>\n",
       "  </tbody>\n",
       "</table>\n",
       "<p>1490 rows × 3 columns</p>\n",
       "</div>"
      ],
      "text/plain": [
       "      ArticleId                                               Text  \\\n",
       "0          1833  worldcom ex-boss launches defence lawyers defe...   \n",
       "1           154  german business confidence slides german busin...   \n",
       "2          1101  bbc poll indicates economic gloom citizens in ...   \n",
       "3          1976  lifestyle  governs mobile choice  faster  bett...   \n",
       "4           917  enron bosses in $168m payout eighteen former e...   \n",
       "...         ...                                                ...   \n",
       "1485        857  double eviction from big brother model caprice...   \n",
       "1486        325  dj double act revamp chart show dj duo jk and ...   \n",
       "1487       1590  weak dollar hits reuters revenues at media gro...   \n",
       "1488       1587  apple ipod family expands market apple has exp...   \n",
       "1489        538  santy worm makes unwelcome visit thousands of ...   \n",
       "\n",
       "           Category  \n",
       "0          business  \n",
       "1          business  \n",
       "2          business  \n",
       "3              tech  \n",
       "4          business  \n",
       "...             ...  \n",
       "1485  entertainment  \n",
       "1486  entertainment  \n",
       "1487       business  \n",
       "1488           tech  \n",
       "1489           tech  \n",
       "\n",
       "[1490 rows x 3 columns]"
      ]
     },
     "execution_count": 3,
     "metadata": {},
     "output_type": "execute_result"
    }
   ],
   "source": [
    "df_bbc = pd.read_csv('BBC News.csv')\n",
    "df_bbc"
   ]
  },
  {
   "cell_type": "code",
   "execution_count": 4,
   "metadata": {},
   "outputs": [
    {
     "data": {
      "text/html": [
       "<div>\n",
       "<style scoped>\n",
       "    .dataframe tbody tr th:only-of-type {\n",
       "        vertical-align: middle;\n",
       "    }\n",
       "\n",
       "    .dataframe tbody tr th {\n",
       "        vertical-align: top;\n",
       "    }\n",
       "\n",
       "    .dataframe thead tr th {\n",
       "        text-align: left;\n",
       "    }\n",
       "\n",
       "    .dataframe thead tr:last-of-type th {\n",
       "        text-align: right;\n",
       "    }\n",
       "</style>\n",
       "<table border=\"1\" class=\"dataframe\">\n",
       "  <thead>\n",
       "    <tr>\n",
       "      <th></th>\n",
       "      <th colspan=\"8\" halign=\"left\">ArticleId</th>\n",
       "    </tr>\n",
       "    <tr>\n",
       "      <th></th>\n",
       "      <th>count</th>\n",
       "      <th>mean</th>\n",
       "      <th>std</th>\n",
       "      <th>min</th>\n",
       "      <th>25%</th>\n",
       "      <th>50%</th>\n",
       "      <th>75%</th>\n",
       "      <th>max</th>\n",
       "    </tr>\n",
       "    <tr>\n",
       "      <th>Category</th>\n",
       "      <th></th>\n",
       "      <th></th>\n",
       "      <th></th>\n",
       "      <th></th>\n",
       "      <th></th>\n",
       "      <th></th>\n",
       "      <th></th>\n",
       "      <th></th>\n",
       "    </tr>\n",
       "  </thead>\n",
       "  <tbody>\n",
       "    <tr>\n",
       "      <th>business</th>\n",
       "      <td>336.0</td>\n",
       "      <td>1104.315476</td>\n",
       "      <td>658.063510</td>\n",
       "      <td>2.0</td>\n",
       "      <td>476.25</td>\n",
       "      <td>1107.5</td>\n",
       "      <td>1716.25</td>\n",
       "      <td>2221.0</td>\n",
       "    </tr>\n",
       "    <tr>\n",
       "      <th>entertainment</th>\n",
       "      <td>273.0</td>\n",
       "      <td>1100.274725</td>\n",
       "      <td>615.695597</td>\n",
       "      <td>10.0</td>\n",
       "      <td>601.00</td>\n",
       "      <td>1081.0</td>\n",
       "      <td>1611.00</td>\n",
       "      <td>2223.0</td>\n",
       "    </tr>\n",
       "    <tr>\n",
       "      <th>politics</th>\n",
       "      <td>274.0</td>\n",
       "      <td>1134.317518</td>\n",
       "      <td>637.628980</td>\n",
       "      <td>7.0</td>\n",
       "      <td>610.00</td>\n",
       "      <td>1163.0</td>\n",
       "      <td>1681.50</td>\n",
       "      <td>2224.0</td>\n",
       "    </tr>\n",
       "    <tr>\n",
       "      <th>sport</th>\n",
       "      <td>346.0</td>\n",
       "      <td>1104.057803</td>\n",
       "      <td>649.542516</td>\n",
       "      <td>4.0</td>\n",
       "      <td>513.50</td>\n",
       "      <td>1070.0</td>\n",
       "      <td>1689.50</td>\n",
       "      <td>2219.0</td>\n",
       "    </tr>\n",
       "    <tr>\n",
       "      <th>tech</th>\n",
       "      <td>261.0</td>\n",
       "      <td>1165.195402</td>\n",
       "      <td>643.852459</td>\n",
       "      <td>20.0</td>\n",
       "      <td>631.00</td>\n",
       "      <td>1147.0</td>\n",
       "      <td>1755.00</td>\n",
       "      <td>2216.0</td>\n",
       "    </tr>\n",
       "  </tbody>\n",
       "</table>\n",
       "</div>"
      ],
      "text/plain": [
       "              ArticleId                                                 \\\n",
       "                  count         mean         std   min     25%     50%   \n",
       "Category                                                                 \n",
       "business          336.0  1104.315476  658.063510   2.0  476.25  1107.5   \n",
       "entertainment     273.0  1100.274725  615.695597  10.0  601.00  1081.0   \n",
       "politics          274.0  1134.317518  637.628980   7.0  610.00  1163.0   \n",
       "sport             346.0  1104.057803  649.542516   4.0  513.50  1070.0   \n",
       "tech              261.0  1165.195402  643.852459  20.0  631.00  1147.0   \n",
       "\n",
       "                                \n",
       "                   75%     max  \n",
       "Category                        \n",
       "business       1716.25  2221.0  \n",
       "entertainment  1611.00  2223.0  \n",
       "politics       1681.50  2224.0  \n",
       "sport          1689.50  2219.0  \n",
       "tech           1755.00  2216.0  "
      ]
     },
     "execution_count": 4,
     "metadata": {},
     "output_type": "execute_result"
    }
   ],
   "source": [
    "df_bbc.groupby('Category').describe()"
   ]
  },
  {
   "cell_type": "markdown",
   "metadata": {},
   "source": [
    "Podemos observar que la distribución de artículos en las diferentes categorías es bastante homógenea. Esto debería proporcionar buenos resultados en la clasificación de textos ya que tenemos muchos ejemplos distribuidos entre todas las categorías, facilitando que haya más palabras que se repitan entre los artículos de una misma clase."
   ]
  },
  {
   "cell_type": "code",
   "execution_count": 5,
   "metadata": {},
   "outputs": [],
   "source": [
    "from sklearn.model_selection import train_test_split"
   ]
  },
  {
   "cell_type": "code",
   "execution_count": 6,
   "metadata": {},
   "outputs": [],
   "source": [
    "bbc_train, bbc_test = train_test_split(df_bbc, test_size=0.20, random_state=RANDOM_STATE)"
   ]
  },
  {
   "cell_type": "code",
   "execution_count": 7,
   "metadata": {},
   "outputs": [
    {
     "data": {
      "text/html": [
       "<div>\n",
       "<style scoped>\n",
       "    .dataframe tbody tr th:only-of-type {\n",
       "        vertical-align: middle;\n",
       "    }\n",
       "\n",
       "    .dataframe tbody tr th {\n",
       "        vertical-align: top;\n",
       "    }\n",
       "\n",
       "    .dataframe thead th {\n",
       "        text-align: right;\n",
       "    }\n",
       "</style>\n",
       "<table border=\"1\" class=\"dataframe\">\n",
       "  <thead>\n",
       "    <tr style=\"text-align: right;\">\n",
       "      <th></th>\n",
       "      <th>ArticleId</th>\n",
       "      <th>Text</th>\n",
       "      <th>Category</th>\n",
       "    </tr>\n",
       "  </thead>\n",
       "  <tbody>\n",
       "    <tr>\n",
       "      <th>955</th>\n",
       "      <td>167</td>\n",
       "      <td>springer criticises opera musical talk show ho...</td>\n",
       "      <td>entertainment</td>\n",
       "    </tr>\n",
       "    <tr>\n",
       "      <th>593</th>\n",
       "      <td>2220</td>\n",
       "      <td>beijingers fume over parking fees choking traf...</td>\n",
       "      <td>business</td>\n",
       "    </tr>\n",
       "    <tr>\n",
       "      <th>565</th>\n",
       "      <td>1772</td>\n",
       "      <td>apple laptop is  greatest gadget  the apple po...</td>\n",
       "      <td>tech</td>\n",
       "    </tr>\n",
       "    <tr>\n",
       "      <th>64</th>\n",
       "      <td>315</td>\n",
       "      <td>two nigerian banks set to merge nigerian banks...</td>\n",
       "      <td>business</td>\n",
       "    </tr>\n",
       "    <tr>\n",
       "      <th>1422</th>\n",
       "      <td>159</td>\n",
       "      <td>uk firms  embracing e-commerce  uk firms are e...</td>\n",
       "      <td>politics</td>\n",
       "    </tr>\n",
       "    <tr>\n",
       "      <th>...</th>\n",
       "      <td>...</td>\n",
       "      <td>...</td>\n",
       "      <td>...</td>\n",
       "    </tr>\n",
       "    <tr>\n",
       "      <th>46</th>\n",
       "      <td>593</td>\n",
       "      <td>china  ripe  for media explosion asia is set t...</td>\n",
       "      <td>tech</td>\n",
       "    </tr>\n",
       "    <tr>\n",
       "      <th>1398</th>\n",
       "      <td>1436</td>\n",
       "      <td>banker loses sexism claim a former executive a...</td>\n",
       "      <td>business</td>\n",
       "    </tr>\n",
       "    <tr>\n",
       "      <th>1390</th>\n",
       "      <td>479</td>\n",
       "      <td>rap feud in 50 cent s g-unit crew us rap star ...</td>\n",
       "      <td>entertainment</td>\n",
       "    </tr>\n",
       "    <tr>\n",
       "      <th>1443</th>\n",
       "      <td>1490</td>\n",
       "      <td>unclear future for striker baros liverpool for...</td>\n",
       "      <td>sport</td>\n",
       "    </tr>\n",
       "    <tr>\n",
       "      <th>973</th>\n",
       "      <td>661</td>\n",
       "      <td>uk needs tax cuts  tories insist a major chang...</td>\n",
       "      <td>politics</td>\n",
       "    </tr>\n",
       "  </tbody>\n",
       "</table>\n",
       "<p>1192 rows × 3 columns</p>\n",
       "</div>"
      ],
      "text/plain": [
       "      ArticleId                                               Text  \\\n",
       "955         167  springer criticises opera musical talk show ho...   \n",
       "593        2220  beijingers fume over parking fees choking traf...   \n",
       "565        1772  apple laptop is  greatest gadget  the apple po...   \n",
       "64          315  two nigerian banks set to merge nigerian banks...   \n",
       "1422        159  uk firms  embracing e-commerce  uk firms are e...   \n",
       "...         ...                                                ...   \n",
       "46          593  china  ripe  for media explosion asia is set t...   \n",
       "1398       1436  banker loses sexism claim a former executive a...   \n",
       "1390        479  rap feud in 50 cent s g-unit crew us rap star ...   \n",
       "1443       1490  unclear future for striker baros liverpool for...   \n",
       "973         661  uk needs tax cuts  tories insist a major chang...   \n",
       "\n",
       "           Category  \n",
       "955   entertainment  \n",
       "593        business  \n",
       "565            tech  \n",
       "64         business  \n",
       "1422       politics  \n",
       "...             ...  \n",
       "46             tech  \n",
       "1398       business  \n",
       "1390  entertainment  \n",
       "1443          sport  \n",
       "973        politics  \n",
       "\n",
       "[1192 rows x 3 columns]"
      ]
     },
     "execution_count": 7,
     "metadata": {},
     "output_type": "execute_result"
    }
   ],
   "source": [
    "bbc_train"
   ]
  },
  {
   "cell_type": "code",
   "execution_count": 8,
   "metadata": {},
   "outputs": [
    {
     "data": {
      "text/html": [
       "<div>\n",
       "<style scoped>\n",
       "    .dataframe tbody tr th:only-of-type {\n",
       "        vertical-align: middle;\n",
       "    }\n",
       "\n",
       "    .dataframe tbody tr th {\n",
       "        vertical-align: top;\n",
       "    }\n",
       "\n",
       "    .dataframe thead th {\n",
       "        text-align: right;\n",
       "    }\n",
       "</style>\n",
       "<table border=\"1\" class=\"dataframe\">\n",
       "  <thead>\n",
       "    <tr style=\"text-align: right;\">\n",
       "      <th></th>\n",
       "      <th>ArticleId</th>\n",
       "      <th>Text</th>\n",
       "      <th>Category</th>\n",
       "    </tr>\n",
       "  </thead>\n",
       "  <tbody>\n",
       "    <tr>\n",
       "      <th>741</th>\n",
       "      <td>231</td>\n",
       "      <td>tv show unites angolan families angolan famili...</td>\n",
       "      <td>entertainment</td>\n",
       "    </tr>\n",
       "    <tr>\n",
       "      <th>637</th>\n",
       "      <td>427</td>\n",
       "      <td>bortolami predicts dour contest italy skipper ...</td>\n",
       "      <td>sport</td>\n",
       "    </tr>\n",
       "    <tr>\n",
       "      <th>1298</th>\n",
       "      <td>1369</td>\n",
       "      <td>no uk apology  for colonial past the days of b...</td>\n",
       "      <td>politics</td>\n",
       "    </tr>\n",
       "    <tr>\n",
       "      <th>316</th>\n",
       "      <td>372</td>\n",
       "      <td>us peer-to-peer pirates convicted the first co...</td>\n",
       "      <td>tech</td>\n",
       "    </tr>\n",
       "    <tr>\n",
       "      <th>1435</th>\n",
       "      <td>1166</td>\n",
       "      <td>relay squad thrilled with honours jason garden...</td>\n",
       "      <td>sport</td>\n",
       "    </tr>\n",
       "    <tr>\n",
       "      <th>...</th>\n",
       "      <td>...</td>\n",
       "      <td>...</td>\n",
       "      <td>...</td>\n",
       "    </tr>\n",
       "    <tr>\n",
       "      <th>1041</th>\n",
       "      <td>1011</td>\n",
       "      <td>gadget show heralds mp3 season partners of tho...</td>\n",
       "      <td>tech</td>\n",
       "    </tr>\n",
       "    <tr>\n",
       "      <th>404</th>\n",
       "      <td>1381</td>\n",
       "      <td>world leaders gather to face uncertainty more ...</td>\n",
       "      <td>business</td>\n",
       "    </tr>\n",
       "    <tr>\n",
       "      <th>1198</th>\n",
       "      <td>2166</td>\n",
       "      <td>briton wins short film oscar three of the five...</td>\n",
       "      <td>entertainment</td>\n",
       "    </tr>\n",
       "    <tr>\n",
       "      <th>79</th>\n",
       "      <td>1929</td>\n",
       "      <td>ukraine strikes turkmen gas deal ukraine has a...</td>\n",
       "      <td>business</td>\n",
       "    </tr>\n",
       "    <tr>\n",
       "      <th>633</th>\n",
       "      <td>1805</td>\n",
       "      <td>dublin hi-tech labs to shut down dublin s hi-t...</td>\n",
       "      <td>tech</td>\n",
       "    </tr>\n",
       "  </tbody>\n",
       "</table>\n",
       "<p>298 rows × 3 columns</p>\n",
       "</div>"
      ],
      "text/plain": [
       "      ArticleId                                               Text  \\\n",
       "741         231  tv show unites angolan families angolan famili...   \n",
       "637         427  bortolami predicts dour contest italy skipper ...   \n",
       "1298       1369  no uk apology  for colonial past the days of b...   \n",
       "316         372  us peer-to-peer pirates convicted the first co...   \n",
       "1435       1166  relay squad thrilled with honours jason garden...   \n",
       "...         ...                                                ...   \n",
       "1041       1011  gadget show heralds mp3 season partners of tho...   \n",
       "404        1381  world leaders gather to face uncertainty more ...   \n",
       "1198       2166  briton wins short film oscar three of the five...   \n",
       "79         1929  ukraine strikes turkmen gas deal ukraine has a...   \n",
       "633        1805  dublin hi-tech labs to shut down dublin s hi-t...   \n",
       "\n",
       "           Category  \n",
       "741   entertainment  \n",
       "637           sport  \n",
       "1298       politics  \n",
       "316            tech  \n",
       "1435          sport  \n",
       "...             ...  \n",
       "1041           tech  \n",
       "404        business  \n",
       "1198  entertainment  \n",
       "79         business  \n",
       "633            tech  \n",
       "\n",
       "[298 rows x 3 columns]"
      ]
     },
     "execution_count": 8,
     "metadata": {},
     "output_type": "execute_result"
    }
   ],
   "source": [
    "bbc_test"
   ]
  },
  {
   "cell_type": "code",
   "execution_count": 9,
   "metadata": {},
   "outputs": [
    {
     "data": {
      "text/html": [
       "<div>\n",
       "<style scoped>\n",
       "    .dataframe tbody tr th:only-of-type {\n",
       "        vertical-align: middle;\n",
       "    }\n",
       "\n",
       "    .dataframe tbody tr th {\n",
       "        vertical-align: top;\n",
       "    }\n",
       "\n",
       "    .dataframe thead tr th {\n",
       "        text-align: left;\n",
       "    }\n",
       "\n",
       "    .dataframe thead tr:last-of-type th {\n",
       "        text-align: right;\n",
       "    }\n",
       "</style>\n",
       "<table border=\"1\" class=\"dataframe\">\n",
       "  <thead>\n",
       "    <tr>\n",
       "      <th></th>\n",
       "      <th colspan=\"8\" halign=\"left\">ArticleId</th>\n",
       "    </tr>\n",
       "    <tr>\n",
       "      <th></th>\n",
       "      <th>count</th>\n",
       "      <th>mean</th>\n",
       "      <th>std</th>\n",
       "      <th>min</th>\n",
       "      <th>25%</th>\n",
       "      <th>50%</th>\n",
       "      <th>75%</th>\n",
       "      <th>max</th>\n",
       "    </tr>\n",
       "    <tr>\n",
       "      <th>Category</th>\n",
       "      <th></th>\n",
       "      <th></th>\n",
       "      <th></th>\n",
       "      <th></th>\n",
       "      <th></th>\n",
       "      <th></th>\n",
       "      <th></th>\n",
       "      <th></th>\n",
       "    </tr>\n",
       "  </thead>\n",
       "  <tbody>\n",
       "    <tr>\n",
       "      <th>business</th>\n",
       "      <td>263.0</td>\n",
       "      <td>1136.680608</td>\n",
       "      <td>647.030112</td>\n",
       "      <td>19.0</td>\n",
       "      <td>629.5</td>\n",
       "      <td>1124.0</td>\n",
       "      <td>1744.00</td>\n",
       "      <td>2221.0</td>\n",
       "    </tr>\n",
       "    <tr>\n",
       "      <th>entertainment</th>\n",
       "      <td>212.0</td>\n",
       "      <td>1087.221698</td>\n",
       "      <td>634.933226</td>\n",
       "      <td>10.0</td>\n",
       "      <td>565.5</td>\n",
       "      <td>1061.0</td>\n",
       "      <td>1635.25</td>\n",
       "      <td>2223.0</td>\n",
       "    </tr>\n",
       "    <tr>\n",
       "      <th>politics</th>\n",
       "      <td>214.0</td>\n",
       "      <td>1113.971963</td>\n",
       "      <td>635.296219</td>\n",
       "      <td>7.0</td>\n",
       "      <td>584.5</td>\n",
       "      <td>1116.5</td>\n",
       "      <td>1641.50</td>\n",
       "      <td>2207.0</td>\n",
       "    </tr>\n",
       "    <tr>\n",
       "      <th>sport</th>\n",
       "      <td>285.0</td>\n",
       "      <td>1089.859649</td>\n",
       "      <td>634.695353</td>\n",
       "      <td>4.0</td>\n",
       "      <td>533.0</td>\n",
       "      <td>1047.0</td>\n",
       "      <td>1642.00</td>\n",
       "      <td>2219.0</td>\n",
       "    </tr>\n",
       "    <tr>\n",
       "      <th>tech</th>\n",
       "      <td>218.0</td>\n",
       "      <td>1177.183486</td>\n",
       "      <td>648.441942</td>\n",
       "      <td>20.0</td>\n",
       "      <td>645.5</td>\n",
       "      <td>1182.5</td>\n",
       "      <td>1757.50</td>\n",
       "      <td>2216.0</td>\n",
       "    </tr>\n",
       "  </tbody>\n",
       "</table>\n",
       "</div>"
      ],
      "text/plain": [
       "              ArticleId                                                \\\n",
       "                  count         mean         std   min    25%     50%   \n",
       "Category                                                                \n",
       "business          263.0  1136.680608  647.030112  19.0  629.5  1124.0   \n",
       "entertainment     212.0  1087.221698  634.933226  10.0  565.5  1061.0   \n",
       "politics          214.0  1113.971963  635.296219   7.0  584.5  1116.5   \n",
       "sport             285.0  1089.859649  634.695353   4.0  533.0  1047.0   \n",
       "tech              218.0  1177.183486  648.441942  20.0  645.5  1182.5   \n",
       "\n",
       "                                \n",
       "                   75%     max  \n",
       "Category                        \n",
       "business       1744.00  2221.0  \n",
       "entertainment  1635.25  2223.0  \n",
       "politics       1641.50  2207.0  \n",
       "sport          1642.00  2219.0  \n",
       "tech           1757.50  2216.0  "
      ]
     },
     "execution_count": 9,
     "metadata": {},
     "output_type": "execute_result"
    }
   ],
   "source": [
    "bbc_train.groupby(\"Category\").describe()"
   ]
  },
  {
   "cell_type": "code",
   "execution_count": 10,
   "metadata": {},
   "outputs": [
    {
     "data": {
      "text/html": [
       "<div>\n",
       "<style scoped>\n",
       "    .dataframe tbody tr th:only-of-type {\n",
       "        vertical-align: middle;\n",
       "    }\n",
       "\n",
       "    .dataframe tbody tr th {\n",
       "        vertical-align: top;\n",
       "    }\n",
       "\n",
       "    .dataframe thead tr th {\n",
       "        text-align: left;\n",
       "    }\n",
       "\n",
       "    .dataframe thead tr:last-of-type th {\n",
       "        text-align: right;\n",
       "    }\n",
       "</style>\n",
       "<table border=\"1\" class=\"dataframe\">\n",
       "  <thead>\n",
       "    <tr>\n",
       "      <th></th>\n",
       "      <th colspan=\"8\" halign=\"left\">ArticleId</th>\n",
       "    </tr>\n",
       "    <tr>\n",
       "      <th></th>\n",
       "      <th>count</th>\n",
       "      <th>mean</th>\n",
       "      <th>std</th>\n",
       "      <th>min</th>\n",
       "      <th>25%</th>\n",
       "      <th>50%</th>\n",
       "      <th>75%</th>\n",
       "      <th>max</th>\n",
       "    </tr>\n",
       "    <tr>\n",
       "      <th>Category</th>\n",
       "      <th></th>\n",
       "      <th></th>\n",
       "      <th></th>\n",
       "      <th></th>\n",
       "      <th></th>\n",
       "      <th></th>\n",
       "      <th></th>\n",
       "      <th></th>\n",
       "    </tr>\n",
       "  </thead>\n",
       "  <tbody>\n",
       "    <tr>\n",
       "      <th>business</th>\n",
       "      <td>73.0</td>\n",
       "      <td>987.712329</td>\n",
       "      <td>688.367140</td>\n",
       "      <td>2.0</td>\n",
       "      <td>334.00</td>\n",
       "      <td>992.0</td>\n",
       "      <td>1516.00</td>\n",
       "      <td>2186.0</td>\n",
       "    </tr>\n",
       "    <tr>\n",
       "      <th>entertainment</th>\n",
       "      <td>61.0</td>\n",
       "      <td>1145.639344</td>\n",
       "      <td>545.982479</td>\n",
       "      <td>38.0</td>\n",
       "      <td>836.00</td>\n",
       "      <td>1183.0</td>\n",
       "      <td>1540.00</td>\n",
       "      <td>2212.0</td>\n",
       "    </tr>\n",
       "    <tr>\n",
       "      <th>politics</th>\n",
       "      <td>60.0</td>\n",
       "      <td>1206.883333</td>\n",
       "      <td>646.007296</td>\n",
       "      <td>14.0</td>\n",
       "      <td>618.75</td>\n",
       "      <td>1280.0</td>\n",
       "      <td>1717.25</td>\n",
       "      <td>2224.0</td>\n",
       "    </tr>\n",
       "    <tr>\n",
       "      <th>sport</th>\n",
       "      <td>61.0</td>\n",
       "      <td>1170.393443</td>\n",
       "      <td>716.768984</td>\n",
       "      <td>18.0</td>\n",
       "      <td>460.00</td>\n",
       "      <td>1163.0</td>\n",
       "      <td>1871.00</td>\n",
       "      <td>2173.0</td>\n",
       "    </tr>\n",
       "    <tr>\n",
       "      <th>tech</th>\n",
       "      <td>43.0</td>\n",
       "      <td>1104.418605</td>\n",
       "      <td>623.895108</td>\n",
       "      <td>184.0</td>\n",
       "      <td>573.50</td>\n",
       "      <td>1022.0</td>\n",
       "      <td>1720.00</td>\n",
       "      <td>2184.0</td>\n",
       "    </tr>\n",
       "  </tbody>\n",
       "</table>\n",
       "</div>"
      ],
      "text/plain": [
       "              ArticleId                                                  \\\n",
       "                  count         mean         std    min     25%     50%   \n",
       "Category                                                                  \n",
       "business           73.0   987.712329  688.367140    2.0  334.00   992.0   \n",
       "entertainment      61.0  1145.639344  545.982479   38.0  836.00  1183.0   \n",
       "politics           60.0  1206.883333  646.007296   14.0  618.75  1280.0   \n",
       "sport              61.0  1170.393443  716.768984   18.0  460.00  1163.0   \n",
       "tech               43.0  1104.418605  623.895108  184.0  573.50  1022.0   \n",
       "\n",
       "                                \n",
       "                   75%     max  \n",
       "Category                        \n",
       "business       1516.00  2186.0  \n",
       "entertainment  1540.00  2212.0  \n",
       "politics       1717.25  2224.0  \n",
       "sport          1871.00  2173.0  \n",
       "tech           1720.00  2184.0  "
      ]
     },
     "execution_count": 10,
     "metadata": {},
     "output_type": "execute_result"
    }
   ],
   "source": [
    "bbc_test.groupby(\"Category\").describe()"
   ]
  },
  {
   "cell_type": "markdown",
   "metadata": {},
   "source": [
    "Puesto que la variable <code>RANDOM_STATE</code> tiene el mismo valor que en el cuaderno 1, la partición es exactamente la misma."
   ]
  },
  {
   "cell_type": "markdown",
   "metadata": {
    "id": "3Fx5hJC7pzXf"
   },
   "source": [
    "## 2) Representación basada en bolsa de palabras y tf-idf\n",
    "\n",
    "<blockquote>\n",
    "\n",
    "La primera vectorización que vamos a usar representará los mensajes usando el modelo de bolsa de palabras, monogramas y el valor tf-idf de cada palabra. Usa como _stop words_ las que vienen configuradas por defecto para el inglés.\n",
    "\n",
    "Aplica la vectorización a los conjuntos de mensajes de entrenamiento y test. Muestra algún mensaje tanto en su formato de texto original como en la versión vectorizada. ¿Qué palabras se han eliminado y por qué?\n",
    "\n",
    "Calcula la precisión@5 de cada una de las clases usando como consultas los documentos de la partición de test y la similitud del coseno. Vamos a considerar que un documento recuperado es relevante cuando pertenezca a la misma clase que la consulta.\n",
    "\n",
    "Dibuja los resultados en un diagrama de barras y comenta las clases en las que se comporta mejor y peor. ¿Crees que los resultados son buenos?\n",
    "</blockquote>"
   ]
  },
  {
   "cell_type": "code",
   "execution_count": 11,
   "metadata": {
    "id": "wKdL2-VSpzXg"
   },
   "outputs": [],
   "source": [
    "from sklearn.feature_extraction.text import CountVectorizer\n",
    "from sklearn.feature_extraction.text import TfidfTransformer"
   ]
  },
  {
   "cell_type": "code",
   "execution_count": 12,
   "metadata": {},
   "outputs": [],
   "source": [
    "vectorizer = CountVectorizer(stop_words='english', binary=False, ngram_range = (1,1))\n",
    "\n",
    "# Tomamos los textos del conjunto de entrenamiento y los transformamos en \n",
    "# una matriz de datos (palabras) según el diccionario estándar\n",
    "train_vector_data=vectorizer.fit_transform(bbc_train['Text'])\n",
    "# Tomamos los textos del conjunto de test y los transformamos en una matriz\n",
    "# de palabras. Al usar \"transform\" toma como referencia únicamente las palabras\n",
    "# encontradas en el conjunto de entrenamiento\n",
    "test_vector_data=vectorizer.transform(bbc_test['Text'])"
   ]
  },
  {
   "cell_type": "code",
   "execution_count": 13,
   "metadata": {},
   "outputs": [],
   "source": [
    "# Calculamos el valor TF-IDF \n",
    "tfidfer = TfidfTransformer()\n",
    "\n",
    "train_preprocessed = tfidfer.fit_transform(train_vector_data)\n",
    "# Al usar \"transform\" toma como IDF el del conjunto de entrenamiento \n",
    "test_preprocessed=tfidfer.transform(test_vector_data)"
   ]
  },
  {
   "cell_type": "code",
   "execution_count": 14,
   "metadata": {},
   "outputs": [],
   "source": [
    "import numpy as np\n",
    "import numpy.ma as ma\n",
    "\n",
    "def write_terms (feature_names, data, vector_data, index):\n",
    "    '''\n",
    "    Escribe los términos presentes en un mensaje representado como bolsa de palabras.\n",
    "    \n",
    "    - feature_names: terminos usados para vectorizar\n",
    "    - data: lista de mensajes original (si data==None no se muestra el mensaje original)\n",
    "    - vector_data: matriz (dispersa) de mensaje vectorizados\n",
    "    - index: posición del mensaje a mostrar\n",
    "    '''\n",
    "    # máscara para seleccionar sólo el mensaje en posición index\n",
    "    mask=vector_data[index,:]>0\n",
    "    \n",
    "    # términos que aparecen en ese mensaje vectorizado\n",
    "    terminos = ma.array(feature_names, mask = ~(mask[0].toarray()))\n",
    "    \n",
    "    # mostrar mensaje original\n",
    "    if data is not None:\n",
    "        print('Mensaje', index, ':', data[index])\n",
    "    \n",
    "    # mostrar términos que aparecen en el mensaje vectorizado\n",
    "    print('Mensaje', index, 'vectorizado:', terminos.compressed(),'\\n')"
   ]
  },
  {
   "cell_type": "code",
   "execution_count": 15,
   "metadata": {},
   "outputs": [
    {
     "name": "stdout",
     "output_type": "stream",
     "text": [
      "22201\n",
      "['00', '000', '000bn', '000m', '000th', '001', '001and', '001st', '0051', '007', '01', '0100', '0130', '028', '03', '033', '04', '041', '04bn', '04secs', '05', '050', '050505', '0530', '0530gmt', '056', '05bn', '05m', '06', '0630', '069', '07', '070', '0710', '072', '0730', '08', '080', '0870', '088', '09', '0900', '093', '0950', '09bn', '09secs', '10', '100', '1000th', '100bn', '100m', '100ml', '101', '102', '103', '104', '105', '105bn', '105m', '106', '107', '108', '1080', '109', '10bn', '10ft', '10m', '10secs', '10th', '11', '110', '1100', '110m', '110th', '111', '1115', '111m', '112', '113', '1130', '1130p', '113bn', '115', '116', '116i', '117', '117m', '118', '119', '119bn', '119m', '11bn', '11m', '11pm', '11th', '12', '120', '1200', '1200m', '120gb']\n"
     ]
    }
   ],
   "source": [
    "feature_names = vectorizer.get_feature_names()\n",
    "\n",
    "print(len(feature_names))\n",
    "print(feature_names[:100])"
   ]
  },
  {
   "cell_type": "code",
   "execution_count": 16,
   "metadata": {},
   "outputs": [
    {
     "name": "stdout",
     "output_type": "stream",
     "text": [
      "Mensaje 10 : foxx and swank take actors awards jamie foxx and hilary swank have won the screen actors guild awards for best male and female film actors  boosting their oscars hopes this month.  foxx s portrayal of late soul-singer ray charles in ray had already earned him a prestigious golden globe award. swank triumphed for playing a gutsy female boxer in million dollar baby. modest wine country comedy sideways knocked out favourites million dollar baby and the aviator by taking the top prize for best cast performance.  the screen actors guild (sag) represents us film and tv actors. its winners often go on to win oscars. in other nominations  cate blanchett triumphed as the best supporting actress for her role as katharine hepburn in the aviator. veteran actor morgan freeman took the best supporting actor award for playing a prize-fighter turned gym manager in million dollar baby.   thank you for ray charles for just living so complex and so interesting  and making us all just come together   said foxx  accepting his award in los angeles on saturday.  he also praised the film director:  thank you for taylor hackford for taking a chance with an african-american film. taylor  you re my director of the year.  swank  too  was full of praise for her director and co-star clint eastwood.  i bow down to you   swank said to the 74-year-old eastwood.  you are a talent beyond compare. if i m half the person you are and half the talent you are when i m 74  i will know that i ve accomplished something great.   both foxx and swank are now considered to be among the favourites to get oscars - the hollywood s ultimate prize. however  swank has to overcome a strong challenge from annette bening  a nominee for the theatre farce being julia. meanwhile  ballots for oscars - the hollywood s top honours - were mailed earlier this week to members of the academy of motion picture arts and sciences. the voting is due to end on 22 february - five days before the ceremony.\n",
      "Mensaje 10 vectorizado: ['22' '74' 'academy' 'accepting' 'accomplished' 'actor' 'actors' 'actress'\n",
      " 'african' 'american' 'angeles' 'annette' 'arts' 'aviator' 'award'\n",
      " 'awards' 'baby' 'ballots' 'bening' 'best' 'blanchett' 'boosting' 'bow'\n",
      " 'boxer' 'cast' 'cate' 'ceremony' 'challenge' 'chance' 'charles' 'clint'\n",
      " 'come' 'comedy' 'compare' 'complex' 'considered' 'country' 'days'\n",
      " 'director' 'dollar' 'earlier' 'earned' 'eastwood' 'end' 'farce'\n",
      " 'favourites' 'february' 'female' 'fighter' 'film' 'foxx' 'freeman'\n",
      " 'globe' 'golden' 'great' 'guild' 'gutsy' 'gym' 'hackford' 'half'\n",
      " 'hepburn' 'hilary' 'hollywood' 'honours' 'hopes' 'interesting' 'jamie'\n",
      " 'julia' 'just' 'katharine' 'knocked' 'know' 'late' 'living' 'los'\n",
      " 'mailed' 'making' 'male' 'manager' 'members' 'million' 'modest' 'month'\n",
      " 'morgan' 'motion' 'nominations' 'nominee' 'old' 'oscars' 'overcome'\n",
      " 'performance' 'person' 'picture' 'playing' 'portrayal' 'praise' 'praised'\n",
      " 'prestigious' 'prize' 'ray' 'represents' 'role' 'sag' 'said' 'saturday'\n",
      " 'sciences' 'screen' 'sideways' 'singer' 'soul' 'star' 'strong'\n",
      " 'supporting' 'swank' 'taking' 'talent' 'taylor' 'thank' 'theatre' 'took'\n",
      " 'triumphed' 'turned' 'tv' 'ultimate' 've' 'veteran' 'voting' 'week' 'win'\n",
      " 'wine' 'winners' 'won' 'year'] \n",
      "\n"
     ]
    }
   ],
   "source": [
    "write_terms(feature_names, bbc_train['Text'].values, train_vector_data, 10)"
   ]
  },
  {
   "cell_type": "code",
   "execution_count": 17,
   "metadata": {},
   "outputs": [
    {
     "name": "stdout",
     "output_type": "stream",
     "text": [
      "Mensaje 100 : film production  falls  40% in uk the number of british films produced in the uk fell 40% in 2004  with movies starring johnny depp and jude law among those affected  screen daily has said.  twenty-seven british films were made in the uk last year following a drop in funding  compared with 45 in 2003  according to the trade weekly. it attributed the drop to tighter tax laws and reduced funding from sources such as the national lottery. uk and us co-productions in britain fell from 102 in 2003 to 81 last year.  last year the government closed tax loopholes that many film investors had taken advantage of to fund films in the uk. several projects were shelved as they faced the implications of this clampdown  coupled with the reduction in movie funding from traditional sources including the lottery and miramax films. shooting on period drama tulip fever  which was to star jude law and keira knightley  was postponed indefinitely while shooting of the libertine starring johnny depp was moved to the isle of man.   there isn t anything coming in to replace (the funds)   said the libertine s executive producer marc samuelson.  we are in a hiatus.  films with  medium  budgets of up to £9m  a similar level to box office hits vera drake  calendar girls and enduring love  are expected to be worst hit by the tax clampdown. the strength of the pound against the dollar is expected to have resulted in a fall in the number of us films shot in the uk during 2004  screen international added. big budget co-productions  such as the harry potter series  continued to be shot in the uk  however. the uk film council said the drop was partly due to 2003 being an especially good year for british film production  when bridget jones: the edge of reason  wimbledon and thunderbirds were all filmed in the uk.   the drop was expected as there was no way 2003 s record level of production could be bettered   the council s spokesperson said.  the reduction in indigenous film production in 2004 was due to a variety of factors  including the continuing long-term trend towards co-production of films in more than one country and changes to financing arrangements.  it was  too early  to predict whether the downward trend in uk production would continue throughout 2005  the uk film council said. in september the government introduced subsidies worth up to £4m per film for medium budget films  under new treasury measures. it is also due to announce a replacement for uk film tax relief scheme section 48 in july.\n",
      "Mensaje 100 vectorizado: ['102' '2003' '2004' '2005' '40' '45' '48' '4m' '81' '9m' 'according'\n",
      " 'added' 'advantage' 'affected' 'announce' 'arrangements' 'attributed'\n",
      " 'bettered' 'big' 'box' 'bridget' 'britain' 'british' 'budget' 'budgets'\n",
      " 'calendar' 'changes' 'clampdown' 'closed' 'coming' 'compared' 'continue'\n",
      " 'continued' 'continuing' 'council' 'country' 'coupled' 'daily' 'depp'\n",
      " 'dollar' 'downward' 'drake' 'drama' 'drop' 'early' 'edge' 'enduring'\n",
      " 'especially' 'executive' 'expected' 'faced' 'factors' 'fall' 'falls'\n",
      " 'fell' 'fever' 'film' 'filmed' 'films' 'financing' 'following' 'fund'\n",
      " 'funding' 'funds' 'girls' 'good' 'government' 'harry' 'hiatus' 'hit'\n",
      " 'hits' 'implications' 'including' 'indefinitely' 'indigenous'\n",
      " 'international' 'introduced' 'investors' 'isle' 'isn' 'johnny' 'jones'\n",
      " 'jude' 'july' 'keira' 'knightley' 'law' 'laws' 'level' 'libertine' 'long'\n",
      " 'loopholes' 'lottery' 'love' 'man' 'marc' 'measures' 'medium' 'miramax'\n",
      " 'moved' 'movie' 'movies' 'national' 'new' 'number' 'office' 'partly'\n",
      " 'period' 'postponed' 'potter' 'pound' 'predict' 'produced' 'producer'\n",
      " 'production' 'productions' 'projects' 'reason' 'record' 'reduced'\n",
      " 'reduction' 'relief' 'replace' 'replacement' 'resulted' 'said'\n",
      " 'samuelson' 'scheme' 'screen' 'section' 'september' 'series' 'seven'\n",
      " 'shelved' 'shooting' 'shot' 'similar' 'sources' 'spokesperson' 'star'\n",
      " 'starring' 'strength' 'subsidies' 'taken' 'tax' 'term' 'thunderbirds'\n",
      " 'tighter' 'trade' 'traditional' 'treasury' 'trend' 'tulip' 'uk' 'variety'\n",
      " 'vera' 'way' 'weekly' 'wimbledon' 'worst' 'worth' 'year'] \n",
      "\n"
     ]
    }
   ],
   "source": [
    "write_terms(feature_names, bbc_train['Text'].values, train_vector_data, 100)"
   ]
  },
  {
   "cell_type": "markdown",
   "metadata": {},
   "source": [
    "En cada mensaje podemos observar que la lista de palabras del mensaje vectorizado es menor que la lista de palabras que aparecen en el mensaje original. Esto se debe a que se han eliminado todas las `stop-words` que le indicamos al vectorizador cuando le creamos."
   ]
  },
  {
   "cell_type": "markdown",
   "metadata": {},
   "source": [
    "#### Cálculo de precisión"
   ]
  },
  {
   "cell_type": "code",
   "execution_count": 18,
   "metadata": {},
   "outputs": [],
   "source": [
    "from sklearn.metrics.pairwise import cosine_similarity\n",
    "\n",
    "def knn(query, X_train, k):\n",
    "    '''Devuelve los índices de los k documentos de entrenamiento más similares a la consulta usando \n",
    "    la similitud del coseno.\n",
    "    \n",
    "    Parámetros:\n",
    "    - query: documento consulta vectorizado\n",
    "    - X_train: documentos de entrenamiento vectorizados\n",
    "    - k: número de documentos a recuperar\n",
    "    \n",
    "    Devuelve:\n",
    "    - índices de los k documentos más similares a la consulta.\n",
    "    '''\n",
    "    \n",
    "    # Necesitamos un vector de dimensión (1, X). Si se pasa un vector de dimensión X, transformarlo\n",
    "    if len(query.shape) == 1:\n",
    "        query = query.reshape(1, -1)\n",
    "\n",
    "    simil = cosine_similarity(query, X_train)\n",
    "    simil_idx = np.argsort(simil.flatten())\n",
    "    simil_idx = simil_idx[::-1]\n",
    "    return simil_idx[:k]"
   ]
  },
  {
   "cell_type": "code",
   "execution_count": 19,
   "metadata": {},
   "outputs": [],
   "source": [
    "def precision_at_k(y_selected, y_real, k):\n",
    "    '''Devuelve la precisión @k de los documentos seleccionados.\n",
    "    \n",
    "    Parametros:\n",
    "    - y_selected: etiquetas de los documentos seleccionados (se usan los k primeros)\n",
    "    - y_real: etiqueta de la categoría correcta\n",
    "    - k: número de documentos que se tienen en cuenta\n",
    "    \n",
    "    Devuelve:\n",
    "    - Precisión@k\n",
    "    '''\n",
    "    \n",
    "    return np.sum(y_selected[:k] == y_real) / k * 100"
   ]
  },
  {
   "cell_type": "code",
   "execution_count": 20,
   "metadata": {},
   "outputs": [],
   "source": [
    "def mean_precisions_per_class(X_train, y_train, X_test, y_test, k):\n",
    "    '''Devuelve las precision@k media para cada una de las classes.\n",
    "    \n",
    "    Parámetros:\n",
    "    - X_train: documentos de entrenamiento vectorizados.\n",
    "    - y_train: etiquetas de los documentos de entrenamiento.\n",
    "    - X_test: documentos vectorizados que se usan como consultas\n",
    "    - y_test: etiquetas de los documentos que se usan como consultas\n",
    "    - k: número de documentos considerados a recuperar por la consulta\n",
    "    \n",
    "    Devuelve:\n",
    "    - Diccionario clase -> precisión en tanto por ciento.\n",
    "    '''\n",
    "    \n",
    "    # diccionario categoría -> lista de precisiones\n",
    "    y_precisions = {y: [] for y in np.unique(y_test)}\n",
    "    \n",
    "    # Calcular precision@k para cada consulta\n",
    "    for x_query, y_query in zip(X_test, y_test):\n",
    "        idx = knn(x_query, X_train, k)\n",
    "        y_selected = np.take(y_train, idx)\n",
    "        precision = precision_at_k(y_selected, y_query, k)\n",
    "        y_precisions[y_query].append(precision)\n",
    "        \n",
    "    # Calcular medias\n",
    "    for y in y_precisions:\n",
    "        y_precisions[y] = np.mean(y_precisions[y])\n",
    "    \n",
    "    return y_precisions"
   ]
  },
  {
   "cell_type": "code",
   "execution_count": 21,
   "metadata": {},
   "outputs": [
    {
     "data": {
      "text/plain": [
       "{'business': 84.38356164383562,\n",
       " 'entertainment': 84.26229508196721,\n",
       " 'politics': 88.66666666666667,\n",
       " 'sport': 97.70491803278688,\n",
       " 'tech': 88.83720930232558}"
      ]
     },
     "execution_count": 21,
     "metadata": {},
     "output_type": "execute_result"
    }
   ],
   "source": [
    "p5 = mean_precisions_per_class(train_preprocessed, bbc_train['Category'], test_preprocessed, bbc_test['Category'], 5)\n",
    "p5"
   ]
  },
  {
   "cell_type": "code",
   "execution_count": 22,
   "metadata": {},
   "outputs": [
    {
     "data": {
      "text/html": [
       "<div>\n",
       "<style scoped>\n",
       "    .dataframe tbody tr th:only-of-type {\n",
       "        vertical-align: middle;\n",
       "    }\n",
       "\n",
       "    .dataframe tbody tr th {\n",
       "        vertical-align: top;\n",
       "    }\n",
       "\n",
       "    .dataframe thead th {\n",
       "        text-align: right;\n",
       "    }\n",
       "</style>\n",
       "<table border=\"1\" class=\"dataframe\">\n",
       "  <thead>\n",
       "    <tr style=\"text-align: right;\">\n",
       "      <th></th>\n",
       "      <th>Category</th>\n",
       "      <th>precision@5</th>\n",
       "    </tr>\n",
       "  </thead>\n",
       "  <tbody>\n",
       "    <tr>\n",
       "      <th>0</th>\n",
       "      <td>business</td>\n",
       "      <td>84.383562</td>\n",
       "    </tr>\n",
       "    <tr>\n",
       "      <th>1</th>\n",
       "      <td>entertainment</td>\n",
       "      <td>84.262295</td>\n",
       "    </tr>\n",
       "    <tr>\n",
       "      <th>2</th>\n",
       "      <td>politics</td>\n",
       "      <td>88.666667</td>\n",
       "    </tr>\n",
       "    <tr>\n",
       "      <th>3</th>\n",
       "      <td>sport</td>\n",
       "      <td>97.704918</td>\n",
       "    </tr>\n",
       "    <tr>\n",
       "      <th>4</th>\n",
       "      <td>tech</td>\n",
       "      <td>88.837209</td>\n",
       "    </tr>\n",
       "  </tbody>\n",
       "</table>\n",
       "</div>"
      ],
      "text/plain": [
       "        Category  precision@5\n",
       "0       business    84.383562\n",
       "1  entertainment    84.262295\n",
       "2       politics    88.666667\n",
       "3          sport    97.704918\n",
       "4           tech    88.837209"
      ]
     },
     "execution_count": 22,
     "metadata": {},
     "output_type": "execute_result"
    },
    {
     "data": {
      "image/png": "[encoded data removed]",
      "text/plain": [
       "<Figure size 432x288 with 1 Axes>"
      ]
     },
     "metadata": {
      "needs_background": "light"
     },
     "output_type": "display_data"
    }
   ],
   "source": [
    "df_p5 = pd.Series(p5, name='precision@5')\n",
    "df_p5.index.name = 'Category'\n",
    "df_p5 = df_p5.reset_index()\n",
    "\n",
    "df_p5.plot.bar(x = 'Category', y = 'precision@5')\n",
    "df_p5"
   ]
  },
  {
   "cell_type": "markdown",
   "metadata": {},
   "source": [
    "Si analizamos los valores de precisión medios para las distintas clases del conjunto de datos podemos ver que la categoría sin duda que mayor precisión tiene es `sport` (98 precisión) . La siguen `tech` y `politics` emparejadas (88 precisión), y después estan el resto (emparejadas también a una precisión de 84).\n",
    "\n",
    "Que `sport` sea la clase con mayor precisión puede ser porque en los textos de deportes se repiten muchas palabras (por ejemplo, en un texto de futbol siempre se van a repetir gol, jugador, pase...). Además, esta categoría es la que más textos tiene en la partición de entrenamiento, lo que puede haber servido para que aprenda más de esta categoría.\n",
    "\n",
    "`Business` y `entertainment` puede que sean las más bajas ya que son categorías que no tienen un vocabulario tan amplio.\n",
    "\n",
    "En `tech` puede pasar lo mismo que con `sport`, hay muchas palabras que se pueden repetir a lo largo de muchas noticias.\n",
    "\n",
    "En general, en todas las categorías, la precisión es muy alta."
   ]
  },
  {
   "cell_type": "markdown",
   "metadata": {
    "id": "lH7sldldpzXi"
   },
   "source": [
    "## 3) Representación basada en word-embeddings y tf-idf\n",
    "\n",
    "<blockquote>\n",
    "\n",
    "La segunda vectorización que vamos a usar representará los mensajes usando usando word-embeddings usando como los pesos tf-idf de cada palabra. Al igual que en el apartado anterior, usaremos monogramas y las _stop words_ que vienen configuradas por defecto para el inglés. Recuerda usar como vocabulario para vectorizar el vocabulario del fichero con las word-embeddings.\n",
    "\n",
    "Aplica la vectorización a los conjuntos de mensajes de entrenamiento y test.\n",
    "\n",
    "Calcula la precisión@5 de cada una de las clases usando como consultas los documentos de la partición de test y la similitud del coseno. Vamos a considerar que un documento recuperado es relevante cuando pertenezca a la misma clase que la consulta.\n",
    "\n",
    "Dibuja los resultados en un diagrama de barras y compara los resultados con los del apartado anterior.\n",
    "</blockquote>"
   ]
  },
  {
   "cell_type": "code",
   "execution_count": 23,
   "metadata": {},
   "outputs": [],
   "source": [
    "from gensim.scripts.glove2word2vec import glove2word2vec\n",
    "from gensim.models import KeyedVectors\n",
    "\n",
    "glove_file = 'glove.6B.50d.txt'\n",
    "\n",
    "model = KeyedVectors.load_word2vec_format(glove_file, binary=False, no_header=True)\n",
    "we_vocabulary = list(model.key_to_index.keys())"
   ]
  },
  {
   "cell_type": "code",
   "execution_count": 24,
   "metadata": {},
   "outputs": [],
   "source": [
    "vectorizer_emb = CountVectorizer(vocabulary = we_vocabulary, stop_words='english', binary=False, ngram_range = (1,1))\n",
    "\n",
    "train_vector_data_emb = vectorizer_emb.fit_transform(bbc_train['Text'])\n",
    "test_vector_data_emb = vectorizer_emb.transform(bbc_test['Text'])"
   ]
  },
  {
   "cell_type": "code",
   "execution_count": 25,
   "metadata": {},
   "outputs": [],
   "source": [
    "tfidfer = TfidfTransformer()\n",
    "\n",
    "train_preprocessed_emb = tfidfer.fit_transform(train_vector_data_emb)\n",
    "test_preprocessed_emb = tfidfer.transform(test_vector_data_emb)"
   ]
  },
  {
   "cell_type": "code",
   "execution_count": 26,
   "metadata": {},
   "outputs": [],
   "source": [
    "from scipy.sparse import find\n",
    "\n",
    "def create_doc_embedding (doc_matrix_word_freq, keyedvectors):\n",
    "    \"\"\"\n",
    "    create_doc_embedding creates a doc-embedding matrix where rows are the \n",
    "    documents and columns are the dimensions of the word-embedding. Each row r\n",
    "    summarizes the vectors of the word-embeddings present in document r\n",
    "\n",
    "    :param doc_matrix_word_freq: frequency matrix of the terms in each document\n",
    "            It admits binary values, frequencies or weights.\n",
    "            It admits the output of vectorizer.fit_transform\n",
    "    :param keyedvectors: keyedvectors object from Gensim which has the \n",
    "            word-embedding information\n",
    "    :return: returns the doc-embedding matrix that summarizes the \n",
    "             vector-embeddings of the words present in each document\n",
    "    \"\"\" \n",
    "    \n",
    "    num_docs, num_words= doc_matrix_word_freq.get_shape()\n",
    "\n",
    "    # Creamos la matriz de documentos con tantas columnas como dimensiones tiene el we \n",
    "    doc_embed_matrix = np.zeros([num_docs,keyedvectors.vector_size])\n",
    "\n",
    "\n",
    "    # Obtenemos los documentos\n",
    "    docs, col, val = find(doc_matrix_word_freq)\n",
    "    docs = np.unique(docs)\n",
    "\n",
    "    # Para cada documento (esto se podrá hacer de forma más pythonica)\n",
    "    for doc in docs:\n",
    "      # Obtenemos las palabras presentes en el documento y su frecuencia\n",
    "      row, words, frecs = find(doc_matrix_word_freq[doc,:])\n",
    "\n",
    "      # Calculamos el vector medio para el documento\n",
    "      # Para ello recuperamos los vectores del we presentes en el documento y \n",
    "      # los promediamos teniendo en cuenta su frecuencia\n",
    "      count = 0\n",
    "      for w,f in zip(words,frecs):\n",
    "        doc_embed_matrix[doc,:] = doc_embed_matrix[doc,:] + (keyedvectors[w] * f)\n",
    "        count = count +1\n",
    "      doc_embed_matrix[doc,:] = doc_embed_matrix[doc,:]/count\n",
    "    \n",
    "      \n",
    "    return doc_embed_matrix"
   ]
  },
  {
   "cell_type": "code",
   "execution_count": 27,
   "metadata": {},
   "outputs": [],
   "source": [
    "train_embed_matrix = create_doc_embedding(train_preprocessed_emb,model)\n",
    "test_embed_matrix = create_doc_embedding(test_preprocessed_emb,model)"
   ]
  },
  {
   "cell_type": "code",
   "execution_count": 28,
   "metadata": {},
   "outputs": [
    {
     "data": {
      "text/plain": [
       "{'business': 89.04109589041096,\n",
       " 'entertainment': 93.44262295081967,\n",
       " 'politics': 92.33333333333333,\n",
       " 'sport': 98.36065573770492,\n",
       " 'tech': 92.09302325581395}"
      ]
     },
     "execution_count": 28,
     "metadata": {},
     "output_type": "execute_result"
    }
   ],
   "source": [
    "p5_emb = mean_precisions_per_class(train_embed_matrix, bbc_train['Category'], test_embed_matrix, bbc_test['Category'], 5)\n",
    "p5_emb"
   ]
  },
  {
   "cell_type": "code",
   "execution_count": 29,
   "metadata": {},
   "outputs": [
    {
     "data": {
      "text/html": [
       "<div>\n",
       "<style scoped>\n",
       "    .dataframe tbody tr th:only-of-type {\n",
       "        vertical-align: middle;\n",
       "    }\n",
       "\n",
       "    .dataframe tbody tr th {\n",
       "        vertical-align: top;\n",
       "    }\n",
       "\n",
       "    .dataframe thead th {\n",
       "        text-align: right;\n",
       "    }\n",
       "</style>\n",
       "<table border=\"1\" class=\"dataframe\">\n",
       "  <thead>\n",
       "    <tr style=\"text-align: right;\">\n",
       "      <th></th>\n",
       "      <th>Category</th>\n",
       "      <th>precision@5</th>\n",
       "    </tr>\n",
       "  </thead>\n",
       "  <tbody>\n",
       "    <tr>\n",
       "      <th>0</th>\n",
       "      <td>business</td>\n",
       "      <td>89.041096</td>\n",
       "    </tr>\n",
       "    <tr>\n",
       "      <th>1</th>\n",
       "      <td>entertainment</td>\n",
       "      <td>93.442623</td>\n",
       "    </tr>\n",
       "    <tr>\n",
       "      <th>2</th>\n",
       "      <td>politics</td>\n",
       "      <td>92.333333</td>\n",
       "    </tr>\n",
       "    <tr>\n",
       "      <th>3</th>\n",
       "      <td>sport</td>\n",
       "      <td>98.360656</td>\n",
       "    </tr>\n",
       "    <tr>\n",
       "      <th>4</th>\n",
       "      <td>tech</td>\n",
       "      <td>92.093023</td>\n",
       "    </tr>\n",
       "  </tbody>\n",
       "</table>\n",
       "</div>"
      ],
      "text/plain": [
       "        Category  precision@5\n",
       "0       business    89.041096\n",
       "1  entertainment    93.442623\n",
       "2       politics    92.333333\n",
       "3          sport    98.360656\n",
       "4           tech    92.093023"
      ]
     },
     "execution_count": 29,
     "metadata": {},
     "output_type": "execute_result"
    },
    {
     "data": {
      "image/png": "[encoded data removed]",
      "text/plain": [
       "<Figure size 432x288 with 1 Axes>"
      ]
     },
     "metadata": {
      "needs_background": "light"
     },
     "output_type": "display_data"
    }
   ],
   "source": [
    "df_p5_emb = pd.Series(p5_emb, name='precision@5')\n",
    "df_p5_emb.index.name = 'Category'\n",
    "df_p5_emb = df_p5_emb.reset_index()\n",
    "\n",
    "df_p5_emb.plot.bar(x = 'Category', y = 'precision@5')\n",
    "df_p5_emb"
   ]
  },
  {
   "cell_type": "markdown",
   "metadata": {},
   "source": [
    "||Business|entertainment|politics|sport|tech|\n",
    "|---|--------|------------|---|---|---|\n",
    "|BoW|84.383562|84.262295|88.666667|97.704918|88.837209|\n",
    "|W-E|89.041095|93.442623|92.333333|98.360656|92.093023|\n",
    "\n",
    "Podemos observar una clara mejora en todas las categorías al usar el sistema de word-embedings sobre los documentos. A diferencia de la representación de bolsa de palabras, word-embedings representa de forma similar aquellas palabras (o textos en este caso) que guardan un significado similar.\n",
    "\n",
    "Como los textos ya no se clasifican según su vocabulario, sino según su similitud, la falta de vocabulario concreto perteneciente a una determinada categoría o el uso continuado de palabras sin tanto significado que hayan escapado del `stop_words` ya no causa tanta confusión, lo que provoca el aumento de precisión en todas la  categorias."
   ]
  },
  {
   "cell_type": "markdown",
   "metadata": {
    "id": "d-J6GYut4DGu"
   },
   "source": [
    "## 4) Análisis de errores\n",
    "\n",
    "Vamos a investigar los resultados para entender mejor dónde están fallando los procesos de recuperación. Sigue los siguientes pasos.\n",
    "\n",
    "\n",
    "1. Identifica la categoría de noticias donde la precisión media haya mejorado más al incorporar word-embeddings\n",
    "2. Para dicha categoría, identifica la consulta donde la precisión haya mejorado más al usar word-embeddings\n",
    "3. Muestra el texto original de la consulta y los términos que aparecen en las dos vectorizaciones tf-idf que usamos (recuerda que usamos diccionarios distintos para las vectorizaciones bolsa de palabras y word-embeddings).\n",
    "4. Identifica las noticias recuperadas para dicha consulta para las dos aproximaciones y sus categorías (TF-IDF puro y con word-embeddings)\n",
    "5. Muestra la intersección de términos entre la consulta y la primera noticia mal recuperada usando TF-IDF puro.\n",
    "6. Muestra la intersección de términos entre la consulta y la última noticia bien recuperada usando word-embeddings.\n",
    "7. A la luz de todo lo anterior, razona sobre por qué crees que el TF-IDF no fue capaz de clasificar bien la noticia y el word-embedding sí.\n",
    "\n",
    "\n",
    "Puedes usar el código que calcula la intersección de términos que ponemos a continuación"
   ]
  },
  {
   "cell_type": "markdown",
   "metadata": {},
   "source": [
    "##### 1. Identifica la categoría de noticias donde la precisión media haya mejorado más al incorporar word-embeddings"
   ]
  },
  {
   "cell_type": "code",
   "execution_count": 30,
   "metadata": {},
   "outputs": [
    {
     "data": {
      "text/html": [
       "<div>\n",
       "<style scoped>\n",
       "    .dataframe tbody tr th:only-of-type {\n",
       "        vertical-align: middle;\n",
       "    }\n",
       "\n",
       "    .dataframe tbody tr th {\n",
       "        vertical-align: top;\n",
       "    }\n",
       "\n",
       "    .dataframe thead th {\n",
       "        text-align: right;\n",
       "    }\n",
       "</style>\n",
       "<table border=\"1\" class=\"dataframe\">\n",
       "  <thead>\n",
       "    <tr style=\"text-align: right;\">\n",
       "      <th></th>\n",
       "      <th>Category</th>\n",
       "      <th>Difference</th>\n",
       "    </tr>\n",
       "  </thead>\n",
       "  <tbody>\n",
       "    <tr>\n",
       "      <th>0</th>\n",
       "      <td>business</td>\n",
       "      <td>4.657534</td>\n",
       "    </tr>\n",
       "    <tr>\n",
       "      <th>1</th>\n",
       "      <td>entertainment</td>\n",
       "      <td>9.180328</td>\n",
       "    </tr>\n",
       "    <tr>\n",
       "      <th>2</th>\n",
       "      <td>politics</td>\n",
       "      <td>3.666667</td>\n",
       "    </tr>\n",
       "    <tr>\n",
       "      <th>3</th>\n",
       "      <td>sport</td>\n",
       "      <td>0.655738</td>\n",
       "    </tr>\n",
       "    <tr>\n",
       "      <th>4</th>\n",
       "      <td>tech</td>\n",
       "      <td>3.255814</td>\n",
       "    </tr>\n",
       "  </tbody>\n",
       "</table>\n",
       "</div>"
      ],
      "text/plain": [
       "        Category  Difference\n",
       "0       business    4.657534\n",
       "1  entertainment    9.180328\n",
       "2       politics    3.666667\n",
       "3          sport    0.655738\n",
       "4           tech    3.255814"
      ]
     },
     "execution_count": 30,
     "metadata": {},
     "output_type": "execute_result"
    }
   ],
   "source": [
    "df_diff = pd.DataFrame([], columns=['Category', 'Difference'])\n",
    "df_diff['Difference'] = abs(df_p5_emb['precision@5'] - df_p5['precision@5'])\n",
    "df_diff['Category'] = df_p5['Category']\n",
    "df_diff"
   ]
  },
  {
   "cell_type": "markdown",
   "metadata": {},
   "source": [
    "Hemos creado un nuevo dataframe simplemente para ver los datos más facilmente.\n",
    "Vemos que `entertainment` es la categoría que más a mejorado."
   ]
  },
  {
   "cell_type": "markdown",
   "metadata": {},
   "source": [
    "##### 2. Para dicha categoría, identifica la consulta donde la precisión haya mejorado más al usar word-embeddings"
   ]
  },
  {
   "cell_type": "code",
   "execution_count": 37,
   "metadata": {},
   "outputs": [],
   "source": [
    "l = list()\n",
    "for i in range(0,298):\n",
    "    idx = knn(test_preprocessed[i],train_preprocessed, 5)\n",
    "    y_selected = np.take(bbc_train['Category'], idx)\n",
    "    precision = precision_at_k(y_selected, 'entertainment', 5)\n",
    "    l.append(precision)"
   ]
  },
  {
   "cell_type": "code",
   "execution_count": 38,
   "metadata": {},
   "outputs": [],
   "source": [
    "l2 = list()\n",
    "for i in range(0,298):\n",
    "    idx = knn(test_embed_matrix[i], train_embed_matrix, 5)\n",
    "    y_selected = np.take(bbc_train['Category'], idx)\n",
    "    precision = precision_at_k(y_selected, 'entertainment', 5)\n",
    "    l2.append(precision)"
   ]
  },
  {
   "cell_type": "code",
   "execution_count": 39,
   "metadata": {},
   "outputs": [
    {
     "data": {
      "text/plain": [
       "110"
      ]
     },
     "execution_count": 39,
     "metadata": {},
     "output_type": "execute_result"
    }
   ],
   "source": [
    "difference = []\n",
    "\n",
    "zip_object = zip(l2, l)\n",
    "for list1_i, list2_i in zip_object:\n",
    "    difference.append(list1_i-list2_i)\n",
    "\n",
    "np.array(difference).argmax()"
   ]
  },
  {
   "cell_type": "markdown",
   "metadata": {},
   "source": [
    "Hemos identificado el texto que más a mejorado al usar las word-embeddings.\n",
    "\n",
    "Este texto se encuentra en la posición 110 de bbc_test"
   ]
  },
  {
   "cell_type": "markdown",
   "metadata": {},
   "source": [
    "##### 3. Muestra el texto original de la consulta y los términos que aparecen en las dos vectorizaciones tf-idf que usamos (recuerda que usamos diccionarios distintos para las vectorizaciones bolsa de palabras y word-embeddings)."
   ]
  },
  {
   "cell_type": "code",
   "execution_count": 40,
   "metadata": {},
   "outputs": [
    {
     "data": {
      "text/plain": [
       "'holmes wins  2004 top tv moment  sprinter kelly holmes  olympic victory has been named the top television moment of 2004 in a bbc poll.  holmes  800m gold medal victory beat favourite moments from drama  comedy and factual programmes  as voted by television viewers. natasha kaplinsky s strictly come dancing win was top entertainment moment and a little britain breast feeding sketch won the comedy prize. the 2004 tv moments will be shown on bbc one at 2000 gmt on wednesday. double gold medal winner holmes topped the best sports moment category  beating maria sharapova s wimbledon triumph and matthew pinsent s rowing victory at the olympics.  she then went on to take the overall prize of golden tv moment. the sight of former royal correspondent jennie bond with dozens of rats crawling over her in itv s i m a celebrity get me out of here was named best factual entertainment moment. michael buerk s return to ethiopia  20 years after originally reporting its famine  topped the factual category for bbc programme this world. long-running soap eastenders won the best popular drama moment title when character dot confided in den watts that she was unwell.'"
      ]
     },
     "execution_count": 40,
     "metadata": {},
     "output_type": "execute_result"
    }
   ],
   "source": [
    "bbc_test['Text'].values[110]"
   ]
  },
  {
   "cell_type": "code",
   "execution_count": 74,
   "metadata": {},
   "outputs": [
    {
     "data": {
      "text/plain": [
       "'entertainment'"
      ]
     },
     "execution_count": 74,
     "metadata": {},
     "output_type": "execute_result"
    }
   ],
   "source": [
    "bbc_test['Category'].values[110]"
   ]
  },
  {
   "cell_type": "code",
   "execution_count": 41,
   "metadata": {},
   "outputs": [
    {
     "name": "stdout",
     "output_type": "stream",
     "text": [
      "Mensaje 110 vectorizado: ['20' '2000' '2004' '800m' 'bbc' 'beat' 'beating' 'best' 'bond' 'breast'\n",
      " 'britain' 'category' 'celebrity' 'character' 'come' 'comedy' 'confided'\n",
      " 'correspondent' 'dancing' 'den' 'dot' 'double' 'dozens' 'drama'\n",
      " 'eastenders' 'entertainment' 'ethiopia' 'factual' 'famine' 'favourite'\n",
      " 'feeding' 'gmt' 'gold' 'golden' 'holmes' 'itv' 'kelly' 'little' 'long'\n",
      " 'maria' 'matthew' 'medal' 'michael' 'moment' 'moments' 'named' 'natasha'\n",
      " 'olympic' 'olympics' 'originally' 'overall' 'poll' 'popular' 'prize'\n",
      " 'programme' 'programmes' 'rats' 'reporting' 'return' 'royal' 'running'\n",
      " 'sharapova' 'shown' 'sight' 'sketch' 'soap' 'sports' 'sprinter'\n",
      " 'strictly' 'television' 'title' 'topped' 'triumph' 'tv' 'victory'\n",
      " 'viewers' 'voted' 'watts' 'wednesday' 'went' 'wimbledon' 'win' 'winner'\n",
      " 'wins' 'won' 'world' 'years'] \n",
      "\n"
     ]
    }
   ],
   "source": [
    "write_terms(feature_names, None, test_vector_data, 110)"
   ]
  },
  {
   "cell_type": "code",
   "execution_count": 42,
   "metadata": {},
   "outputs": [
    {
     "name": "stdout",
     "output_type": "stream",
     "text": [
      "Mensaje 110 vectorizado: ['years' 'world' 'long' 'wednesday' 'won' 'best' 'win' '20' 'come'\n",
      " 'little' 'went' 'television' 'return' 'named' 'victory' '2000' 'britain'\n",
      " 'title' '2004' 'gold' 'michael' 'running' 'popular' 'tv' 'sports' 'beat'\n",
      " 'olympic' 'royal' 'overall' 'double' 'winner' 'character' 'originally'\n",
      " 'olympics' 'moment' 'medal' 'shown' 'gmt' 'bond' 'poll' 'wins' 'prize'\n",
      " 'voted' 'entertainment' 'dozens' 'golden' 'drama' 'beating' 'comedy'\n",
      " 'category' 'programme' 'bbc' 'reporting' 'maria' 'kelly' 'viewers'\n",
      " 'moments' 'matthew' 'wimbledon' 'sight' 'ethiopia' 'celebrity' 'breast'\n",
      " 'dancing' 'correspondent' 'triumph' 'topped' 'feeding' 'strictly' 'soap'\n",
      " 'programmes' 'holmes' 'favourite' 'den' 'dot' 'watts' 'famine' 'rats'\n",
      " 'sketch' 'sharapova' 'rowing' 'itv' 'sprinter' 'factual' 'natasha'\n",
      " 'crawling' 'confided' '800m' 'eastenders' 'jennie' 'unwell' 'pinsent'\n",
      " 'kaplinsky' 'buerk'] \n",
      "\n"
     ]
    }
   ],
   "source": [
    "feature_names_emb = vectorizer_emb.get_feature_names()\n",
    "write_terms(feature_names_emb, None, test_vector_data_emb, 110)"
   ]
  },
  {
   "cell_type": "markdown",
   "metadata": {},
   "source": [
    "##### 4. Identifica las noticias recuperadas para dicha consulta para las dos aproximaciones y sus categorías (TF-IDF puro y con word-embeddings)"
   ]
  },
  {
   "cell_type": "markdown",
   "metadata": {},
   "source": [
    "###### TF-IDF puro"
   ]
  },
  {
   "cell_type": "code",
   "execution_count": 43,
   "metadata": {},
   "outputs": [
    {
     "data": {
      "text/plain": [
       "array([ 23, 992, 117, 915, 421], dtype=int64)"
      ]
     },
     "execution_count": 43,
     "metadata": {},
     "output_type": "execute_result"
    }
   ],
   "source": [
    "knn(test_preprocessed[110],train_preprocessed, 5)"
   ]
  },
  {
   "cell_type": "code",
   "execution_count": 44,
   "metadata": {},
   "outputs": [
    {
     "name": "stdout",
     "output_type": "stream",
     "text": [
      "holmes starts 2005 with gb events kelly holmes will start 2005 with a series of races in britain.  holmes will make her first track appearance on home soil since winning double olympic gold in january s norwich union international in glasgow. she will also run in the grand prix in birmingham in february and may defend her indoor aaa 800m title in sheffield earlier that month.  i am still competitive and still want to win   she said.  i m an athlete and i can t wait to get back on the track.  she added:  these events are also a great opportunity to thank the british public for the enormous levels of support they have given me from the moment i stepped off that plane from greece.  the glasgow meeting will see holmes compete over 1500m in a five-way match against sweden  france  russia and italy.\n",
      "\n",
      "sport\n"
     ]
    }
   ],
   "source": [
    "print(bbc_train['Text'].values[23])\n",
    "print()\n",
    "print(bbc_train['Category'].values[23])"
   ]
  },
  {
   "cell_type": "code",
   "execution_count": 45,
   "metadata": {},
   "outputs": [
    {
     "name": "stdout",
     "output_type": "stream",
     "text": [
      "holmes secures comeback victory britain s kelly holmes marked her first appearance on home soil since winning double olympic gold with 1500m victory at the norwich union international.  holmes hit the front just before the bell in front of a sell-out crowd in glasgow and cruised to victory in a time of four minutes 14.74 seconds.  it was nice to get that out of the way. i was nervous about whether i would actually be able to get round.  i felt good. i just had to relax and use my racing knowledge   said holmes.  it was all about winning in front of my home crowd. the time is irrelevant.  i got round in one piece and didn t disgrace myself. now it s about going forward.  the reception i ve had since the olympics has been amazing and that s why i wanted to keep running this year  because i get a buzz from the crowd.  holmes ran a tactically perfect race to finish clear of france s hind dehiba and russia s svetlana cherkasova. the olympic 800m and 1500m champion s time was inside the qualifying mark for the european indoor championships in madrid in march. but the 34-year-old would not reveal whether she intended to run or not  having previously indicated she would leave a decision until after the birmingham grand prix on 18 february.\n",
      "\n",
      "sport\n"
     ]
    }
   ],
   "source": [
    "print(bbc_train['Text'].values[117])\n",
    "print()\n",
    "print(bbc_train['Category'].values[117])"
   ]
  },
  {
   "cell_type": "code",
   "execution_count": 46,
   "metadata": {},
   "outputs": [
    {
     "name": "stdout",
     "output_type": "stream",
     "text": [
      "britain boosted by holmes double athletics fans endured a year of mixed emotions in 2004 as stunning victories went hand-in-hand with disappointing defeats and more drugs scandals.  kelly holmes finally fulfilled her potential by storming to double gold on the track at the olympic games. holmes helped erase the gloom hanging over team gb after their biggest medal hope  paula radcliffe  dropped out of the marathon and then the 10 000m. britain s men s 4x100m relay team also did their bit by taking a shock gold. holmes had started the year in disappointing style  falling over in the final of 1500m at the world indoor championships where she was favourite. her olympic build-up was clouded by self doubt but that proved unfounded as she overhauled rival maria mutola to win the 800m - her first global title. just five days later  the 34-year-old made it double gold in the 1500m. it was the first time in 84 years a briton has achieved the olympic middle-distance double. while holmes left athens as the star of team gb  it was radcliffe who carried expectations before the august games.  the 30-year-old marathon world record holder went into the athens event as favourite but an exhausted radcliffe dropped out after 23 miles in tears. her decision to enter the 10 000m five days later also backfired as she again pulled out with eight laps remaining.  but radcliffe helped put her olympic trauma behind her with a thrilling win in november s new york marathon. the 4x100m team grabbed some last-gasp glory for the british men s olympic squad after a poor start to the games.  it seemed as though athens would be the first games where the men would fail to win a medal with michael east the only individual track finalist in the 1500m. but darren campell  jason gardener  marlon devonish and mark lewis-francis made amends in the sprint relay. the quartet held off favourites the usa to win britain s first relay medal since 1912 in 38.07 seconds. gardener added the olympic relay crown to his world indoor title over 60m and  just like holmes  finally lived up to his promise in 2004. kelly sotherton completed team gb s athletics medal haul in athens with a surprise bronze in the heptathlon. the 28-year-old won her first championship medal since becoming a full-time athlete in 2003.  but it was a different story for britain s defending champion denise lewis  who withdrew on day two of the competition after some poor results. lewis  who was troubled by injury  has ruled out retiring while sotherton is tipped to build on her success. the athens olympics proved to be a landmark occasion for steve backley  who retired from competition after finishing fourth in the javelin. the battling 35-year-old leaves the sport with a vast medal haul including two silvers and one olympic bronze.  and backley s departure was balanced by the return of injury-hit decathlete dean macey  who came fourth in athens.  the continued improvement of sprinter abi oyepitan and long jumper chris tomlinson also boosted team gb. sadly  the 2004 olympics did not escape the problems of drugs misuse. on the eve of the games  greek sprinters kostas kenteris and katerina thanou missed a drugs test and claimed to have been involved in a road crash.  kenteris  the 200m champion in 2000  and thanou have since been charged by the greek authorities and await trial. at the games  adrian annus (hammer)  robert fazelas (discus) and irina korzhanenko (shot) were all stripped of their titles because of doping issues. hungarian compatriots annus and fazelas both refused to give urine samples while russian korzhanenko tested positive for the steroid stanozolol.  the fallout from the thg scandal  which rocked the sport in 2003  continued to impact in olympic year. britain s 4x100m team took gold without the services of dwain chambers  who was handed a two-year ban in february after testing positive for steroid thg.  american kelli white was suspended and stripped of her world 100m and 200m titles after failing a drugs test. and world 400m champion jerome young landed a life ban from us chiefs after a second doping offence. russian pole vaulter yelena isinbayeva provided some light relief by smashing the world record seven times on her way to the world indoor and olympic titles. her rivalry with compatriot svetlana feofanova livened up the field events. morocco s hicham el guerrouj also delighted fans by racing to a historic olympic double in the 1500m and 5 000m.  and though there was no paula radcliffe in the london marathon  there was plenty of drama as kenyans evans rutto and margaret okayo took the titles. rutto held on to win despite slipping on some cobblestones and tumbling into a barrier. okayo also had to battle back after mistiming her tactics but clinched victory on her debut.\n",
      "\n",
      "sport\n"
     ]
    }
   ],
   "source": [
    "print(bbc_train['Text'].values[421])\n",
    "print()\n",
    "print(bbc_train['Category'].values[421])"
   ]
  },
  {
   "cell_type": "code",
   "execution_count": 47,
   "metadata": {},
   "outputs": [
    {
     "name": "stdout",
     "output_type": "stream",
     "text": [
      "holmes urged to compete at worlds jolanda ceplak has urged britain s kelly holmes to continue competing at the major championships.  double olympic gold medallist holmes has strongly hinted she will not run in this year s worlds and is undecided about next month s european indoors. but world indoor 800m record holder ceplak said:  there is never an easy race when she is in the field. there is only excitement at what might happen.  it is good for the sport. she always fetches the best out of everyone.  ceplak has been a great rival of holmes  during the briton s career and the pair fell out when holmes questioned the manner of the slovenian s runaway 800m victory at the 2002 european championships. but the controversy has since been forgotten  with ceplak acting as pacemaker for holmes  failed attempt on the british indoor 1500m record at the norwich union grand prix in birmingham in 2003.  ceplak added:  i like running against her - you know the race is always going to be fast.  that is the sort of competition that i like. she is special to me. she was like my idol from the beginning of my career.  meanwhile  ceplak will be looking to follow up last saturday s win in boston with a fast time and victory in friday s night of athletics in erfurt  germany. britain s jason gardener had been expected to defend his 60m title in erfurt but instead he will save himself for a competition in leipzig on sunday. gardener s decision means scotland s 400m man ian mackie will carry british hopes in what looks sure to be a tough preparation for next weekend s norwich union european trials in sheffield.\n",
      "\n",
      "sport\n"
     ]
    }
   ],
   "source": [
    "print(bbc_train['Text'].values[915])\n",
    "print()\n",
    "print(bbc_train['Category'].values[915])"
   ]
  },
  {
   "cell_type": "code",
   "execution_count": 48,
   "metadata": {},
   "outputs": [
    {
     "name": "stdout",
     "output_type": "stream",
     "text": [
      "holmes is hit by hamstring injury kelly holmes has been forced out of this weekend s european indoor athletics championships after picking up a hamstring injury during training.  the double olympic champion said:  i am very disappointed that i have been forced to withdraw.  i can hardly walk at the moment and i won t be able to do any running for two or three weeks although i ll be keeping fit as best i can.  holmes will have now have intensive treatment in south africa.  the 34-year-old made a cautious start to the season but looked back to her best when she stormed to the 1 000m title at the birmingham grand prix 10 days ago. after that race and more progress in training  holmes revealed she had decided to compete at the european indoors before her plans were wrecked last weekend.  on saturday night i pulled my hamstring running the last bend on my final 200m of the night   said holmes.  i was going really  really well when i felt a massive spasm in my left leg and my hamstring blew.  i saw the doctor here and he has said it is not serious but it s frustrating missing madrid when i knew i was in great shape.  holmes has now been advised by her coach margot jennings not to rush back into training and it is unlikely she will compete again until the summer. helen clitheroe now goes to madrid as the only british competitor in the women s 1500m while there will be no representative in the 800m.\n",
      "\n",
      "sport\n"
     ]
    }
   ],
   "source": [
    "print(bbc_train['Text'].values[992])\n",
    "print()\n",
    "print(bbc_train['Category'].values[992])"
   ]
  },
  {
   "cell_type": "markdown",
   "metadata": {},
   "source": [
    "##### Word-Embeddings"
   ]
  },
  {
   "cell_type": "code",
   "execution_count": 49,
   "metadata": {},
   "outputs": [
    {
     "data": {
      "text/plain": [
       "array([1135,  408,  266,  283,  101], dtype=int64)"
      ]
     },
     "execution_count": 49,
     "metadata": {},
     "output_type": "execute_result"
    }
   ],
   "source": [
    "knn(test_embed_matrix[110],train_embed_matrix, 5)"
   ]
  },
  {
   "cell_type": "code",
   "execution_count": 50,
   "metadata": {},
   "outputs": [
    {
     "name": "stdout",
     "output_type": "stream",
     "text": [
      "celebrities get their skates on former england footballer paul gascoigne will join eastenders  actress scarlett johnson on bbc one s strictly ice dancing.  the one-off christmas special will also star television presenter carol smillie and jessica taylor from liberty-x. each celebrity will be paired with a professional skater to impress a panel of judges and win the audience vote. the bbc is yet to confirm the final two stars who will battle it out to become ice king or queen.  veteran presenter bruce forsyth and tess daly will host the programme  which follows hot on the heels of the current saturday night series strictly come dancing. the celebrities will have to practise a stipulated ice dance and perform it at an ice rink with their partner. the judges will have 50% of the vote to decide who wins the contest  with the ice rink audience making up the rest of the vote. the show forms part of the bbc s festive schedule. ice skating duo jayne torvill and christopher dean are to front a similar celebrity ice dance show for itv  titled stars on thin ice. the contestants on stars on thin ice will each be paired up with a professional skater and will learn a new routine every week. at the end of the series  one celebrity will be crowned the winner.\n",
      "\n",
      "entertainment\n"
     ]
    }
   ],
   "source": [
    "print(bbc_train['Text'].values[101])\n",
    "print()\n",
    "print(bbc_train['Category'].values[101])"
   ]
  },
  {
   "cell_type": "code",
   "execution_count": 51,
   "metadata": {},
   "outputs": [
    {
     "name": "stdout",
     "output_type": "stream",
     "text": [
      "x factor show gets second series tv talent show the x factor is to return for a second series after being recommissioned by itv.  judges simon cowell  louis walsh and sharon osbourne are in discussions to sign up for the new series. the final of the first series will take place on 11 december. last saturday s show was beaten in the ratings by the bbc s strictly come dancing.  working on the x factor has been a blast... i predict series two will be even better   said cowell.  i think the production team have done an amazing job   he added.  the pop idol-style show votes off a group or contestant every week - the two that receive the lowest public vote have to perform a second time before the judges make a final decision. rowetta satchell  steve brookstein  tabby callaghan and group g4 are the remaining finalists. itv s controller of entertainment  claudia rosencrantz  said she had no hesitation in recommissioning the show.  there s much more to come this series as we build towards the final next month and it s great to have secured this terrific format for our viewers for another series   she said.\n",
      "\n",
      "entertainment\n"
     ]
    }
   ],
   "source": [
    "print(bbc_train['Text'].values[266])\n",
    "print()\n",
    "print(bbc_train['Category'].values[266])"
   ]
  },
  {
   "cell_type": "code",
   "execution_count": 52,
   "metadata": {},
   "outputs": [
    {
     "name": "stdout",
     "output_type": "stream",
     "text": [
      "oscar host rock to keep it clean oscar host chris rock said he will steer clear of bad language when he fronts the awards on 27 february.  the comedian  who recently got into trouble for poking fun at the ceremony  is renowned for his heavy use of expletives during his stand-up routine. the live ceremony will be broadcast with a transmission delay on us network abc to ensure swear words are removed.  i ve been on tv and been funny not cursing   he said during an interview for cbs network s 60 minutes show.  as far as content is concerned  i will talk about the movies. i m not really worried about it. i m sure abc might be more worried about it than me   he added.  the 40-year-old comedian caused a furore when he said in an interview with us magazine entertainment weekly recently that he hardly ever watched the oscars and labelled awards ceremonies  idiotic . the show s producers defended rock and confirmed that he would still be presenting the oscar ceremony  saying his comments were  humorous digs . meanwhile  the academy has announced that oscar-nominated actress natalie portman will present an award at the ceremony. portman  who has been nominated for a best supporting actress gong for her role in mike nichols  closer  joins a growing list of stars set to bestow an award at the ceremony including dustin hoffman  drew barrymore  renee zellweger and british-born actress kate winslet.\n",
      "\n",
      "entertainment\n"
     ]
    }
   ],
   "source": [
    "print(bbc_train['Text'].values[283])\n",
    "print()\n",
    "print(bbc_train['Category'].values[101])"
   ]
  },
  {
   "cell_type": "code",
   "execution_count": 53,
   "metadata": {},
   "outputs": [
    {
     "name": "stdout",
     "output_type": "stream",
     "text": [
      "hollywood ready for oscars night hollywood is preparing for the biggest night in the film world s calendar  the 77th academy awards  on sunday.  a host of stars are expected to grace the red carpet outside los angeles  kodak theatre  including johnny depp  cate blanchett and leonardo dicaprio. british actors in attendance include nominees clive owen  imelda staunton  kate winslet and director mike leigh. the aviator leads the shortlist  but critics believe the night may belong to clint eastwood s million dollar baby. a recent poll of us pundits found eastwood s boxing drama had become the new favourite to win best film over the howard hughes biopic.  if the 74-year-old does win  he will become the oldest person ever to be named best director at the ceremony. uk critics still favour the aviator for best film  but believe the best director title will generate a close fought battle between eastwood and martin scorsese.  scorsese has never won the best director prize  despite four previous nominations for films including raging bull  goodfellas and gangs of new york. eastwood has won best director once before  for unforgiven in 1993. most experts predict the twice-nominated jamie foxx will win best actor for his portrayal of singer ray charles  while vera drake star imelda staunton looks likely to lose out in the best actress field to hilary swank in million dollar baby. the uk s highest hopes remain with clive owen  who has scooped both the golden globe and the bafta for his supporting role in closer. actor and comedian chris rock will host the event  which will be broadcast with a seven-second time delay to allow censors to cut out any unsuitable content.   we have the bleep machine ready  but bleeps will be used as needed   producer gil cates told reporters. however  he added that he strongly disapproved of the growing tendency to censor live broadcasts on us tv.  he also played down fears that rock  who is known for using strong language in his stand-up routines  might cause controversy on the night. the 40-year-old comic has already promised not to swear live on air during the show.  chris has a sense of humour and everything he says is really said humorously   cates said.  you need a movie star and someone who is a stand-up comic so they can deal with the vicissitudes of the show.  security will also be tight  with police employing a system to detect sarin nerve gas.  we are pulling out all the stops   said john miller  chief of counterterrorism at the los angeles police department. the show is  a symbol of american culture and has the potential to be a high-visibility target   he added. meanwhile  organisers have erected a canopy over the red carpet following an outbreak of torrential rain in los angeles over the past week. cates said the covers would be removed if the threat of wet weather receded. details have also emerged of the contents of this year s gift bags  which are given to nominees and presenters on the night. this year s bags will include a gift certificate for a luxury beach resort  a pair of mink eyelashes and a kitchen set with a year s supply of tea and coffee. the event will be televised by the abc network from 1700 local time (0100 gmt)  and on sky movies in the uk from 0130 gmt.\n",
      "\n",
      "entertainment\n"
     ]
    }
   ],
   "source": [
    "print(bbc_train['Text'].values[408])\n",
    "print()\n",
    "print(bbc_train['Category'].values[408])"
   ]
  },
  {
   "cell_type": "code",
   "execution_count": 54,
   "metadata": {},
   "outputs": [
    {
     "name": "stdout",
     "output_type": "stream",
     "text": [
      "south bank awards honour hit soap coronation street has become the first soap to triumph at the south bank show awards  which traditionally reward highbrow and groundbreaking culture.  the soap beat fellow itv1 show filthy love and channel 4 s shameless to win the best tv drama prize on thursday. little britain was named best comedy while franz ferdinand beat morrissey and the libertines to the music award. shane meadows  dead man s shoes picked up the best film award  beating shaun of the dead and my summer of love. the two award ceremonies reflect the achievements the industry believes have been made in the last year.  in 2004  coronation street pulled away from its bbc one rival eastenders in the ratings and dominated other tv awards. last year  the south bank award for best tv drama went to steven poliakoff s period piece the lost prince  while bloody sunday  about the 1972 killings in northern ireland  won in 2003. in other south bank categories  little britain s second series beat nighty night and the green wing to the comedy trophy while alan bennett s the history boys won in the theatre category. author david mitchell made up for losing out in the booker prize to alan hollinghurst by beating him to the literary award with his book cloud atlas. shameless  state of play and clocking off creator paul abbott got a lifetime achievement award while former grange hill actress amma asante won the breakthrough award for writing and directing her first film  a way of life.\n",
      "\n",
      "entertainment\n"
     ]
    }
   ],
   "source": [
    "print(bbc_train['Text'].values[1135])\n",
    "print()\n",
    "print(bbc_train['Category'].values[1135])"
   ]
  },
  {
   "cell_type": "markdown",
   "metadata": {},
   "source": [
    "##### 5. Muestra la intersección de términos entre la consulta y la primera noticia mal recuperada usando TF-IDF puro."
   ]
  },
  {
   "cell_type": "code",
   "execution_count": 55,
   "metadata": {},
   "outputs": [],
   "source": [
    "def terms_in_message(feature_names,vector_data,index):\n",
    "    '''\n",
    "    Devuelve un conjunto los términos presentes en un mensaje representado como bolsa de palabras.\n",
    "    \n",
    "    - feature_names: terminos usados para vectorizar\n",
    "    - vector_data: matriz (dispersa) de mensaje vectorizados\n",
    "    - index: posición del mensaje a mostrar\n",
    "    '''\n",
    "    mensaje=vector_data[index,:]>0\n",
    "    terminos_presentes = ma.array(feature_names, mask = ~(mensaje[0].toarray()))\n",
    "\n",
    "    return set(terminos_presentes.compressed())"
   ]
  },
  {
   "cell_type": "code",
   "execution_count": 58,
   "metadata": {},
   "outputs": [],
   "source": [
    "s1 = terms_in_message(feature_names, train_vector_data,23)"
   ]
  },
  {
   "cell_type": "code",
   "execution_count": 59,
   "metadata": {},
   "outputs": [],
   "source": [
    "s2 = terms_in_message(feature_names, test_vector_data, 110)"
   ]
  },
  {
   "cell_type": "code",
   "execution_count": 60,
   "metadata": {},
   "outputs": [
    {
     "data": {
      "text/plain": [
       "{'800m',\n",
       " 'britain',\n",
       " 'double',\n",
       " 'gold',\n",
       " 'holmes',\n",
       " 'kelly',\n",
       " 'moment',\n",
       " 'olympic',\n",
       " 'title',\n",
       " 'win'}"
      ]
     },
     "execution_count": 60,
     "metadata": {},
     "output_type": "execute_result"
    }
   ],
   "source": [
    "set.intersection(s1,s2)"
   ]
  },
  {
   "cell_type": "markdown",
   "metadata": {},
   "source": [
    "##### 6. Muestra la intersección de términos entre la consulta y la última noticia bien recuperada usando word-embeddings."
   ]
  },
  {
   "cell_type": "code",
   "execution_count": 71,
   "metadata": {},
   "outputs": [],
   "source": [
    "s1_emb = terms_in_message(feature_names_emb, train_preprocessed_emb, 101)"
   ]
  },
  {
   "cell_type": "code",
   "execution_count": 72,
   "metadata": {},
   "outputs": [],
   "source": [
    "s2_emb = terms_in_message(feature_names_emb, test_preprocessed_emb, 110)"
   ]
  },
  {
   "cell_type": "code",
   "execution_count": 73,
   "metadata": {},
   "outputs": [
    {
     "data": {
      "text/plain": [
       "{'bbc',\n",
       " 'celebrity',\n",
       " 'come',\n",
       " 'dancing',\n",
       " 'eastenders',\n",
       " 'itv',\n",
       " 'programme',\n",
       " 'strictly',\n",
       " 'television',\n",
       " 'win',\n",
       " 'winner',\n",
       " 'wins'}"
      ]
     },
     "execution_count": 73,
     "metadata": {},
     "output_type": "execute_result"
    }
   ],
   "source": [
    "set.intersection(s1_emb,s2_emb)"
   ]
  },
  {
   "cell_type": "markdown",
   "metadata": {},
   "source": [
    "Viendo los términos comunes entre la consulta y las noticias, vemos que la intersección usando TF-IDF puro esta llena de palabras relacionadas con el deporte: 800m, gold, olympic, title o win. Justamente la categoría `sport` es con la que el vectorizador con TF-IDF ha confundido la noticia.\n",
    "\n",
    "Viendo los términos comunes usando Word-Embeddings está llena de palabras de `entertainment`: celebrity, dancing, programme o television. Gracias a estas palabras la ha clasificado correctamente.\n",
    "\n",
    "Puede ser que con TF-IDF puro se haya equivocado ya que solo se basa en la frecuencia de aparición de cada palabra en los diferentes textos. Con Word-Embeddings, aunque la palabra no aparezca, es capaz de relacionar diferentes palabras que puedan tener algo que ver.\n",
    "\n",
    "Por ello, puede que en el texto haya palabras que no sean textualmente iguales, pero si haya palabras con un significado similar o que estén relacionadas."
   ]
  }
 ],
 "metadata": {
  "colab": {
   "name": "P2_recuperacion_informacion_2122_enunciado.ipynb",
   "provenance": []
  },
  "kernelspec": {
   "display_name": "Python 3",
   "language": "python",
   "name": "python3"
  },
  "language_info": {
   "codemirror_mode": {
    "name": "ipython",
    "version": 3
   },
   "file_extension": ".py",
   "mimetype": "text/x-python",
   "name": "python",
   "nbconvert_exporter": "python",
   "pygments_lexer": "ipython3",
   "version": "3.8.8"
  }
 },
 "nbformat": 4,
 "nbformat_minor": 1
}
